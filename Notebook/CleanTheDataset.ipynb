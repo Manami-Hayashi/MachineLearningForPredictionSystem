{
 "cells": [
  {
   "metadata": {},
   "cell_type": "markdown",
   "source": "### Step 1: Import all the necessary libraries & files",
   "id": "3231b5c7419f61d0"
  },
  {
   "metadata": {
    "ExecuteTime": {
     "end_time": "2024-10-11T11:02:47.888836Z",
     "start_time": "2024-10-11T11:02:47.874266Z"
    }
   },
   "cell_type": "code",
   "source": [
    "import pandas as pd\n",
    "import numpy as np\n",
    "import os\n",
    "\n",
    "os.chdir(r'D:\\KDG\\2024-2025\\Semester 1\\DAI5\\GroupProject\\Functions')\n",
    "\n",
    "import Functions.functions as f\n",
    "\n",
    "os.chdir(r'D:\\KDG\\2024-2025\\Semester 1\\DAI5\\GroupProject\\Resources')"
   ],
   "id": "7a3c38819e46cdcf",
   "outputs": [],
   "execution_count": 1
  },
  {
   "metadata": {},
   "cell_type": "markdown",
   "source": "### Step 2: Check if the number of max columns is the same as the number of min columns",
   "id": "7e19cd848787d5a6"
  },
  {
   "metadata": {
    "ExecuteTime": {
     "end_time": "2024-10-11T11:02:49.661286Z",
     "start_time": "2024-10-11T11:02:49.631270Z"
    }
   },
   "cell_type": "code",
   "source": "print(f.nb_of_fields('employee_survey.csv', ','))",
   "id": "743db2fddfcaacac",
   "outputs": [
    {
     "name": "stdout",
     "output_type": "stream",
     "text": [
      "[23, 23]\n"
     ]
    }
   ],
   "execution_count": 2
  },
  {
   "metadata": {},
   "cell_type": "markdown",
   "source": "### Step 3: Read the CSV",
   "id": "5ae4b86d74d93d3b"
  },
  {
   "metadata": {
    "ExecuteTime": {
     "end_time": "2024-10-11T11:02:52.894892Z",
     "start_time": "2024-10-11T11:02:52.839529Z"
    }
   },
   "cell_type": "code",
   "source": [
    "missing_values = ['n/a', 'na', 'nan', 'N/A', 'NA', 'NaN', 'NAN', '--', 'Missing']\n",
    "df = pd.read_csv('employee_survey.csv', na_values=missing_values, sep=',', decimal='.')\n",
    "\n",
    "pd.set_option('display.max_columns', None)  # to see all the columns\n",
    "print(df.head())\n",
    "print(df.info())"
   ],
   "id": "3d02b9bb5a785ce7",
   "outputs": [
    {
     "name": "stdout",
     "output_type": "stream",
     "text": [
      "   EmpID  Gender  Age MaritalStatus        JobLevel  Experience       Dept  \\\n",
      "0      6    Male   32       Married             Mid           7         IT   \n",
      "1     11  Female   34       Married             Mid          12    Finance   \n",
      "2     33  Female   23        Single  Intern/Fresher           1  Marketing   \n",
      "3     20  Female   29       Married          Junior           6         IT   \n",
      "4     28   Other   23        Single          Junior           1      Sales   \n",
      "\n",
      "     EmpType  WLB  WorkEnv  PhysicalActivityHours  Workload  Stress  \\\n",
      "0  Full-Time    1        1                    2.5         2       1   \n",
      "1  Full-Time    1        1                    1.8         2       2   \n",
      "2  Full-Time    2        4                    2.1         5       4   \n",
      "3   Contract    2        2                    1.9         3       1   \n",
      "4  Part-Time    3        1                    3.7         2       1   \n",
      "\n",
      "   SleepHours       CommuteMode  CommuteDistance  NumCompanies  TeamSize  \\\n",
      "0         7.6               Car               20             3        12   \n",
      "1         7.9               Car               15             4        11   \n",
      "2         6.5         Motorbike               17             0        30   \n",
      "3         7.5  Public Transport               13             2         9   \n",
      "4         4.9               Car               20             0         7   \n",
      "\n",
      "   NumReports  EduLevel  haveOT  TrainingHoursPerYear  JobSatisfaction  \n",
      "0           0  Bachelor    True                  33.5                5  \n",
      "1           0  Bachelor   False                  36.0                5  \n",
      "2           0  Bachelor    True                  10.5                5  \n",
      "3           0  Bachelor    True                  23.0                5  \n",
      "4           0  Bachelor   False                  20.5                5  \n",
      "<class 'pandas.core.frame.DataFrame'>\n",
      "RangeIndex: 3025 entries, 0 to 3024\n",
      "Data columns (total 23 columns):\n",
      " #   Column                 Non-Null Count  Dtype  \n",
      "---  ------                 --------------  -----  \n",
      " 0   EmpID                  3025 non-null   int64  \n",
      " 1   Gender                 3025 non-null   object \n",
      " 2   Age                    3025 non-null   int64  \n",
      " 3   MaritalStatus          3025 non-null   object \n",
      " 4   JobLevel               3025 non-null   object \n",
      " 5   Experience             3025 non-null   int64  \n",
      " 6   Dept                   3025 non-null   object \n",
      " 7   EmpType                3025 non-null   object \n",
      " 8   WLB                    3025 non-null   int64  \n",
      " 9   WorkEnv                3025 non-null   int64  \n",
      " 10  PhysicalActivityHours  3025 non-null   float64\n",
      " 11  Workload               3025 non-null   int64  \n",
      " 12  Stress                 3025 non-null   int64  \n",
      " 13  SleepHours             3025 non-null   float64\n",
      " 14  CommuteMode            3025 non-null   object \n",
      " 15  CommuteDistance        3025 non-null   int64  \n",
      " 16  NumCompanies           3025 non-null   int64  \n",
      " 17  TeamSize               3025 non-null   int64  \n",
      " 18  NumReports             3025 non-null   int64  \n",
      " 19  EduLevel               3025 non-null   object \n",
      " 20  haveOT                 3025 non-null   bool   \n",
      " 21  TrainingHoursPerYear   3025 non-null   float64\n",
      " 22  JobSatisfaction        3025 non-null   int64  \n",
      "dtypes: bool(1), float64(3), int64(12), object(7)\n",
      "memory usage: 523.0+ KB\n",
      "None\n"
     ]
    }
   ],
   "execution_count": 3
  },
  {
   "metadata": {},
   "cell_type": "markdown",
   "source": "### Step 4: Add some NaN ",
   "id": "a742345296993d9a"
  },
  {
   "metadata": {
    "ExecuteTime": {
     "end_time": "2024-10-11T11:02:58.692232Z",
     "start_time": "2024-10-11T11:02:58.655218Z"
    }
   },
   "cell_type": "code",
   "source": [
    "# Set seed for reproducibility\n",
    "\n",
    "np.random.seed(0)\n",
    " \n",
    "# Get the number of rows and columns in the DataFrame\n",
    "\n",
    "n_rows, n_cols = df.shape\n",
    " \n",
    "# Define how many random values you want to replace with NaN (1% of the dataset)\n",
    "\n",
    "nan_count = int(0.01 * n_rows * n_cols)\n",
    " \n",
    "# Randomly choose row indices and column indices to replace values with NaN\n",
    "\n",
    "row_indices = np.random.randint(0, n_rows, nan_count)\n",
    "\n",
    "col_indices = np.random.randint(0, n_cols, nan_count)\n",
    " \n",
    "# Replace the selected values with NaN\n",
    "\n",
    "df.values[row_indices, col_indices] = np.nan\n",
    " \n",
    "# Save the modified DataFrame to a new CSV file\n",
    "\n",
    "df.to_csv('modified_employees.csv', index=False)"
   ],
   "id": "8210d2b991f62898",
   "outputs": [],
   "execution_count": 4
  },
  {
   "metadata": {},
   "cell_type": "markdown",
   "source": "### Step 5: Read the modified CSV file",
   "id": "95939b89bdae4354"
  },
  {
   "metadata": {
    "ExecuteTime": {
     "end_time": "2024-10-11T11:03:12.330871Z",
     "start_time": "2024-10-11T11:03:12.285316Z"
    }
   },
   "cell_type": "code",
   "source": [
    "missing_values = ['n/a', 'na', 'nan', 'N/A', 'NA', 'NaN', 'NAN', '--', 'Missing']\n",
    "df = pd.read_csv('modified_employees.csv', na_values=missing_values, sep=',', decimal='.')\n",
    "\n",
    "pd.set_option('display.max_columns', None)  # to see all the columns\n",
    "print(df.head())\n",
    "print(df.info())"
   ],
   "id": "98b6639566391d42",
   "outputs": [
    {
     "name": "stdout",
     "output_type": "stream",
     "text": [
      "   EmpID  Gender  Age MaritalStatus        JobLevel  Experience       Dept  \\\n",
      "0      6    Male   32       Married             Mid           7         IT   \n",
      "1     11  Female   34       Married             Mid          12    Finance   \n",
      "2     33  Female   23        Single  Intern/Fresher           1  Marketing   \n",
      "3     20  Female   29       Married          Junior           6         IT   \n",
      "4     28   Other   23        Single          Junior           1      Sales   \n",
      "\n",
      "     EmpType  WLB  WorkEnv  PhysicalActivityHours  Workload  Stress  \\\n",
      "0  Full-Time    1        1                    2.5         2       1   \n",
      "1  Full-Time    1        1                    1.8         2       2   \n",
      "2  Full-Time    2        4                    2.1         5       4   \n",
      "3   Contract    2        2                    1.9         3       1   \n",
      "4  Part-Time    3        1                    3.7         2       1   \n",
      "\n",
      "   SleepHours       CommuteMode  CommuteDistance  NumCompanies  TeamSize  \\\n",
      "0         7.6               Car               20             3        12   \n",
      "1         7.9               Car               15             4        11   \n",
      "2         6.5         Motorbike               17             0        30   \n",
      "3         7.5  Public Transport               13             2         9   \n",
      "4         4.9               Car               20             0         7   \n",
      "\n",
      "   NumReports  EduLevel  haveOT  TrainingHoursPerYear  JobSatisfaction  \n",
      "0           0  Bachelor    True                  33.5                5  \n",
      "1           0  Bachelor   False                  36.0                5  \n",
      "2           0  Bachelor    True                  10.5                5  \n",
      "3           0  Bachelor    True                  23.0                5  \n",
      "4           0  Bachelor   False                  20.5                5  \n",
      "<class 'pandas.core.frame.DataFrame'>\n",
      "RangeIndex: 3025 entries, 0 to 3024\n",
      "Data columns (total 23 columns):\n",
      " #   Column                 Non-Null Count  Dtype  \n",
      "---  ------                 --------------  -----  \n",
      " 0   EmpID                  3025 non-null   int64  \n",
      " 1   Gender                 3025 non-null   object \n",
      " 2   Age                    3025 non-null   int64  \n",
      " 3   MaritalStatus          3025 non-null   object \n",
      " 4   JobLevel               3025 non-null   object \n",
      " 5   Experience             3025 non-null   int64  \n",
      " 6   Dept                   3025 non-null   object \n",
      " 7   EmpType                3025 non-null   object \n",
      " 8   WLB                    3025 non-null   int64  \n",
      " 9   WorkEnv                3025 non-null   int64  \n",
      " 10  PhysicalActivityHours  3025 non-null   float64\n",
      " 11  Workload               3025 non-null   int64  \n",
      " 12  Stress                 3025 non-null   int64  \n",
      " 13  SleepHours             3025 non-null   float64\n",
      " 14  CommuteMode            3025 non-null   object \n",
      " 15  CommuteDistance        3025 non-null   int64  \n",
      " 16  NumCompanies           3025 non-null   int64  \n",
      " 17  TeamSize               3025 non-null   int64  \n",
      " 18  NumReports             3025 non-null   int64  \n",
      " 19  EduLevel               3025 non-null   object \n",
      " 20  haveOT                 3025 non-null   bool   \n",
      " 21  TrainingHoursPerYear   3025 non-null   float64\n",
      " 22  JobSatisfaction        3025 non-null   int64  \n",
      "dtypes: bool(1), float64(3), int64(12), object(7)\n",
      "memory usage: 523.0+ KB\n",
      "None\n"
     ]
    }
   ],
   "execution_count": 5
  },
  {
   "metadata": {},
   "cell_type": "markdown",
   "source": "### Step 6: Check the number of rows and columns",
   "id": "85200a68deddf03"
  },
  {
   "metadata": {
    "ExecuteTime": {
     "end_time": "2024-10-11T11:03:15.000759Z",
     "start_time": "2024-10-11T11:03:14.988849Z"
    }
   },
   "cell_type": "code",
   "source": [
    "num_rows = df.shape[0]  # Get the number of rows\n",
    "print(num_rows)\n",
    "num_cols = df.shape[1]  # Get the number of columns\n",
    "print(num_cols)"
   ],
   "id": "b09c1bf848269f81",
   "outputs": [
    {
     "name": "stdout",
     "output_type": "stream",
     "text": [
      "3025\n",
      "23\n"
     ]
    }
   ],
   "execution_count": 6
  },
  {
   "metadata": {
    "ExecuteTime": {
     "end_time": "2024-10-04T11:09:20.824809Z",
     "start_time": "2024-10-04T11:09:20.763651Z"
    }
   },
   "cell_type": "markdown",
   "source": "### Step 7: Drop the unnecessary columns",
   "id": "3b4ea2bc1b47e39f"
  },
  {
   "metadata": {
    "ExecuteTime": {
     "end_time": "2024-10-11T11:03:17.524778Z",
     "start_time": "2024-10-11T11:03:17.484188Z"
    }
   },
   "cell_type": "code",
   "source": [
    "df = df.drop(['WLB', 'WorkEnv', 'NumCompanies', 'EduLevel'], axis=1)\n",
    "print(df.info())"
   ],
   "id": "4d853c84516947de",
   "outputs": [
    {
     "name": "stdout",
     "output_type": "stream",
     "text": [
      "<class 'pandas.core.frame.DataFrame'>\n",
      "RangeIndex: 3025 entries, 0 to 3024\n",
      "Data columns (total 19 columns):\n",
      " #   Column                 Non-Null Count  Dtype  \n",
      "---  ------                 --------------  -----  \n",
      " 0   EmpID                  3025 non-null   int64  \n",
      " 1   Gender                 3025 non-null   object \n",
      " 2   Age                    3025 non-null   int64  \n",
      " 3   MaritalStatus          3025 non-null   object \n",
      " 4   JobLevel               3025 non-null   object \n",
      " 5   Experience             3025 non-null   int64  \n",
      " 6   Dept                   3025 non-null   object \n",
      " 7   EmpType                3025 non-null   object \n",
      " 8   PhysicalActivityHours  3025 non-null   float64\n",
      " 9   Workload               3025 non-null   int64  \n",
      " 10  Stress                 3025 non-null   int64  \n",
      " 11  SleepHours             3025 non-null   float64\n",
      " 12  CommuteMode            3025 non-null   object \n",
      " 13  CommuteDistance        3025 non-null   int64  \n",
      " 14  TeamSize               3025 non-null   int64  \n",
      " 15  NumReports             3025 non-null   int64  \n",
      " 16  haveOT                 3025 non-null   bool   \n",
      " 17  TrainingHoursPerYear   3025 non-null   float64\n",
      " 18  JobSatisfaction        3025 non-null   int64  \n",
      "dtypes: bool(1), float64(3), int64(9), object(6)\n",
      "memory usage: 428.5+ KB\n",
      "None\n"
     ]
    }
   ],
   "execution_count": 7
  },
  {
   "metadata": {},
   "cell_type": "markdown",
   "source": "### Step 8: Check if NaN values are present",
   "id": "d728b4beb5b62bff"
  },
  {
   "metadata": {
    "ExecuteTime": {
     "end_time": "2024-10-11T11:03:19.903922Z",
     "start_time": "2024-10-11T11:03:19.877743Z"
    }
   },
   "cell_type": "code",
   "source": [
    "print(df.isna().sum().sum())  #total number of NA-values in de dataframe\n",
    "rowsWithNaN = df[df.isna().any(axis=1)]  #the rows containing NA's\n",
    "columnsWithNaN = df[df.columns[df.isna().any(axis=0)]]  #the colomns containing NA's\n",
    "print(columnsWithNaN)"
   ],
   "id": "e46069fd9e091904",
   "outputs": [
    {
     "name": "stdout",
     "output_type": "stream",
     "text": [
      "0\n",
      "Empty DataFrame\n",
      "Columns: []\n",
      "Index: [0, 1, 2, 3, 4, 5, 6, 7, 8, 9, 10, 11, 12, 13, 14, 15, 16, 17, 18, 19, 20, 21, 22, 23, 24, 25, 26, 27, 28, 29, 30, 31, 32, 33, 34, 35, 36, 37, 38, 39, 40, 41, 42, 43, 44, 45, 46, 47, 48, 49, 50, 51, 52, 53, 54, 55, 56, 57, 58, 59, 60, 61, 62, 63, 64, 65, 66, 67, 68, 69, 70, 71, 72, 73, 74, 75, 76, 77, 78, 79, 80, 81, 82, 83, 84, 85, 86, 87, 88, 89, 90, 91, 92, 93, 94, 95, 96, 97, 98, 99, ...]\n",
      "\n",
      "[3025 rows x 0 columns]\n"
     ]
    }
   ],
   "execution_count": 8
  },
  {
   "metadata": {},
   "cell_type": "markdown",
   "source": "### Step 9: Replace the NaN  ",
   "id": "223f0aca69fe7630"
  },
  {
   "metadata": {},
   "cell_type": "markdown",
   "source": "#### a) For EmpID, just drop those rows",
   "id": "b2ccfa99025aa14e"
  },
  {
   "metadata": {
    "ExecuteTime": {
     "end_time": "2024-10-11T11:03:23.332874Z",
     "start_time": "2024-10-11T11:03:23.319250Z"
    }
   },
   "cell_type": "code",
   "source": "df = df.dropna(subset=['EmpID'])",
   "id": "621833ee3586ca3d",
   "outputs": [],
   "execution_count": 9
  },
  {
   "metadata": {},
   "cell_type": "markdown",
   "source": "#### b) For Age, take the mean",
   "id": "b74e8cda4cc1dfc6"
  },
  {
   "metadata": {
    "ExecuteTime": {
     "end_time": "2024-10-11T11:03:24.431094Z",
     "start_time": "2024-10-11T11:03:24.417371Z"
    }
   },
   "cell_type": "code",
   "source": "df.loc[:, 'Age'] = df['Age'].fillna(df['Age'].mean())",
   "id": "11e33191cb5294d8",
   "outputs": [],
   "execution_count": 10
  },
  {
   "metadata": {},
   "cell_type": "markdown",
   "source": "#### c) For Gender, fill with 'Other'",
   "id": "98a68805f64a3db4"
  },
  {
   "metadata": {
    "ExecuteTime": {
     "end_time": "2024-10-11T11:03:25.172057Z",
     "start_time": "2024-10-11T11:03:25.159060Z"
    }
   },
   "cell_type": "code",
   "source": "df.loc[:,'Gender'] = df['Gender'].fillna('Other')",
   "id": "abcb950636d486dc",
   "outputs": [],
   "execution_count": 11
  },
  {
   "metadata": {},
   "cell_type": "markdown",
   "source": "#### d) For Marital Status, use the mode",
   "id": "2eab32371548e46c"
  },
  {
   "metadata": {
    "ExecuteTime": {
     "end_time": "2024-10-11T11:03:25.718340Z",
     "start_time": "2024-10-11T11:03:25.708237Z"
    }
   },
   "cell_type": "code",
   "source": "df.loc[:,'MaritalStatus'] = df['MaritalStatus'].fillna(df['MaritalStatus'].mode()[0])",
   "id": "d6615d8f5af49dec",
   "outputs": [],
   "execution_count": 12
  },
  {
   "metadata": {},
   "cell_type": "markdown",
   "source": "#### e) For Job Level, use the Experience",
   "id": "b359323d353c7768"
  },
  {
   "metadata": {
    "ExecuteTime": {
     "end_time": "2024-10-11T11:03:26.233895Z",
     "start_time": "2024-10-11T11:03:26.189520Z"
    }
   },
   "cell_type": "code",
   "source": [
    "def fill_job_level(row):\n",
    "    if pd.isna(row['JobLevel']):\n",
    "        if row['Experience'] <= 2:\n",
    "            return 'Intern/Fresher'\n",
    "        elif row['Experience'] <= 5:\n",
    "            return 'Junior'\n",
    "        elif row['Experience'] <= 10:\n",
    "            return 'Mid'\n",
    "        else:\n",
    "            return 'Senior'\n",
    "    return row['JobLevel']\n",
    "\n",
    "df.loc[:,'JobLevel'] = df.apply(fill_job_level, axis=1)"
   ],
   "id": "a5fdd03828d8dbb8",
   "outputs": [],
   "execution_count": 13
  },
  {
   "metadata": {},
   "cell_type": "markdown",
   "source": "#### f) For Experience, use the Job Level",
   "id": "2a7f8191e8a8219b"
  },
  {
   "metadata": {
    "ExecuteTime": {
     "end_time": "2024-10-11T11:03:27.076278Z",
     "start_time": "2024-10-11T11:03:27.016789Z"
    }
   },
   "cell_type": "code",
   "source": [
    "def fill_experience(row):\n",
    "    if pd.isna(row['Experience']):\n",
    "        if row['JobLevel'] == 'Intern/Fresher':\n",
    "            return 0\n",
    "        elif row['JobLevel'] == 'Junior':\n",
    "            return 2\n",
    "        elif row['JobLevel'] == 'Mid':\n",
    "            return 5\n",
    "        elif row['JobLevel'] == 'Senior':\n",
    "            return 10\n",
    "        elif row['JobLevel'] == 'Lead':\n",
    "            return 15\n",
    "    return row['Experience']\n",
    "\n",
    "df.loc[:,'Experience'] = df.apply(fill_experience, axis=1)\n"
   ],
   "id": "15f75f5eab28dfb3",
   "outputs": [],
   "execution_count": 14
  },
  {
   "metadata": {},
   "cell_type": "markdown",
   "source": "#### g) For Dept, take the most frequent value(mode) ",
   "id": "2970d0c224eb2802"
  },
  {
   "metadata": {
    "ExecuteTime": {
     "end_time": "2024-10-11T11:03:27.996026Z",
     "start_time": "2024-10-11T11:03:27.963935Z"
    }
   },
   "cell_type": "code",
   "source": "df.loc[:,'Dept'] = df['Dept'].fillna(df['Dept'].mode()[0])",
   "id": "fee33476d1a5f9a7",
   "outputs": [],
   "execution_count": 15
  },
  {
   "metadata": {},
   "cell_type": "markdown",
   "source": "#### f) For Emp Type, take the mode",
   "id": "86efc1d296a6b859"
  },
  {
   "metadata": {
    "ExecuteTime": {
     "end_time": "2024-10-11T11:03:28.407861Z",
     "start_time": "2024-10-11T11:03:28.396859Z"
    }
   },
   "cell_type": "code",
   "source": "df.loc[:,'EmpType'] = df['EmpType'].fillna(df['EmpType'].mode()[0])",
   "id": "7017c02751e8d842",
   "outputs": [],
   "execution_count": 16
  },
  {
   "metadata": {},
   "cell_type": "markdown",
   "source": "#### g) For Physical Activity Hours, use the mean",
   "id": "614767455332ccb6"
  },
  {
   "metadata": {
    "ExecuteTime": {
     "end_time": "2024-10-11T11:03:28.834296Z",
     "start_time": "2024-10-11T11:03:28.818294Z"
    }
   },
   "cell_type": "code",
   "source": "df.loc[:,'PhysicalActivityHours'] = df['PhysicalActivityHours'].fillna(df['PhysicalActivityHours'].mean())",
   "id": "59b9db0f253ea4cd",
   "outputs": [],
   "execution_count": 17
  },
  {
   "metadata": {},
   "cell_type": "markdown",
   "source": "#### h) For Workload, use the median",
   "id": "fd489c73889ae94"
  },
  {
   "metadata": {
    "ExecuteTime": {
     "end_time": "2024-10-11T11:03:29.288688Z",
     "start_time": "2024-10-11T11:03:29.277758Z"
    }
   },
   "cell_type": "code",
   "source": "df.loc[:,'Workload'] = df['Workload'].fillna(df['Workload'].median())",
   "id": "f00235a613431e72",
   "outputs": [],
   "execution_count": 18
  },
  {
   "metadata": {},
   "cell_type": "markdown",
   "source": "#### i) For Stress, use the median",
   "id": "25e6bac8f6e62cd4"
  },
  {
   "metadata": {
    "ExecuteTime": {
     "end_time": "2024-10-11T11:03:29.730570Z",
     "start_time": "2024-10-11T11:03:29.717566Z"
    }
   },
   "cell_type": "code",
   "source": "df.loc[:,'Stress'] = df['Stress'].fillna(df['Stress'].median())",
   "id": "f98daa331652c529",
   "outputs": [],
   "execution_count": 19
  },
  {
   "metadata": {},
   "cell_type": "markdown",
   "source": "#### j) For Sleep Hours, use the mean",
   "id": "60c3fb0e37ed6007"
  },
  {
   "metadata": {
    "ExecuteTime": {
     "end_time": "2024-10-11T11:03:30.246387Z",
     "start_time": "2024-10-11T11:03:30.234242Z"
    }
   },
   "cell_type": "code",
   "source": "df.loc[:,'SleepHours'] = df['SleepHours'].fillna(df['SleepHours'].mean())",
   "id": "d948a1dcc27c7641",
   "outputs": [],
   "execution_count": 20
  },
  {
   "metadata": {},
   "cell_type": "markdown",
   "source": "#### k) For Commute Mode, use the most frequent mode of commuting",
   "id": "d7f21aedff0909e"
  },
  {
   "metadata": {
    "ExecuteTime": {
     "end_time": "2024-10-11T11:03:30.762943Z",
     "start_time": "2024-10-11T11:03:30.738795Z"
    }
   },
   "cell_type": "code",
   "source": "df.loc[:,'CommuteMode'] = df['CommuteMode'].fillna(df['CommuteMode'].mode()[0])",
   "id": "528e6409046bed2b",
   "outputs": [],
   "execution_count": 21
  },
  {
   "metadata": {},
   "cell_type": "markdown",
   "source": "#### l) For Commute Distance, use the mean",
   "id": "7043251b29e38aee"
  },
  {
   "metadata": {
    "ExecuteTime": {
     "end_time": "2024-10-11T11:03:31.234972Z",
     "start_time": "2024-10-11T11:03:31.228270Z"
    }
   },
   "cell_type": "code",
   "source": "df['CommuteDistance'] = df['CommuteDistance'].fillna(df['CommuteDistance'].mean())",
   "id": "820e12f903265ff3",
   "outputs": [],
   "execution_count": 22
  },
  {
   "metadata": {},
   "cell_type": "markdown",
   "source": "#### m) For Team Size, use the mean",
   "id": "a80f870943653584"
  },
  {
   "metadata": {
    "ExecuteTime": {
     "end_time": "2024-10-11T11:03:31.824104Z",
     "start_time": "2024-10-11T11:03:31.813558Z"
    }
   },
   "cell_type": "code",
   "source": "df['TeamSize'] = df['TeamSize'].fillna(df['TeamSize'].mean())",
   "id": "145d73274df47d63",
   "outputs": [],
   "execution_count": 23
  },
  {
   "metadata": {},
   "cell_type": "markdown",
   "source": "#### n) For Num Reports, use the Job Level",
   "id": "3f3a250cd673adcd"
  },
  {
   "metadata": {
    "ExecuteTime": {
     "end_time": "2024-10-11T11:03:32.400698Z",
     "start_time": "2024-10-11T11:03:32.357510Z"
    }
   },
   "cell_type": "code",
   "source": [
    "def fill_num_reports(row):\n",
    "    if pd.isna(row['NumReports']):\n",
    "        if row['JobLevel'] in ['Senior', 'Lead']:\n",
    "            return df['NumReports'].mean()  # Use the mean if Senior or Lead\n",
    "        else:\n",
    "            return 0  # Otherwise set to 0\n",
    "    return row['NumReports']\n",
    "\n",
    "df['NumReports'] = df.apply(fill_num_reports, axis=1)"
   ],
   "id": "67d5aab16ca3bfdf",
   "outputs": [],
   "execution_count": 24
  },
  {
   "metadata": {},
   "cell_type": "markdown",
   "source": "#### o) For have OT (overtime), use the most frequent value",
   "id": "99474aea40668aab"
  },
  {
   "metadata": {
    "ExecuteTime": {
     "end_time": "2024-10-11T11:03:32.981355Z",
     "start_time": "2024-10-11T11:03:32.958137Z"
    }
   },
   "cell_type": "code",
   "source": "df.loc[:,'haveOT'] = df['haveOT'].fillna(df['haveOT'].mode()[0])",
   "id": "859d991dd6c2ac2d",
   "outputs": [],
   "execution_count": 25
  },
  {
   "metadata": {},
   "cell_type": "markdown",
   "source": "#### p) For Training Hours Per Year, use the mean",
   "id": "9fff6c523f403b55"
  },
  {
   "metadata": {
    "ExecuteTime": {
     "end_time": "2024-10-11T11:03:33.480339Z",
     "start_time": "2024-10-11T11:03:33.470345Z"
    }
   },
   "cell_type": "code",
   "source": "df['TrainingHoursPerYear'] = df['TrainingHoursPerYear'].fillna(df['TrainingHoursPerYear'].mean())",
   "id": "5fdc5e8ed9e3622f",
   "outputs": [],
   "execution_count": 26
  },
  {
   "metadata": {},
   "cell_type": "markdown",
   "source": "#### q) JobSatisfaction, use the median",
   "id": "db2db387d734cfab"
  },
  {
   "metadata": {
    "ExecuteTime": {
     "end_time": "2024-10-11T11:03:33.987097Z",
     "start_time": "2024-10-11T11:03:33.974090Z"
    }
   },
   "cell_type": "code",
   "source": "df['JobSatisfaction'] = df['JobSatisfaction'].fillna(df['JobSatisfaction'].median())",
   "id": "4d82810817a8fd2f",
   "outputs": [],
   "execution_count": 27
  },
  {
   "metadata": {},
   "cell_type": "markdown",
   "source": "### Step 10: Remove the outliers",
   "id": "706c768d93a22363"
  },
  {
   "metadata": {
    "ExecuteTime": {
     "end_time": "2024-10-11T11:03:34.879864Z",
     "start_time": "2024-10-11T11:03:34.834832Z"
    }
   },
   "cell_type": "code",
   "source": [
    "outliers = f.get_outliers(df['Age'])\n",
    "df = df[~df['Age'].isin(outliers)]\n",
    "\n",
    "outliers = f.get_outliers(df['Experience'])\n",
    "df = df[~df['Experience'].isin(outliers)]\n",
    "\n",
    "outliers = f.get_outliers(df['PhysicalActivityHours'])\n",
    "df = df[~df['PhysicalActivityHours'].isin(outliers)]\n",
    "\n",
    "outliers = f.get_outliers(df['SleepHours'])\n",
    "df = df[~df['SleepHours'].isin(outliers)]\n",
    "\n",
    "outliers = f.get_outliers(df['CommuteDistance'])\n",
    "df = df[~df['CommuteDistance'].isin(outliers)]\n",
    "\n",
    "outliers = f.get_outliers(df['TeamSize'])\n",
    "df = df[~df['TeamSize'].isin(outliers)]\n",
    "\n",
    "outliers = f.get_outliers(df['NumReports'])\n",
    "df = df[~df['NumReports'].isin(outliers)]\n",
    "\n",
    "outliers = f.get_outliers(df['TrainingHoursPerYear'])\n",
    "df = df[~df['TrainingHoursPerYear'].isin(outliers)]"
   ],
   "id": "e91a908c49932a58",
   "outputs": [],
   "execution_count": 28
  },
  {
   "metadata": {},
   "cell_type": "markdown",
   "source": "### Step 11: Make each nominal variable a disordered categorical variable and each ordinal variable, an ordered categorical variable",
   "id": "9681ebab7d398a0d"
  },
  {
   "metadata": {
    "ExecuteTime": {
     "end_time": "2024-10-11T11:03:36.206686Z",
     "start_time": "2024-10-11T11:03:36.161168Z"
    }
   },
   "cell_type": "code",
   "source": [
    "df['Gender'] = df['Gender'].astype(pd.CategoricalDtype(categories=df['Gender'].unique()))\n",
    "df['MaritalStatus'] = df['MaritalStatus'].astype(pd.CategoricalDtype(categories=df['MaritalStatus'].unique()))\n",
    "df['Dept'] = df['Dept'].astype(pd.CategoricalDtype(categories=df['Dept'].unique()))\n",
    "df['EmpType'] = df['EmpType'].astype(pd.CategoricalDtype(categories=df['EmpType'].unique()))\n",
    "df['CommuteMode'] = df['CommuteMode'].astype(pd.CategoricalDtype(categories=df['CommuteMode'].unique()))\n",
    "df['haveOT'] = df['haveOT'].astype(pd.CategoricalDtype(categories=df['haveOT'].unique()))\n",
    "\n",
    "print(df['JobLevel'].unique())\n",
    "df['JobLevel'] = df['JobLevel'].astype(\n",
    "    pd.CategoricalDtype(categories=['Intern/Fresher', 'Junior', 'Mid', 'Senior', 'Lead'], ordered=True))\n",
    "\n",
    "df['Workload'] = df['Workload'].astype(\n",
    "    pd.CategoricalDtype(categories=[1,2,3,4,5], ordered=True))\n",
    "\n",
    "df['Stress'] = df['Stress'].astype(\n",
    "    pd.CategoricalDtype(categories=[1,2,3,4,5], ordered=True))\n",
    "\n",
    "df['JobSatisfaction'] = df['JobSatisfaction'].astype(\n",
    "    pd.CategoricalDtype(categories=[1,2,3,4,5], ordered=True))\n",
    "\n",
    "print(df.info())\n"
   ],
   "id": "876e1afb2342ce18",
   "outputs": [
    {
     "name": "stdout",
     "output_type": "stream",
     "text": [
      "['Mid' 'Intern/Fresher' 'Junior' 'Senior' 'Lead']\n",
      "<class 'pandas.core.frame.DataFrame'>\n",
      "Index: 3007 entries, 0 to 3024\n",
      "Data columns (total 19 columns):\n",
      " #   Column                 Non-Null Count  Dtype   \n",
      "---  ------                 --------------  -----   \n",
      " 0   EmpID                  3007 non-null   int64   \n",
      " 1   Gender                 3007 non-null   category\n",
      " 2   Age                    3007 non-null   int64   \n",
      " 3   MaritalStatus          3007 non-null   category\n",
      " 4   JobLevel               3007 non-null   category\n",
      " 5   Experience             3007 non-null   int64   \n",
      " 6   Dept                   3007 non-null   category\n",
      " 7   EmpType                3007 non-null   category\n",
      " 8   PhysicalActivityHours  3007 non-null   float64 \n",
      " 9   Workload               3007 non-null   category\n",
      " 10  Stress                 3007 non-null   category\n",
      " 11  SleepHours             3007 non-null   float64 \n",
      " 12  CommuteMode            3007 non-null   category\n",
      " 13  CommuteDistance        3007 non-null   int64   \n",
      " 14  TeamSize               3007 non-null   int64   \n",
      " 15  NumReports             3007 non-null   int64   \n",
      " 16  haveOT                 3007 non-null   category\n",
      " 17  TrainingHoursPerYear   3007 non-null   float64 \n",
      " 18  JobSatisfaction        3007 non-null   category\n",
      "dtypes: category(10), float64(3), int64(6)\n",
      "memory usage: 266.2 KB\n",
      "None\n"
     ]
    }
   ],
   "execution_count": 29
  },
  {
   "metadata": {},
   "cell_type": "markdown",
   "source": "### Step 12: Normalize the data",
   "id": "97f911db2d30dd8d"
  },
  {
   "metadata": {
    "ExecuteTime": {
     "end_time": "2024-10-11T11:03:37.535Z",
     "start_time": "2024-10-11T11:03:37.505519Z"
    }
   },
   "cell_type": "code",
   "source": "df = f.normalize_values(pd.DataFrame(df), f.Zscore_norm)",
   "id": "b70344e871985f01",
   "outputs": [],
   "execution_count": 30
  },
  {
   "metadata": {},
   "cell_type": "markdown",
   "source": "### Step 13: Save the cleaned data to a CSV ",
   "id": "60ff36c7cabacda7"
  },
  {
   "metadata": {
    "ExecuteTime": {
     "end_time": "2024-10-11T11:03:39.970890Z",
     "start_time": "2024-10-11T11:03:39.821329Z"
    }
   },
   "cell_type": "code",
   "source": [
    "output_file = 'cleaned_employees.csv'\n",
    "df.to_csv(output_file, index=False)\n",
    "\n",
    "print(f\"Cleaned DataFrame saved to {output_file}\")\n",
    "\n",
    "df.head()\n"
   ],
   "id": "d36b11b7a7c89183",
   "outputs": [
    {
     "name": "stdout",
     "output_type": "stream",
     "text": [
      "Cleaned DataFrame saved to cleaned_employees.csv\n"
     ]
    },
    {
     "data": {
      "text/plain": [
       "      EmpID  Gender       Age MaritalStatus        JobLevel  Experience  \\\n",
       "0 -1.727136    Male -0.363508       Married             Mid   -0.294224   \n",
       "1 -1.721410  Female -0.167125       Married             Mid    0.411979   \n",
       "2 -1.696216  Female -1.247231        Single  Intern/Fresher   -1.141666   \n",
       "3 -1.711104  Female -0.658082       Married          Junior   -0.435464   \n",
       "4 -1.701942   Other -1.247231        Single          Junior   -1.141666   \n",
       "\n",
       "        Dept    EmpType  PhysicalActivityHours Workload Stress  SleepHours  \\\n",
       "0         IT  Full-Time               0.494266        2      1    0.602432   \n",
       "1    Finance  Full-Time              -0.234700        2      2    0.907144   \n",
       "2  Marketing  Full-Time               0.077714        5      4   -0.514846   \n",
       "3         IT   Contract              -0.130562        3      1    0.500862   \n",
       "4      Sales  Part-Time               1.743922        2      1   -2.139977   \n",
       "\n",
       "        CommuteMode  CommuteDistance  TeamSize  NumReports haveOT  \\\n",
       "0               Car         0.776845 -0.676992   -0.777458   True   \n",
       "1               Car         0.180903 -0.827518   -0.777458  False   \n",
       "2         Motorbike         0.419280  2.032478   -0.777458   True   \n",
       "3  Public Transport        -0.057474 -1.128570   -0.777458   True   \n",
       "4               Car         0.776845 -1.429623   -0.777458  False   \n",
       "\n",
       "   TrainingHoursPerYear JobSatisfaction  \n",
       "0             -0.276509               5  \n",
       "1             -0.092427               5  \n",
       "2             -1.970063               5  \n",
       "3             -1.049653               5  \n",
       "4             -1.233735               5  "
      ],
      "text/html": [
       "<div>\n",
       "<style scoped>\n",
       "    .dataframe tbody tr th:only-of-type {\n",
       "        vertical-align: middle;\n",
       "    }\n",
       "\n",
       "    .dataframe tbody tr th {\n",
       "        vertical-align: top;\n",
       "    }\n",
       "\n",
       "    .dataframe thead th {\n",
       "        text-align: right;\n",
       "    }\n",
       "</style>\n",
       "<table border=\"1\" class=\"dataframe\">\n",
       "  <thead>\n",
       "    <tr style=\"text-align: right;\">\n",
       "      <th></th>\n",
       "      <th>EmpID</th>\n",
       "      <th>Gender</th>\n",
       "      <th>Age</th>\n",
       "      <th>MaritalStatus</th>\n",
       "      <th>JobLevel</th>\n",
       "      <th>Experience</th>\n",
       "      <th>Dept</th>\n",
       "      <th>EmpType</th>\n",
       "      <th>PhysicalActivityHours</th>\n",
       "      <th>Workload</th>\n",
       "      <th>Stress</th>\n",
       "      <th>SleepHours</th>\n",
       "      <th>CommuteMode</th>\n",
       "      <th>CommuteDistance</th>\n",
       "      <th>TeamSize</th>\n",
       "      <th>NumReports</th>\n",
       "      <th>haveOT</th>\n",
       "      <th>TrainingHoursPerYear</th>\n",
       "      <th>JobSatisfaction</th>\n",
       "    </tr>\n",
       "  </thead>\n",
       "  <tbody>\n",
       "    <tr>\n",
       "      <th>0</th>\n",
       "      <td>-1.727136</td>\n",
       "      <td>Male</td>\n",
       "      <td>-0.363508</td>\n",
       "      <td>Married</td>\n",
       "      <td>Mid</td>\n",
       "      <td>-0.294224</td>\n",
       "      <td>IT</td>\n",
       "      <td>Full-Time</td>\n",
       "      <td>0.494266</td>\n",
       "      <td>2</td>\n",
       "      <td>1</td>\n",
       "      <td>0.602432</td>\n",
       "      <td>Car</td>\n",
       "      <td>0.776845</td>\n",
       "      <td>-0.676992</td>\n",
       "      <td>-0.777458</td>\n",
       "      <td>True</td>\n",
       "      <td>-0.276509</td>\n",
       "      <td>5</td>\n",
       "    </tr>\n",
       "    <tr>\n",
       "      <th>1</th>\n",
       "      <td>-1.721410</td>\n",
       "      <td>Female</td>\n",
       "      <td>-0.167125</td>\n",
       "      <td>Married</td>\n",
       "      <td>Mid</td>\n",
       "      <td>0.411979</td>\n",
       "      <td>Finance</td>\n",
       "      <td>Full-Time</td>\n",
       "      <td>-0.234700</td>\n",
       "      <td>2</td>\n",
       "      <td>2</td>\n",
       "      <td>0.907144</td>\n",
       "      <td>Car</td>\n",
       "      <td>0.180903</td>\n",
       "      <td>-0.827518</td>\n",
       "      <td>-0.777458</td>\n",
       "      <td>False</td>\n",
       "      <td>-0.092427</td>\n",
       "      <td>5</td>\n",
       "    </tr>\n",
       "    <tr>\n",
       "      <th>2</th>\n",
       "      <td>-1.696216</td>\n",
       "      <td>Female</td>\n",
       "      <td>-1.247231</td>\n",
       "      <td>Single</td>\n",
       "      <td>Intern/Fresher</td>\n",
       "      <td>-1.141666</td>\n",
       "      <td>Marketing</td>\n",
       "      <td>Full-Time</td>\n",
       "      <td>0.077714</td>\n",
       "      <td>5</td>\n",
       "      <td>4</td>\n",
       "      <td>-0.514846</td>\n",
       "      <td>Motorbike</td>\n",
       "      <td>0.419280</td>\n",
       "      <td>2.032478</td>\n",
       "      <td>-0.777458</td>\n",
       "      <td>True</td>\n",
       "      <td>-1.970063</td>\n",
       "      <td>5</td>\n",
       "    </tr>\n",
       "    <tr>\n",
       "      <th>3</th>\n",
       "      <td>-1.711104</td>\n",
       "      <td>Female</td>\n",
       "      <td>-0.658082</td>\n",
       "      <td>Married</td>\n",
       "      <td>Junior</td>\n",
       "      <td>-0.435464</td>\n",
       "      <td>IT</td>\n",
       "      <td>Contract</td>\n",
       "      <td>-0.130562</td>\n",
       "      <td>3</td>\n",
       "      <td>1</td>\n",
       "      <td>0.500862</td>\n",
       "      <td>Public Transport</td>\n",
       "      <td>-0.057474</td>\n",
       "      <td>-1.128570</td>\n",
       "      <td>-0.777458</td>\n",
       "      <td>True</td>\n",
       "      <td>-1.049653</td>\n",
       "      <td>5</td>\n",
       "    </tr>\n",
       "    <tr>\n",
       "      <th>4</th>\n",
       "      <td>-1.701942</td>\n",
       "      <td>Other</td>\n",
       "      <td>-1.247231</td>\n",
       "      <td>Single</td>\n",
       "      <td>Junior</td>\n",
       "      <td>-1.141666</td>\n",
       "      <td>Sales</td>\n",
       "      <td>Part-Time</td>\n",
       "      <td>1.743922</td>\n",
       "      <td>2</td>\n",
       "      <td>1</td>\n",
       "      <td>-2.139977</td>\n",
       "      <td>Car</td>\n",
       "      <td>0.776845</td>\n",
       "      <td>-1.429623</td>\n",
       "      <td>-0.777458</td>\n",
       "      <td>False</td>\n",
       "      <td>-1.233735</td>\n",
       "      <td>5</td>\n",
       "    </tr>\n",
       "  </tbody>\n",
       "</table>\n",
       "</div>"
      ]
     },
     "execution_count": 31,
     "metadata": {},
     "output_type": "execute_result"
    }
   ],
   "execution_count": 31
  },
  {
   "metadata": {},
   "cell_type": "code",
   "outputs": [],
   "execution_count": null,
   "source": "",
   "id": "88d09f38c2f7a005"
  },
  {
   "metadata": {},
   "cell_type": "markdown",
   "source": [
    "JobSatisfaction is categorical values not regression\n",
    "might need to add categrocial features for \n",
    "add additional features yes or no for is he satisfies?\n",
    "try chi-squares test based on other categrical features e.g. gender \n"
   ],
   "id": "62308f739a284f33"
  }
 ],
 "metadata": {
  "kernelspec": {
   "display_name": "Python 3",
   "language": "python",
   "name": "python3"
  },
  "language_info": {
   "codemirror_mode": {
    "name": "ipython",
    "version": 2
   },
   "file_extension": ".py",
   "mimetype": "text/x-python",
   "name": "python",
   "nbconvert_exporter": "python",
   "pygments_lexer": "ipython2",
   "version": "2.7.6"
  }
 },
 "nbformat": 4,
 "nbformat_minor": 5
}
