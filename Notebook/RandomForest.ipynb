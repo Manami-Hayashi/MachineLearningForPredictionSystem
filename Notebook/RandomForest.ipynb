{
 "cells": [
  {
   "metadata": {},
   "cell_type": "markdown",
   "source": "### 1. import libraries",
   "id": "931c0c5e0afdc54d"
  },
  {
   "cell_type": "code",
   "id": "initial_id",
   "metadata": {
    "collapsed": true,
    "ExecuteTime": {
     "end_time": "2024-10-11T11:56:50.605209Z",
     "start_time": "2024-10-11T11:56:50.592730Z"
    }
   },
   "source": [
    "%matplotlib inline\n",
    "import numpy as np\n",
    "import pandas as pd\n",
    "import matplotlib.pyplot as plt\n",
    "import seaborn as sns; sns.set()\n",
    "from sklearn.model_selection import train_test_split\n",
    "from sklearn.ensemble import RandomForestRegressor\n",
    "from sklearn.metrics import mean_squared_error, r2_score\n"
   ],
   "outputs": [],
   "execution_count": 13
  },
  {
   "metadata": {},
   "cell_type": "markdown",
   "source": "### 2. Load data",
   "id": "5ad93a9b822f77e"
  },
  {
   "metadata": {
    "ExecuteTime": {
     "end_time": "2024-10-11T12:04:45.715977Z",
     "start_time": "2024-10-11T12:04:45.693822Z"
    }
   },
   "cell_type": "code",
   "source": [
    "# load data\n",
    "df = pd.read_csv('../Resources/cleaned_employees.csv')\n"
   ],
   "id": "4999df0d5bcdee3e",
   "outputs": [],
   "execution_count": 22
  },
  {
   "metadata": {
    "ExecuteTime": {
     "end_time": "2024-10-11T12:00:32.295240Z",
     "start_time": "2024-10-11T12:00:32.275013Z"
    }
   },
   "cell_type": "code",
   "source": "df.dtypes",
   "id": "f5fd351ed8ec45e7",
   "outputs": [
    {
     "data": {
      "text/plain": [
       "EmpID                      int64\n",
       "Gender                    object\n",
       "Age                        int64\n",
       "MaritalStatus             object\n",
       "JobLevel                  object\n",
       "Experience                 int64\n",
       "Dept                      object\n",
       "EmpType                   object\n",
       "WLB                        int64\n",
       "WorkEnv                    int64\n",
       "PhysicalActivityHours    float64\n",
       "Workload                   int64\n",
       "Stress                     int64\n",
       "SleepHours               float64\n",
       "CommuteMode               object\n",
       "CommuteDistance            int64\n",
       "NumCompanies               int64\n",
       "TeamSize                   int64\n",
       "NumReports                 int64\n",
       "EduLevel                  object\n",
       "haveOT                      bool\n",
       "TrainingHoursPerYear     float64\n",
       "JobSatisfaction            int64\n",
       "dtype: object"
      ]
     },
     "execution_count": 19,
     "metadata": {},
     "output_type": "execute_result"
    }
   ],
   "execution_count": 19
  },
  {
   "metadata": {},
   "cell_type": "markdown",
   "source": "### 3. Initialize random forest model",
   "id": "cc5b40638ac3d535"
  },
  {
   "metadata": {
    "ExecuteTime": {
     "end_time": "2024-10-11T12:24:27.266457Z",
     "start_time": "2024-10-11T12:24:26.933331Z"
    }
   },
   "cell_type": "code",
   "source": [
    "# Define all features and target\n",
    "features = [\"Workload\", \"Stress\", \"SleepHours\"]\n",
    "\n",
    "target = \"JobSatisfaction\"\n",
    "\n",
    "# Extract X and y\n",
    "x = df[features]  # Features\n",
    "y = df[target]    # Target\n",
    "\n",
    "# Split data into training and testing sets\n",
    "x_train, x_test, y_train, y_test = train_test_split(x, y, test_size=0.2, random_state=42)\n",
    "\n",
    "# Initialize the RandomForestRegressor\n",
    "rf_regressor = RandomForestRegressor(n_estimators=100, random_state=42)\n",
    "\n",
    "# Train the model\n",
    "rf_regressor.fit(x_train, y_train)\n",
    "\n",
    "# Make predictions on the test set\n",
    "y_pred = rf_regressor.predict(x_test)\n",
    "\n",
    "# Evaluate the model\n",
    "mse = mean_squared_error(y_test, y_pred)\n",
    "r2 = r2_score(y_test, y_pred)\n",
    "\n",
    "# Output the results\n",
    "print(f'Mean Squared Error: {mse}')\n",
    "print(f'R-squared: {r2}')\n"
   ],
   "id": "f323329dc0979746",
   "outputs": [
    {
     "name": "stdout",
     "output_type": "stream",
     "text": [
      "Mean Squared Error: 1.7867529270463214\n",
      "R-squared: -0.1229768299410614\n"
     ]
    }
   ],
   "execution_count": 27
  },
  {
   "metadata": {},
   "cell_type": "markdown",
   "source": [
    "## first output\n",
    "### MSE = 1.786 indicates this model has poor peformance.\n",
    "### R-squared values = -0.122 means this model performs worse than a simple horizontal line."
   ],
   "id": "e1a2df8430bb3f5a"
  },
  {
   "metadata": {
    "ExecuteTime": {
     "end_time": "2024-10-11T12:24:32.112529Z",
     "start_time": "2024-10-11T12:24:32.096521Z"
    }
   },
   "cell_type": "code",
   "source": [
    "print(f\"features shape: {x.shape}\")\n",
    "print(f\"target shape: {y.shape}\")"
   ],
   "id": "3ad1a99b3bb354ce",
   "outputs": [
    {
     "name": "stdout",
     "output_type": "stream",
     "text": [
      "features shape: (3007, 3)\n",
      "target shape: (3007,)\n"
     ]
    }
   ],
   "execution_count": 28
  },
  {
   "metadata": {},
   "cell_type": "code",
   "outputs": [],
   "execution_count": null,
   "source": [
    "# Apply Hyperparameter tuning\n",
    "from sklearn.model_selection import RandomizedSearchCV\n",
    "from sklearn.ensemble import RandomForestRegressor\n",
    "from scipy.stats import randint\n",
    "\n",
    "# Initialize the RandomForestRegressor\n",
    "rf = RandomForestRegressor(random_state=42)\n",
    "\n",
    "# Define the hyperparameter space (adapting to the style shown in your slide)\n",
    "hyperparameters = {\n",
    "    'n_estimators': randint(100, 500),               # Number of trees in the forest\n",
    "    'max_depth': [None, 10, 20, 30],                 # Maximum depth of each tree\n",
    "    'min_samples_split': randint(2, 11),             # Minimum samples required to split a node\n",
    "    'min_samples_leaf': randint(1, 5),               # Minimum samples required at a leaf node\n",
    "    'max_features': ['auto', 'sqrt'],                # Number of features to consider when looking for the best split\n",
    "}\n",
    "\n",
    "# Set up the RandomizedSearchCV with 5-fold cross-validation\n",
    "random_search = RandomizedSearchCV(estimator=rf, param_distributions=hyperparameters, n_iter=50, cv=5, random_state=42, n_jobs=-1, verbose=2)\n",
    "\n",
    "# Fit the RandomizedSearchCV to the training data\n",
    "random_search.fit(x_train, y_train)\n",
    "\n",
    "# Get the best hyperparameters\n",
    "print(\"Best Hyperparameters: \", random_search.best_params_)\n",
    "\n",
    "# Use the best estimator to make predictions\n",
    "best_rf = random_search.best_estimator_\n",
    "y_pred = best_rf.predict(x_test)\n",
    "\n",
    "# Evaluate the model with best hyperparameters\n",
    "mse = mean_squared_error(y_test, y_pred)\n",
    "r2 = r2_score(y_test, y_pred)\n",
    "\n",
    "# Output the evaluation results\n",
    "print(f'Mean Squared Error: {mse}')\n",
    "print(f'R-squared: {r2}')\n",
    "\n"
   ],
   "id": "20ef42fa0566300a"
  },
  {
   "metadata": {},
   "cell_type": "markdown",
   "source": [
    "\n",
    "## Second output\n",
    "### Best Hyperparameters:  {'max_depth': 10, 'max_features': 'auto', 'min_samples_leaf': 4, 'min_samples_split': 2, 'n_estimators': 100}\n",
    "\n",
    "### MSE =1.538 \n",
    "### -> that it minimuze the error but still not good enough.\n",
    "\n",
    "### R-squared: 0.033 \n",
    "### -> means only 3.3% of hte variance in JobSatisfaction is explained by our features. \n",
    "\n",
    "## Conclusion\n",
    "### possible causes:  less features to predict JobSatisfaction, or the model is not suitable for this dataset."
   ],
   "id": "c66ce346bdbe05e"
  },
  {
   "metadata": {
    "ExecuteTime": {
     "end_time": "2024-10-11T12:43:07.215834Z",
     "start_time": "2024-10-11T12:43:07.039631Z"
    }
   },
   "cell_type": "code",
   "source": [
    "\n",
    "import numpy as np\n",
    "import matplotlib.pyplot as plt\n",
    "\n",
    "# Get feature importances from the model\n",
    "importances = rf_regressor.feature_importances_\n",
    "\n",
    "# Sort the feature importances in descending order and get the indices\n",
    "indices = np.argsort(importances)[::-1]\n",
    "\n",
    "# Visualize feature importance\n",
    "plt.figure(figsize=(10, 6))\n",
    "plt.title(\"Feature Importance\")\n",
    "plt.bar(range(x_train.shape[1]), importances[indices], align=\"center\")\n",
    "plt.xticks(range(x_train.shape[1]), [x_train.columns[i] for i in indices], rotation=90)\n",
    "plt.xlim([-1, x_train.shape[1]])\n",
    "plt.show()\n"
   ],
   "id": "cb48e0bdcfd164d9",
   "outputs": [
    {
     "data": {
      "text/plain": [
       "<Figure size 1000x600 with 1 Axes>"
      ],
      "image/png": "[encoded data removed]"
     },
     "metadata": {},
     "output_type": "display_data"
    }
   ],
   "execution_count": 30
  }
 ],
 "metadata": {
  "kernelspec": {
   "display_name": "Python 3",
   "language": "python",
   "name": "python3"
  },
  "language_info": {
   "codemirror_mode": {
    "name": "ipython",
    "version": 2
   },
   "file_extension": ".py",
   "mimetype": "text/x-python",
   "name": "python",
   "nbconvert_exporter": "python",
   "pygments_lexer": "ipython2",
   "version": "2.7.6"
  }
 },
 "nbformat": 4,
 "nbformat_minor": 5
}
