{
 "cells": [
  {
   "metadata": {},
   "cell_type": "markdown",
   "source": "### Import all the necessary libraries",
   "id": "e1391f2183d81821"
  },
  {
   "metadata": {
    "ExecuteTime": {
     "end_time": "2024-10-18T11:24:25.326597Z",
     "start_time": "2024-10-18T11:24:25.319323Z"
    }
   },
   "cell_type": "code",
   "source": [
    "import joblib\n",
    "import pandas as pd\n",
    "from sklearn.ensemble import VotingClassifier, StackingClassifier\n",
    "from sklearn.metrics import accuracy_score\n",
    "import os\n",
    "from sklearn.ensemble import VotingClassifier, StackingClassifier, AdaBoostClassifier, BaggingClassifier\n",
    "from sklearn.model_selection import train_test_split\n",
    "from sklearn.pipeline import Pipeline\n",
    "from sklearn.preprocessing import StandardScaler\n",
    "from sklearn.metrics import accuracy_score\n",
    "from sklearn.model_selection import train_test_split, GridSearchCV\n",
    "\n",
    "\n",
    "os.chdir(r'C:\\Users\\mnmhy\\IntelliJprojects\\DAI5\\Resources')"
   ],
   "id": "9b2384e54669052b",
   "outputs": [],
   "execution_count": 27
  },
  {
   "metadata": {},
   "cell_type": "markdown",
   "source": "### Load the dataset",
   "id": "caac636f26d1cf2c"
  },
  {
   "metadata": {
    "ExecuteTime": {
     "end_time": "2024-10-18T11:09:38.723903Z",
     "start_time": "2024-10-18T11:09:38.697032Z"
    }
   },
   "cell_type": "code",
   "source": [
    "df = pd.read_csv('processed_features_job_satisfaction.csv')\n",
    "\n",
    "# List of significant features\n",
    "significant_features = ['Workload_Binned', 'SleepHours_Binned', 'Stress_Binned']\n",
    "\n",
    "# Separate features and target variable\n",
    "X = df[significant_features]\n",
    "y = df['JobSatisfaction']\n"
   ],
   "id": "9a9c982b67d4c9dd",
   "outputs": [],
   "execution_count": 16
  },
  {
   "metadata": {},
   "cell_type": "markdown",
   "source": "### Split the dataset",
   "id": "9a195be4a9ece412"
  },
  {
   "metadata": {
    "ExecuteTime": {
     "end_time": "2024-10-18T11:11:49.994071Z",
     "start_time": "2024-10-18T11:11:49.979868Z"
    }
   },
   "cell_type": "code",
   "source": [
    "# Train-test-validation split (60% train, 20% validation, 20% test)\n",
    "X_train_val, X_test, y_train_val, y_test = train_test_split(X, y, test_size=0.2, random_state=42)\n",
    "\n",
    "X_train, X_val, y_train, y_val = train_test_split(X_train_val, y_train_val, test_size=0.25, random_state=42)"
   ],
   "id": "4a067d5ff2ad046",
   "outputs": [],
   "execution_count": 20
  },
  {
   "metadata": {},
   "cell_type": "markdown",
   "source": "### Load all models",
   "id": "69dbd96505946641"
  },
  {
   "metadata": {
    "ExecuteTime": {
     "end_time": "2024-10-18T11:09:45.331165Z",
     "start_time": "2024-10-18T11:09:45.154402Z"
    }
   },
   "cell_type": "code",
   "source": [
    "decision_tree = joblib.load('decision_tree_model.pkl')\n",
    "extra_trees = joblib.load('extra_trees_model.pkl')\n",
    "knn = joblib.load('knn_model.pkl')\n",
    "naive_bayes = joblib.load('gnb_model.pkl')\n",
    "random_forest = joblib.load('random_forest_model.pkl')\n"
   ],
   "id": "afdb0217befc3dd3",
   "outputs": [],
   "execution_count": 18
  },
  {
   "metadata": {},
   "cell_type": "markdown",
   "source": "### Create Pipilines",
   "id": "97006c28fdcd5141"
  },
  {
   "metadata": {
    "ExecuteTime": {
     "end_time": "2024-10-18T11:09:48.407621Z",
     "start_time": "2024-10-18T11:09:48.390193Z"
    }
   },
   "cell_type": "code",
   "source": [
    "# Create pipelines for each model\n",
    "pipelines = {\n",
    "    'Decision Tree': Pipeline([('scaler', StandardScaler()), ('classifier', decision_tree)]),\n",
    "    'Extra Trees': Pipeline([('scaler', StandardScaler()), ('classifier', extra_trees)]),\n",
    "    'KNN': Pipeline([('scaler', StandardScaler()), ('classifier', knn)]),\n",
    "    'Naive Bayes': Pipeline([('scaler', StandardScaler()), ('classifier', naive_bayes)]),\n",
    "    'Random Forest': Pipeline([('scaler', StandardScaler()), ('classifier', random_forest)])\n",
    "}"
   ],
   "id": "fc68202f43ec1334",
   "outputs": [],
   "execution_count": 19
  },
  {
   "metadata": {},
   "cell_type": "markdown",
   "source": "### Train and evaluate each pipeline",
   "id": "35bf9f742874f469"
  },
  {
   "metadata": {
    "ExecuteTime": {
     "end_time": "2024-10-18T11:14:53.213149Z",
     "start_time": "2024-10-18T11:14:51.887654Z"
    }
   },
   "cell_type": "code",
   "source": [
    "# Train and evaluate each pipeline\n",
    "# Train and evaluate each pipeline using the validation set\n",
    "for name, pipeline in pipelines.items():\n",
    "    pipeline.fit(X_train, y_train)\n",
    "    y_pred = pipeline.predict(X_val)\n",
    "    accuracy = accuracy_score(y_val, y_pred)\n",
    "    print(f\"{name} Pipeline Accuracy: {accuracy:.4f}\")"
   ],
   "id": "c2010eb8646894b8",
   "outputs": [
    {
     "name": "stdout",
     "output_type": "stream",
     "text": [
      "Decision Tree Pipeline Accuracy: 0.4186\n",
      "Extra Trees Pipeline Accuracy: 0.4369\n",
      "KNN Pipeline Accuracy: 0.4169\n",
      "Naive Bayes Pipeline Accuracy: 0.4169\n"
     ]
    },
    {
     "name": "stderr",
     "output_type": "stream",
     "text": [
      "C:\\Users\\mnmhy\\AppData\\Local\\Programs\\Python\\Python39\\lib\\site-packages\\sklearn\\ensemble\\_forest.py:424: FutureWarning: `max_features='auto'` has been deprecated in 1.1 and will be removed in 1.3. To keep the past behaviour, explicitly set `max_features='sqrt'` or remove this parameter as it is also the default value for RandomForestClassifiers and ExtraTreesClassifiers.\n",
      "  warn(\n"
     ]
    },
    {
     "name": "stdout",
     "output_type": "stream",
     "text": [
      "Random Forest Pipeline Accuracy: 0.4352\n"
     ]
    }
   ],
   "execution_count": 21
  },
  {
   "metadata": {},
   "cell_type": "markdown",
   "source": "### Set Up Ensemble Methods",
   "id": "611cdcdf4ecfc42f"
  },
  {
   "metadata": {},
   "cell_type": "markdown",
   "source": "#### Soft Voting Classifier",
   "id": "54a6382575cb252e"
  },
  {
   "metadata": {
    "ExecuteTime": {
     "end_time": "2024-10-18T11:16:05.841969Z",
     "start_time": "2024-10-18T11:16:05.824348Z"
    }
   },
   "cell_type": "code",
   "source": [
    "# Create Voting Classifier (Soft and Hard)\n",
    "voting_soft = VotingClassifier(\n",
    "    estimators=[\n",
    "        ('dt', pipelines['Decision Tree']),\n",
    "        ('et', pipelines['Extra Trees']),\n",
    "        ('knn', pipelines['KNN']),\n",
    "        ('nb', pipelines['Naive Bayes']),\n",
    "        ('rf', pipelines['Random Forest'])\n",
    "    ],\n",
    "    voting='soft'\n",
    ")\n"
   ],
   "id": "9edf5be5f16983bf",
   "outputs": [],
   "execution_count": 22
  },
  {
   "metadata": {},
   "cell_type": "markdown",
   "source": "#### Hard Voting Classifier",
   "id": "e8747b469f09c406"
  },
  {
   "metadata": {
    "ExecuteTime": {
     "end_time": "2024-10-18T11:16:08.168579Z",
     "start_time": "2024-10-18T11:16:08.159101Z"
    }
   },
   "cell_type": "code",
   "source": [
    "voting_hard = VotingClassifier(\n",
    "    estimators=[\n",
    "        ('dt', pipelines['Decision Tree']),\n",
    "        ('et', pipelines['Extra Trees']),\n",
    "        ('knn', pipelines['KNN']),\n",
    "        ('nb', pipelines['Naive Bayes']),\n",
    "        ('rf', pipelines['Random Forest'])\n",
    "    ],\n",
    "    voting='hard'\n",
    ")\n"
   ],
   "id": "22a1d13f197b1caf",
   "outputs": [],
   "execution_count": 23
  },
  {
   "metadata": {},
   "cell_type": "markdown",
   "source": "#### Stacking Classifier",
   "id": "c847cd187ddd4c60"
  },
  {
   "metadata": {
    "ExecuteTime": {
     "end_time": "2024-10-18T11:16:10.636068Z",
     "start_time": "2024-10-18T11:16:10.622371Z"
    }
   },
   "cell_type": "code",
   "source": [
    "# Create Stacking Classifier\n",
    "stacking_clf = StackingClassifier(\n",
    "    estimators=[\n",
    "        ('dt', pipelines['Decision Tree']),\n",
    "        ('et', pipelines['Extra Trees']),\n",
    "        ('knn', pipelines['KNN']),\n",
    "        ('nb', pipelines['Naive Bayes']),\n",
    "        ('rf', pipelines['Random Forest'])\n",
    "    ],\n",
    "    final_estimator=random_forest\n",
    ")\n"
   ],
   "id": "8898f870ab69ceea",
   "outputs": [],
   "execution_count": 24
  },
  {
   "metadata": {},
   "cell_type": "markdown",
   "source": "#### Define all the classifier",
   "id": "914345ae9b739244"
  },
  {
   "metadata": {},
   "cell_type": "markdown",
   "source": "### Define all the classifier",
   "id": "c7faa2d57edc0ddf"
  },
  {
   "metadata": {
    "ExecuteTime": {
     "end_time": "2024-10-18T11:19:50.634129Z",
     "start_time": "2024-10-18T11:19:50.615925Z"
    }
   },
   "cell_type": "code",
   "source": [
    "# Define a dictionary to hold all classifiers for easy comparison\n",
    "# Define all the classifiers\n",
    "classifiers = {\n",
    "    'Voting Soft': voting_soft,\n",
    "    'Voting Hard': voting_hard,\n",
    "    'Stacking': stacking_clf,\n",
    "}"
   ],
   "id": "7fb689e747fd11ba",
   "outputs": [],
   "execution_count": 25
  },
  {
   "metadata": {},
   "cell_type": "markdown",
   "source": "### Fit each classifier and evaluate the performance",
   "id": "1ac5a08577fb081e"
  },
  {
   "metadata": {
    "ExecuteTime": {
     "end_time": "2024-10-18T11:20:03.933223Z",
     "start_time": "2024-10-18T11:19:54.943975Z"
    }
   },
   "cell_type": "code",
   "source": [
    "for name, clf in classifiers.items():\n",
    "    clf.fit(X_train, y_train)\n",
    "    y_pred = clf.predict(X_test)\n",
    "    accuracy = accuracy_score(y_test, y_pred)\n",
    "    print(f\"{name} Accuracy: {accuracy:.4f}\")\n"
   ],
   "id": "e11c010731b82a0d",
   "outputs": [
    {
     "name": "stderr",
     "output_type": "stream",
     "text": [
      "C:\\Users\\mnmhy\\AppData\\Local\\Programs\\Python\\Python39\\lib\\site-packages\\sklearn\\ensemble\\_forest.py:424: FutureWarning: `max_features='auto'` has been deprecated in 1.1 and will be removed in 1.3. To keep the past behaviour, explicitly set `max_features='sqrt'` or remove this parameter as it is also the default value for RandomForestClassifiers and ExtraTreesClassifiers.\n",
      "  warn(\n"
     ]
    },
    {
     "name": "stdout",
     "output_type": "stream",
     "text": [
      "Voting Soft Accuracy: 0.4269\n"
     ]
    },
    {
     "name": "stderr",
     "output_type": "stream",
     "text": [
      "C:\\Users\\mnmhy\\AppData\\Local\\Programs\\Python\\Python39\\lib\\site-packages\\sklearn\\ensemble\\_forest.py:424: FutureWarning: `max_features='auto'` has been deprecated in 1.1 and will be removed in 1.3. To keep the past behaviour, explicitly set `max_features='sqrt'` or remove this parameter as it is also the default value for RandomForestClassifiers and ExtraTreesClassifiers.\n",
      "  warn(\n"
     ]
    },
    {
     "name": "stdout",
     "output_type": "stream",
     "text": [
      "Voting Hard Accuracy: 0.4336\n"
     ]
    },
    {
     "name": "stderr",
     "output_type": "stream",
     "text": [
      "C:\\Users\\mnmhy\\AppData\\Local\\Programs\\Python\\Python39\\lib\\site-packages\\sklearn\\ensemble\\_forest.py:424: FutureWarning: `max_features='auto'` has been deprecated in 1.1 and will be removed in 1.3. To keep the past behaviour, explicitly set `max_features='sqrt'` or remove this parameter as it is also the default value for RandomForestClassifiers and ExtraTreesClassifiers.\n",
      "  warn(\n",
      "C:\\Users\\mnmhy\\AppData\\Local\\Programs\\Python\\Python39\\lib\\site-packages\\sklearn\\ensemble\\_forest.py:424: FutureWarning: `max_features='auto'` has been deprecated in 1.1 and will be removed in 1.3. To keep the past behaviour, explicitly set `max_features='sqrt'` or remove this parameter as it is also the default value for RandomForestClassifiers and ExtraTreesClassifiers.\n",
      "  warn(\n",
      "C:\\Users\\mnmhy\\AppData\\Local\\Programs\\Python\\Python39\\lib\\site-packages\\sklearn\\ensemble\\_forest.py:424: FutureWarning: `max_features='auto'` has been deprecated in 1.1 and will be removed in 1.3. To keep the past behaviour, explicitly set `max_features='sqrt'` or remove this parameter as it is also the default value for RandomForestClassifiers and ExtraTreesClassifiers.\n",
      "  warn(\n",
      "C:\\Users\\mnmhy\\AppData\\Local\\Programs\\Python\\Python39\\lib\\site-packages\\sklearn\\ensemble\\_forest.py:424: FutureWarning: `max_features='auto'` has been deprecated in 1.1 and will be removed in 1.3. To keep the past behaviour, explicitly set `max_features='sqrt'` or remove this parameter as it is also the default value for RandomForestClassifiers and ExtraTreesClassifiers.\n",
      "  warn(\n",
      "C:\\Users\\mnmhy\\AppData\\Local\\Programs\\Python\\Python39\\lib\\site-packages\\sklearn\\ensemble\\_forest.py:424: FutureWarning: `max_features='auto'` has been deprecated in 1.1 and will be removed in 1.3. To keep the past behaviour, explicitly set `max_features='sqrt'` or remove this parameter as it is also the default value for RandomForestClassifiers and ExtraTreesClassifiers.\n",
      "  warn(\n",
      "C:\\Users\\mnmhy\\AppData\\Local\\Programs\\Python\\Python39\\lib\\site-packages\\sklearn\\ensemble\\_forest.py:424: FutureWarning: `max_features='auto'` has been deprecated in 1.1 and will be removed in 1.3. To keep the past behaviour, explicitly set `max_features='sqrt'` or remove this parameter as it is also the default value for RandomForestClassifiers and ExtraTreesClassifiers.\n",
      "  warn(\n",
      "C:\\Users\\mnmhy\\AppData\\Local\\Programs\\Python\\Python39\\lib\\site-packages\\sklearn\\ensemble\\_forest.py:424: FutureWarning: `max_features='auto'` has been deprecated in 1.1 and will be removed in 1.3. To keep the past behaviour, explicitly set `max_features='sqrt'` or remove this parameter as it is also the default value for RandomForestClassifiers and ExtraTreesClassifiers.\n",
      "  warn(\n"
     ]
    },
    {
     "name": "stdout",
     "output_type": "stream",
     "text": [
      "Stacking Accuracy: 0.4319\n"
     ]
    }
   ],
   "execution_count": 26
  },
  {
   "metadata": {},
   "cell_type": "markdown",
   "source": "## Hyperparameter Tuning",
   "id": "74ad5f4cff03e701"
  },
  {
   "metadata": {
    "ExecuteTime": {
     "end_time": "2024-10-18T12:23:37.494146Z",
     "start_time": "2024-10-18T12:23:37.475737Z"
    }
   },
   "cell_type": "code",
   "source": [
    "# Define hyperparameter search spaces\n",
    "param_grids = {\n",
    "    'Decision Tree': {'classifier__max_depth': [None, 10, 20, 30]},\n",
    "    'Extra Trees': {'classifier__n_estimators': [50, 100, 200]},\n",
    "    'KNN': {'classifier__n_neighbors': [3, 5, 7]},\n",
    "    'Naive Bayes': {},  # Naive Bayes has no hyperparameters to tune in this context\n",
    "    'Random Forest': {'classifier__n_estimators': [50, 100, 120, 150, 200]}\n",
    "}\n"
   ],
   "id": "455784eb2e4d28f6",
   "outputs": [],
   "execution_count": 36
  },
  {
   "metadata": {},
   "cell_type": "markdown",
   "source": "",
   "id": "fc1ba7e7539627b0"
  },
  {
   "metadata": {
    "ExecuteTime": {
     "end_time": "2024-10-18T12:24:20.614844Z",
     "start_time": "2024-10-18T12:24:18.116304Z"
    }
   },
   "cell_type": "code",
   "source": [
    "# Perform hyperparameter tuning using GridSearchCV\n",
    "best_estimators = {}\n",
    "for name, pipeline in pipelines.items():    \n",
    "    print(f\"Training and tuning {name}...\")    \n",
    "    grid_search = GridSearchCV(pipeline, param_grids[name], cv=5, n_jobs=-1)    \n",
    "    grid_search.fit(X_train, y_train)        # Store the best estimator for each model   \n",
    "    best_estimators[name] = grid_search.best_estimator_        # Print the best hyperparameters    \n",
    "    print(f\"Best hyperparameters for {name}: {grid_search.best_params_}\")\n",
    "    print(f\"Best estimator for {name}: {best_estimators[name]}\")\n",
    "    print(\"-\" * 50)\n",
    "    # Example usage to get the best Decision Tree hyperparameters:print(\"Best Decision Tree Hyperparameters:\", best_estimators['Decision Tree'])"
   ],
   "id": "17548dbcf33b7c6f",
   "outputs": [
    {
     "name": "stdout",
     "output_type": "stream",
     "text": [
      "Training and tuning Decision Tree...\n",
      "Best hyperparameters for Decision Tree: {'classifier__max_depth': None}\n",
      "Best estimator for Decision Tree: Pipeline(steps=[('scaler', StandardScaler()),\n",
      "                ('classifier', DecisionTreeClassifier(random_state=42))])\n",
      "--------------------------------------------------\n",
      "Training and tuning Extra Trees...\n",
      "Best hyperparameters for Extra Trees: {'classifier__n_estimators': 100}\n",
      "Best estimator for Extra Trees: Pipeline(steps=[('scaler', StandardScaler()),\n",
      "                ('classifier',\n",
      "                 ExtraTreesClassifier(max_features=1, min_samples_leaf=16,\n",
      "                                      min_samples_split=17))])\n",
      "--------------------------------------------------\n",
      "Training and tuning KNN...\n",
      "Best hyperparameters for KNN: {'classifier__n_neighbors': 7}\n",
      "Best estimator for KNN: Pipeline(steps=[('scaler', StandardScaler()),\n",
      "                ('classifier',\n",
      "                 KNeighborsClassifier(metric='euclidean', n_neighbors=7))])\n",
      "--------------------------------------------------\n",
      "Training and tuning Naive Bayes...\n",
      "Best hyperparameters for Naive Bayes: {}\n",
      "Best estimator for Naive Bayes: Pipeline(steps=[('scaler', StandardScaler()),\n",
      "                ('classifier',\n",
      "                 GaussianNB(var_smoothing=0.0002351758473920096))])\n",
      "--------------------------------------------------\n",
      "Training and tuning Random Forest...\n",
      "Best hyperparameters for Random Forest: {'classifier__n_estimators': 100}\n",
      "Best estimator for Random Forest: Pipeline(steps=[('scaler', StandardScaler()),\n",
      "                ('classifier',\n",
      "                 RandomForestClassifier(max_features='auto', max_leaf_nodes=16,\n",
      "                                        min_samples_leaf=3, min_samples_split=8,\n",
      "                                        n_jobs=-1, random_state=42))])\n",
      "--------------------------------------------------\n"
     ]
    },
    {
     "name": "stderr",
     "output_type": "stream",
     "text": [
      "C:\\Users\\mnmhy\\AppData\\Local\\Programs\\Python\\Python39\\lib\\site-packages\\sklearn\\ensemble\\_forest.py:424: FutureWarning: `max_features='auto'` has been deprecated in 1.1 and will be removed in 1.3. To keep the past behaviour, explicitly set `max_features='sqrt'` or remove this parameter as it is also the default value for RandomForestClassifiers and ExtraTreesClassifiers.\n",
      "  warn(\n"
     ]
    }
   ],
   "execution_count": 37
  },
  {
   "metadata": {},
   "cell_type": "markdown",
   "source": "",
   "id": "51c17a224e720622"
  },
  {
   "metadata": {
    "ExecuteTime": {
     "end_time": "2024-10-18T12:24:25.280796Z",
     "start_time": "2024-10-18T12:24:25.267410Z"
    }
   },
   "cell_type": "code",
   "source": [
    "\n",
    "voting_soft = VotingClassifier(\n",
    "    estimators=[\n",
    "        ('dt', best_estimators['Decision Tree']),\n",
    "        ('et', best_estimators['Extra Trees']),\n",
    "        ('knn', best_estimators['KNN']),\n",
    "        ('nb', best_estimators['Naive Bayes']),\n",
    "        ('rf', best_estimators['Random Forest'])\n",
    "    ],\n",
    "    voting='soft'\n",
    ")\n",
    "\n"
   ],
   "id": "2d2f7b8764014d0b",
   "outputs": [],
   "execution_count": 38
  },
  {
   "metadata": {},
   "cell_type": "markdown",
   "source": "",
   "id": "b3d0f33e69fcbd0b"
  },
  {
   "metadata": {
    "ExecuteTime": {
     "end_time": "2024-10-18T12:24:27.332922Z",
     "start_time": "2024-10-18T12:24:27.327004Z"
    }
   },
   "cell_type": "code",
   "source": [
    "voting_hard = VotingClassifier(\n",
    "    estimators=[\n",
    "        ('dt', best_estimators['Decision Tree']),\n",
    "        ('et', best_estimators['Extra Trees']),\n",
    "        ('knn', best_estimators['KNN']),\n",
    "        ('nb', best_estimators['Naive Bayes']),\n",
    "        ('rf', best_estimators['Random Forest'])\n",
    "    ],\n",
    "    voting='hard'\n",
    ")\n"
   ],
   "id": "f1ebc605fe95797b",
   "outputs": [],
   "execution_count": 39
  },
  {
   "metadata": {},
   "cell_type": "markdown",
   "source": "",
   "id": "95ba11b6d6d223a0"
  },
  {
   "metadata": {
    "ExecuteTime": {
     "end_time": "2024-10-18T12:24:28.972943Z",
     "start_time": "2024-10-18T12:24:28.959505Z"
    }
   },
   "cell_type": "code",
   "source": [
    "stacking_clf = StackingClassifier(\n",
    "    estimators=[\n",
    "        ('dt', best_estimators['Decision Tree']),\n",
    "        ('et', best_estimators['Extra Trees']),\n",
    "        ('knn', best_estimators['KNN']),\n",
    "        ('nb', best_estimators['Naive Bayes']),\n",
    "        ('rf', best_estimators['Random Forest'])\n",
    "    ],\n",
    "    final_estimator=random_forest\n",
    ")\n"
   ],
   "id": "6ac126c70d3d6286",
   "outputs": [],
   "execution_count": 40
  },
  {
   "metadata": {},
   "cell_type": "markdown",
   "source": "",
   "id": "8474a36d818597ed"
  },
  {
   "metadata": {
    "ExecuteTime": {
     "end_time": "2024-10-18T12:24:30.565966Z",
     "start_time": "2024-10-18T12:24:30.546609Z"
    }
   },
   "cell_type": "code",
   "source": [
    "# Define a dictionary to hold all ensemble classifiers for easy comparison\n",
    "ensemble_classifiers = {\n",
    "    'Voting Soft': voting_soft,\n",
    "    'Voting Hard': voting_hard,\n",
    "    'Stacking': stacking_clf\n",
    "}\n"
   ],
   "id": "2a3055dbb5522260",
   "outputs": [],
   "execution_count": 41
  },
  {
   "metadata": {},
   "cell_type": "markdown",
   "source": "",
   "id": "9700c1480bc50381"
  },
  {
   "metadata": {
    "ExecuteTime": {
     "end_time": "2024-10-18T12:24:35.350785Z",
     "start_time": "2024-10-18T12:24:32.341943Z"
    }
   },
   "cell_type": "code",
   "source": [
    "# Train and evaluate each ensemble classifier using the validation set\n",
    "for name, clf in ensemble_classifiers.items():\n",
    "    clf.fit(X_train, y_train)\n",
    "    y_pred = clf.predict(X_val)\n",
    "    accuracy = accuracy_score(y_val, y_pred)\n",
    "    print(f\"{name} Ensemble Accuracy: {accuracy:.4f}\")"
   ],
   "id": "da73ef22d7e093d2",
   "outputs": [
    {
     "name": "stderr",
     "output_type": "stream",
     "text": [
      "C:\\Users\\mnmhy\\AppData\\Local\\Programs\\Python\\Python39\\lib\\site-packages\\sklearn\\ensemble\\_forest.py:424: FutureWarning: `max_features='auto'` has been deprecated in 1.1 and will be removed in 1.3. To keep the past behaviour, explicitly set `max_features='sqrt'` or remove this parameter as it is also the default value for RandomForestClassifiers and ExtraTreesClassifiers.\n",
      "  warn(\n"
     ]
    },
    {
     "name": "stdout",
     "output_type": "stream",
     "text": [
      "Voting Soft Ensemble Accuracy: 0.4352\n"
     ]
    },
    {
     "name": "stderr",
     "output_type": "stream",
     "text": [
      "C:\\Users\\mnmhy\\AppData\\Local\\Programs\\Python\\Python39\\lib\\site-packages\\sklearn\\ensemble\\_forest.py:424: FutureWarning: `max_features='auto'` has been deprecated in 1.1 and will be removed in 1.3. To keep the past behaviour, explicitly set `max_features='sqrt'` or remove this parameter as it is also the default value for RandomForestClassifiers and ExtraTreesClassifiers.\n",
      "  warn(\n"
     ]
    },
    {
     "name": "stdout",
     "output_type": "stream",
     "text": [
      "Voting Hard Ensemble Accuracy: 0.4286\n"
     ]
    },
    {
     "name": "stderr",
     "output_type": "stream",
     "text": [
      "C:\\Users\\mnmhy\\AppData\\Local\\Programs\\Python\\Python39\\lib\\site-packages\\sklearn\\ensemble\\_forest.py:424: FutureWarning: `max_features='auto'` has been deprecated in 1.1 and will be removed in 1.3. To keep the past behaviour, explicitly set `max_features='sqrt'` or remove this parameter as it is also the default value for RandomForestClassifiers and ExtraTreesClassifiers.\n",
      "  warn(\n",
      "C:\\Users\\mnmhy\\AppData\\Local\\Programs\\Python\\Python39\\lib\\site-packages\\sklearn\\ensemble\\_forest.py:424: FutureWarning: `max_features='auto'` has been deprecated in 1.1 and will be removed in 1.3. To keep the past behaviour, explicitly set `max_features='sqrt'` or remove this parameter as it is also the default value for RandomForestClassifiers and ExtraTreesClassifiers.\n",
      "  warn(\n",
      "C:\\Users\\mnmhy\\AppData\\Local\\Programs\\Python\\Python39\\lib\\site-packages\\sklearn\\ensemble\\_forest.py:424: FutureWarning: `max_features='auto'` has been deprecated in 1.1 and will be removed in 1.3. To keep the past behaviour, explicitly set `max_features='sqrt'` or remove this parameter as it is also the default value for RandomForestClassifiers and ExtraTreesClassifiers.\n",
      "  warn(\n",
      "C:\\Users\\mnmhy\\AppData\\Local\\Programs\\Python\\Python39\\lib\\site-packages\\sklearn\\ensemble\\_forest.py:424: FutureWarning: `max_features='auto'` has been deprecated in 1.1 and will be removed in 1.3. To keep the past behaviour, explicitly set `max_features='sqrt'` or remove this parameter as it is also the default value for RandomForestClassifiers and ExtraTreesClassifiers.\n",
      "  warn(\n",
      "C:\\Users\\mnmhy\\AppData\\Local\\Programs\\Python\\Python39\\lib\\site-packages\\sklearn\\ensemble\\_forest.py:424: FutureWarning: `max_features='auto'` has been deprecated in 1.1 and will be removed in 1.3. To keep the past behaviour, explicitly set `max_features='sqrt'` or remove this parameter as it is also the default value for RandomForestClassifiers and ExtraTreesClassifiers.\n",
      "  warn(\n",
      "C:\\Users\\mnmhy\\AppData\\Local\\Programs\\Python\\Python39\\lib\\site-packages\\sklearn\\ensemble\\_forest.py:424: FutureWarning: `max_features='auto'` has been deprecated in 1.1 and will be removed in 1.3. To keep the past behaviour, explicitly set `max_features='sqrt'` or remove this parameter as it is also the default value for RandomForestClassifiers and ExtraTreesClassifiers.\n",
      "  warn(\n",
      "C:\\Users\\mnmhy\\AppData\\Local\\Programs\\Python\\Python39\\lib\\site-packages\\sklearn\\ensemble\\_forest.py:424: FutureWarning: `max_features='auto'` has been deprecated in 1.1 and will be removed in 1.3. To keep the past behaviour, explicitly set `max_features='sqrt'` or remove this parameter as it is also the default value for RandomForestClassifiers and ExtraTreesClassifiers.\n",
      "  warn(\n"
     ]
    },
    {
     "name": "stdout",
     "output_type": "stream",
     "text": [
      "Stacking Ensemble Accuracy: 0.4419\n"
     ]
    }
   ],
   "execution_count": 42
  }
 ],
 "metadata": {
  "kernelspec": {
   "display_name": "Python 3",
   "language": "python",
   "name": "python3"
  },
  "language_info": {
   "codemirror_mode": {
    "name": "ipython",
    "version": 2
   },
   "file_extension": ".py",
   "mimetype": "text/x-python",
   "name": "python",
   "nbconvert_exporter": "python",
   "pygments_lexer": "ipython2",
   "version": "2.7.6"
  }
 },
 "nbformat": 4,
 "nbformat_minor": 5
}
