{
 "cells": [
  {
   "metadata": {},
   "cell_type": "markdown",
   "source": "### Import all the necessary libraries",
   "id": "e1391f2183d81821"
  },
  {
   "metadata": {},
   "cell_type": "code",
   "outputs": [],
   "execution_count": null,
   "source": [
    "import joblib\n",
    "from sklearn.ensemble import VotingClassifier, StackingClassifier\n",
    "from sklearn.metrics import accuracy_score"
   ],
   "id": "9b2384e54669052b"
  },
  {
   "metadata": {},
   "cell_type": "markdown",
   "source": "### Load all models",
   "id": "69dbd96505946641"
  },
  {
   "metadata": {},
   "cell_type": "code",
   "outputs": [],
   "execution_count": null,
   "source": [
    "decision_tree = joblib.load('decision_tree_model.pkl')\n",
    "extra_trees = joblib.load('extra_trees_model.pkl')\n",
    "knn = joblib.load('knn_model.pkl')\n",
    "naive_bayes = joblib.load('naive_bayes_model.pkl')\n",
    "random_forest = joblib.load('random_forest_model.pkl')\n"
   ],
   "id": "afdb0217befc3dd3"
  },
  {
   "metadata": {},
   "cell_type": "markdown",
   "source": "### Set Up Ensemble Methods",
   "id": "611cdcdf4ecfc42f"
  },
  {
   "metadata": {},
   "cell_type": "markdown",
   "source": "#### Soft Voting Classifier",
   "id": "54a6382575cb252e"
  },
  {
   "metadata": {},
   "cell_type": "code",
   "outputs": [],
   "execution_count": null,
   "source": [
    "# Create Voting Classifier (Soft and Hard)\n",
    "voting_soft = VotingClassifier(\n",
    "    estimators=[\n",
    "        ('dt', decision_tree),\n",
    "        ('et', extra_trees),\n",
    "        ('knn', knn),\n",
    "        ('nb', naive_bayes),\n",
    "        ('rf', random_forest)\n",
    "    ],\n",
    "    voting='soft'\n",
    ")"
   ],
   "id": "9edf5be5f16983bf"
  },
  {
   "metadata": {},
   "cell_type": "markdown",
   "source": "#### Hard Voting Classifier",
   "id": "e8747b469f09c406"
  },
  {
   "metadata": {},
   "cell_type": "code",
   "outputs": [],
   "execution_count": null,
   "source": [
    "voting_hard = VotingClassifier(\n",
    "    estimators=[\n",
    "        ('dt', decision_tree),\n",
    "        ('et', extra_trees),\n",
    "        ('knn', knn),\n",
    "        ('nb', naive_bayes),\n",
    "        ('rf', random_forest)\n",
    "    ],\n",
    "    voting='hard'\n",
    ")"
   ],
   "id": "22a1d13f197b1caf"
  },
  {
   "metadata": {},
   "cell_type": "markdown",
   "source": "#### Stacking Classifier",
   "id": "c847cd187ddd4c60"
  },
  {
   "metadata": {},
   "cell_type": "code",
   "outputs": [],
   "execution_count": null,
   "source": [
    "# Create Stacking Classifier\n",
    "stacking_clf = StackingClassifier(\n",
    "    estimators=[\n",
    "        ('dt', decision_tree),\n",
    "        ('et', extra_trees),\n",
    "        ('knn', knn),\n",
    "        ('nb', naive_bayes),\n",
    "        ('rf', random_forest)\n",
    "    ],\n",
    "    final_estimator=random_forest  # You can choose any model as the final estimator\n",
    ")"
   ],
   "id": "8898f870ab69ceea"
  },
  {
   "metadata": {},
   "cell_type": "markdown",
   "source": "#### Define all the classifier",
   "id": "914345ae9b739244"
  },
  {
   "metadata": {},
   "cell_type": "code",
   "outputs": [],
   "execution_count": null,
   "source": [
    "# Define a dictionary to hold all classifiers for easy comparison\n",
    "classifiers = {\n",
    "    'Voting Soft': voting_soft,\n",
    "    'Voting Hard': voting_hard,\n",
    "    'Stacking': stacking_clf,\n",
    "}"
   ],
   "id": "7fb689e747fd11ba"
  },
  {
   "metadata": {},
   "cell_type": "markdown",
   "source": "### Fit each classifier and evaluate the performance",
   "id": "1ac5a08577fb081e"
  },
  {
   "metadata": {},
   "cell_type": "code",
   "outputs": [],
   "execution_count": null,
   "source": [
    "for name, clf in classifiers.items():\n",
    "    clf.fit(X_train, y_train)\n",
    "    y_pred = clf.predict(X_test)\n",
    "    accuracy = accuracy_score(y_test, y_pred)\n",
    "    print(f\"{name} Accuracy: {accuracy:.4f}\")\n"
   ],
   "id": "e11c010731b82a0d"
  }
 ],
 "metadata": {
  "kernelspec": {
   "display_name": "Python 3",
   "language": "python",
   "name": "python3"
  },
  "language_info": {
   "codemirror_mode": {
    "name": "ipython",
    "version": 2
   },
   "file_extension": ".py",
   "mimetype": "text/x-python",
   "name": "python",
   "nbconvert_exporter": "python",
   "pygments_lexer": "ipython2",
   "version": "2.7.6"
  }
 },
 "nbformat": 4,
 "nbformat_minor": 5
}
