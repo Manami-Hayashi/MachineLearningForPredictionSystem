{
 "cells": [
  {
   "metadata": {},
   "cell_type": "markdown",
   "source": "# Extra Trees Classifier",
   "id": "3bff4dae3e3ec291"
  },
  {
   "metadata": {},
   "cell_type": "markdown",
   "source": "# Import necessary libraries",
   "id": "f480aca3d0016c9b"
  },
  {
   "cell_type": "code",
   "id": "initial_id",
   "metadata": {
    "collapsed": true,
    "ExecuteTime": {
     "end_time": "2024-10-25T10:35:33.944033Z",
     "start_time": "2024-10-25T10:35:32.771507Z"
    }
   },
   "source": [
    "import pandas as pd\n",
    "import os\n",
    "from sklearn.model_selection import train_test_split, StratifiedKFold\n",
    "from sklearn.ensemble import ExtraTreesClassifier\n",
    "from sklearn.metrics import accuracy_score, roc_auc_score, roc_curve\n",
    "from sklearn.preprocessing import LabelEncoder\n",
    "from skopt import BayesSearchCV\n",
    "import matplotlib.pyplot as plt\n",
    "import numpy as np\n",
    "from sklearn.tree import export_graphviz\n",
    "import graphviz\n",
    "from IPython.display import display\n",
    "import joblib"
   ],
   "outputs": [],
   "execution_count": 2
  },
  {
   "metadata": {},
   "cell_type": "markdown",
   "source": "# # Load the dataset and set display options to show all rows and print first few rows\n",
   "id": "692784522d87d18d"
  },
  {
   "metadata": {
    "ExecuteTime": {
     "end_time": "2024-10-25T10:35:33.989406Z",
     "start_time": "2024-10-25T10:35:33.945948Z"
    }
   },
   "cell_type": "code",
   "source": [
    "os.chdir(r'D:\\KDG\\2024-2025\\Semester 1\\DAI5\\GroupProject\\SatisfactionLevel0\\Resources')\n",
    "df = pd.read_csv('processed_features_job_satisfaction.csv')\n",
    "\n",
    "# Set display options to show all rows\n",
    "pd.set_option('display.max_rows', None)\n",
    "\n",
    "# Print the first few rows of the DataFrame\n",
    "print(df.head())"
   ],
   "id": "599c67f28a7cf768",
   "outputs": [
    {
     "name": "stdout",
     "output_type": "stream",
     "text": [
      "  JobSatisfaction  Workload_Binned  SleepHours_Binned Age_Binned  \\\n",
      "0  Very Satisfied                2                  7      30-39   \n",
      "1  Very Satisfied                2                  7      30-39   \n",
      "2  Very Satisfied                5                  6      20-29   \n",
      "3  Very Satisfied                3                  7      20-29   \n",
      "4  Very Satisfied                2                  4      20-29   \n",
      "\n",
      "   Stress_Binned Experience_Binned        JobLevel  Gender MaritalStatus  \\\n",
      "0              1              6-10             Mid    Male       Married   \n",
      "1              2             11-15             Mid  Female       Married   \n",
      "2              4               1-5  Intern/Fresher  Female        Single   \n",
      "3              1              6-10          Junior  Female       Married   \n",
      "4              1               1-5          Junior   Other        Single   \n",
      "\n",
      "        Dept    EmpType haveOT_Binned  \n",
      "0         IT  Full-Time           Yes  \n",
      "1    Finance  Full-Time            No  \n",
      "2  Marketing  Full-Time           Yes  \n",
      "3         IT   Contract           Yes  \n",
      "4      Sales  Part-Time            No  \n"
     ]
    }
   ],
   "execution_count": 3
  },
  {
   "metadata": {},
   "cell_type": "markdown",
   "source": "# List the significant features, and separate features and the target variable\n",
   "id": "ac7d61226e6cddb8"
  },
  {
   "metadata": {
    "ExecuteTime": {
     "end_time": "2024-10-25T10:35:34.004691Z",
     "start_time": "2024-10-25T10:35:33.991326Z"
    }
   },
   "cell_type": "code",
   "source": [
    "significant_features = ['Workload_Binned', 'SleepHours_Binned', 'Stress_Binned']\n",
    "\n",
    "# Separate features and target variable\n",
    "X = df[significant_features]\n",
    "le = LabelEncoder()\n",
    "y = le.fit_transform(df['JobSatisfaction']).ravel()  # Ensure y is a 1D array\n"
   ],
   "id": "3a508e921fc87d36",
   "outputs": [],
   "execution_count": 4
  },
  {
   "metadata": {},
   "cell_type": "markdown",
   "source": "# Define the hyperparameter search space for Extra Trees\n",
   "id": "24c67bd8a1d325ba"
  },
  {
   "metadata": {
    "ExecuteTime": {
     "end_time": "2024-10-25T10:35:34.020289Z",
     "start_time": "2024-10-25T10:35:34.008161Z"
    }
   },
   "cell_type": "code",
   "source": [
    "search_space_extra_trees = {\n",
    "    'n_estimators': (10, 20, 30, 40, 100, 120, 1000), # number of trees in the foreset\n",
    "    'max_features': (1, X.shape[1]), # max number of features considered for splitting a node\n",
    "    'min_samples_split': (2, 20), # min number of data points placed in a node before the node is split\n",
    "    'min_samples_leaf': (1, 20), # min number of data points allowed in a leaf node\n",
    "    'bootstrap': [True, False], # method for sampling data points (with or without replacement)\n",
    "    'criterion': ['gini', 'entropy'] # quality of split\n",
    "}"
   ],
   "id": "9702a6a2f76cc052",
   "outputs": [],
   "execution_count": 5
  },
  {
   "metadata": {},
   "cell_type": "markdown",
   "source": [
    "The dictionary `search_space_extra_trees` defines the hyperparameter search space for an `ExtraTreesClassifier` in a machine learning model. Each key in the dictionary represents a hyperparameter, and the corresponding value is the range or set of values that will be explored during hyperparameter tuning. Here's a brief explanation of each hyperparameter:\n",
    "\n",
    "- **`n_estimators`**: The number of trees in the forest. The range (10, 1000) means that the search will consider values from 10 to 1000.\n",
    "- **`max_features`**: The number of features to consider when looking for the best split. The range (1, X.shape[1]) means that the search will consider values from 1 to the total number of features in the dataset.\n",
    "- **`min_samples_split`**: The minimum number of samples required to split an internal node. The range (2, 20) means that the search will consider values from 2 to 20.\n",
    "- **`min_samples_leaf`**: The minimum number of samples required to be at a leaf node. The range (1, 20) means that the search will consider values from 1 to 20.\n",
    "- **`bootstrap`**: Whether bootstrap samples are used when building trees. The search will consider both `True` and `False`.\n",
    "- **`criterion`**: The function to measure the quality of a split. The search will consider both 'gini' and 'entropy'.\n",
    "\n",
    "This search space will be used in hyperparameter tuning methods like GridSearchCV or RandomizedSearchCV to find the best combination of hyperparameters for the `ExtraTreesClassifier`."
   ],
   "id": "ee8b715946301492"
  },
  {
   "metadata": {},
   "cell_type": "markdown",
   "source": "# Initialize and perform Bayesian optimization for Extra Trees\n",
   "id": "3e3fd4bb2e4a340b"
  },
  {
   "metadata": {
    "ExecuteTime": {
     "end_time": "2024-10-25T10:36:42.656846Z",
     "start_time": "2024-10-25T10:35:34.023284Z"
    }
   },
   "cell_type": "code",
   "source": [
    "extra_trees = ExtraTreesClassifier()\n",
    "opt_extra_trees = BayesSearchCV(extra_trees, search_space_extra_trees, n_iter=16, cv=StratifiedKFold(n_splits=5), n_jobs=-1) # n_iter is the number of parameter settings that are sampled, stratified k-fold is used for cross-validation and n_jobs is the number of jobs to run in parallel\n",
    "opt_extra_trees.fit(X, y)"
   ],
   "id": "ea43ae9ed08ef0cd",
   "outputs": [
    {
     "name": "stderr",
     "output_type": "stream",
     "text": [
      "D:\\PythonEnv\\.venv\\lib\\site-packages\\numpy\\ma\\core.py:2846: RuntimeWarning: invalid value encountered in cast\n",
      "  _data = np.array(data, dtype=dtype, copy=copy,\n",
      "D:\\PythonEnv\\.venv\\lib\\site-packages\\numpy\\ma\\core.py:2846: RuntimeWarning: invalid value encountered in cast\n",
      "  _data = np.array(data, dtype=dtype, copy=copy,\n",
      "D:\\PythonEnv\\.venv\\lib\\site-packages\\numpy\\ma\\core.py:2846: RuntimeWarning: invalid value encountered in cast\n",
      "  _data = np.array(data, dtype=dtype, copy=copy,\n"
     ]
    },
    {
     "data": {
      "text/plain": [
       "BayesSearchCV(cv=StratifiedKFold(n_splits=5, random_state=None, shuffle=False),\n",
       "              estimator=ExtraTreesClassifier(), n_iter=16, n_jobs=-1,\n",
       "              search_spaces={'bootstrap': [True, False],\n",
       "                             'criterion': ['gini', 'entropy'],\n",
       "                             'max_features': (1, 3),\n",
       "                             'min_samples_leaf': (1, 20),\n",
       "                             'min_samples_split': (2, 20),\n",
       "                             'n_estimators': (10, 20, 30, 40, 100, 120, 1000)})"
      ],
      "text/html": [
       "<style>#sk-container-id-1 {\n",
       "  /* Definition of color scheme common for light and dark mode */\n",
       "  --sklearn-color-text: black;\n",
       "  --sklearn-color-line: gray;\n",
       "  /* Definition of color scheme for unfitted estimators */\n",
       "  --sklearn-color-unfitted-level-0: #fff5e6;\n",
       "  --sklearn-color-unfitted-level-1: #f6e4d2;\n",
       "  --sklearn-color-unfitted-level-2: #ffe0b3;\n",
       "  --sklearn-color-unfitted-level-3: chocolate;\n",
       "  /* Definition of color scheme for fitted estimators */\n",
       "  --sklearn-color-fitted-level-0: #f0f8ff;\n",
       "  --sklearn-color-fitted-level-1: #d4ebff;\n",
       "  --sklearn-color-fitted-level-2: #b3dbfd;\n",
       "  --sklearn-color-fitted-level-3: cornflowerblue;\n",
       "\n",
       "  /* Specific color for light theme */\n",
       "  --sklearn-color-text-on-default-background: var(--sg-text-color, var(--theme-code-foreground, var(--jp-content-font-color1, black)));\n",
       "  --sklearn-color-background: var(--sg-background-color, var(--theme-background, var(--jp-layout-color0, white)));\n",
       "  --sklearn-color-border-box: var(--sg-text-color, var(--theme-code-foreground, var(--jp-content-font-color1, black)));\n",
       "  --sklearn-color-icon: #696969;\n",
       "\n",
       "  @media (prefers-color-scheme: dark) {\n",
       "    /* Redefinition of color scheme for dark theme */\n",
       "    --sklearn-color-text-on-default-background: var(--sg-text-color, var(--theme-code-foreground, var(--jp-content-font-color1, white)));\n",
       "    --sklearn-color-background: var(--sg-background-color, var(--theme-background, var(--jp-layout-color0, #111)));\n",
       "    --sklearn-color-border-box: var(--sg-text-color, var(--theme-code-foreground, var(--jp-content-font-color1, white)));\n",
       "    --sklearn-color-icon: #878787;\n",
       "  }\n",
       "}\n",
       "\n",
       "#sk-container-id-1 {\n",
       "  color: var(--sklearn-color-text);\n",
       "}\n",
       "\n",
       "#sk-container-id-1 pre {\n",
       "  padding: 0;\n",
       "}\n",
       "\n",
       "#sk-container-id-1 input.sk-hidden--visually {\n",
       "  border: 0;\n",
       "  clip: rect(1px 1px 1px 1px);\n",
       "  clip: rect(1px, 1px, 1px, 1px);\n",
       "  height: 1px;\n",
       "  margin: -1px;\n",
       "  overflow: hidden;\n",
       "  padding: 0;\n",
       "  position: absolute;\n",
       "  width: 1px;\n",
       "}\n",
       "\n",
       "#sk-container-id-1 div.sk-dashed-wrapped {\n",
       "  border: 1px dashed var(--sklearn-color-line);\n",
       "  margin: 0 0.4em 0.5em 0.4em;\n",
       "  box-sizing: border-box;\n",
       "  padding-bottom: 0.4em;\n",
       "  background-color: var(--sklearn-color-background);\n",
       "}\n",
       "\n",
       "#sk-container-id-1 div.sk-container {\n",
       "  /* jupyter's `normalize.less` sets `[hidden] { display: none; }`\n",
       "     but bootstrap.min.css set `[hidden] { display: none !important; }`\n",
       "     so we also need the `!important` here to be able to override the\n",
       "     default hidden behavior on the sphinx rendered scikit-learn.org.\n",
       "     See: https://github.com/scikit-learn/scikit-learn/issues/21755 */\n",
       "  display: inline-block !important;\n",
       "  position: relative;\n",
       "}\n",
       "\n",
       "#sk-container-id-1 div.sk-text-repr-fallback {\n",
       "  display: none;\n",
       "}\n",
       "\n",
       "div.sk-parallel-item,\n",
       "div.sk-serial,\n",
       "div.sk-item {\n",
       "  /* draw centered vertical line to link estimators */\n",
       "  background-image: linear-gradient(var(--sklearn-color-text-on-default-background), var(--sklearn-color-text-on-default-background));\n",
       "  background-size: 2px 100%;\n",
       "  background-repeat: no-repeat;\n",
       "  background-position: center center;\n",
       "}\n",
       "\n",
       "/* Parallel-specific style estimator block */\n",
       "\n",
       "#sk-container-id-1 div.sk-parallel-item::after {\n",
       "  content: \"\";\n",
       "  width: 100%;\n",
       "  border-bottom: 2px solid var(--sklearn-color-text-on-default-background);\n",
       "  flex-grow: 1;\n",
       "}\n",
       "\n",
       "#sk-container-id-1 div.sk-parallel {\n",
       "  display: flex;\n",
       "  align-items: stretch;\n",
       "  justify-content: center;\n",
       "  background-color: var(--sklearn-color-background);\n",
       "  position: relative;\n",
       "}\n",
       "\n",
       "#sk-container-id-1 div.sk-parallel-item {\n",
       "  display: flex;\n",
       "  flex-direction: column;\n",
       "}\n",
       "\n",
       "#sk-container-id-1 div.sk-parallel-item:first-child::after {\n",
       "  align-self: flex-end;\n",
       "  width: 50%;\n",
       "}\n",
       "\n",
       "#sk-container-id-1 div.sk-parallel-item:last-child::after {\n",
       "  align-self: flex-start;\n",
       "  width: 50%;\n",
       "}\n",
       "\n",
       "#sk-container-id-1 div.sk-parallel-item:only-child::after {\n",
       "  width: 0;\n",
       "}\n",
       "\n",
       "/* Serial-specific style estimator block */\n",
       "\n",
       "#sk-container-id-1 div.sk-serial {\n",
       "  display: flex;\n",
       "  flex-direction: column;\n",
       "  align-items: center;\n",
       "  background-color: var(--sklearn-color-background);\n",
       "  padding-right: 1em;\n",
       "  padding-left: 1em;\n",
       "}\n",
       "\n",
       "\n",
       "/* Toggleable style: style used for estimator/Pipeline/ColumnTransformer box that is\n",
       "clickable and can be expanded/collapsed.\n",
       "- Pipeline and ColumnTransformer use this feature and define the default style\n",
       "- Estimators will overwrite some part of the style using the `sk-estimator` class\n",
       "*/\n",
       "\n",
       "/* Pipeline and ColumnTransformer style (default) */\n",
       "\n",
       "#sk-container-id-1 div.sk-toggleable {\n",
       "  /* Default theme specific background. It is overwritten whether we have a\n",
       "  specific estimator or a Pipeline/ColumnTransformer */\n",
       "  background-color: var(--sklearn-color-background);\n",
       "}\n",
       "\n",
       "/* Toggleable label */\n",
       "#sk-container-id-1 label.sk-toggleable__label {\n",
       "  cursor: pointer;\n",
       "  display: block;\n",
       "  width: 100%;\n",
       "  margin-bottom: 0;\n",
       "  padding: 0.5em;\n",
       "  box-sizing: border-box;\n",
       "  text-align: center;\n",
       "}\n",
       "\n",
       "#sk-container-id-1 label.sk-toggleable__label-arrow:before {\n",
       "  /* Arrow on the left of the label */\n",
       "  content: \"▸\";\n",
       "  float: left;\n",
       "  margin-right: 0.25em;\n",
       "  color: var(--sklearn-color-icon);\n",
       "}\n",
       "\n",
       "#sk-container-id-1 label.sk-toggleable__label-arrow:hover:before {\n",
       "  color: var(--sklearn-color-text);\n",
       "}\n",
       "\n",
       "/* Toggleable content - dropdown */\n",
       "\n",
       "#sk-container-id-1 div.sk-toggleable__content {\n",
       "  max-height: 0;\n",
       "  max-width: 0;\n",
       "  overflow: hidden;\n",
       "  text-align: left;\n",
       "  /* unfitted */\n",
       "  background-color: var(--sklearn-color-unfitted-level-0);\n",
       "}\n",
       "\n",
       "#sk-container-id-1 div.sk-toggleable__content.fitted {\n",
       "  /* fitted */\n",
       "  background-color: var(--sklearn-color-fitted-level-0);\n",
       "}\n",
       "\n",
       "#sk-container-id-1 div.sk-toggleable__content pre {\n",
       "  margin: 0.2em;\n",
       "  border-radius: 0.25em;\n",
       "  color: var(--sklearn-color-text);\n",
       "  /* unfitted */\n",
       "  background-color: var(--sklearn-color-unfitted-level-0);\n",
       "}\n",
       "\n",
       "#sk-container-id-1 div.sk-toggleable__content.fitted pre {\n",
       "  /* unfitted */\n",
       "  background-color: var(--sklearn-color-fitted-level-0);\n",
       "}\n",
       "\n",
       "#sk-container-id-1 input.sk-toggleable__control:checked~div.sk-toggleable__content {\n",
       "  /* Expand drop-down */\n",
       "  max-height: 200px;\n",
       "  max-width: 100%;\n",
       "  overflow: auto;\n",
       "}\n",
       "\n",
       "#sk-container-id-1 input.sk-toggleable__control:checked~label.sk-toggleable__label-arrow:before {\n",
       "  content: \"▾\";\n",
       "}\n",
       "\n",
       "/* Pipeline/ColumnTransformer-specific style */\n",
       "\n",
       "#sk-container-id-1 div.sk-label input.sk-toggleable__control:checked~label.sk-toggleable__label {\n",
       "  color: var(--sklearn-color-text);\n",
       "  background-color: var(--sklearn-color-unfitted-level-2);\n",
       "}\n",
       "\n",
       "#sk-container-id-1 div.sk-label.fitted input.sk-toggleable__control:checked~label.sk-toggleable__label {\n",
       "  background-color: var(--sklearn-color-fitted-level-2);\n",
       "}\n",
       "\n",
       "/* Estimator-specific style */\n",
       "\n",
       "/* Colorize estimator box */\n",
       "#sk-container-id-1 div.sk-estimator input.sk-toggleable__control:checked~label.sk-toggleable__label {\n",
       "  /* unfitted */\n",
       "  background-color: var(--sklearn-color-unfitted-level-2);\n",
       "}\n",
       "\n",
       "#sk-container-id-1 div.sk-estimator.fitted input.sk-toggleable__control:checked~label.sk-toggleable__label {\n",
       "  /* fitted */\n",
       "  background-color: var(--sklearn-color-fitted-level-2);\n",
       "}\n",
       "\n",
       "#sk-container-id-1 div.sk-label label.sk-toggleable__label,\n",
       "#sk-container-id-1 div.sk-label label {\n",
       "  /* The background is the default theme color */\n",
       "  color: var(--sklearn-color-text-on-default-background);\n",
       "}\n",
       "\n",
       "/* On hover, darken the color of the background */\n",
       "#sk-container-id-1 div.sk-label:hover label.sk-toggleable__label {\n",
       "  color: var(--sklearn-color-text);\n",
       "  background-color: var(--sklearn-color-unfitted-level-2);\n",
       "}\n",
       "\n",
       "/* Label box, darken color on hover, fitted */\n",
       "#sk-container-id-1 div.sk-label.fitted:hover label.sk-toggleable__label.fitted {\n",
       "  color: var(--sklearn-color-text);\n",
       "  background-color: var(--sklearn-color-fitted-level-2);\n",
       "}\n",
       "\n",
       "/* Estimator label */\n",
       "\n",
       "#sk-container-id-1 div.sk-label label {\n",
       "  font-family: monospace;\n",
       "  font-weight: bold;\n",
       "  display: inline-block;\n",
       "  line-height: 1.2em;\n",
       "}\n",
       "\n",
       "#sk-container-id-1 div.sk-label-container {\n",
       "  text-align: center;\n",
       "}\n",
       "\n",
       "/* Estimator-specific */\n",
       "#sk-container-id-1 div.sk-estimator {\n",
       "  font-family: monospace;\n",
       "  border: 1px dotted var(--sklearn-color-border-box);\n",
       "  border-radius: 0.25em;\n",
       "  box-sizing: border-box;\n",
       "  margin-bottom: 0.5em;\n",
       "  /* unfitted */\n",
       "  background-color: var(--sklearn-color-unfitted-level-0);\n",
       "}\n",
       "\n",
       "#sk-container-id-1 div.sk-estimator.fitted {\n",
       "  /* fitted */\n",
       "  background-color: var(--sklearn-color-fitted-level-0);\n",
       "}\n",
       "\n",
       "/* on hover */\n",
       "#sk-container-id-1 div.sk-estimator:hover {\n",
       "  /* unfitted */\n",
       "  background-color: var(--sklearn-color-unfitted-level-2);\n",
       "}\n",
       "\n",
       "#sk-container-id-1 div.sk-estimator.fitted:hover {\n",
       "  /* fitted */\n",
       "  background-color: var(--sklearn-color-fitted-level-2);\n",
       "}\n",
       "\n",
       "/* Specification for estimator info (e.g. \"i\" and \"?\") */\n",
       "\n",
       "/* Common style for \"i\" and \"?\" */\n",
       "\n",
       ".sk-estimator-doc-link,\n",
       "a:link.sk-estimator-doc-link,\n",
       "a:visited.sk-estimator-doc-link {\n",
       "  float: right;\n",
       "  font-size: smaller;\n",
       "  line-height: 1em;\n",
       "  font-family: monospace;\n",
       "  background-color: var(--sklearn-color-background);\n",
       "  border-radius: 1em;\n",
       "  height: 1em;\n",
       "  width: 1em;\n",
       "  text-decoration: none !important;\n",
       "  margin-left: 1ex;\n",
       "  /* unfitted */\n",
       "  border: var(--sklearn-color-unfitted-level-1) 1pt solid;\n",
       "  color: var(--sklearn-color-unfitted-level-1);\n",
       "}\n",
       "\n",
       ".sk-estimator-doc-link.fitted,\n",
       "a:link.sk-estimator-doc-link.fitted,\n",
       "a:visited.sk-estimator-doc-link.fitted {\n",
       "  /* fitted */\n",
       "  border: var(--sklearn-color-fitted-level-1) 1pt solid;\n",
       "  color: var(--sklearn-color-fitted-level-1);\n",
       "}\n",
       "\n",
       "/* On hover */\n",
       "div.sk-estimator:hover .sk-estimator-doc-link:hover,\n",
       ".sk-estimator-doc-link:hover,\n",
       "div.sk-label-container:hover .sk-estimator-doc-link:hover,\n",
       ".sk-estimator-doc-link:hover {\n",
       "  /* unfitted */\n",
       "  background-color: var(--sklearn-color-unfitted-level-3);\n",
       "  color: var(--sklearn-color-background);\n",
       "  text-decoration: none;\n",
       "}\n",
       "\n",
       "div.sk-estimator.fitted:hover .sk-estimator-doc-link.fitted:hover,\n",
       ".sk-estimator-doc-link.fitted:hover,\n",
       "div.sk-label-container:hover .sk-estimator-doc-link.fitted:hover,\n",
       ".sk-estimator-doc-link.fitted:hover {\n",
       "  /* fitted */\n",
       "  background-color: var(--sklearn-color-fitted-level-3);\n",
       "  color: var(--sklearn-color-background);\n",
       "  text-decoration: none;\n",
       "}\n",
       "\n",
       "/* Span, style for the box shown on hovering the info icon */\n",
       ".sk-estimator-doc-link span {\n",
       "  display: none;\n",
       "  z-index: 9999;\n",
       "  position: relative;\n",
       "  font-weight: normal;\n",
       "  right: .2ex;\n",
       "  padding: .5ex;\n",
       "  margin: .5ex;\n",
       "  width: min-content;\n",
       "  min-width: 20ex;\n",
       "  max-width: 50ex;\n",
       "  color: var(--sklearn-color-text);\n",
       "  box-shadow: 2pt 2pt 4pt #999;\n",
       "  /* unfitted */\n",
       "  background: var(--sklearn-color-unfitted-level-0);\n",
       "  border: .5pt solid var(--sklearn-color-unfitted-level-3);\n",
       "}\n",
       "\n",
       ".sk-estimator-doc-link.fitted span {\n",
       "  /* fitted */\n",
       "  background: var(--sklearn-color-fitted-level-0);\n",
       "  border: var(--sklearn-color-fitted-level-3);\n",
       "}\n",
       "\n",
       ".sk-estimator-doc-link:hover span {\n",
       "  display: block;\n",
       "}\n",
       "\n",
       "/* \"?\"-specific style due to the `<a>` HTML tag */\n",
       "\n",
       "#sk-container-id-1 a.estimator_doc_link {\n",
       "  float: right;\n",
       "  font-size: 1rem;\n",
       "  line-height: 1em;\n",
       "  font-family: monospace;\n",
       "  background-color: var(--sklearn-color-background);\n",
       "  border-radius: 1rem;\n",
       "  height: 1rem;\n",
       "  width: 1rem;\n",
       "  text-decoration: none;\n",
       "  /* unfitted */\n",
       "  color: var(--sklearn-color-unfitted-level-1);\n",
       "  border: var(--sklearn-color-unfitted-level-1) 1pt solid;\n",
       "}\n",
       "\n",
       "#sk-container-id-1 a.estimator_doc_link.fitted {\n",
       "  /* fitted */\n",
       "  border: var(--sklearn-color-fitted-level-1) 1pt solid;\n",
       "  color: var(--sklearn-color-fitted-level-1);\n",
       "}\n",
       "\n",
       "/* On hover */\n",
       "#sk-container-id-1 a.estimator_doc_link:hover {\n",
       "  /* unfitted */\n",
       "  background-color: var(--sklearn-color-unfitted-level-3);\n",
       "  color: var(--sklearn-color-background);\n",
       "  text-decoration: none;\n",
       "}\n",
       "\n",
       "#sk-container-id-1 a.estimator_doc_link.fitted:hover {\n",
       "  /* fitted */\n",
       "  background-color: var(--sklearn-color-fitted-level-3);\n",
       "}\n",
       "</style><div id=\"sk-container-id-1\" class=\"sk-top-container\"><div class=\"sk-text-repr-fallback\"><pre>BayesSearchCV(cv=StratifiedKFold(n_splits=5, random_state=None, shuffle=False),\n",
       "              estimator=ExtraTreesClassifier(), n_iter=16, n_jobs=-1,\n",
       "              search_spaces={&#x27;bootstrap&#x27;: [True, False],\n",
       "                             &#x27;criterion&#x27;: [&#x27;gini&#x27;, &#x27;entropy&#x27;],\n",
       "                             &#x27;max_features&#x27;: (1, 3),\n",
       "                             &#x27;min_samples_leaf&#x27;: (1, 20),\n",
       "                             &#x27;min_samples_split&#x27;: (2, 20),\n",
       "                             &#x27;n_estimators&#x27;: (10, 20, 30, 40, 100, 120, 1000)})</pre><b>In a Jupyter environment, please rerun this cell to show the HTML representation or trust the notebook. <br />On GitHub, the HTML representation is unable to render, please try loading this page with nbviewer.org.</b></div><div class=\"sk-container\" hidden><div class=\"sk-item sk-dashed-wrapped\"><div class=\"sk-label-container\"><div class=\"sk-label fitted sk-toggleable\"><input class=\"sk-toggleable__control sk-hidden--visually\" id=\"sk-estimator-id-1\" type=\"checkbox\" ><label for=\"sk-estimator-id-1\" class=\"sk-toggleable__label fitted sk-toggleable__label-arrow fitted\">&nbsp;BayesSearchCV<span class=\"sk-estimator-doc-link fitted\">i<span>Fitted</span></span></label><div class=\"sk-toggleable__content fitted\"><pre>BayesSearchCV(cv=StratifiedKFold(n_splits=5, random_state=None, shuffle=False),\n",
       "              estimator=ExtraTreesClassifier(), n_iter=16, n_jobs=-1,\n",
       "              search_spaces={&#x27;bootstrap&#x27;: [True, False],\n",
       "                             &#x27;criterion&#x27;: [&#x27;gini&#x27;, &#x27;entropy&#x27;],\n",
       "                             &#x27;max_features&#x27;: (1, 3),\n",
       "                             &#x27;min_samples_leaf&#x27;: (1, 20),\n",
       "                             &#x27;min_samples_split&#x27;: (2, 20),\n",
       "                             &#x27;n_estimators&#x27;: (10, 20, 30, 40, 100, 120, 1000)})</pre></div> </div></div><div class=\"sk-parallel\"><div class=\"sk-parallel-item\"><div class=\"sk-item\"><div class=\"sk-label-container\"><div class=\"sk-label fitted sk-toggleable\"><input class=\"sk-toggleable__control sk-hidden--visually\" id=\"sk-estimator-id-2\" type=\"checkbox\" ><label for=\"sk-estimator-id-2\" class=\"sk-toggleable__label fitted sk-toggleable__label-arrow fitted\">best_estimator_: ExtraTreesClassifier</label><div class=\"sk-toggleable__content fitted\"><pre>ExtraTreesClassifier(max_features=1, min_samples_leaf=16, min_samples_split=19,\n",
       "                     n_estimators=20)</pre></div> </div></div><div class=\"sk-serial\"><div class=\"sk-item\"><div class=\"sk-estimator fitted sk-toggleable\"><input class=\"sk-toggleable__control sk-hidden--visually\" id=\"sk-estimator-id-3\" type=\"checkbox\" ><label for=\"sk-estimator-id-3\" class=\"sk-toggleable__label fitted sk-toggleable__label-arrow fitted\">&nbsp;ExtraTreesClassifier<a class=\"sk-estimator-doc-link fitted\" rel=\"noreferrer\" target=\"_blank\" href=\"https://scikit-learn.org/1.5/modules/generated/sklearn.ensemble.ExtraTreesClassifier.html\">?<span>Documentation for ExtraTreesClassifier</span></a></label><div class=\"sk-toggleable__content fitted\"><pre>ExtraTreesClassifier(max_features=1, min_samples_leaf=16, min_samples_split=19,\n",
       "                     n_estimators=20)</pre></div> </div></div></div></div></div></div></div></div></div>"
      ]
     },
     "execution_count": 6,
     "metadata": {},
     "output_type": "execute_result"
    }
   ],
   "execution_count": 6
  },
  {
   "metadata": {},
   "cell_type": "markdown",
   "source": "# Print the best hyperparameters found by Bayesian optimization",
   "id": "3ea66c336911b7a4"
  },
  {
   "metadata": {
    "ExecuteTime": {
     "end_time": "2024-10-25T10:36:42.672509Z",
     "start_time": "2024-10-25T10:36:42.660385Z"
    }
   },
   "cell_type": "code",
   "source": "print(f\"Best hyperparameters for Extra Trees: {opt_extra_trees.best_params_}\")",
   "id": "1c715c8b1337ae53",
   "outputs": [
    {
     "name": "stdout",
     "output_type": "stream",
     "text": [
      "Best hyperparameters for Extra Trees: OrderedDict([('bootstrap', False), ('criterion', 'gini'), ('max_features', 1), ('min_samples_leaf', 16), ('min_samples_split', 19), ('n_estimators', 20)])\n"
     ]
    }
   ],
   "execution_count": 7
  },
  {
   "metadata": {},
   "cell_type": "markdown",
   "source": "# Evaluate the Extra Trees model\n",
   "id": "a442cfc3c6aec176"
  },
  {
   "metadata": {
    "ExecuteTime": {
     "end_time": "2024-10-25T10:36:42.766279Z",
     "start_time": "2024-10-25T10:36:42.676611Z"
    }
   },
   "cell_type": "code",
   "source": [
    "X_train, X_test, y_train, y_test = train_test_split(X, y, test_size=0.2, random_state=42)\n",
    "opt_extra_trees.best_estimator_.fit(X_train, y_train)\n",
    "y_test_pred = opt_extra_trees.best_estimator_.predict(X_test)\n",
    "y_test_prob = opt_extra_trees.best_estimator_.predict_proba(X_test)"
   ],
   "id": "b86c3c6503a6fcbc",
   "outputs": [],
   "execution_count": 8
  },
  {
   "metadata": {},
   "cell_type": "markdown",
   "source": "# Calculate AUC and accuracy\n",
   "id": "854571d80fe6edf2"
  },
  {
   "metadata": {
    "ExecuteTime": {
     "end_time": "2024-10-25T10:36:42.782325Z",
     "start_time": "2024-10-25T10:36:42.768281Z"
    }
   },
   "cell_type": "code",
   "source": [
    "final_auc = roc_auc_score(y_test, y_test_prob, multi_class='ovr')\n",
    "final_acc = accuracy_score(y_test, y_test_pred)\n",
    "\n",
    "print(f\"Final Evaluation on Test Set for Extra Trees Model:\\nAUC: {final_auc:.4f}, Accuracy: {final_acc:.4f}\")\n"
   ],
   "id": "59586396a92b89a3",
   "outputs": [
    {
     "name": "stdout",
     "output_type": "stream",
     "text": [
      "Final Evaluation on Test Set for Extra Trees Model:\n",
      "AUC: 0.6091, Accuracy: 0.4352\n"
     ]
    }
   ],
   "execution_count": 9
  },
  {
   "metadata": {},
   "cell_type": "markdown",
   "source": "# Save results to a CSV file\n",
   "id": "88f23c470ef74a3c"
  },
  {
   "metadata": {
    "ExecuteTime": {
     "end_time": "2024-10-25T10:36:42.798450Z",
     "start_time": "2024-10-25T10:36:42.783326Z"
    }
   },
   "cell_type": "code",
   "source": [
    "results_df = pd.DataFrame({\n",
    "    'True Label': y_test,\n",
    "    'Predicted Label': y_test_pred,\n",
    "    'Probability': y_test_prob.max(axis=1)\n",
    "})\n",
    "results_df.to_csv('extra_trees_model_results.csv', index=False)\n"
   ],
   "id": "d436addda1cbebac",
   "outputs": [],
   "execution_count": 10
  },
  {
   "metadata": {},
   "cell_type": "markdown",
   "source": "# Save the best Extra Trees model to a file\n",
   "id": "5ed1d01217233bfa"
  },
  {
   "metadata": {
    "ExecuteTime": {
     "end_time": "2024-10-25T10:36:42.846047Z",
     "start_time": "2024-10-25T10:36:42.802883Z"
    }
   },
   "cell_type": "code",
   "source": "joblib.dump(opt_extra_trees.best_estimator_, 'extra_trees_model.pkl')\n",
   "id": "6b4799cdf57d6155",
   "outputs": [
    {
     "data": {
      "text/plain": [
       "['extra_trees_model.pkl']"
      ]
     },
     "execution_count": 11,
     "metadata": {},
     "output_type": "execute_result"
    }
   ],
   "execution_count": 11
  },
  {
   "metadata": {},
   "cell_type": "markdown",
   "source": "# Plot the extra trees using graphviz\n",
   "id": "c7a64b3c639ea14c"
  },
  {
   "metadata": {
    "ExecuteTime": {
     "end_time": "2024-10-25T10:36:43.282505Z",
     "start_time": "2024-10-25T10:36:42.849089Z"
    }
   },
   "cell_type": "code",
   "source": [
    "\n",
    "\n",
    "\n",
    "# Function to export and visualize a tree from the Extra Trees model\n",
    "def visualize_tree(estimator, feature_names, tree_index):\n",
    "\n",
    "    # Export the tree to DOT format\n",
    "    dot_data = export_graphviz(\n",
    "        estimator.estimators_[tree_index],\n",
    "        out_file=None,\n",
    "        feature_names=feature_names,\n",
    "        filled=True,\n",
    "        rounded=True,\n",
    "        special_characters=True\n",
    "    )\n",
    "    # Render the tree using Graphviz\n",
    "    graph = graphviz.Source(dot_data)\n",
    "    return graph\n",
    "\n",
    "# Visualize the first tree in the Extra Trees model\n",
    "graph = visualize_tree(opt_extra_trees.best_estimator_, significant_features, 0)\n",
    "display(graph)  # Display the tree visualization inline"
   ],
   "id": "fc18d543d40c852a",
   "outputs": [
    {
     "data": {
      "image/svg+xml": "<?xml version=\"1.0\" encoding=\"UTF-8\" standalone=\"no\"?>\n<!DOCTYPE svg PUBLIC \"-//W3C//DTD SVG 1.1//EN\"\n \"http://www.w3.org/Graphics/SVG/1.1/DTD/svg11.dtd\">\n<!-- Generated by graphviz version 12.1.2 (20240928.0832)\n -->\n<!-- Title: Tree Pages: 1 -->\n<svg width=\"3367pt\" height=\"812pt\"\n viewBox=\"0.00 0.00 3366.50 812.25\" xmlns=\"http://www.w3.org/2000/svg\" xmlns:xlink=\"http://www.w3.org/1999/xlink\">\n<g id=\"graph0\" class=\"graph\" transform=\"scale(1 1) rotate(0) translate(4 808.25)\">\n<title>Tree</title>\n<polygon fill=\"white\" stroke=\"none\" points=\"-4,4 -4,-808.25 3362.5,-808.25 3362.5,4 -4,4\"/>\n<!-- 0 -->\n<g id=\"node1\" class=\"node\">\n<title>0</title>\n<path fill=\"#caf8ef\" stroke=\"black\" d=\"M2094.62,-804.25C2094.62,-804.25 1904.62,-804.25 1904.62,-804.25 1898.62,-804.25 1892.62,-798.25 1892.62,-792.25 1892.62,-792.25 1892.62,-745.25 1892.62,-745.25 1892.62,-739.25 1898.62,-733.25 1904.62,-733.25 1904.62,-733.25 2094.62,-733.25 2094.62,-733.25 2100.62,-733.25 2106.62,-739.25 2106.62,-745.25 2106.62,-745.25 2106.62,-792.25 2106.62,-792.25 2106.62,-798.25 2100.62,-804.25 2094.62,-804.25\"/>\n<text text-anchor=\"start\" x=\"1922\" y=\"-786.95\" font-family=\"Helvetica,sans-Serif\" font-size=\"14.00\">Workload_Binned ≤ 3.275</text>\n<text text-anchor=\"start\" x=\"1964.38\" y=\"-771.2\" font-family=\"Helvetica,sans-Serif\" font-size=\"14.00\">gini = 0.739</text>\n<text text-anchor=\"start\" x=\"1951.25\" y=\"-755.45\" font-family=\"Helvetica,sans-Serif\" font-size=\"14.00\">samples = 2405</text>\n<text text-anchor=\"start\" x=\"1900.62\" y=\"-739.7\" font-family=\"Helvetica,sans-Serif\" font-size=\"14.00\">value = [214, 465, 986, 408, 332]</text>\n</g>\n<!-- 1 -->\n<g id=\"node2\" class=\"node\">\n<title>1</title>\n<path fill=\"#bbf6eb\" stroke=\"black\" d=\"M1893.25,-697.25C1893.25,-697.25 1704,-697.25 1704,-697.25 1698,-697.25 1692,-691.25 1692,-685.25 1692,-685.25 1692,-638.25 1692,-638.25 1692,-632.25 1698,-626.25 1704,-626.25 1704,-626.25 1893.25,-626.25 1893.25,-626.25 1899.25,-626.25 1905.25,-632.25 1905.25,-638.25 1905.25,-638.25 1905.25,-685.25 1905.25,-685.25 1905.25,-691.25 1899.25,-697.25 1893.25,-697.25\"/>\n<text text-anchor=\"start\" x=\"1714.25\" y=\"-679.95\" font-family=\"Helvetica,sans-Serif\" font-size=\"14.00\">SleepHours_Binned ≤ 8.556</text>\n<text text-anchor=\"start\" x=\"1763.38\" y=\"-664.2\" font-family=\"Helvetica,sans-Serif\" font-size=\"14.00\">gini = 0.697</text>\n<text text-anchor=\"start\" x=\"1750.25\" y=\"-648.45\" font-family=\"Helvetica,sans-Serif\" font-size=\"14.00\">samples = 1462</text>\n<text text-anchor=\"start\" x=\"1700\" y=\"-632.7\" font-family=\"Helvetica,sans-Serif\" font-size=\"14.00\">value = [130, 235, 692, 289, 116]</text>\n</g>\n<!-- 0&#45;&gt;1 -->\n<g id=\"edge1\" class=\"edge\">\n<title>0&#45;&gt;1</title>\n<path fill=\"none\" stroke=\"black\" d=\"M1932.69,-732.79C1914.4,-723.23 1894.43,-712.8 1875.62,-702.97\"/>\n<polygon fill=\"black\" stroke=\"black\" points=\"1877.43,-699.97 1866.95,-698.44 1874.19,-706.17 1877.43,-699.97\"/>\n<text text-anchor=\"middle\" x=\"1873.09\" y=\"-716.17\" font-family=\"Helvetica,sans-Serif\" font-size=\"14.00\">True</text>\n</g>\n<!-- 30 -->\n<g id=\"node31\" class=\"node\">\n<title>30</title>\n<path fill=\"#edfdfa\" stroke=\"black\" d=\"M2325.62,-697.25C2325.62,-697.25 2087.62,-697.25 2087.62,-697.25 2081.62,-697.25 2075.62,-691.25 2075.62,-685.25 2075.62,-685.25 2075.62,-638.25 2075.62,-638.25 2075.62,-632.25 2081.62,-626.25 2087.62,-626.25 2087.62,-626.25 2325.62,-626.25 2325.62,-626.25 2331.62,-626.25 2337.62,-632.25 2337.62,-638.25 2337.62,-638.25 2337.62,-685.25 2337.62,-685.25 2337.62,-691.25 2331.62,-697.25 2325.62,-697.25\"/>\n<text text-anchor=\"start\" x=\"2129\" y=\"-679.95\" font-family=\"Helvetica,sans-Serif\" font-size=\"14.00\">Workload_Binned ≤ 4.747</text>\n<text text-anchor=\"start\" x=\"2171.38\" y=\"-664.2\" font-family=\"Helvetica,sans-Serif\" font-size=\"14.00\">gini = 0.767</text>\n<text text-anchor=\"start\" x=\"2162\" y=\"-648.45\" font-family=\"Helvetica,sans-Serif\" font-size=\"14.00\">samples = 943</text>\n<text text-anchor=\"start\" x=\"2083.62\" y=\"-632.7\" font-family=\"Helvetica,sans-Serif\" font-size=\"14.00\">value = [84.0, 230.0, 294.0, 119.0, 216.0]</text>\n</g>\n<!-- 0&#45;&gt;30 -->\n<g id=\"edge30\" class=\"edge\">\n<title>0&#45;&gt;30</title>\n<path fill=\"none\" stroke=\"black\" d=\"M2068.55,-732.79C2087.48,-723.18 2108.15,-712.7 2127.6,-702.83\"/>\n<polygon fill=\"black\" stroke=\"black\" points=\"2128.96,-706.07 2136.3,-698.42 2125.79,-699.83 2128.96,-706.07\"/>\n<text text-anchor=\"middle\" x=\"2129.88\" y=\"-716.08\" font-family=\"Helvetica,sans-Serif\" font-size=\"14.00\">False</text>\n</g>\n<!-- 2 -->\n<g id=\"node3\" class=\"node\">\n<title>2</title>\n<path fill=\"#b9f6ea\" stroke=\"black\" d=\"M1655.38,-590.25C1655.38,-590.25 1409.88,-590.25 1409.88,-590.25 1403.88,-590.25 1397.88,-584.25 1397.88,-578.25 1397.88,-578.25 1397.88,-531.25 1397.88,-531.25 1397.88,-525.25 1403.88,-519.25 1409.88,-519.25 1409.88,-519.25 1655.38,-519.25 1655.38,-519.25 1661.38,-519.25 1667.38,-525.25 1667.38,-531.25 1667.38,-531.25 1667.38,-578.25 1667.38,-578.25 1667.38,-584.25 1661.38,-590.25 1655.38,-590.25\"/>\n<text text-anchor=\"start\" x=\"1455\" y=\"-572.95\" font-family=\"Helvetica,sans-Serif\" font-size=\"14.00\">Workload_Binned ≤ 1.619</text>\n<text text-anchor=\"start\" x=\"1497.38\" y=\"-557.2\" font-family=\"Helvetica,sans-Serif\" font-size=\"14.00\">gini = 0.696</text>\n<text text-anchor=\"start\" x=\"1484.25\" y=\"-541.45\" font-family=\"Helvetica,sans-Serif\" font-size=\"14.00\">samples = 1423</text>\n<text text-anchor=\"start\" x=\"1405.88\" y=\"-525.7\" font-family=\"Helvetica,sans-Serif\" font-size=\"14.00\">value = [127.0, 234.0, 678.0, 269.0, 115.0]</text>\n</g>\n<!-- 1&#45;&gt;2 -->\n<g id=\"edge2\" class=\"edge\">\n<title>1&#45;&gt;2</title>\n<path fill=\"none\" stroke=\"black\" d=\"M1710.05,-625.79C1684.95,-615.88 1657.45,-605.02 1631.77,-594.89\"/>\n<polygon fill=\"black\" stroke=\"black\" points=\"1633.26,-591.71 1622.67,-591.3 1630.69,-598.22 1633.26,-591.71\"/>\n</g>\n<!-- 29 -->\n<g id=\"node30\" class=\"node\">\n<title>29</title>\n<path fill=\"#d0cff9\" stroke=\"black\" d=\"M1863.62,-582.38C1863.62,-582.38 1733.62,-582.38 1733.62,-582.38 1727.62,-582.38 1721.62,-576.38 1721.62,-570.38 1721.62,-570.38 1721.62,-539.12 1721.62,-539.12 1721.62,-533.12 1727.62,-527.12 1733.62,-527.12 1733.62,-527.12 1863.62,-527.12 1863.62,-527.12 1869.62,-527.12 1875.62,-533.12 1875.62,-539.12 1875.62,-539.12 1875.62,-570.38 1875.62,-570.38 1875.62,-576.38 1869.62,-582.38 1863.62,-582.38\"/>\n<text text-anchor=\"start\" x=\"1763.38\" y=\"-565.08\" font-family=\"Helvetica,sans-Serif\" font-size=\"14.00\">gini = 0.601</text>\n<text text-anchor=\"start\" x=\"1757.75\" y=\"-549.33\" font-family=\"Helvetica,sans-Serif\" font-size=\"14.00\">samples = 39</text>\n<text text-anchor=\"start\" x=\"1729.62\" y=\"-533.58\" font-family=\"Helvetica,sans-Serif\" font-size=\"14.00\">value = [3, 1, 14, 20, 1]</text>\n</g>\n<!-- 1&#45;&gt;29 -->\n<g id=\"edge29\" class=\"edge\">\n<title>1&#45;&gt;29</title>\n<path fill=\"none\" stroke=\"black\" d=\"M1798.62,-625.79C1798.62,-615.56 1798.62,-604.32 1798.62,-593.91\"/>\n<polygon fill=\"black\" stroke=\"black\" points=\"1802.13,-594.1 1798.63,-584.1 1795.13,-594.1 1802.13,-594.1\"/>\n</g>\n<!-- 3 -->\n<g id=\"node4\" class=\"node\">\n<title>3</title>\n<path fill=\"#bdf6ec\" stroke=\"black\" d=\"M915,-483.25C915,-483.25 748.25,-483.25 748.25,-483.25 742.25,-483.25 736.25,-477.25 736.25,-471.25 736.25,-471.25 736.25,-424.25 736.25,-424.25 736.25,-418.25 742.25,-412.25 748.25,-412.25 748.25,-412.25 915,-412.25 915,-412.25 921,-412.25 927,-418.25 927,-424.25 927,-424.25 927,-471.25 927,-471.25 927,-477.25 921,-483.25 915,-483.25\"/>\n<text text-anchor=\"start\" x=\"747.25\" y=\"-465.95\" font-family=\"Helvetica,sans-Serif\" font-size=\"14.00\">SleepHours_Binned ≤ 6.838</text>\n<text text-anchor=\"start\" x=\"796.38\" y=\"-450.2\" font-family=\"Helvetica,sans-Serif\" font-size=\"14.00\">gini = 0.683</text>\n<text text-anchor=\"start\" x=\"787\" y=\"-434.45\" font-family=\"Helvetica,sans-Serif\" font-size=\"14.00\">samples = 495</text>\n<text text-anchor=\"start\" x=\"744.25\" y=\"-418.7\" font-family=\"Helvetica,sans-Serif\" font-size=\"14.00\">value = [49, 72, 239, 112, 23]</text>\n</g>\n<!-- 2&#45;&gt;3 -->\n<g id=\"edge3\" class=\"edge\">\n<title>2&#45;&gt;3</title>\n<path fill=\"none\" stroke=\"black\" d=\"M1397.47,-533.5C1263.68,-513.47 1061.57,-483.19 938.58,-464.77\"/>\n<polygon fill=\"black\" stroke=\"black\" points=\"939.2,-461.32 928.79,-463.3 938.16,-468.25 939.2,-461.32\"/>\n</g>\n<!-- 16 -->\n<g id=\"node17\" class=\"node\">\n<title>16</title>\n<path fill=\"#b7f6ea\" stroke=\"black\" d=\"M1620.12,-483.25C1620.12,-483.25 1445.12,-483.25 1445.12,-483.25 1439.12,-483.25 1433.12,-477.25 1433.12,-471.25 1433.12,-471.25 1433.12,-424.25 1433.12,-424.25 1433.12,-418.25 1439.12,-412.25 1445.12,-412.25 1445.12,-412.25 1620.12,-412.25 1620.12,-412.25 1626.12,-412.25 1632.12,-418.25 1632.12,-424.25 1632.12,-424.25 1632.12,-471.25 1632.12,-471.25 1632.12,-477.25 1626.12,-483.25 1620.12,-483.25\"/>\n<text text-anchor=\"start\" x=\"1455\" y=\"-465.95\" font-family=\"Helvetica,sans-Serif\" font-size=\"14.00\">Workload_Binned ≤ 2.793</text>\n<text text-anchor=\"start\" x=\"1504.88\" y=\"-450.2\" font-family=\"Helvetica,sans-Serif\" font-size=\"14.00\">gini = 0.7</text>\n<text text-anchor=\"start\" x=\"1488\" y=\"-434.45\" font-family=\"Helvetica,sans-Serif\" font-size=\"14.00\">samples = 928</text>\n<text text-anchor=\"start\" x=\"1441.12\" y=\"-418.7\" font-family=\"Helvetica,sans-Serif\" font-size=\"14.00\">value = [78, 162, 439, 157, 92]</text>\n</g>\n<!-- 2&#45;&gt;16 -->\n<g id=\"edge16\" class=\"edge\">\n<title>2&#45;&gt;16</title>\n<path fill=\"none\" stroke=\"black\" d=\"M1532.62,-518.79C1532.62,-511.17 1532.62,-503 1532.62,-495.02\"/>\n<polygon fill=\"black\" stroke=\"black\" points=\"1536.13,-495.07 1532.63,-485.07 1529.13,-495.07 1536.13,-495.07\"/>\n</g>\n<!-- 4 -->\n<g id=\"node5\" class=\"node\">\n<title>4</title>\n<path fill=\"#bef6ec\" stroke=\"black\" d=\"M685.25,-368.38C685.25,-368.38 526,-368.38 526,-368.38 520,-368.38 514,-362.38 514,-356.38 514,-356.38 514,-325.12 514,-325.12 514,-319.12 520,-313.12 526,-313.12 526,-313.12 685.25,-313.12 685.25,-313.12 691.25,-313.12 697.25,-319.12 697.25,-325.12 697.25,-325.12 697.25,-356.38 697.25,-356.38 697.25,-362.38 691.25,-368.38 685.25,-368.38\"/>\n<text text-anchor=\"start\" x=\"570.38\" y=\"-351.07\" font-family=\"Helvetica,sans-Serif\" font-size=\"14.00\">gini = 0.701</text>\n<text text-anchor=\"start\" x=\"561\" y=\"-335.32\" font-family=\"Helvetica,sans-Serif\" font-size=\"14.00\">samples = 252</text>\n<text text-anchor=\"start\" x=\"522\" y=\"-319.57\" font-family=\"Helvetica,sans-Serif\" font-size=\"14.00\">value = [30, 40, 117, 51, 14]</text>\n</g>\n<!-- 3&#45;&gt;4 -->\n<g id=\"edge4\" class=\"edge\">\n<title>3&#45;&gt;4</title>\n<path fill=\"none\" stroke=\"black\" d=\"M756.37,-411.79C729.73,-399.41 699.93,-385.56 673.9,-373.47\"/>\n<polygon fill=\"black\" stroke=\"black\" points=\"675.67,-370.43 665.13,-369.39 672.72,-376.78 675.67,-370.43\"/>\n</g>\n<!-- 5 -->\n<g id=\"node6\" class=\"node\">\n<title>5</title>\n<path fill=\"#bdf6ec\" stroke=\"black\" d=\"M936,-376.25C936,-376.25 727.25,-376.25 727.25,-376.25 721.25,-376.25 715.25,-370.25 715.25,-364.25 715.25,-364.25 715.25,-317.25 715.25,-317.25 715.25,-311.25 721.25,-305.25 727.25,-305.25 727.25,-305.25 936,-305.25 936,-305.25 942,-305.25 948,-311.25 948,-317.25 948,-317.25 948,-364.25 948,-364.25 948,-370.25 942,-376.25 936,-376.25\"/>\n<text text-anchor=\"start\" x=\"747.25\" y=\"-358.95\" font-family=\"Helvetica,sans-Serif\" font-size=\"14.00\">SleepHours_Binned ≤ 7.226</text>\n<text text-anchor=\"start\" x=\"800.12\" y=\"-343.2\" font-family=\"Helvetica,sans-Serif\" font-size=\"14.00\">gini = 0.66</text>\n<text text-anchor=\"start\" x=\"787\" y=\"-327.45\" font-family=\"Helvetica,sans-Serif\" font-size=\"14.00\">samples = 243</text>\n<text text-anchor=\"start\" x=\"723.25\" y=\"-311.7\" font-family=\"Helvetica,sans-Serif\" font-size=\"14.00\">value = [19.0, 32.0, 122.0, 61.0, 9.0]</text>\n</g>\n<!-- 3&#45;&gt;5 -->\n<g id=\"edge5\" class=\"edge\">\n<title>3&#45;&gt;5</title>\n<path fill=\"none\" stroke=\"black\" d=\"M831.62,-411.79C831.62,-404.17 831.62,-396 831.62,-388.02\"/>\n<polygon fill=\"black\" stroke=\"black\" points=\"835.13,-388.07 831.63,-378.07 828.13,-388.07 835.13,-388.07\"/>\n</g>\n<!-- 6 -->\n<g id=\"node7\" class=\"node\">\n<title>6</title>\n<path fill=\"#b4f5e9\" stroke=\"black\" d=\"M582.12,-269.25C582.12,-269.25 437.12,-269.25 437.12,-269.25 431.12,-269.25 425.12,-263.25 425.12,-257.25 425.12,-257.25 425.12,-210.25 425.12,-210.25 425.12,-204.25 431.12,-198.25 437.12,-198.25 437.12,-198.25 582.12,-198.25 582.12,-198.25 588.12,-198.25 594.12,-204.25 594.12,-210.25 594.12,-210.25 594.12,-257.25 594.12,-257.25 594.12,-263.25 588.12,-269.25 582.12,-269.25\"/>\n<text text-anchor=\"start\" x=\"441.38\" y=\"-251.95\" font-family=\"Helvetica,sans-Serif\" font-size=\"14.00\">Stress_Binned ≤ 2.434</text>\n<text text-anchor=\"start\" x=\"474.38\" y=\"-236.2\" font-family=\"Helvetica,sans-Serif\" font-size=\"14.00\">gini = 0.662</text>\n<text text-anchor=\"start\" x=\"465\" y=\"-220.45\" font-family=\"Helvetica,sans-Serif\" font-size=\"14.00\">samples = 179</text>\n<text text-anchor=\"start\" x=\"433.12\" y=\"-204.7\" font-family=\"Helvetica,sans-Serif\" font-size=\"14.00\">value = [17, 22, 92, 39, 9]</text>\n</g>\n<!-- 5&#45;&gt;6 -->\n<g id=\"edge6\" class=\"edge\">\n<title>5&#45;&gt;6</title>\n<path fill=\"none\" stroke=\"black\" d=\"M724.4,-304.79C685.94,-292.24 642.85,-278.19 605.42,-265.99\"/>\n<polygon fill=\"black\" stroke=\"black\" points=\"606.54,-262.67 595.95,-262.9 604.37,-269.33 606.54,-262.67\"/>\n</g>\n<!-- 13 -->\n<g id=\"node14\" class=\"node\">\n<title>13</title>\n<path fill=\"#d9faf4\" stroke=\"black\" d=\"M900.38,-269.25C900.38,-269.25 762.88,-269.25 762.88,-269.25 756.88,-269.25 750.88,-263.25 750.88,-257.25 750.88,-257.25 750.88,-210.25 750.88,-210.25 750.88,-204.25 756.88,-198.25 762.88,-198.25 762.88,-198.25 900.38,-198.25 900.38,-198.25 906.38,-198.25 912.38,-204.25 912.38,-210.25 912.38,-210.25 912.38,-257.25 912.38,-257.25 912.38,-263.25 906.38,-269.25 900.38,-269.25\"/>\n<text text-anchor=\"start\" x=\"763.38\" y=\"-251.95\" font-family=\"Helvetica,sans-Serif\" font-size=\"14.00\">Stress_Binned ≤ 2.516</text>\n<text text-anchor=\"start\" x=\"796.38\" y=\"-236.2\" font-family=\"Helvetica,sans-Serif\" font-size=\"14.00\">gini = 0.637</text>\n<text text-anchor=\"start\" x=\"790.75\" y=\"-220.45\" font-family=\"Helvetica,sans-Serif\" font-size=\"14.00\">samples = 64</text>\n<text text-anchor=\"start\" x=\"758.88\" y=\"-204.7\" font-family=\"Helvetica,sans-Serif\" font-size=\"14.00\">value = [2, 10, 30, 22, 0]</text>\n</g>\n<!-- 5&#45;&gt;13 -->\n<g id=\"edge13\" class=\"edge\">\n<title>5&#45;&gt;13</title>\n<path fill=\"none\" stroke=\"black\" d=\"M831.62,-304.79C831.62,-297.17 831.62,-289 831.62,-281.02\"/>\n<polygon fill=\"black\" stroke=\"black\" points=\"835.13,-281.07 831.63,-271.07 828.13,-281.07 835.13,-281.07\"/>\n</g>\n<!-- 7 -->\n<g id=\"node8\" class=\"node\">\n<title>7</title>\n<path fill=\"#aff4e7\" stroke=\"black\" d=\"M378.12,-162.25C378.12,-162.25 233.12,-162.25 233.12,-162.25 227.12,-162.25 221.12,-156.25 221.12,-150.25 221.12,-150.25 221.12,-103.25 221.12,-103.25 221.12,-97.25 227.12,-91.25 233.12,-91.25 233.12,-91.25 378.12,-91.25 378.12,-91.25 384.12,-91.25 390.12,-97.25 390.12,-103.25 390.12,-103.25 390.12,-150.25 390.12,-150.25 390.12,-156.25 384.12,-162.25 378.12,-162.25\"/>\n<text text-anchor=\"start\" x=\"237.38\" y=\"-144.95\" font-family=\"Helvetica,sans-Serif\" font-size=\"14.00\">Stress_Binned ≤ 1.844</text>\n<text text-anchor=\"start\" x=\"270.38\" y=\"-129.2\" font-family=\"Helvetica,sans-Serif\" font-size=\"14.00\">gini = 0.628</text>\n<text text-anchor=\"start\" x=\"261\" y=\"-113.45\" font-family=\"Helvetica,sans-Serif\" font-size=\"14.00\">samples = 138</text>\n<text text-anchor=\"start\" x=\"229.12\" y=\"-97.7\" font-family=\"Helvetica,sans-Serif\" font-size=\"14.00\">value = [12, 17, 75, 32, 2]</text>\n</g>\n<!-- 6&#45;&gt;7 -->\n<g id=\"edge7\" class=\"edge\">\n<title>6&#45;&gt;7</title>\n<path fill=\"none\" stroke=\"black\" d=\"M441.7,-197.79C423.13,-188.23 402.86,-177.8 383.77,-167.97\"/>\n<polygon fill=\"black\" stroke=\"black\" points=\"385.44,-164.9 374.95,-163.43 382.24,-171.12 385.44,-164.9\"/>\n</g>\n<!-- 10 -->\n<g id=\"node11\" class=\"node\">\n<title>10</title>\n<path fill=\"#c5f7ee\" stroke=\"black\" d=\"M599,-162.25C599,-162.25 420.25,-162.25 420.25,-162.25 414.25,-162.25 408.25,-156.25 408.25,-150.25 408.25,-150.25 408.25,-103.25 408.25,-103.25 408.25,-97.25 414.25,-91.25 420.25,-91.25 420.25,-91.25 599,-91.25 599,-91.25 605,-91.25 611,-97.25 611,-103.25 611,-103.25 611,-150.25 611,-150.25 611,-156.25 605,-162.25 599,-162.25\"/>\n<text text-anchor=\"start\" x=\"441.38\" y=\"-144.95\" font-family=\"Helvetica,sans-Serif\" font-size=\"14.00\">Stress_Binned ≤ 3.906</text>\n<text text-anchor=\"start\" x=\"478.12\" y=\"-129.2\" font-family=\"Helvetica,sans-Serif\" font-size=\"14.00\">gini = 0.74</text>\n<text text-anchor=\"start\" x=\"468.75\" y=\"-113.45\" font-family=\"Helvetica,sans-Serif\" font-size=\"14.00\">samples = 41</text>\n<text text-anchor=\"start\" x=\"416.25\" y=\"-97.7\" font-family=\"Helvetica,sans-Serif\" font-size=\"14.00\">value = [5.0, 5.0, 17.0, 7.0, 7.0]</text>\n</g>\n<!-- 6&#45;&gt;10 -->\n<g id=\"edge10\" class=\"edge\">\n<title>6&#45;&gt;10</title>\n<path fill=\"none\" stroke=\"black\" d=\"M509.62,-197.79C509.62,-190.17 509.62,-182 509.62,-174.02\"/>\n<polygon fill=\"black\" stroke=\"black\" points=\"513.13,-174.07 509.63,-164.07 506.13,-174.07 513.13,-174.07\"/>\n</g>\n<!-- 8 -->\n<g id=\"node9\" class=\"node\">\n<title>8</title>\n<path fill=\"#b3f5e9\" stroke=\"black\" d=\"M213.25,-55.25C213.25,-55.25 12,-55.25 12,-55.25 6,-55.25 0,-49.25 0,-43.25 0,-43.25 0,-12 0,-12 0,-6 6,0 12,0 12,0 213.25,0 213.25,0 219.25,0 225.25,-6 225.25,-12 225.25,-12 225.25,-43.25 225.25,-43.25 225.25,-49.25 219.25,-55.25 213.25,-55.25\"/>\n<text text-anchor=\"start\" x=\"77.38\" y=\"-37.95\" font-family=\"Helvetica,sans-Serif\" font-size=\"14.00\">gini = 0.628</text>\n<text text-anchor=\"start\" x=\"68\" y=\"-22.2\" font-family=\"Helvetica,sans-Serif\" font-size=\"14.00\">samples = 108</text>\n<text text-anchor=\"start\" x=\"8\" y=\"-6.45\" font-family=\"Helvetica,sans-Serif\" font-size=\"14.00\">value = [12.0, 10.0, 58.0, 27.0, 1.0]</text>\n</g>\n<!-- 7&#45;&gt;8 -->\n<g id=\"edge8\" class=\"edge\">\n<title>7&#45;&gt;8</title>\n<path fill=\"none\" stroke=\"black\" d=\"M236.22,-90.82C216.71,-81 195.59,-70.38 176.42,-60.73\"/>\n<polygon fill=\"black\" stroke=\"black\" points=\"178.15,-57.68 167.65,-56.31 175.01,-63.94 178.15,-57.68\"/>\n</g>\n<!-- 9 -->\n<g id=\"node10\" class=\"node\">\n<title>9</title>\n<path fill=\"#a9f4e6\" stroke=\"black\" d=\"M377.88,-55.25C377.88,-55.25 255.38,-55.25 255.38,-55.25 249.38,-55.25 243.38,-49.25 243.38,-43.25 243.38,-43.25 243.38,-12 243.38,-12 243.38,-6 249.38,0 255.38,0 255.38,0 377.88,0 377.88,0 383.88,0 389.88,-6 389.88,-12 389.88,-12 389.88,-43.25 389.88,-43.25 389.88,-49.25 383.88,-55.25 377.88,-55.25\"/>\n<text text-anchor=\"start\" x=\"281.38\" y=\"-37.95\" font-family=\"Helvetica,sans-Serif\" font-size=\"14.00\">gini = 0.596</text>\n<text text-anchor=\"start\" x=\"275.75\" y=\"-22.2\" font-family=\"Helvetica,sans-Serif\" font-size=\"14.00\">samples = 30</text>\n<text text-anchor=\"start\" x=\"251.38\" y=\"-6.45\" font-family=\"Helvetica,sans-Serif\" font-size=\"14.00\">value = [0, 7, 17, 5, 1]</text>\n</g>\n<!-- 7&#45;&gt;9 -->\n<g id=\"edge9\" class=\"edge\">\n<title>7&#45;&gt;9</title>\n<path fill=\"none\" stroke=\"black\" d=\"M309.57,-90.96C310.45,-83.13 311.4,-74.79 312.3,-66.83\"/>\n<polygon fill=\"black\" stroke=\"black\" points=\"315.76,-67.39 313.4,-57.06 308.8,-66.6 315.76,-67.39\"/>\n</g>\n<!-- 11 -->\n<g id=\"node12\" class=\"node\">\n<title>11</title>\n<path fill=\"#e1fbf6\" stroke=\"black\" d=\"M556.12,-55.25C556.12,-55.25 441.12,-55.25 441.12,-55.25 435.12,-55.25 429.12,-49.25 429.12,-43.25 429.12,-43.25 429.12,-12 429.12,-12 429.12,-6 435.12,0 441.12,0 441.12,0 556.12,0 556.12,0 562.12,0 568.12,-6 568.12,-12 568.12,-12 568.12,-43.25 568.12,-43.25 568.12,-49.25 562.12,-55.25 556.12,-55.25\"/>\n<text text-anchor=\"start\" x=\"463.38\" y=\"-37.95\" font-family=\"Helvetica,sans-Serif\" font-size=\"14.00\">gini = 0.754</text>\n<text text-anchor=\"start\" x=\"457.75\" y=\"-22.2\" font-family=\"Helvetica,sans-Serif\" font-size=\"14.00\">samples = 17</text>\n<text text-anchor=\"start\" x=\"437.12\" y=\"-6.45\" font-family=\"Helvetica,sans-Serif\" font-size=\"14.00\">value = [3, 3, 6, 4, 1]</text>\n</g>\n<!-- 10&#45;&gt;11 -->\n<g id=\"edge11\" class=\"edge\">\n<title>10&#45;&gt;11</title>\n<path fill=\"none\" stroke=\"black\" d=\"M505.68,-90.96C504.8,-83.13 503.85,-74.79 502.95,-66.83\"/>\n<polygon fill=\"black\" stroke=\"black\" points=\"506.45,-66.6 501.85,-57.06 499.49,-67.39 506.45,-66.6\"/>\n</g>\n<!-- 12 -->\n<g id=\"node13\" class=\"node\">\n<title>12</title>\n<path fill=\"#c8f8ef\" stroke=\"black\" d=\"M719.5,-55.25C719.5,-55.25 597.75,-55.25 597.75,-55.25 591.75,-55.25 585.75,-49.25 585.75,-43.25 585.75,-43.25 585.75,-12 585.75,-12 585.75,-6 591.75,0 597.75,0 597.75,0 719.5,0 719.5,0 725.5,0 731.5,-6 731.5,-12 731.5,-12 731.5,-43.25 731.5,-43.25 731.5,-49.25 725.5,-55.25 719.5,-55.25\"/>\n<text text-anchor=\"start\" x=\"623.38\" y=\"-37.95\" font-family=\"Helvetica,sans-Serif\" font-size=\"14.00\">gini = 0.698</text>\n<text text-anchor=\"start\" x=\"617.75\" y=\"-22.2\" font-family=\"Helvetica,sans-Serif\" font-size=\"14.00\">samples = 24</text>\n<text text-anchor=\"start\" x=\"593.75\" y=\"-6.45\" font-family=\"Helvetica,sans-Serif\" font-size=\"14.00\">value = [2, 2, 11, 3, 6]</text>\n</g>\n<!-- 10&#45;&gt;12 -->\n<g id=\"edge12\" class=\"edge\">\n<title>10&#45;&gt;12</title>\n<path fill=\"none\" stroke=\"black\" d=\"M563,-90.96C577.66,-81.4 593.5,-71.07 608,-61.62\"/>\n<polygon fill=\"black\" stroke=\"black\" points=\"609.58,-64.78 616.04,-56.38 605.75,-58.91 609.58,-64.78\"/>\n</g>\n<!-- 14 -->\n<g id=\"node15\" class=\"node\">\n<title>14</title>\n<path fill=\"#d6faf3\" stroke=\"black\" d=\"M827.75,-154.38C827.75,-154.38 641.5,-154.38 641.5,-154.38 635.5,-154.38 629.5,-148.38 629.5,-142.38 629.5,-142.38 629.5,-111.12 629.5,-111.12 629.5,-105.12 635.5,-99.12 641.5,-99.12 641.5,-99.12 827.75,-99.12 827.75,-99.12 833.75,-99.12 839.75,-105.12 839.75,-111.12 839.75,-111.12 839.75,-142.38 839.75,-142.38 839.75,-148.38 833.75,-154.38 827.75,-154.38\"/>\n<text text-anchor=\"start\" x=\"703.12\" y=\"-137.07\" font-family=\"Helvetica,sans-Serif\" font-size=\"14.00\">gini = 0.63</text>\n<text text-anchor=\"start\" x=\"693.75\" y=\"-121.33\" font-family=\"Helvetica,sans-Serif\" font-size=\"14.00\">samples = 44</text>\n<text text-anchor=\"start\" x=\"637.5\" y=\"-105.58\" font-family=\"Helvetica,sans-Serif\" font-size=\"14.00\">value = [1.0, 7.0, 21.0, 15.0, 0.0]</text>\n</g>\n<!-- 13&#45;&gt;14 -->\n<g id=\"edge14\" class=\"edge\">\n<title>13&#45;&gt;14</title>\n<path fill=\"none\" stroke=\"black\" d=\"M799.33,-197.79C788.96,-186.57 777.48,-174.14 767.1,-162.91\"/>\n<polygon fill=\"black\" stroke=\"black\" points=\"769.8,-160.67 760.45,-155.7 764.66,-165.42 769.8,-160.67\"/>\n</g>\n<!-- 15 -->\n<g id=\"node16\" class=\"node\">\n<title>15</title>\n<path fill=\"#e1fbf6\" stroke=\"black\" d=\"M985.12,-154.38C985.12,-154.38 870.12,-154.38 870.12,-154.38 864.12,-154.38 858.12,-148.38 858.12,-142.38 858.12,-142.38 858.12,-111.12 858.12,-111.12 858.12,-105.12 864.12,-99.12 870.12,-99.12 870.12,-99.12 985.12,-99.12 985.12,-99.12 991.12,-99.12 997.12,-105.12 997.12,-111.12 997.12,-111.12 997.12,-142.38 997.12,-142.38 997.12,-148.38 991.12,-154.38 985.12,-154.38\"/>\n<text text-anchor=\"start\" x=\"896.12\" y=\"-137.07\" font-family=\"Helvetica,sans-Serif\" font-size=\"14.00\">gini = 0.65</text>\n<text text-anchor=\"start\" x=\"886.75\" y=\"-121.33\" font-family=\"Helvetica,sans-Serif\" font-size=\"14.00\">samples = 20</text>\n<text text-anchor=\"start\" x=\"866.12\" y=\"-105.58\" font-family=\"Helvetica,sans-Serif\" font-size=\"14.00\">value = [1, 3, 9, 7, 0]</text>\n</g>\n<!-- 13&#45;&gt;15 -->\n<g id=\"edge15\" class=\"edge\">\n<title>13&#45;&gt;15</title>\n<path fill=\"none\" stroke=\"black\" d=\"M863.59,-197.79C873.85,-186.57 885.21,-174.14 895.48,-162.91\"/>\n<polygon fill=\"black\" stroke=\"black\" points=\"897.9,-165.45 902.06,-155.71 892.73,-160.73 897.9,-165.45\"/>\n</g>\n<!-- 17 -->\n<g id=\"node18\" class=\"node\">\n<title>17</title>\n<path fill=\"#aff4e7\" stroke=\"black\" d=\"M1524.75,-376.25C1524.75,-376.25 1308.5,-376.25 1308.5,-376.25 1302.5,-376.25 1296.5,-370.25 1296.5,-364.25 1296.5,-364.25 1296.5,-317.25 1296.5,-317.25 1296.5,-311.25 1302.5,-305.25 1308.5,-305.25 1308.5,-305.25 1524.75,-305.25 1524.75,-305.25 1530.75,-305.25 1536.75,-311.25 1536.75,-317.25 1536.75,-317.25 1536.75,-364.25 1536.75,-364.25 1536.75,-370.25 1530.75,-376.25 1524.75,-376.25\"/>\n<text text-anchor=\"start\" x=\"1339.75\" y=\"-358.95\" font-family=\"Helvetica,sans-Serif\" font-size=\"14.00\">SleepHours_Binned ≤ 6.2</text>\n<text text-anchor=\"start\" x=\"1381.38\" y=\"-343.2\" font-family=\"Helvetica,sans-Serif\" font-size=\"14.00\">gini = 0.661</text>\n<text text-anchor=\"start\" x=\"1372\" y=\"-327.45\" font-family=\"Helvetica,sans-Serif\" font-size=\"14.00\">samples = 462</text>\n<text text-anchor=\"start\" x=\"1304.5\" y=\"-311.7\" font-family=\"Helvetica,sans-Serif\" font-size=\"14.00\">value = [32.0, 72.0, 240.0, 88.0, 30.0]</text>\n</g>\n<!-- 16&#45;&gt;17 -->\n<g id=\"edge17\" class=\"edge\">\n<title>16&#45;&gt;17</title>\n<path fill=\"none\" stroke=\"black\" d=\"M1494,-411.79C1484.22,-402.93 1473.6,-393.32 1463.46,-384.14\"/>\n<polygon fill=\"black\" stroke=\"black\" points=\"1465.97,-381.69 1456.2,-377.58 1461.27,-386.88 1465.97,-381.69\"/>\n</g>\n<!-- 26 -->\n<g id=\"node27\" class=\"node\">\n<title>26</title>\n<path fill=\"#c6f7ee\" stroke=\"black\" d=\"M1728,-376.25C1728,-376.25 1567.25,-376.25 1567.25,-376.25 1561.25,-376.25 1555.25,-370.25 1555.25,-364.25 1555.25,-364.25 1555.25,-317.25 1555.25,-317.25 1555.25,-311.25 1561.25,-305.25 1567.25,-305.25 1567.25,-305.25 1728,-305.25 1728,-305.25 1734,-305.25 1740,-311.25 1740,-317.25 1740,-317.25 1740,-364.25 1740,-364.25 1740,-370.25 1734,-376.25 1728,-376.25\"/>\n<text text-anchor=\"start\" x=\"1563.25\" y=\"-358.95\" font-family=\"Helvetica,sans-Serif\" font-size=\"14.00\">SleepHours_Binned ≤ 7.414</text>\n<text text-anchor=\"start\" x=\"1612.38\" y=\"-343.2\" font-family=\"Helvetica,sans-Serif\" font-size=\"14.00\">gini = 0.731</text>\n<text text-anchor=\"start\" x=\"1603\" y=\"-327.45\" font-family=\"Helvetica,sans-Serif\" font-size=\"14.00\">samples = 466</text>\n<text text-anchor=\"start\" x=\"1563.62\" y=\"-311.7\" font-family=\"Helvetica,sans-Serif\" font-size=\"14.00\">value = [46, 90, 199, 69, 62]</text>\n</g>\n<!-- 16&#45;&gt;26 -->\n<g id=\"edge26\" class=\"edge\">\n<title>16&#45;&gt;26</title>\n<path fill=\"none\" stroke=\"black\" d=\"M1570.92,-411.79C1580.62,-402.93 1591.14,-393.32 1601.19,-384.14\"/>\n<polygon fill=\"black\" stroke=\"black\" points=\"1603.36,-386.91 1608.38,-377.58 1598.64,-381.74 1603.36,-386.91\"/>\n</g>\n<!-- 18 -->\n<g id=\"node19\" class=\"node\">\n<title>18</title>\n<path fill=\"#c5f7ee\" stroke=\"black\" d=\"M1322.88,-269.25C1322.88,-269.25 1170.38,-269.25 1170.38,-269.25 1164.38,-269.25 1158.38,-263.25 1158.38,-257.25 1158.38,-257.25 1158.38,-210.25 1158.38,-210.25 1158.38,-204.25 1164.38,-198.25 1170.38,-198.25 1170.38,-198.25 1322.88,-198.25 1322.88,-198.25 1328.88,-198.25 1334.88,-204.25 1334.88,-210.25 1334.88,-210.25 1334.88,-257.25 1334.88,-257.25 1334.88,-263.25 1328.88,-269.25 1322.88,-269.25\"/>\n<text text-anchor=\"start\" x=\"1178.75\" y=\"-251.95\" font-family=\"Helvetica,sans-Serif\" font-size=\"14.00\">Stress_Binned ≤ 3.511</text>\n<text text-anchor=\"start\" x=\"1215.12\" y=\"-236.2\" font-family=\"Helvetica,sans-Serif\" font-size=\"14.00\">gini = 0.71</text>\n<text text-anchor=\"start\" x=\"1202\" y=\"-220.45\" font-family=\"Helvetica,sans-Serif\" font-size=\"14.00\">samples = 223</text>\n<text text-anchor=\"start\" x=\"1166.38\" y=\"-204.7\" font-family=\"Helvetica,sans-Serif\" font-size=\"14.00\">value = [13, 46, 98, 46, 20]</text>\n</g>\n<!-- 17&#45;&gt;18 -->\n<g id=\"edge18\" class=\"edge\">\n<title>17&#45;&gt;18</title>\n<path fill=\"none\" stroke=\"black\" d=\"M1360.02,-304.79C1344.9,-295.45 1328.43,-285.28 1312.84,-275.65\"/>\n<polygon fill=\"black\" stroke=\"black\" points=\"1314.91,-272.81 1304.56,-270.54 1311.23,-278.77 1314.91,-272.81\"/>\n</g>\n<!-- 21 -->\n<g id=\"node22\" class=\"node\">\n<title>21</title>\n<path fill=\"#9af2e2\" stroke=\"black\" d=\"M1526,-269.25C1526,-269.25 1365.25,-269.25 1365.25,-269.25 1359.25,-269.25 1353.25,-263.25 1353.25,-257.25 1353.25,-257.25 1353.25,-210.25 1353.25,-210.25 1353.25,-204.25 1359.25,-198.25 1365.25,-198.25 1365.25,-198.25 1526,-198.25 1526,-198.25 1532,-198.25 1538,-204.25 1538,-210.25 1538,-210.25 1538,-257.25 1538,-257.25 1538,-263.25 1532,-269.25 1526,-269.25\"/>\n<text text-anchor=\"start\" x=\"1361.25\" y=\"-251.95\" font-family=\"Helvetica,sans-Serif\" font-size=\"14.00\">SleepHours_Binned ≤ 7.904</text>\n<text text-anchor=\"start\" x=\"1410.38\" y=\"-236.2\" font-family=\"Helvetica,sans-Serif\" font-size=\"14.00\">gini = 0.596</text>\n<text text-anchor=\"start\" x=\"1401\" y=\"-220.45\" font-family=\"Helvetica,sans-Serif\" font-size=\"14.00\">samples = 239</text>\n<text text-anchor=\"start\" x=\"1361.62\" y=\"-204.7\" font-family=\"Helvetica,sans-Serif\" font-size=\"14.00\">value = [19, 26, 142, 42, 10]</text>\n</g>\n<!-- 17&#45;&gt;21 -->\n<g id=\"edge21\" class=\"edge\">\n<title>17&#45;&gt;21</title>\n<path fill=\"none\" stroke=\"black\" d=\"M1426.28,-304.79C1428.43,-296.99 1430.75,-288.62 1433,-280.47\"/>\n<polygon fill=\"black\" stroke=\"black\" points=\"1436.32,-281.59 1435.61,-271.02 1429.57,-279.73 1436.32,-281.59\"/>\n</g>\n<!-- 19 -->\n<g id=\"node20\" class=\"node\">\n<title>19</title>\n<path fill=\"#c5f7ee\" stroke=\"black\" d=\"M1178.5,-154.38C1178.5,-154.38 1026.75,-154.38 1026.75,-154.38 1020.75,-154.38 1014.75,-148.38 1014.75,-142.38 1014.75,-142.38 1014.75,-111.12 1014.75,-111.12 1014.75,-105.12 1020.75,-99.12 1026.75,-99.12 1026.75,-99.12 1178.5,-99.12 1178.5,-99.12 1184.5,-99.12 1190.5,-105.12 1190.5,-111.12 1190.5,-111.12 1190.5,-142.38 1190.5,-142.38 1190.5,-148.38 1184.5,-154.38 1178.5,-154.38\"/>\n<text text-anchor=\"start\" x=\"1067.38\" y=\"-137.07\" font-family=\"Helvetica,sans-Serif\" font-size=\"14.00\">gini = 0.701</text>\n<text text-anchor=\"start\" x=\"1058\" y=\"-121.33\" font-family=\"Helvetica,sans-Serif\" font-size=\"14.00\">samples = 205</text>\n<text text-anchor=\"start\" x=\"1022.75\" y=\"-105.58\" font-family=\"Helvetica,sans-Serif\" font-size=\"14.00\">value = [11, 41, 92, 45, 16]</text>\n</g>\n<!-- 18&#45;&gt;19 -->\n<g id=\"edge19\" class=\"edge\">\n<title>18&#45;&gt;19</title>\n<path fill=\"none\" stroke=\"black\" d=\"M1198.68,-197.79C1182.53,-186.02 1164.57,-172.92 1148.59,-161.26\"/>\n<polygon fill=\"black\" stroke=\"black\" points=\"1150.8,-158.55 1140.66,-155.48 1146.67,-164.2 1150.8,-158.55\"/>\n</g>\n<!-- 20 -->\n<g id=\"node21\" class=\"node\">\n<title>20</title>\n<path fill=\"#f0fdfb\" stroke=\"black\" d=\"M1335.12,-154.38C1335.12,-154.38 1220.12,-154.38 1220.12,-154.38 1214.12,-154.38 1208.12,-148.38 1208.12,-142.38 1208.12,-142.38 1208.12,-111.12 1208.12,-111.12 1208.12,-105.12 1214.12,-99.12 1220.12,-99.12 1220.12,-99.12 1335.12,-99.12 1335.12,-99.12 1341.12,-99.12 1347.12,-105.12 1347.12,-111.12 1347.12,-111.12 1347.12,-142.38 1347.12,-142.38 1347.12,-148.38 1341.12,-154.38 1335.12,-154.38\"/>\n<text text-anchor=\"start\" x=\"1242.38\" y=\"-137.07\" font-family=\"Helvetica,sans-Serif\" font-size=\"14.00\">gini = 0.747</text>\n<text text-anchor=\"start\" x=\"1236.75\" y=\"-121.33\" font-family=\"Helvetica,sans-Serif\" font-size=\"14.00\">samples = 18</text>\n<text text-anchor=\"start\" x=\"1216.12\" y=\"-105.58\" font-family=\"Helvetica,sans-Serif\" font-size=\"14.00\">value = [2, 5, 6, 1, 4]</text>\n</g>\n<!-- 18&#45;&gt;20 -->\n<g id=\"edge20\" class=\"edge\">\n<title>18&#45;&gt;20</title>\n<path fill=\"none\" stroke=\"black\" d=\"M1256.95,-197.79C1260,-187.45 1263.36,-176.08 1266.46,-165.57\"/>\n<polygon fill=\"black\" stroke=\"black\" points=\"1269.8,-166.62 1269.27,-156.04 1263.08,-164.64 1269.8,-166.62\"/>\n</g>\n<!-- 22 -->\n<g id=\"node23\" class=\"node\">\n<title>22</title>\n<path fill=\"#95f1e0\" stroke=\"black\" d=\"M1514.38,-154.38C1514.38,-154.38 1376.88,-154.38 1376.88,-154.38 1370.88,-154.38 1364.88,-148.38 1364.88,-142.38 1364.88,-142.38 1364.88,-111.12 1364.88,-111.12 1364.88,-105.12 1370.88,-99.12 1376.88,-99.12 1376.88,-99.12 1514.38,-99.12 1514.38,-99.12 1520.38,-99.12 1526.38,-105.12 1526.38,-111.12 1526.38,-111.12 1526.38,-142.38 1526.38,-142.38 1526.38,-148.38 1520.38,-154.38 1514.38,-154.38\"/>\n<text text-anchor=\"start\" x=\"1410.38\" y=\"-137.07\" font-family=\"Helvetica,sans-Serif\" font-size=\"14.00\">gini = 0.586</text>\n<text text-anchor=\"start\" x=\"1401\" y=\"-121.33\" font-family=\"Helvetica,sans-Serif\" font-size=\"14.00\">samples = 162</text>\n<text text-anchor=\"start\" x=\"1372.88\" y=\"-105.58\" font-family=\"Helvetica,sans-Serif\" font-size=\"14.00\">value = [9, 22, 98, 25, 8]</text>\n</g>\n<!-- 21&#45;&gt;22 -->\n<g id=\"edge22\" class=\"edge\">\n<title>21&#45;&gt;22</title>\n<path fill=\"none\" stroke=\"black\" d=\"M1445.62,-197.79C1445.62,-187.56 1445.62,-176.32 1445.62,-165.91\"/>\n<polygon fill=\"black\" stroke=\"black\" points=\"1449.13,-166.1 1445.63,-156.1 1442.13,-166.1 1449.13,-166.1\"/>\n</g>\n<!-- 23 -->\n<g id=\"node24\" class=\"node\">\n<title>23</title>\n<path fill=\"#a6f3e5\" stroke=\"black\" d=\"M1750.5,-162.25C1750.5,-162.25 1556.75,-162.25 1556.75,-162.25 1550.75,-162.25 1544.75,-156.25 1544.75,-150.25 1544.75,-150.25 1544.75,-103.25 1544.75,-103.25 1544.75,-97.25 1550.75,-91.25 1556.75,-91.25 1556.75,-91.25 1750.5,-91.25 1750.5,-91.25 1756.5,-91.25 1762.5,-97.25 1762.5,-103.25 1762.5,-103.25 1762.5,-150.25 1762.5,-150.25 1762.5,-156.25 1756.5,-162.25 1750.5,-162.25\"/>\n<text text-anchor=\"start\" x=\"1585.38\" y=\"-144.95\" font-family=\"Helvetica,sans-Serif\" font-size=\"14.00\">Stress_Binned ≤ 1.209</text>\n<text text-anchor=\"start\" x=\"1618.38\" y=\"-129.2\" font-family=\"Helvetica,sans-Serif\" font-size=\"14.00\">gini = 0.604</text>\n<text text-anchor=\"start\" x=\"1612.75\" y=\"-113.45\" font-family=\"Helvetica,sans-Serif\" font-size=\"14.00\">samples = 77</text>\n<text text-anchor=\"start\" x=\"1552.75\" y=\"-97.7\" font-family=\"Helvetica,sans-Serif\" font-size=\"14.00\">value = [10.0, 4.0, 44.0, 17.0, 2.0]</text>\n</g>\n<!-- 21&#45;&gt;23 -->\n<g id=\"edge23\" class=\"edge\">\n<title>21&#45;&gt;23</title>\n<path fill=\"none\" stroke=\"black\" d=\"M1514.89,-197.79C1533.91,-188.18 1554.68,-177.7 1574.22,-167.83\"/>\n<polygon fill=\"black\" stroke=\"black\" points=\"1575.61,-171.05 1582.96,-163.42 1572.46,-164.8 1575.61,-171.05\"/>\n</g>\n<!-- 24 -->\n<g id=\"node25\" class=\"node\">\n<title>24</title>\n<path fill=\"#b1f5e8\" stroke=\"black\" d=\"M1634.62,-55.25C1634.62,-55.25 1504.62,-55.25 1504.62,-55.25 1498.62,-55.25 1492.62,-49.25 1492.62,-43.25 1492.62,-43.25 1492.62,-12 1492.62,-12 1492.62,-6 1498.62,0 1504.62,0 1504.62,0 1634.62,0 1634.62,0 1640.62,0 1646.62,-6 1646.62,-12 1646.62,-12 1646.62,-43.25 1646.62,-43.25 1646.62,-49.25 1640.62,-55.25 1634.62,-55.25\"/>\n<text text-anchor=\"start\" x=\"1534.38\" y=\"-37.95\" font-family=\"Helvetica,sans-Serif\" font-size=\"14.00\">gini = 0.586</text>\n<text text-anchor=\"start\" x=\"1528.75\" y=\"-22.2\" font-family=\"Helvetica,sans-Serif\" font-size=\"14.00\">samples = 53</text>\n<text text-anchor=\"start\" x=\"1500.62\" y=\"-6.45\" font-family=\"Helvetica,sans-Serif\" font-size=\"14.00\">value = [6, 1, 30, 15, 1]</text>\n</g>\n<!-- 23&#45;&gt;24 -->\n<g id=\"edge24\" class=\"edge\">\n<title>23&#45;&gt;24</title>\n<path fill=\"none\" stroke=\"black\" d=\"M1623.54,-90.96C1615.98,-82.22 1607.86,-72.84 1600.28,-64.07\"/>\n<polygon fill=\"black\" stroke=\"black\" points=\"1603.1,-61.97 1593.91,-56.7 1597.8,-66.55 1603.1,-61.97\"/>\n</g>\n<!-- 25 -->\n<g id=\"node26\" class=\"node\">\n<title>25</title>\n<path fill=\"#9cf2e2\" stroke=\"black\" d=\"M1798.88,-55.25C1798.88,-55.25 1676.38,-55.25 1676.38,-55.25 1670.38,-55.25 1664.38,-49.25 1664.38,-43.25 1664.38,-43.25 1664.38,-12 1664.38,-12 1664.38,-6 1670.38,0 1676.38,0 1676.38,0 1798.88,0 1798.88,0 1804.88,0 1810.88,-6 1810.88,-12 1810.88,-12 1810.88,-43.25 1810.88,-43.25 1810.88,-49.25 1804.88,-55.25 1798.88,-55.25\"/>\n<text text-anchor=\"start\" x=\"1702.38\" y=\"-37.95\" font-family=\"Helvetica,sans-Serif\" font-size=\"14.00\">gini = 0.608</text>\n<text text-anchor=\"start\" x=\"1696.75\" y=\"-22.2\" font-family=\"Helvetica,sans-Serif\" font-size=\"14.00\">samples = 24</text>\n<text text-anchor=\"start\" x=\"1672.38\" y=\"-6.45\" font-family=\"Helvetica,sans-Serif\" font-size=\"14.00\">value = [4, 3, 14, 2, 1]</text>\n</g>\n<!-- 23&#45;&gt;25 -->\n<g id=\"edge25\" class=\"edge\">\n<title>23&#45;&gt;25</title>\n<path fill=\"none\" stroke=\"black\" d=\"M1683.71,-90.96C1691.27,-82.22 1699.39,-72.84 1706.97,-64.07\"/>\n<polygon fill=\"black\" stroke=\"black\" points=\"1709.45,-66.55 1713.34,-56.7 1704.15,-61.97 1709.45,-66.55\"/>\n</g>\n<!-- 27 -->\n<g id=\"node28\" class=\"node\">\n<title>27</title>\n<path fill=\"#c7f8ef\" stroke=\"black\" d=\"M1727.62,-261.38C1727.62,-261.38 1567.62,-261.38 1567.62,-261.38 1561.62,-261.38 1555.62,-255.38 1555.62,-249.38 1555.62,-249.38 1555.62,-218.12 1555.62,-218.12 1555.62,-212.12 1561.62,-206.12 1567.62,-206.12 1567.62,-206.12 1727.62,-206.12 1727.62,-206.12 1733.62,-206.12 1739.62,-212.12 1739.62,-218.12 1739.62,-218.12 1739.62,-249.38 1739.62,-249.38 1739.62,-255.38 1733.62,-261.38 1727.62,-261.38\"/>\n<text text-anchor=\"start\" x=\"1612.38\" y=\"-244.07\" font-family=\"Helvetica,sans-Serif\" font-size=\"14.00\">gini = 0.736</text>\n<text text-anchor=\"start\" x=\"1603\" y=\"-228.32\" font-family=\"Helvetica,sans-Serif\" font-size=\"14.00\">samples = 392</text>\n<text text-anchor=\"start\" x=\"1563.62\" y=\"-212.57\" font-family=\"Helvetica,sans-Serif\" font-size=\"14.00\">value = [41, 75, 164, 51, 61]</text>\n</g>\n<!-- 26&#45;&gt;27 -->\n<g id=\"edge27\" class=\"edge\">\n<title>26&#45;&gt;27</title>\n<path fill=\"none\" stroke=\"black\" d=\"M1647.62,-304.79C1647.62,-294.56 1647.62,-283.32 1647.62,-272.91\"/>\n<polygon fill=\"black\" stroke=\"black\" points=\"1651.13,-273.1 1647.63,-263.1 1644.13,-273.1 1651.13,-273.1\"/>\n</g>\n<!-- 28 -->\n<g id=\"node29\" class=\"node\">\n<title>28</title>\n<path fill=\"#c3f7ed\" stroke=\"black\" d=\"M1907.38,-261.38C1907.38,-261.38 1769.88,-261.38 1769.88,-261.38 1763.88,-261.38 1757.88,-255.38 1757.88,-249.38 1757.88,-249.38 1757.88,-218.12 1757.88,-218.12 1757.88,-212.12 1763.88,-206.12 1769.88,-206.12 1769.88,-206.12 1907.38,-206.12 1907.38,-206.12 1913.38,-206.12 1919.38,-212.12 1919.38,-218.12 1919.38,-218.12 1919.38,-249.38 1919.38,-249.38 1919.38,-255.38 1913.38,-261.38 1907.38,-261.38\"/>\n<text text-anchor=\"start\" x=\"1803.38\" y=\"-244.07\" font-family=\"Helvetica,sans-Serif\" font-size=\"14.00\">gini = 0.671</text>\n<text text-anchor=\"start\" x=\"1797.75\" y=\"-228.32\" font-family=\"Helvetica,sans-Serif\" font-size=\"14.00\">samples = 74</text>\n<text text-anchor=\"start\" x=\"1765.88\" y=\"-212.57\" font-family=\"Helvetica,sans-Serif\" font-size=\"14.00\">value = [5, 15, 35, 18, 1]</text>\n</g>\n<!-- 26&#45;&gt;28 -->\n<g id=\"edge28\" class=\"edge\">\n<title>26&#45;&gt;28</title>\n<path fill=\"none\" stroke=\"black\" d=\"M1711.23,-304.79C1733.24,-292.68 1757.81,-279.18 1779.46,-267.28\"/>\n<polygon fill=\"black\" stroke=\"black\" points=\"1781.09,-270.37 1788.17,-262.49 1777.72,-264.24 1781.09,-270.37\"/>\n</g>\n<!-- 31 -->\n<g id=\"node32\" class=\"node\">\n<title>31</title>\n<path fill=\"#defbf5\" stroke=\"black\" d=\"M2290.38,-590.25C2290.38,-590.25 2122.88,-590.25 2122.88,-590.25 2116.88,-590.25 2110.88,-584.25 2110.88,-578.25 2110.88,-578.25 2110.88,-531.25 2110.88,-531.25 2110.88,-525.25 2116.88,-519.25 2122.88,-519.25 2122.88,-519.25 2290.38,-519.25 2290.38,-519.25 2296.38,-519.25 2302.38,-525.25 2302.38,-531.25 2302.38,-531.25 2302.38,-578.25 2302.38,-578.25 2302.38,-584.25 2296.38,-590.25 2290.38,-590.25\"/>\n<text text-anchor=\"start\" x=\"2138.38\" y=\"-572.95\" font-family=\"Helvetica,sans-Serif\" font-size=\"14.00\">Stress_Binned ≤ 3.752</text>\n<text text-anchor=\"start\" x=\"2171.38\" y=\"-557.2\" font-family=\"Helvetica,sans-Serif\" font-size=\"14.00\">gini = 0.762</text>\n<text text-anchor=\"start\" x=\"2162\" y=\"-541.45\" font-family=\"Helvetica,sans-Serif\" font-size=\"14.00\">samples = 487</text>\n<text text-anchor=\"start\" x=\"2118.88\" y=\"-525.7\" font-family=\"Helvetica,sans-Serif\" font-size=\"14.00\">value = [44, 107, 171, 74, 91]</text>\n</g>\n<!-- 30&#45;&gt;31 -->\n<g id=\"edge31\" class=\"edge\">\n<title>30&#45;&gt;31</title>\n<path fill=\"none\" stroke=\"black\" d=\"M2206.62,-625.79C2206.62,-618.17 2206.62,-610 2206.62,-602.02\"/>\n<polygon fill=\"black\" stroke=\"black\" points=\"2210.13,-602.07 2206.63,-592.07 2203.13,-602.07 2210.13,-602.07\"/>\n</g>\n<!-- 44 -->\n<g id=\"node45\" class=\"node\">\n<title>44</title>\n<path fill=\"#fffeff\" stroke=\"black\" d=\"M2830.25,-590.25C2830.25,-590.25 2599,-590.25 2599,-590.25 2593,-590.25 2587,-584.25 2587,-578.25 2587,-578.25 2587,-531.25 2587,-531.25 2587,-525.25 2593,-519.25 2599,-519.25 2599,-519.25 2830.25,-519.25 2830.25,-519.25 2836.25,-519.25 2842.25,-525.25 2842.25,-531.25 2842.25,-531.25 2842.25,-578.25 2842.25,-578.25 2842.25,-584.25 2836.25,-590.25 2830.25,-590.25\"/>\n<text text-anchor=\"start\" x=\"2646.38\" y=\"-572.95\" font-family=\"Helvetica,sans-Serif\" font-size=\"14.00\">Stress_Binned ≤ 2.283</text>\n<text text-anchor=\"start\" x=\"2679.38\" y=\"-557.2\" font-family=\"Helvetica,sans-Serif\" font-size=\"14.00\">gini = 0.762</text>\n<text text-anchor=\"start\" x=\"2670\" y=\"-541.45\" font-family=\"Helvetica,sans-Serif\" font-size=\"14.00\">samples = 456</text>\n<text text-anchor=\"start\" x=\"2595\" y=\"-525.7\" font-family=\"Helvetica,sans-Serif\" font-size=\"14.00\">value = [40.0, 123.0, 123.0, 45.0, 125.0]</text>\n</g>\n<!-- 30&#45;&gt;44 -->\n<g id=\"edge44\" class=\"edge\">\n<title>30&#45;&gt;44</title>\n<path fill=\"none\" stroke=\"black\" d=\"M2338.11,-633.57C2410.95,-618.52 2501.47,-599.81 2575.5,-584.51\"/>\n<polygon fill=\"black\" stroke=\"black\" points=\"2576.2,-587.94 2585.28,-582.48 2574.78,-581.08 2576.2,-587.94\"/>\n</g>\n<!-- 32 -->\n<g id=\"node33\" class=\"node\">\n<title>32</title>\n<path fill=\"#d7faf3\" stroke=\"black\" d=\"M2155.62,-483.25C2155.62,-483.25 1995.62,-483.25 1995.62,-483.25 1989.62,-483.25 1983.62,-477.25 1983.62,-471.25 1983.62,-471.25 1983.62,-424.25 1983.62,-424.25 1983.62,-418.25 1989.62,-412.25 1995.62,-412.25 1995.62,-412.25 2155.62,-412.25 2155.62,-412.25 2161.62,-412.25 2167.62,-418.25 2167.62,-424.25 2167.62,-424.25 2167.62,-471.25 2167.62,-471.25 2167.62,-477.25 2161.62,-483.25 2155.62,-483.25\"/>\n<text text-anchor=\"start\" x=\"2007.38\" y=\"-465.95\" font-family=\"Helvetica,sans-Serif\" font-size=\"14.00\">Stress_Binned ≤ 1.879</text>\n<text text-anchor=\"start\" x=\"2040.38\" y=\"-450.2\" font-family=\"Helvetica,sans-Serif\" font-size=\"14.00\">gini = 0.759</text>\n<text text-anchor=\"start\" x=\"2031\" y=\"-434.45\" font-family=\"Helvetica,sans-Serif\" font-size=\"14.00\">samples = 450</text>\n<text text-anchor=\"start\" x=\"1991.62\" y=\"-418.7\" font-family=\"Helvetica,sans-Serif\" font-size=\"14.00\">value = [43, 93, 165, 69, 80]</text>\n</g>\n<!-- 31&#45;&gt;32 -->\n<g id=\"edge32\" class=\"edge\">\n<title>31&#45;&gt;32</title>\n<path fill=\"none\" stroke=\"black\" d=\"M2163,-518.79C2151.73,-509.75 2139.49,-499.94 2127.83,-490.59\"/>\n<polygon fill=\"black\" stroke=\"black\" points=\"2130.23,-488.03 2120.24,-484.51 2125.85,-493.49 2130.23,-488.03\"/>\n</g>\n<!-- 41 -->\n<g id=\"node42\" class=\"node\">\n<title>41</title>\n<path fill=\"#f0fce8\" stroke=\"black\" d=\"M2360,-483.25C2360,-483.25 2199.25,-483.25 2199.25,-483.25 2193.25,-483.25 2187.25,-477.25 2187.25,-471.25 2187.25,-471.25 2187.25,-424.25 2187.25,-424.25 2187.25,-418.25 2193.25,-412.25 2199.25,-412.25 2199.25,-412.25 2360,-412.25 2360,-412.25 2366,-412.25 2372,-418.25 2372,-424.25 2372,-424.25 2372,-471.25 2372,-471.25 2372,-477.25 2366,-483.25 2360,-483.25\"/>\n<text text-anchor=\"start\" x=\"2195.25\" y=\"-465.95\" font-family=\"Helvetica,sans-Serif\" font-size=\"14.00\">SleepHours_Binned ≤ 6.336</text>\n<text text-anchor=\"start\" x=\"2244.38\" y=\"-450.2\" font-family=\"Helvetica,sans-Serif\" font-size=\"14.00\">gini = 0.723</text>\n<text text-anchor=\"start\" x=\"2238.75\" y=\"-434.45\" font-family=\"Helvetica,sans-Serif\" font-size=\"14.00\">samples = 37</text>\n<text text-anchor=\"start\" x=\"2211\" y=\"-418.7\" font-family=\"Helvetica,sans-Serif\" font-size=\"14.00\">value = [1, 14, 6, 5, 11]</text>\n</g>\n<!-- 31&#45;&gt;41 -->\n<g id=\"edge41\" class=\"edge\">\n<title>31&#45;&gt;41</title>\n<path fill=\"none\" stroke=\"black\" d=\"M2230.93,-518.79C2236.72,-510.46 2242.97,-501.47 2249,-492.8\"/>\n<polygon fill=\"black\" stroke=\"black\" points=\"2251.72,-495.01 2254.56,-484.8 2245.98,-491.02 2251.72,-495.01\"/>\n</g>\n<!-- 33 -->\n<g id=\"node34\" class=\"node\">\n<title>33</title>\n<path fill=\"#cbf8f0\" stroke=\"black\" d=\"M1929.62,-368.38C1929.62,-368.38 1769.62,-368.38 1769.62,-368.38 1763.62,-368.38 1757.62,-362.38 1757.62,-356.38 1757.62,-356.38 1757.62,-325.12 1757.62,-325.12 1757.62,-319.12 1763.62,-313.12 1769.62,-313.12 1769.62,-313.12 1929.62,-313.12 1929.62,-313.12 1935.62,-313.12 1941.62,-319.12 1941.62,-325.12 1941.62,-325.12 1941.62,-356.38 1941.62,-356.38 1941.62,-362.38 1935.62,-368.38 1929.62,-368.38\"/>\n<text text-anchor=\"start\" x=\"1814.38\" y=\"-351.07\" font-family=\"Helvetica,sans-Serif\" font-size=\"14.00\">gini = 0.729</text>\n<text text-anchor=\"start\" x=\"1805\" y=\"-335.32\" font-family=\"Helvetica,sans-Serif\" font-size=\"14.00\">samples = 301</text>\n<text text-anchor=\"start\" x=\"1765.62\" y=\"-319.57\" font-family=\"Helvetica,sans-Serif\" font-size=\"14.00\">value = [28, 63, 126, 56, 28]</text>\n</g>\n<!-- 32&#45;&gt;33 -->\n<g id=\"edge33\" class=\"edge\">\n<title>32&#45;&gt;33</title>\n<path fill=\"none\" stroke=\"black\" d=\"M2000.37,-411.79C1973.73,-399.41 1943.93,-385.56 1917.9,-373.47\"/>\n<polygon fill=\"black\" stroke=\"black\" points=\"1919.67,-370.43 1909.13,-369.39 1916.72,-376.78 1919.67,-370.43\"/>\n</g>\n<!-- 34 -->\n<g id=\"node35\" class=\"node\">\n<title>34</title>\n<path fill=\"#fce8f8\" stroke=\"black\" d=\"M2180,-376.25C2180,-376.25 1971.25,-376.25 1971.25,-376.25 1965.25,-376.25 1959.25,-370.25 1959.25,-364.25 1959.25,-364.25 1959.25,-317.25 1959.25,-317.25 1959.25,-311.25 1965.25,-305.25 1971.25,-305.25 1971.25,-305.25 2180,-305.25 2180,-305.25 2186,-305.25 2192,-311.25 2192,-317.25 2192,-317.25 2192,-364.25 2192,-364.25 2192,-370.25 2186,-376.25 2180,-376.25\"/>\n<text text-anchor=\"start\" x=\"1991.25\" y=\"-358.95\" font-family=\"Helvetica,sans-Serif\" font-size=\"14.00\">SleepHours_Binned ≤ 5.238</text>\n<text text-anchor=\"start\" x=\"2040.38\" y=\"-343.2\" font-family=\"Helvetica,sans-Serif\" font-size=\"14.00\">gini = 0.751</text>\n<text text-anchor=\"start\" x=\"2031\" y=\"-327.45\" font-family=\"Helvetica,sans-Serif\" font-size=\"14.00\">samples = 149</text>\n<text text-anchor=\"start\" x=\"1967.25\" y=\"-311.7\" font-family=\"Helvetica,sans-Serif\" font-size=\"14.00\">value = [15.0, 30.0, 39.0, 13.0, 52.0]</text>\n</g>\n<!-- 32&#45;&gt;34 -->\n<g id=\"edge34\" class=\"edge\">\n<title>32&#45;&gt;34</title>\n<path fill=\"none\" stroke=\"black\" d=\"M2075.62,-411.79C2075.62,-404.17 2075.62,-396 2075.62,-388.02\"/>\n<polygon fill=\"black\" stroke=\"black\" points=\"2079.13,-388.07 2075.63,-378.07 2072.13,-388.07 2079.13,-388.07\"/>\n</g>\n<!-- 35 -->\n<g id=\"node36\" class=\"node\">\n<title>35</title>\n<path fill=\"#f8c8ee\" stroke=\"black\" d=\"M2104.88,-261.38C2104.88,-261.38 1982.38,-261.38 1982.38,-261.38 1976.38,-261.38 1970.38,-255.38 1970.38,-249.38 1970.38,-249.38 1970.38,-218.12 1970.38,-218.12 1970.38,-212.12 1976.38,-206.12 1982.38,-206.12 1982.38,-206.12 2104.88,-206.12 2104.88,-206.12 2110.88,-206.12 2116.88,-212.12 2116.88,-218.12 2116.88,-218.12 2116.88,-249.38 2116.88,-249.38 2116.88,-255.38 2110.88,-261.38 2104.88,-261.38\"/>\n<text text-anchor=\"start\" x=\"2008.38\" y=\"-244.07\" font-family=\"Helvetica,sans-Serif\" font-size=\"14.00\">gini = 0.715</text>\n<text text-anchor=\"start\" x=\"2002.75\" y=\"-228.32\" font-family=\"Helvetica,sans-Serif\" font-size=\"14.00\">samples = 23</text>\n<text text-anchor=\"start\" x=\"1978.38\" y=\"-212.57\" font-family=\"Helvetica,sans-Serif\" font-size=\"14.00\">value = [1, 5, 4, 3, 10]</text>\n</g>\n<!-- 34&#45;&gt;35 -->\n<g id=\"edge35\" class=\"edge\">\n<title>34&#45;&gt;35</title>\n<path fill=\"none\" stroke=\"black\" d=\"M2064.97,-304.79C2061.82,-294.45 2058.35,-283.08 2055.15,-272.57\"/>\n<polygon fill=\"black\" stroke=\"black\" points=\"2058.51,-271.58 2052.25,-263.04 2051.81,-273.62 2058.51,-271.58\"/>\n</g>\n<!-- 36 -->\n<g id=\"node37\" class=\"node\">\n<title>36</title>\n<path fill=\"#fdf0fa\" stroke=\"black\" d=\"M2299.88,-269.25C2299.88,-269.25 2147.38,-269.25 2147.38,-269.25 2141.38,-269.25 2135.38,-263.25 2135.38,-257.25 2135.38,-257.25 2135.38,-210.25 2135.38,-210.25 2135.38,-204.25 2141.38,-198.25 2147.38,-198.25 2147.38,-198.25 2299.88,-198.25 2299.88,-198.25 2305.88,-198.25 2311.88,-204.25 2311.88,-210.25 2311.88,-210.25 2311.88,-257.25 2311.88,-257.25 2311.88,-263.25 2305.88,-269.25 2299.88,-269.25\"/>\n<text text-anchor=\"start\" x=\"2155.38\" y=\"-251.95\" font-family=\"Helvetica,sans-Serif\" font-size=\"14.00\">Stress_Binned ≤ 2.861</text>\n<text text-anchor=\"start\" x=\"2188.38\" y=\"-236.2\" font-family=\"Helvetica,sans-Serif\" font-size=\"14.00\">gini = 0.754</text>\n<text text-anchor=\"start\" x=\"2179\" y=\"-220.45\" font-family=\"Helvetica,sans-Serif\" font-size=\"14.00\">samples = 126</text>\n<text text-anchor=\"start\" x=\"2143.38\" y=\"-204.7\" font-family=\"Helvetica,sans-Serif\" font-size=\"14.00\">value = [14, 25, 35, 10, 42]</text>\n</g>\n<!-- 34&#45;&gt;36 -->\n<g id=\"edge36\" class=\"edge\">\n<title>34&#45;&gt;36</title>\n<path fill=\"none\" stroke=\"black\" d=\"M2124.91,-304.79C2137.82,-295.63 2151.87,-285.66 2165.21,-276.2\"/>\n<polygon fill=\"black\" stroke=\"black\" points=\"2166.94,-279.26 2173.07,-270.62 2162.89,-273.55 2166.94,-279.26\"/>\n</g>\n<!-- 37 -->\n<g id=\"node38\" class=\"node\">\n<title>37</title>\n<path fill=\"#dcfaf5\" stroke=\"black\" d=\"M2210,-162.25C2210,-162.25 2049.25,-162.25 2049.25,-162.25 2043.25,-162.25 2037.25,-156.25 2037.25,-150.25 2037.25,-150.25 2037.25,-103.25 2037.25,-103.25 2037.25,-97.25 2043.25,-91.25 2049.25,-91.25 2049.25,-91.25 2210,-91.25 2210,-91.25 2216,-91.25 2222,-97.25 2222,-103.25 2222,-103.25 2222,-150.25 2222,-150.25 2222,-156.25 2216,-162.25 2210,-162.25\"/>\n<text text-anchor=\"start\" x=\"2045.25\" y=\"-144.95\" font-family=\"Helvetica,sans-Serif\" font-size=\"14.00\">SleepHours_Binned ≤ 6.952</text>\n<text text-anchor=\"start\" x=\"2094.38\" y=\"-129.2\" font-family=\"Helvetica,sans-Serif\" font-size=\"14.00\">gini = 0.744</text>\n<text text-anchor=\"start\" x=\"2088.75\" y=\"-113.45\" font-family=\"Helvetica,sans-Serif\" font-size=\"14.00\">samples = 60</text>\n<text text-anchor=\"start\" x=\"2060.62\" y=\"-97.7\" font-family=\"Helvetica,sans-Serif\" font-size=\"14.00\">value = [6, 9, 23, 7, 15]</text>\n</g>\n<!-- 36&#45;&gt;37 -->\n<g id=\"edge37\" class=\"edge\">\n<title>36&#45;&gt;37</title>\n<path fill=\"none\" stroke=\"black\" d=\"M2192.32,-197.79C2184.63,-189.2 2176.31,-179.9 2168.32,-170.97\"/>\n<polygon fill=\"black\" stroke=\"black\" points=\"2171.08,-168.8 2161.8,-163.69 2165.86,-173.47 2171.08,-168.8\"/>\n</g>\n<!-- 40 -->\n<g id=\"node41\" class=\"node\">\n<title>40</title>\n<path fill=\"#f9d3f1\" stroke=\"black\" d=\"M2389.38,-154.38C2389.38,-154.38 2251.88,-154.38 2251.88,-154.38 2245.88,-154.38 2239.88,-148.38 2239.88,-142.38 2239.88,-142.38 2239.88,-111.12 2239.88,-111.12 2239.88,-105.12 2245.88,-99.12 2251.88,-99.12 2251.88,-99.12 2389.38,-99.12 2389.38,-99.12 2395.38,-99.12 2401.38,-105.12 2401.38,-111.12 2401.38,-111.12 2401.38,-142.38 2401.38,-142.38 2401.38,-148.38 2395.38,-154.38 2389.38,-154.38\"/>\n<text text-anchor=\"start\" x=\"2285.38\" y=\"-137.07\" font-family=\"Helvetica,sans-Serif\" font-size=\"14.00\">gini = 0.724</text>\n<text text-anchor=\"start\" x=\"2279.75\" y=\"-121.33\" font-family=\"Helvetica,sans-Serif\" font-size=\"14.00\">samples = 66</text>\n<text text-anchor=\"start\" x=\"2247.88\" y=\"-105.58\" font-family=\"Helvetica,sans-Serif\" font-size=\"14.00\">value = [8, 16, 12, 3, 27]</text>\n</g>\n<!-- 36&#45;&gt;40 -->\n<g id=\"edge40\" class=\"edge\">\n<title>36&#45;&gt;40</title>\n<path fill=\"none\" stroke=\"black\" d=\"M2255.92,-197.79C2266.29,-186.57 2277.77,-174.14 2288.15,-162.91\"/>\n<polygon fill=\"black\" stroke=\"black\" points=\"2290.59,-165.42 2294.8,-155.7 2285.45,-160.67 2290.59,-165.42\"/>\n</g>\n<!-- 38 -->\n<g id=\"node39\" class=\"node\">\n<title>38</title>\n<path fill=\"#e0fbf6\" stroke=\"black\" d=\"M2107.88,-55.25C2107.88,-55.25 1985.38,-55.25 1985.38,-55.25 1979.38,-55.25 1973.38,-49.25 1973.38,-43.25 1973.38,-43.25 1973.38,-12 1973.38,-12 1973.38,-6 1979.38,0 1985.38,0 1985.38,0 2107.88,0 2107.88,0 2113.88,0 2119.88,-6 2119.88,-12 2119.88,-12 2119.88,-43.25 2119.88,-43.25 2119.88,-49.25 2113.88,-55.25 2107.88,-55.25\"/>\n<text text-anchor=\"start\" x=\"2011.38\" y=\"-37.95\" font-family=\"Helvetica,sans-Serif\" font-size=\"14.00\">gini = 0.737</text>\n<text text-anchor=\"start\" x=\"2005.75\" y=\"-22.2\" font-family=\"Helvetica,sans-Serif\" font-size=\"14.00\">samples = 26</text>\n<text text-anchor=\"start\" x=\"1981.38\" y=\"-6.45\" font-family=\"Helvetica,sans-Serif\" font-size=\"14.00\">value = [2, 4, 10, 3, 7]</text>\n</g>\n<!-- 37&#45;&gt;38 -->\n<g id=\"edge38\" class=\"edge\">\n<title>37&#45;&gt;38</title>\n<path fill=\"none\" stroke=\"black\" d=\"M2099.89,-90.96C2092.43,-82.22 2084.41,-72.84 2076.92,-64.07\"/>\n<polygon fill=\"black\" stroke=\"black\" points=\"2079.78,-62.03 2070.62,-56.71 2074.46,-66.58 2079.78,-62.03\"/>\n</g>\n<!-- 39 -->\n<g id=\"node40\" class=\"node\">\n<title>39</title>\n<path fill=\"#d9faf4\" stroke=\"black\" d=\"M2272.88,-55.25C2272.88,-55.25 2150.38,-55.25 2150.38,-55.25 2144.38,-55.25 2138.38,-49.25 2138.38,-43.25 2138.38,-43.25 2138.38,-12 2138.38,-12 2138.38,-6 2144.38,0 2150.38,0 2150.38,0 2272.88,0 2272.88,0 2278.88,0 2284.88,-6 2284.88,-12 2284.88,-12 2284.88,-43.25 2284.88,-43.25 2284.88,-49.25 2278.88,-55.25 2272.88,-55.25\"/>\n<text text-anchor=\"start\" x=\"2176.38\" y=\"-37.95\" font-family=\"Helvetica,sans-Serif\" font-size=\"14.00\">gini = 0.749</text>\n<text text-anchor=\"start\" x=\"2170.75\" y=\"-22.2\" font-family=\"Helvetica,sans-Serif\" font-size=\"14.00\">samples = 34</text>\n<text text-anchor=\"start\" x=\"2146.38\" y=\"-6.45\" font-family=\"Helvetica,sans-Serif\" font-size=\"14.00\">value = [4, 5, 13, 4, 8]</text>\n</g>\n<!-- 37&#45;&gt;39 -->\n<g id=\"edge39\" class=\"edge\">\n<title>37&#45;&gt;39</title>\n<path fill=\"none\" stroke=\"black\" d=\"M2159,-90.96C2166.3,-82.31 2174.13,-73.03 2181.47,-64.35\"/>\n<polygon fill=\"black\" stroke=\"black\" points=\"2184.13,-66.61 2187.91,-56.71 2178.79,-62.1 2184.13,-66.61\"/>\n</g>\n<!-- 42 -->\n<g id=\"node43\" class=\"node\">\n<title>42</title>\n<path fill=\"#fad7f2\" stroke=\"black\" d=\"M2337.12,-368.38C2337.12,-368.38 2222.12,-368.38 2222.12,-368.38 2216.12,-368.38 2210.12,-362.38 2210.12,-356.38 2210.12,-356.38 2210.12,-325.12 2210.12,-325.12 2210.12,-319.12 2216.12,-313.12 2222.12,-313.12 2222.12,-313.12 2337.12,-313.12 2337.12,-313.12 2343.12,-313.12 2349.12,-319.12 2349.12,-325.12 2349.12,-325.12 2349.12,-356.38 2349.12,-356.38 2349.12,-362.38 2343.12,-368.38 2337.12,-368.38\"/>\n<text text-anchor=\"start\" x=\"2244.38\" y=\"-351.07\" font-family=\"Helvetica,sans-Serif\" font-size=\"14.00\">gini = 0.602</text>\n<text text-anchor=\"start\" x=\"2238.75\" y=\"-335.32\" font-family=\"Helvetica,sans-Serif\" font-size=\"14.00\">samples = 16</text>\n<text text-anchor=\"start\" x=\"2218.12\" y=\"-319.57\" font-family=\"Helvetica,sans-Serif\" font-size=\"14.00\">value = [0, 6, 1, 1, 8]</text>\n</g>\n<!-- 41&#45;&gt;42 -->\n<g id=\"edge42\" class=\"edge\">\n<title>41&#45;&gt;42</title>\n<path fill=\"none\" stroke=\"black\" d=\"M2279.62,-411.79C2279.62,-401.56 2279.62,-390.32 2279.62,-379.91\"/>\n<polygon fill=\"black\" stroke=\"black\" points=\"2283.13,-380.1 2279.63,-370.1 2276.13,-380.1 2283.13,-380.1\"/>\n</g>\n<!-- 43 -->\n<g id=\"node44\" class=\"node\">\n<title>43</title>\n<path fill=\"#e6fada\" stroke=\"black\" d=\"M2494.12,-368.38C2494.12,-368.38 2379.12,-368.38 2379.12,-368.38 2373.12,-368.38 2367.12,-362.38 2367.12,-356.38 2367.12,-356.38 2367.12,-325.12 2367.12,-325.12 2367.12,-319.12 2373.12,-313.12 2379.12,-313.12 2379.12,-313.12 2494.12,-313.12 2494.12,-313.12 2500.12,-313.12 2506.12,-319.12 2506.12,-325.12 2506.12,-325.12 2506.12,-356.38 2506.12,-356.38 2506.12,-362.38 2500.12,-368.38 2494.12,-368.38\"/>\n<text text-anchor=\"start\" x=\"2401.38\" y=\"-351.07\" font-family=\"Helvetica,sans-Serif\" font-size=\"14.00\">gini = 0.739</text>\n<text text-anchor=\"start\" x=\"2395.75\" y=\"-335.32\" font-family=\"Helvetica,sans-Serif\" font-size=\"14.00\">samples = 21</text>\n<text text-anchor=\"start\" x=\"2375.12\" y=\"-319.57\" font-family=\"Helvetica,sans-Serif\" font-size=\"14.00\">value = [1, 8, 5, 4, 3]</text>\n</g>\n<!-- 41&#45;&gt;43 -->\n<g id=\"edge43\" class=\"edge\">\n<title>41&#45;&gt;43</title>\n<path fill=\"none\" stroke=\"black\" d=\"M2331.9,-411.79C2349.59,-399.96 2369.28,-386.79 2386.78,-375.09\"/>\n<polygon fill=\"black\" stroke=\"black\" points=\"2388.62,-378.07 2394.98,-369.6 2384.73,-372.25 2388.62,-378.07\"/>\n</g>\n<!-- 45 -->\n<g id=\"node46\" class=\"node\">\n<title>45</title>\n<path fill=\"#ebfcf9\" stroke=\"black\" d=\"M2822.38,-483.25C2822.38,-483.25 2606.88,-483.25 2606.88,-483.25 2600.88,-483.25 2594.88,-477.25 2594.88,-471.25 2594.88,-471.25 2594.88,-424.25 2594.88,-424.25 2594.88,-418.25 2600.88,-412.25 2606.88,-412.25 2606.88,-412.25 2822.38,-412.25 2822.38,-412.25 2828.38,-412.25 2834.38,-418.25 2834.38,-424.25 2834.38,-424.25 2834.38,-471.25 2834.38,-471.25 2834.38,-477.25 2828.38,-483.25 2822.38,-483.25\"/>\n<text text-anchor=\"start\" x=\"2650.12\" y=\"-465.95\" font-family=\"Helvetica,sans-Serif\" font-size=\"14.00\">Stress_Binned ≤ 1.82</text>\n<text text-anchor=\"start\" x=\"2679.38\" y=\"-450.2\" font-family=\"Helvetica,sans-Serif\" font-size=\"14.00\">gini = 0.758</text>\n<text text-anchor=\"start\" x=\"2670\" y=\"-434.45\" font-family=\"Helvetica,sans-Serif\" font-size=\"14.00\">samples = 343</text>\n<text text-anchor=\"start\" x=\"2602.88\" y=\"-418.7\" font-family=\"Helvetica,sans-Serif\" font-size=\"14.00\">value = [33.0, 86.0, 112.0, 32.0, 80.0]</text>\n</g>\n<!-- 44&#45;&gt;45 -->\n<g id=\"edge45\" class=\"edge\">\n<title>44&#45;&gt;45</title>\n<path fill=\"none\" stroke=\"black\" d=\"M2714.62,-518.79C2714.62,-511.17 2714.62,-503 2714.62,-495.02\"/>\n<polygon fill=\"black\" stroke=\"black\" points=\"2718.13,-495.07 2714.63,-485.07 2711.13,-495.07 2718.13,-495.07\"/>\n</g>\n<!-- 50 -->\n<g id=\"node51\" class=\"node\">\n<title>50</title>\n<path fill=\"#fceaf8\" stroke=\"black\" d=\"M3124,-483.25C3124,-483.25 2963.25,-483.25 2963.25,-483.25 2957.25,-483.25 2951.25,-477.25 2951.25,-471.25 2951.25,-471.25 2951.25,-424.25 2951.25,-424.25 2951.25,-418.25 2957.25,-412.25 2963.25,-412.25 2963.25,-412.25 3124,-412.25 3124,-412.25 3130,-412.25 3136,-418.25 3136,-424.25 3136,-424.25 3136,-471.25 3136,-471.25 3136,-477.25 3130,-483.25 3124,-483.25\"/>\n<text text-anchor=\"start\" x=\"2959.25\" y=\"-465.95\" font-family=\"Helvetica,sans-Serif\" font-size=\"14.00\">SleepHours_Binned ≤ 5.331</text>\n<text text-anchor=\"start\" x=\"3008.38\" y=\"-450.2\" font-family=\"Helvetica,sans-Serif\" font-size=\"14.00\">gini = 0.708</text>\n<text text-anchor=\"start\" x=\"2999.38\" y=\"-434.45\" font-family=\"Helvetica,sans-Serif\" font-size=\"14.00\">samples = 113</text>\n<text text-anchor=\"start\" x=\"2967.5\" y=\"-418.7\" font-family=\"Helvetica,sans-Serif\" font-size=\"14.00\">value = [7, 37, 11, 13, 45]</text>\n</g>\n<!-- 44&#45;&gt;50 -->\n<g id=\"edge50\" class=\"edge\">\n<title>44&#45;&gt;50</title>\n<path fill=\"none\" stroke=\"black\" d=\"M2824.18,-518.79C2861.52,-506.87 2903.13,-493.59 2940,-481.82\"/>\n<polygon fill=\"black\" stroke=\"black\" points=\"2940.86,-485.22 2949.33,-478.85 2938.73,-478.55 2940.86,-485.22\"/>\n</g>\n<!-- 46 -->\n<g id=\"node47\" class=\"node\">\n<title>46</title>\n<path fill=\"#e4fbf7\" stroke=\"black\" d=\"M2697,-376.25C2697,-376.25 2536.25,-376.25 2536.25,-376.25 2530.25,-376.25 2524.25,-370.25 2524.25,-364.25 2524.25,-364.25 2524.25,-317.25 2524.25,-317.25 2524.25,-311.25 2530.25,-305.25 2536.25,-305.25 2536.25,-305.25 2697,-305.25 2697,-305.25 2703,-305.25 2709,-311.25 2709,-317.25 2709,-317.25 2709,-364.25 2709,-364.25 2709,-370.25 2703,-376.25 2697,-376.25\"/>\n<text text-anchor=\"start\" x=\"2532.25\" y=\"-358.95\" font-family=\"Helvetica,sans-Serif\" font-size=\"14.00\">SleepHours_Binned ≤ 6.905</text>\n<text text-anchor=\"start\" x=\"2581.38\" y=\"-343.2\" font-family=\"Helvetica,sans-Serif\" font-size=\"14.00\">gini = 0.754</text>\n<text text-anchor=\"start\" x=\"2572\" y=\"-327.45\" font-family=\"Helvetica,sans-Serif\" font-size=\"14.00\">samples = 266</text>\n<text text-anchor=\"start\" x=\"2536.38\" y=\"-311.7\" font-family=\"Helvetica,sans-Serif\" font-size=\"14.00\">value = [22, 63, 91, 27, 63]</text>\n</g>\n<!-- 45&#45;&gt;46 -->\n<g id=\"edge46\" class=\"edge\">\n<title>45&#45;&gt;46</title>\n<path fill=\"none\" stroke=\"black\" d=\"M2681.99,-411.79C2673.98,-403.2 2665.3,-393.9 2656.97,-384.97\"/>\n<polygon fill=\"black\" stroke=\"black\" points=\"2659.53,-382.59 2650.15,-377.67 2654.41,-387.37 2659.53,-382.59\"/>\n</g>\n<!-- 49 -->\n<g id=\"node50\" class=\"node\">\n<title>49</title>\n<path fill=\"#fafef8\" stroke=\"black\" d=\"M2939.88,-368.38C2939.88,-368.38 2739.38,-368.38 2739.38,-368.38 2733.38,-368.38 2727.38,-362.38 2727.38,-356.38 2727.38,-356.38 2727.38,-325.12 2727.38,-325.12 2727.38,-319.12 2733.38,-313.12 2739.38,-313.12 2739.38,-313.12 2939.88,-313.12 2939.88,-313.12 2945.88,-313.12 2951.88,-319.12 2951.88,-325.12 2951.88,-325.12 2951.88,-356.38 2951.88,-356.38 2951.88,-362.38 2945.88,-368.38 2939.88,-368.38\"/>\n<text text-anchor=\"start\" x=\"2804.38\" y=\"-351.07\" font-family=\"Helvetica,sans-Serif\" font-size=\"14.00\">gini = 0.763</text>\n<text text-anchor=\"start\" x=\"2798.75\" y=\"-335.32\" font-family=\"Helvetica,sans-Serif\" font-size=\"14.00\">samples = 77</text>\n<text text-anchor=\"start\" x=\"2735.38\" y=\"-319.57\" font-family=\"Helvetica,sans-Serif\" font-size=\"14.00\">value = [11.0, 23.0, 21.0, 5.0, 17.0]</text>\n</g>\n<!-- 45&#45;&gt;49 -->\n<g id=\"edge49\" class=\"edge\">\n<title>45&#45;&gt;49</title>\n<path fill=\"none\" stroke=\"black\" d=\"M2756.25,-411.79C2770,-400.24 2785.27,-387.41 2798.95,-375.92\"/>\n<polygon fill=\"black\" stroke=\"black\" points=\"2801.11,-378.68 2806.51,-369.56 2796.61,-373.32 2801.11,-378.68\"/>\n</g>\n<!-- 47 -->\n<g id=\"node48\" class=\"node\">\n<title>47</title>\n<path fill=\"#ffffff\" stroke=\"black\" d=\"M2572.12,-261.38C2572.12,-261.38 2427.12,-261.38 2427.12,-261.38 2421.12,-261.38 2415.12,-255.38 2415.12,-249.38 2415.12,-249.38 2415.12,-218.12 2415.12,-218.12 2415.12,-212.12 2421.12,-206.12 2427.12,-206.12 2427.12,-206.12 2572.12,-206.12 2572.12,-206.12 2578.12,-206.12 2584.12,-212.12 2584.12,-218.12 2584.12,-218.12 2584.12,-249.38 2584.12,-249.38 2584.12,-255.38 2578.12,-261.38 2572.12,-261.38\"/>\n<text text-anchor=\"start\" x=\"2468.12\" y=\"-244.07\" font-family=\"Helvetica,sans-Serif\" font-size=\"14.00\">gini = 0.75</text>\n<text text-anchor=\"start\" x=\"2455\" y=\"-228.32\" font-family=\"Helvetica,sans-Serif\" font-size=\"14.00\">samples = 125</text>\n<text text-anchor=\"start\" x=\"2423.12\" y=\"-212.57\" font-family=\"Helvetica,sans-Serif\" font-size=\"14.00\">value = [8, 38, 28, 13, 38]</text>\n</g>\n<!-- 46&#45;&gt;47 -->\n<g id=\"edge47\" class=\"edge\">\n<title>46&#45;&gt;47</title>\n<path fill=\"none\" stroke=\"black\" d=\"M2577.67,-304.79C2564.92,-293.35 2550.77,-280.65 2538.07,-269.25\"/>\n<polygon fill=\"black\" stroke=\"black\" points=\"2540.44,-266.68 2530.66,-262.6 2535.76,-271.88 2540.44,-266.68\"/>\n</g>\n<!-- 48 -->\n<g id=\"node49\" class=\"node\">\n<title>48</title>\n<path fill=\"#bef6ec\" stroke=\"black\" d=\"M2766.88,-261.38C2766.88,-261.38 2614.38,-261.38 2614.38,-261.38 2608.38,-261.38 2602.38,-255.38 2602.38,-249.38 2602.38,-249.38 2602.38,-218.12 2602.38,-218.12 2602.38,-212.12 2608.38,-206.12 2614.38,-206.12 2614.38,-206.12 2766.88,-206.12 2766.88,-206.12 2772.88,-206.12 2778.88,-212.12 2778.88,-218.12 2778.88,-218.12 2778.88,-249.38 2778.88,-249.38 2778.88,-255.38 2772.88,-261.38 2766.88,-261.38\"/>\n<text text-anchor=\"start\" x=\"2655.38\" y=\"-244.07\" font-family=\"Helvetica,sans-Serif\" font-size=\"14.00\">gini = 0.718</text>\n<text text-anchor=\"start\" x=\"2646\" y=\"-228.32\" font-family=\"Helvetica,sans-Serif\" font-size=\"14.00\">samples = 141</text>\n<text text-anchor=\"start\" x=\"2610.38\" y=\"-212.57\" font-family=\"Helvetica,sans-Serif\" font-size=\"14.00\">value = [14, 25, 63, 14, 25]</text>\n</g>\n<!-- 46&#45;&gt;48 -->\n<g id=\"edge48\" class=\"edge\">\n<title>46&#45;&gt;48</title>\n<path fill=\"none\" stroke=\"black\" d=\"M2641.27,-304.79C2648.94,-293.9 2657.42,-281.87 2665.15,-270.9\"/>\n<polygon fill=\"black\" stroke=\"black\" points=\"2667.94,-273.02 2670.84,-262.83 2662.22,-268.98 2667.94,-273.02\"/>\n</g>\n<!-- 51 -->\n<g id=\"node52\" class=\"node\">\n<title>51</title>\n<path fill=\"#ec6ad0\" stroke=\"black\" d=\"M3104.88,-368.38C3104.88,-368.38 2982.38,-368.38 2982.38,-368.38 2976.38,-368.38 2970.38,-362.38 2970.38,-356.38 2970.38,-356.38 2970.38,-325.12 2970.38,-325.12 2970.38,-319.12 2976.38,-313.12 2982.38,-313.12 2982.38,-313.12 3104.88,-313.12 3104.88,-313.12 3110.88,-313.12 3116.88,-319.12 3116.88,-325.12 3116.88,-325.12 3116.88,-356.38 3116.88,-356.38 3116.88,-362.38 3110.88,-368.38 3104.88,-368.38\"/>\n<text text-anchor=\"start\" x=\"3012.12\" y=\"-351.07\" font-family=\"Helvetica,sans-Serif\" font-size=\"14.00\">gini = 0.37</text>\n<text text-anchor=\"start\" x=\"3002.75\" y=\"-335.32\" font-family=\"Helvetica,sans-Serif\" font-size=\"14.00\">samples = 18</text>\n<text text-anchor=\"start\" x=\"2978.38\" y=\"-319.57\" font-family=\"Helvetica,sans-Serif\" font-size=\"14.00\">value = [0, 2, 0, 2, 14]</text>\n</g>\n<!-- 50&#45;&gt;51 -->\n<g id=\"edge51\" class=\"edge\">\n<title>50&#45;&gt;51</title>\n<path fill=\"none\" stroke=\"black\" d=\"M3043.62,-411.79C3043.62,-401.56 3043.62,-390.32 3043.62,-379.91\"/>\n<polygon fill=\"black\" stroke=\"black\" points=\"3047.13,-380.1 3043.63,-370.1 3040.13,-380.1 3047.13,-380.1\"/>\n</g>\n<!-- 52 -->\n<g id=\"node53\" class=\"node\">\n<title>52</title>\n<path fill=\"#f7fdf3\" stroke=\"black\" d=\"M3346.5,-368.38C3346.5,-368.38 3146.75,-368.38 3146.75,-368.38 3140.75,-368.38 3134.75,-362.38 3134.75,-356.38 3134.75,-356.38 3134.75,-325.12 3134.75,-325.12 3134.75,-319.12 3140.75,-313.12 3146.75,-313.12 3146.75,-313.12 3346.5,-313.12 3346.5,-313.12 3352.5,-313.12 3358.5,-319.12 3358.5,-325.12 3358.5,-325.12 3358.5,-356.38 3358.5,-356.38 3358.5,-362.38 3352.5,-368.38 3346.5,-368.38\"/>\n<text text-anchor=\"start\" x=\"3211.38\" y=\"-351.07\" font-family=\"Helvetica,sans-Serif\" font-size=\"14.00\">gini = 0.726</text>\n<text text-anchor=\"start\" x=\"3205.75\" y=\"-335.32\" font-family=\"Helvetica,sans-Serif\" font-size=\"14.00\">samples = 95</text>\n<text text-anchor=\"start\" x=\"3142.75\" y=\"-319.57\" font-family=\"Helvetica,sans-Serif\" font-size=\"14.00\">value = [7.0, 35.0, 11.0, 11.0, 31.0]</text>\n</g>\n<!-- 50&#45;&gt;52 -->\n<g id=\"edge52\" class=\"edge\">\n<title>50&#45;&gt;52</title>\n<path fill=\"none\" stroke=\"black\" d=\"M3111.22,-411.79C3134.83,-399.57 3161.21,-385.93 3184.36,-373.95\"/>\n<polygon fill=\"black\" stroke=\"black\" points=\"3185.79,-377.16 3193.07,-369.45 3182.58,-370.94 3185.79,-377.16\"/>\n</g>\n</g>\n</svg>\n",
      "text/plain": [
       "<graphviz.sources.Source at 0x1e91a321cc0>"
      ]
     },
     "metadata": {},
     "output_type": "display_data"
    }
   ],
   "execution_count": 12
  },
  {
   "metadata": {},
   "cell_type": "markdown",
   "source": "# Plot ROC curve for the Extra Trees model\n",
   "id": "26689e4d73be9d7e"
  },
  {
   "metadata": {},
   "cell_type": "markdown",
   "source": "\n",
   "id": "cf7274cd739ca8dd"
  }
 ],
 "metadata": {
  "kernelspec": {
   "display_name": "Python 3",
   "language": "python",
   "name": "python3"
  },
  "language_info": {
   "codemirror_mode": {
    "name": "ipython",
    "version": 2
   },
   "file_extension": ".py",
   "mimetype": "text/x-python",
   "name": "python",
   "nbconvert_exporter": "python",
   "pygments_lexer": "ipython2",
   "version": "2.7.6"
  }
 },
 "nbformat": 4,
 "nbformat_minor": 5
}
