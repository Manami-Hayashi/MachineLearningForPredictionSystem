{
 "cells": [
  {
   "metadata": {},
   "cell_type": "markdown",
   "source": "# Extra Trees Classifier",
   "id": "3bff4dae3e3ec291"
  },
  {
   "metadata": {},
   "cell_type": "markdown",
   "source": "# Import necessary libraries",
   "id": "f480aca3d0016c9b"
  },
  {
   "cell_type": "code",
   "id": "initial_id",
   "metadata": {
    "collapsed": true,
    "ExecuteTime": {
     "end_time": "2024-10-18T12:04:18.315791Z",
     "start_time": "2024-10-18T12:04:18.309010Z"
    }
   },
   "source": [
    "import pandas as pd\n",
    "import os\n",
    "from sklearn.model_selection import train_test_split, StratifiedKFold\n",
    "from sklearn.ensemble import ExtraTreesClassifier\n",
    "from sklearn.metrics import accuracy_score, roc_auc_score, roc_curve\n",
    "from sklearn.preprocessing import LabelEncoder\n",
    "from skopt import BayesSearchCV\n",
    "import matplotlib.pyplot as plt\n",
    "import numpy as np\n",
    "from sklearn.tree import export_graphviz\n",
    "import graphviz\n",
    "from IPython.display import display\n",
    "import joblib"
   ],
   "outputs": [],
   "execution_count": 26
  },
  {
   "metadata": {},
   "cell_type": "markdown",
   "source": "# # Load the dataset and set display options to show all rows and print first few rows\n",
   "id": "692784522d87d18d"
  },
  {
   "metadata": {
    "ExecuteTime": {
     "end_time": "2024-10-18T12:04:40.201376Z",
     "start_time": "2024-10-18T12:04:40.174913Z"
    }
   },
   "cell_type": "code",
   "source": [
    "os.chdir(r'/home/zamlamb/KdG/Data n AI 5/Team-Stress/Resources')\n",
    "df = pd.read_csv('processed_features_job_satisfaction.csv')\n",
    "\n",
    "# Set display options to show all rows\n",
    "pd.set_option('display.max_rows', None)\n",
    "\n",
    "# Print the first few rows of the DataFrame\n",
    "print(df.head())"
   ],
   "id": "599c67f28a7cf768",
   "outputs": [
    {
     "name": "stdout",
     "output_type": "stream",
     "text": [
      "  JobSatisfaction  Workload_Binned  SleepHours_Binned Age_Binned  \\\n",
      "0  Very Satisfied                2                  7      30-39   \n",
      "1  Very Satisfied                2                  7      30-39   \n",
      "2  Very Satisfied                5                  6      20-29   \n",
      "3  Very Satisfied                3                  7      20-29   \n",
      "4  Very Satisfied                2                  4      20-29   \n",
      "\n",
      "   Stress_Binned Experience_Binned        JobLevel  Gender MaritalStatus  \\\n",
      "0              1              6-10             Mid    Male       Married   \n",
      "1              2             11-15             Mid  Female       Married   \n",
      "2              4               1-5  Intern/Fresher  Female        Single   \n",
      "3              1              6-10          Junior  Female       Married   \n",
      "4              1               1-5          Junior   Other        Single   \n",
      "\n",
      "        Dept    EmpType haveOT_Binned  \n",
      "0         IT  Full-Time           Yes  \n",
      "1    Finance  Full-Time            No  \n",
      "2  Marketing  Full-Time           Yes  \n",
      "3         IT   Contract           Yes  \n",
      "4      Sales  Part-Time            No  \n"
     ]
    }
   ],
   "execution_count": 27
  },
  {
   "metadata": {},
   "cell_type": "markdown",
   "source": "# List the significant features, and separate features and the target variable\n",
   "id": "ac7d61226e6cddb8"
  },
  {
   "metadata": {
    "ExecuteTime": {
     "end_time": "2024-10-18T12:04:43.118478Z",
     "start_time": "2024-10-18T12:04:43.108197Z"
    }
   },
   "cell_type": "code",
   "source": [
    "significant_features = ['Workload_Binned', 'SleepHours_Binned', 'Stress_Binned']\n",
    "\n",
    "# Separate features and target variable\n",
    "X = df[significant_features]\n",
    "le = LabelEncoder()\n",
    "y = le.fit_transform(df['JobSatisfaction']).ravel()  # Ensure y is a 1D array\n"
   ],
   "id": "3a508e921fc87d36",
   "outputs": [],
   "execution_count": 28
  },
  {
   "metadata": {},
   "cell_type": "markdown",
   "source": "# Define the hyperparameter search space for Extra Trees\n",
   "id": "24c67bd8a1d325ba"
  },
  {
   "metadata": {
    "ExecuteTime": {
     "end_time": "2024-10-18T12:21:56.957549Z",
     "start_time": "2024-10-18T12:21:56.951998Z"
    }
   },
   "cell_type": "code",
   "source": [
    "search_space_extra_trees = {\n",
    "    'n_estimators': (10, 1000), # number of trees in the foreset\n",
    "    'max_features': (1, X.shape[1]), # max number of features considered for splitting a node\n",
    "    'min_samples_split': (2, 20), # min number of data points placed in a node before the node is split\n",
    "    'min_samples_leaf': (1, 20), # min number of data points allowed in a leaf node\n",
    "    'bootstrap': [True, False], # method for sampling data points (with or without replacement)\n",
    "    'criterion': ['gini', 'entropy'] # quality of split\n",
    "}"
   ],
   "id": "9702a6a2f76cc052",
   "outputs": [],
   "execution_count": 48
  },
  {
   "metadata": {},
   "cell_type": "markdown",
   "source": [
    "The dictionary `search_space_extra_trees` defines the hyperparameter search space for an `ExtraTreesClassifier` in a machine learning model. Each key in the dictionary represents a hyperparameter, and the corresponding value is the range or set of values that will be explored during hyperparameter tuning. Here's a brief explanation of each hyperparameter:\n",
    "\n",
    "- **`n_estimators`**: The number of trees in the forest. The range (10, 1000) means that the search will consider values from 10 to 1000.\n",
    "- **`max_features`**: The number of features to consider when looking for the best split. The range (1, X.shape[1]) means that the search will consider values from 1 to the total number of features in the dataset.\n",
    "- **`min_samples_split`**: The minimum number of samples required to split an internal node. The range (2, 20) means that the search will consider values from 2 to 20.\n",
    "- **`min_samples_leaf`**: The minimum number of samples required to be at a leaf node. The range (1, 20) means that the search will consider values from 1 to 20.\n",
    "- **`bootstrap`**: Whether bootstrap samples are used when building trees. The search will consider both `True` and `False`.\n",
    "- **`criterion`**: The function to measure the quality of a split. The search will consider both 'gini' and 'entropy'.\n",
    "\n",
    "This search space will be used in hyperparameter tuning methods like GridSearchCV or RandomizedSearchCV to find the best combination of hyperparameters for the `ExtraTreesClassifier`."
   ],
   "id": "ee8b715946301492"
  },
  {
   "metadata": {},
   "cell_type": "markdown",
   "source": "# Initialize and perform Bayesian optimization for Extra Trees\n",
   "id": "3e3fd4bb2e4a340b"
  },
  {
   "metadata": {
    "ExecuteTime": {
     "end_time": "2024-10-18T12:22:29.086873Z",
     "start_time": "2024-10-18T12:21:59.567012Z"
    }
   },
   "cell_type": "code",
   "source": [
    "extra_trees = ExtraTreesClassifier()\n",
    "opt_extra_trees = BayesSearchCV(extra_trees, search_space_extra_trees, n_iter=16, cv=StratifiedKFold(n_splits=5), n_jobs=-1) # n_iter is the number of parameter settings that are sampled, stratified k-fold is used for cross-validation and n_jobs is the number of jobs to run in parallel\n",
    "opt_extra_trees.fit(X, y)"
   ],
   "id": "ea43ae9ed08ef0cd",
   "outputs": [
    {
     "name": "stderr",
     "output_type": "stream",
     "text": [
      "/home/zamlamb/KdG/Data n AI 5/Team-Stress/venv/lib/python3.12/site-packages/skopt/optimizer/optimizer.py:517: UserWarning: The objective has been evaluated at point [np.False_, np.str_('gini'), np.int64(1), np.int64(15), np.int64(4), np.int64(472)] before, using random point [False, 'gini', 1, 15, 4, 472]\n",
      "  warnings.warn(\n",
      "/home/zamlamb/KdG/Data n AI 5/Team-Stress/venv/lib/python3.12/site-packages/skopt/optimizer/optimizer.py:517: UserWarning: The objective has been evaluated at point [np.False_, np.str_('gini'), np.int64(1), np.int64(15), np.int64(4), np.int64(472)] before, using random point [False, 'gini', 1, 15, 4, 472]\n",
      "  warnings.warn(\n",
      "/home/zamlamb/KdG/Data n AI 5/Team-Stress/venv/lib/python3.12/site-packages/skopt/optimizer/optimizer.py:517: UserWarning: The objective has been evaluated at point [np.False_, np.str_('gini'), np.int64(1), np.int64(15), np.int64(4), np.int64(472)] before, using random point [False, 'gini', 1, 15, 4, 472]\n",
      "  warnings.warn(\n",
      "/home/zamlamb/KdG/Data n AI 5/Team-Stress/venv/lib/python3.12/site-packages/skopt/optimizer/optimizer.py:517: UserWarning: The objective has been evaluated at point [np.False_, np.str_('gini'), np.int64(1), np.int64(15), np.int64(4), np.int64(472)] before, using random point [False, 'gini', 1, 15, 4, 472]\n",
      "  warnings.warn(\n",
      "/home/zamlamb/KdG/Data n AI 5/Team-Stress/venv/lib/python3.12/site-packages/skopt/optimizer/optimizer.py:517: UserWarning: The objective has been evaluated at point [np.False_, np.str_('gini'), np.int64(1), np.int64(15), np.int64(4), np.int64(472)] before, using random point [False, 'gini', 1, 15, 4, 472]\n",
      "  warnings.warn(\n",
      "/home/zamlamb/KdG/Data n AI 5/Team-Stress/venv/lib/python3.12/site-packages/skopt/optimizer/optimizer.py:517: UserWarning: The objective has been evaluated at point [np.False_, np.str_('gini'), np.int64(1), np.int64(15), np.int64(4), np.int64(472)] before, using random point [False, 'gini', 1, 15, 4, 472]\n",
      "  warnings.warn(\n"
     ]
    },
    {
     "data": {
      "text/plain": [
       "BayesSearchCV(cv=StratifiedKFold(n_splits=5, random_state=None, shuffle=False),\n",
       "              estimator=ExtraTreesClassifier(), n_iter=16, n_jobs=-1,\n",
       "              search_spaces={'bootstrap': [False], 'criterion': ['gini'],\n",
       "                             'max_features': [1], 'min_samples_leaf': [15],\n",
       "                             'min_samples_split': [4], 'n_estimators': [472]})"
      ],
      "text/html": [
       "<style>#sk-container-id-7 {\n",
       "  /* Definition of color scheme common for light and dark mode */\n",
       "  --sklearn-color-text: black;\n",
       "  --sklearn-color-line: gray;\n",
       "  /* Definition of color scheme for unfitted estimators */\n",
       "  --sklearn-color-unfitted-level-0: #fff5e6;\n",
       "  --sklearn-color-unfitted-level-1: #f6e4d2;\n",
       "  --sklearn-color-unfitted-level-2: #ffe0b3;\n",
       "  --sklearn-color-unfitted-level-3: chocolate;\n",
       "  /* Definition of color scheme for fitted estimators */\n",
       "  --sklearn-color-fitted-level-0: #f0f8ff;\n",
       "  --sklearn-color-fitted-level-1: #d4ebff;\n",
       "  --sklearn-color-fitted-level-2: #b3dbfd;\n",
       "  --sklearn-color-fitted-level-3: cornflowerblue;\n",
       "\n",
       "  /* Specific color for light theme */\n",
       "  --sklearn-color-text-on-default-background: var(--sg-text-color, var(--theme-code-foreground, var(--jp-content-font-color1, black)));\n",
       "  --sklearn-color-background: var(--sg-background-color, var(--theme-background, var(--jp-layout-color0, white)));\n",
       "  --sklearn-color-border-box: var(--sg-text-color, var(--theme-code-foreground, var(--jp-content-font-color1, black)));\n",
       "  --sklearn-color-icon: #696969;\n",
       "\n",
       "  @media (prefers-color-scheme: dark) {\n",
       "    /* Redefinition of color scheme for dark theme */\n",
       "    --sklearn-color-text-on-default-background: var(--sg-text-color, var(--theme-code-foreground, var(--jp-content-font-color1, white)));\n",
       "    --sklearn-color-background: var(--sg-background-color, var(--theme-background, var(--jp-layout-color0, #111)));\n",
       "    --sklearn-color-border-box: var(--sg-text-color, var(--theme-code-foreground, var(--jp-content-font-color1, white)));\n",
       "    --sklearn-color-icon: #878787;\n",
       "  }\n",
       "}\n",
       "\n",
       "#sk-container-id-7 {\n",
       "  color: var(--sklearn-color-text);\n",
       "}\n",
       "\n",
       "#sk-container-id-7 pre {\n",
       "  padding: 0;\n",
       "}\n",
       "\n",
       "#sk-container-id-7 input.sk-hidden--visually {\n",
       "  border: 0;\n",
       "  clip: rect(1px 1px 1px 1px);\n",
       "  clip: rect(1px, 1px, 1px, 1px);\n",
       "  height: 1px;\n",
       "  margin: -1px;\n",
       "  overflow: hidden;\n",
       "  padding: 0;\n",
       "  position: absolute;\n",
       "  width: 1px;\n",
       "}\n",
       "\n",
       "#sk-container-id-7 div.sk-dashed-wrapped {\n",
       "  border: 1px dashed var(--sklearn-color-line);\n",
       "  margin: 0 0.4em 0.5em 0.4em;\n",
       "  box-sizing: border-box;\n",
       "  padding-bottom: 0.4em;\n",
       "  background-color: var(--sklearn-color-background);\n",
       "}\n",
       "\n",
       "#sk-container-id-7 div.sk-container {\n",
       "  /* jupyter's `normalize.less` sets `[hidden] { display: none; }`\n",
       "     but bootstrap.min.css set `[hidden] { display: none !important; }`\n",
       "     so we also need the `!important` here to be able to override the\n",
       "     default hidden behavior on the sphinx rendered scikit-learn.org.\n",
       "     See: https://github.com/scikit-learn/scikit-learn/issues/21755 */\n",
       "  display: inline-block !important;\n",
       "  position: relative;\n",
       "}\n",
       "\n",
       "#sk-container-id-7 div.sk-text-repr-fallback {\n",
       "  display: none;\n",
       "}\n",
       "\n",
       "div.sk-parallel-item,\n",
       "div.sk-serial,\n",
       "div.sk-item {\n",
       "  /* draw centered vertical line to link estimators */\n",
       "  background-image: linear-gradient(var(--sklearn-color-text-on-default-background), var(--sklearn-color-text-on-default-background));\n",
       "  background-size: 2px 100%;\n",
       "  background-repeat: no-repeat;\n",
       "  background-position: center center;\n",
       "}\n",
       "\n",
       "/* Parallel-specific style estimator block */\n",
       "\n",
       "#sk-container-id-7 div.sk-parallel-item::after {\n",
       "  content: \"\";\n",
       "  width: 100%;\n",
       "  border-bottom: 2px solid var(--sklearn-color-text-on-default-background);\n",
       "  flex-grow: 1;\n",
       "}\n",
       "\n",
       "#sk-container-id-7 div.sk-parallel {\n",
       "  display: flex;\n",
       "  align-items: stretch;\n",
       "  justify-content: center;\n",
       "  background-color: var(--sklearn-color-background);\n",
       "  position: relative;\n",
       "}\n",
       "\n",
       "#sk-container-id-7 div.sk-parallel-item {\n",
       "  display: flex;\n",
       "  flex-direction: column;\n",
       "}\n",
       "\n",
       "#sk-container-id-7 div.sk-parallel-item:first-child::after {\n",
       "  align-self: flex-end;\n",
       "  width: 50%;\n",
       "}\n",
       "\n",
       "#sk-container-id-7 div.sk-parallel-item:last-child::after {\n",
       "  align-self: flex-start;\n",
       "  width: 50%;\n",
       "}\n",
       "\n",
       "#sk-container-id-7 div.sk-parallel-item:only-child::after {\n",
       "  width: 0;\n",
       "}\n",
       "\n",
       "/* Serial-specific style estimator block */\n",
       "\n",
       "#sk-container-id-7 div.sk-serial {\n",
       "  display: flex;\n",
       "  flex-direction: column;\n",
       "  align-items: center;\n",
       "  background-color: var(--sklearn-color-background);\n",
       "  padding-right: 1em;\n",
       "  padding-left: 1em;\n",
       "}\n",
       "\n",
       "\n",
       "/* Toggleable style: style used for estimator/Pipeline/ColumnTransformer box that is\n",
       "clickable and can be expanded/collapsed.\n",
       "- Pipeline and ColumnTransformer use this feature and define the default style\n",
       "- Estimators will overwrite some part of the style using the `sk-estimator` class\n",
       "*/\n",
       "\n",
       "/* Pipeline and ColumnTransformer style (default) */\n",
       "\n",
       "#sk-container-id-7 div.sk-toggleable {\n",
       "  /* Default theme specific background. It is overwritten whether we have a\n",
       "  specific estimator or a Pipeline/ColumnTransformer */\n",
       "  background-color: var(--sklearn-color-background);\n",
       "}\n",
       "\n",
       "/* Toggleable label */\n",
       "#sk-container-id-7 label.sk-toggleable__label {\n",
       "  cursor: pointer;\n",
       "  display: block;\n",
       "  width: 100%;\n",
       "  margin-bottom: 0;\n",
       "  padding: 0.5em;\n",
       "  box-sizing: border-box;\n",
       "  text-align: center;\n",
       "}\n",
       "\n",
       "#sk-container-id-7 label.sk-toggleable__label-arrow:before {\n",
       "  /* Arrow on the left of the label */\n",
       "  content: \"▸\";\n",
       "  float: left;\n",
       "  margin-right: 0.25em;\n",
       "  color: var(--sklearn-color-icon);\n",
       "}\n",
       "\n",
       "#sk-container-id-7 label.sk-toggleable__label-arrow:hover:before {\n",
       "  color: var(--sklearn-color-text);\n",
       "}\n",
       "\n",
       "/* Toggleable content - dropdown */\n",
       "\n",
       "#sk-container-id-7 div.sk-toggleable__content {\n",
       "  max-height: 0;\n",
       "  max-width: 0;\n",
       "  overflow: hidden;\n",
       "  text-align: left;\n",
       "  /* unfitted */\n",
       "  background-color: var(--sklearn-color-unfitted-level-0);\n",
       "}\n",
       "\n",
       "#sk-container-id-7 div.sk-toggleable__content.fitted {\n",
       "  /* fitted */\n",
       "  background-color: var(--sklearn-color-fitted-level-0);\n",
       "}\n",
       "\n",
       "#sk-container-id-7 div.sk-toggleable__content pre {\n",
       "  margin: 0.2em;\n",
       "  border-radius: 0.25em;\n",
       "  color: var(--sklearn-color-text);\n",
       "  /* unfitted */\n",
       "  background-color: var(--sklearn-color-unfitted-level-0);\n",
       "}\n",
       "\n",
       "#sk-container-id-7 div.sk-toggleable__content.fitted pre {\n",
       "  /* unfitted */\n",
       "  background-color: var(--sklearn-color-fitted-level-0);\n",
       "}\n",
       "\n",
       "#sk-container-id-7 input.sk-toggleable__control:checked~div.sk-toggleable__content {\n",
       "  /* Expand drop-down */\n",
       "  max-height: 200px;\n",
       "  max-width: 100%;\n",
       "  overflow: auto;\n",
       "}\n",
       "\n",
       "#sk-container-id-7 input.sk-toggleable__control:checked~label.sk-toggleable__label-arrow:before {\n",
       "  content: \"▾\";\n",
       "}\n",
       "\n",
       "/* Pipeline/ColumnTransformer-specific style */\n",
       "\n",
       "#sk-container-id-7 div.sk-label input.sk-toggleable__control:checked~label.sk-toggleable__label {\n",
       "  color: var(--sklearn-color-text);\n",
       "  background-color: var(--sklearn-color-unfitted-level-2);\n",
       "}\n",
       "\n",
       "#sk-container-id-7 div.sk-label.fitted input.sk-toggleable__control:checked~label.sk-toggleable__label {\n",
       "  background-color: var(--sklearn-color-fitted-level-2);\n",
       "}\n",
       "\n",
       "/* Estimator-specific style */\n",
       "\n",
       "/* Colorize estimator box */\n",
       "#sk-container-id-7 div.sk-estimator input.sk-toggleable__control:checked~label.sk-toggleable__label {\n",
       "  /* unfitted */\n",
       "  background-color: var(--sklearn-color-unfitted-level-2);\n",
       "}\n",
       "\n",
       "#sk-container-id-7 div.sk-estimator.fitted input.sk-toggleable__control:checked~label.sk-toggleable__label {\n",
       "  /* fitted */\n",
       "  background-color: var(--sklearn-color-fitted-level-2);\n",
       "}\n",
       "\n",
       "#sk-container-id-7 div.sk-label label.sk-toggleable__label,\n",
       "#sk-container-id-7 div.sk-label label {\n",
       "  /* The background is the default theme color */\n",
       "  color: var(--sklearn-color-text-on-default-background);\n",
       "}\n",
       "\n",
       "/* On hover, darken the color of the background */\n",
       "#sk-container-id-7 div.sk-label:hover label.sk-toggleable__label {\n",
       "  color: var(--sklearn-color-text);\n",
       "  background-color: var(--sklearn-color-unfitted-level-2);\n",
       "}\n",
       "\n",
       "/* Label box, darken color on hover, fitted */\n",
       "#sk-container-id-7 div.sk-label.fitted:hover label.sk-toggleable__label.fitted {\n",
       "  color: var(--sklearn-color-text);\n",
       "  background-color: var(--sklearn-color-fitted-level-2);\n",
       "}\n",
       "\n",
       "/* Estimator label */\n",
       "\n",
       "#sk-container-id-7 div.sk-label label {\n",
       "  font-family: monospace;\n",
       "  font-weight: bold;\n",
       "  display: inline-block;\n",
       "  line-height: 1.2em;\n",
       "}\n",
       "\n",
       "#sk-container-id-7 div.sk-label-container {\n",
       "  text-align: center;\n",
       "}\n",
       "\n",
       "/* Estimator-specific */\n",
       "#sk-container-id-7 div.sk-estimator {\n",
       "  font-family: monospace;\n",
       "  border: 1px dotted var(--sklearn-color-border-box);\n",
       "  border-radius: 0.25em;\n",
       "  box-sizing: border-box;\n",
       "  margin-bottom: 0.5em;\n",
       "  /* unfitted */\n",
       "  background-color: var(--sklearn-color-unfitted-level-0);\n",
       "}\n",
       "\n",
       "#sk-container-id-7 div.sk-estimator.fitted {\n",
       "  /* fitted */\n",
       "  background-color: var(--sklearn-color-fitted-level-0);\n",
       "}\n",
       "\n",
       "/* on hover */\n",
       "#sk-container-id-7 div.sk-estimator:hover {\n",
       "  /* unfitted */\n",
       "  background-color: var(--sklearn-color-unfitted-level-2);\n",
       "}\n",
       "\n",
       "#sk-container-id-7 div.sk-estimator.fitted:hover {\n",
       "  /* fitted */\n",
       "  background-color: var(--sklearn-color-fitted-level-2);\n",
       "}\n",
       "\n",
       "/* Specification for estimator info (e.g. \"i\" and \"?\") */\n",
       "\n",
       "/* Common style for \"i\" and \"?\" */\n",
       "\n",
       ".sk-estimator-doc-link,\n",
       "a:link.sk-estimator-doc-link,\n",
       "a:visited.sk-estimator-doc-link {\n",
       "  float: right;\n",
       "  font-size: smaller;\n",
       "  line-height: 1em;\n",
       "  font-family: monospace;\n",
       "  background-color: var(--sklearn-color-background);\n",
       "  border-radius: 1em;\n",
       "  height: 1em;\n",
       "  width: 1em;\n",
       "  text-decoration: none !important;\n",
       "  margin-left: 1ex;\n",
       "  /* unfitted */\n",
       "  border: var(--sklearn-color-unfitted-level-1) 1pt solid;\n",
       "  color: var(--sklearn-color-unfitted-level-1);\n",
       "}\n",
       "\n",
       ".sk-estimator-doc-link.fitted,\n",
       "a:link.sk-estimator-doc-link.fitted,\n",
       "a:visited.sk-estimator-doc-link.fitted {\n",
       "  /* fitted */\n",
       "  border: var(--sklearn-color-fitted-level-1) 1pt solid;\n",
       "  color: var(--sklearn-color-fitted-level-1);\n",
       "}\n",
       "\n",
       "/* On hover */\n",
       "div.sk-estimator:hover .sk-estimator-doc-link:hover,\n",
       ".sk-estimator-doc-link:hover,\n",
       "div.sk-label-container:hover .sk-estimator-doc-link:hover,\n",
       ".sk-estimator-doc-link:hover {\n",
       "  /* unfitted */\n",
       "  background-color: var(--sklearn-color-unfitted-level-3);\n",
       "  color: var(--sklearn-color-background);\n",
       "  text-decoration: none;\n",
       "}\n",
       "\n",
       "div.sk-estimator.fitted:hover .sk-estimator-doc-link.fitted:hover,\n",
       ".sk-estimator-doc-link.fitted:hover,\n",
       "div.sk-label-container:hover .sk-estimator-doc-link.fitted:hover,\n",
       ".sk-estimator-doc-link.fitted:hover {\n",
       "  /* fitted */\n",
       "  background-color: var(--sklearn-color-fitted-level-3);\n",
       "  color: var(--sklearn-color-background);\n",
       "  text-decoration: none;\n",
       "}\n",
       "\n",
       "/* Span, style for the box shown on hovering the info icon */\n",
       ".sk-estimator-doc-link span {\n",
       "  display: none;\n",
       "  z-index: 9999;\n",
       "  position: relative;\n",
       "  font-weight: normal;\n",
       "  right: .2ex;\n",
       "  padding: .5ex;\n",
       "  margin: .5ex;\n",
       "  width: min-content;\n",
       "  min-width: 20ex;\n",
       "  max-width: 50ex;\n",
       "  color: var(--sklearn-color-text);\n",
       "  box-shadow: 2pt 2pt 4pt #999;\n",
       "  /* unfitted */\n",
       "  background: var(--sklearn-color-unfitted-level-0);\n",
       "  border: .5pt solid var(--sklearn-color-unfitted-level-3);\n",
       "}\n",
       "\n",
       ".sk-estimator-doc-link.fitted span {\n",
       "  /* fitted */\n",
       "  background: var(--sklearn-color-fitted-level-0);\n",
       "  border: var(--sklearn-color-fitted-level-3);\n",
       "}\n",
       "\n",
       ".sk-estimator-doc-link:hover span {\n",
       "  display: block;\n",
       "}\n",
       "\n",
       "/* \"?\"-specific style due to the `<a>` HTML tag */\n",
       "\n",
       "#sk-container-id-7 a.estimator_doc_link {\n",
       "  float: right;\n",
       "  font-size: 1rem;\n",
       "  line-height: 1em;\n",
       "  font-family: monospace;\n",
       "  background-color: var(--sklearn-color-background);\n",
       "  border-radius: 1rem;\n",
       "  height: 1rem;\n",
       "  width: 1rem;\n",
       "  text-decoration: none;\n",
       "  /* unfitted */\n",
       "  color: var(--sklearn-color-unfitted-level-1);\n",
       "  border: var(--sklearn-color-unfitted-level-1) 1pt solid;\n",
       "}\n",
       "\n",
       "#sk-container-id-7 a.estimator_doc_link.fitted {\n",
       "  /* fitted */\n",
       "  border: var(--sklearn-color-fitted-level-1) 1pt solid;\n",
       "  color: var(--sklearn-color-fitted-level-1);\n",
       "}\n",
       "\n",
       "/* On hover */\n",
       "#sk-container-id-7 a.estimator_doc_link:hover {\n",
       "  /* unfitted */\n",
       "  background-color: var(--sklearn-color-unfitted-level-3);\n",
       "  color: var(--sklearn-color-background);\n",
       "  text-decoration: none;\n",
       "}\n",
       "\n",
       "#sk-container-id-7 a.estimator_doc_link.fitted:hover {\n",
       "  /* fitted */\n",
       "  background-color: var(--sklearn-color-fitted-level-3);\n",
       "}\n",
       "</style><div id=\"sk-container-id-7\" class=\"sk-top-container\"><div class=\"sk-text-repr-fallback\"><pre>BayesSearchCV(cv=StratifiedKFold(n_splits=5, random_state=None, shuffle=False),\n",
       "              estimator=ExtraTreesClassifier(), n_iter=16, n_jobs=-1,\n",
       "              search_spaces={&#x27;bootstrap&#x27;: [False], &#x27;criterion&#x27;: [&#x27;gini&#x27;],\n",
       "                             &#x27;max_features&#x27;: [1], &#x27;min_samples_leaf&#x27;: [15],\n",
       "                             &#x27;min_samples_split&#x27;: [4], &#x27;n_estimators&#x27;: [472]})</pre><b>In a Jupyter environment, please rerun this cell to show the HTML representation or trust the notebook. <br />On GitHub, the HTML representation is unable to render, please try loading this page with nbviewer.org.</b></div><div class=\"sk-container\" hidden><div class=\"sk-item sk-dashed-wrapped\"><div class=\"sk-label-container\"><div class=\"sk-label fitted sk-toggleable\"><input class=\"sk-toggleable__control sk-hidden--visually\" id=\"sk-estimator-id-19\" type=\"checkbox\" ><label for=\"sk-estimator-id-19\" class=\"sk-toggleable__label fitted sk-toggleable__label-arrow fitted\">&nbsp;BayesSearchCV<span class=\"sk-estimator-doc-link fitted\">i<span>Fitted</span></span></label><div class=\"sk-toggleable__content fitted\"><pre>BayesSearchCV(cv=StratifiedKFold(n_splits=5, random_state=None, shuffle=False),\n",
       "              estimator=ExtraTreesClassifier(), n_iter=16, n_jobs=-1,\n",
       "              search_spaces={&#x27;bootstrap&#x27;: [False], &#x27;criterion&#x27;: [&#x27;gini&#x27;],\n",
       "                             &#x27;max_features&#x27;: [1], &#x27;min_samples_leaf&#x27;: [15],\n",
       "                             &#x27;min_samples_split&#x27;: [4], &#x27;n_estimators&#x27;: [472]})</pre></div> </div></div><div class=\"sk-parallel\"><div class=\"sk-parallel-item\"><div class=\"sk-item\"><div class=\"sk-label-container\"><div class=\"sk-label fitted sk-toggleable\"><input class=\"sk-toggleable__control sk-hidden--visually\" id=\"sk-estimator-id-20\" type=\"checkbox\" ><label for=\"sk-estimator-id-20\" class=\"sk-toggleable__label fitted sk-toggleable__label-arrow fitted\">best_estimator_: ExtraTreesClassifier</label><div class=\"sk-toggleable__content fitted\"><pre>ExtraTreesClassifier(max_features=1, min_samples_leaf=15, min_samples_split=4,\n",
       "                     n_estimators=472)</pre></div> </div></div><div class=\"sk-serial\"><div class=\"sk-item\"><div class=\"sk-estimator fitted sk-toggleable\"><input class=\"sk-toggleable__control sk-hidden--visually\" id=\"sk-estimator-id-21\" type=\"checkbox\" ><label for=\"sk-estimator-id-21\" class=\"sk-toggleable__label fitted sk-toggleable__label-arrow fitted\">&nbsp;ExtraTreesClassifier<a class=\"sk-estimator-doc-link fitted\" rel=\"noreferrer\" target=\"_blank\" href=\"https://scikit-learn.org/1.5/modules/generated/sklearn.ensemble.ExtraTreesClassifier.html\">?<span>Documentation for ExtraTreesClassifier</span></a></label><div class=\"sk-toggleable__content fitted\"><pre>ExtraTreesClassifier(max_features=1, min_samples_leaf=15, min_samples_split=4,\n",
       "                     n_estimators=472)</pre></div> </div></div></div></div></div></div></div></div></div>"
      ]
     },
     "execution_count": 49,
     "metadata": {},
     "output_type": "execute_result"
    }
   ],
   "execution_count": 49
  },
  {
   "metadata": {},
   "cell_type": "markdown",
   "source": "# Print the best hyperparameters found by Bayesian optimization",
   "id": "3ea66c336911b7a4"
  },
  {
   "metadata": {
    "ExecuteTime": {
     "end_time": "2024-10-18T12:22:32.552480Z",
     "start_time": "2024-10-18T12:22:32.546781Z"
    }
   },
   "cell_type": "code",
   "source": "print(f\"Best hyperparameters for Extra Trees: {opt_extra_trees.best_params_}\")",
   "id": "1c715c8b1337ae53",
   "outputs": [
    {
     "name": "stdout",
     "output_type": "stream",
     "text": [
      "Best hyperparameters for Extra Trees: OrderedDict({'bootstrap': False, 'criterion': 'gini', 'max_features': 1, 'min_samples_leaf': 15, 'min_samples_split': 4, 'n_estimators': 472})\n"
     ]
    }
   ],
   "execution_count": 50
  },
  {
   "metadata": {},
   "cell_type": "markdown",
   "source": "# Evaluate the Extra Trees model\n",
   "id": "a442cfc3c6aec176"
  },
  {
   "metadata": {
    "ExecuteTime": {
     "end_time": "2024-10-18T12:22:36.307549Z",
     "start_time": "2024-10-18T12:22:35.010683Z"
    }
   },
   "cell_type": "code",
   "source": [
    "X_train, X_test, y_train, y_test = train_test_split(X, y, test_size=0.2, random_state=42)\n",
    "opt_extra_trees.best_estimator_.fit(X_train, y_train)\n",
    "y_test_pred = opt_extra_trees.best_estimator_.predict(X_test)\n",
    "y_test_prob = opt_extra_trees.best_estimator_.predict_proba(X_test)"
   ],
   "id": "b86c3c6503a6fcbc",
   "outputs": [],
   "execution_count": 51
  },
  {
   "metadata": {},
   "cell_type": "markdown",
   "source": "# Calculate AUC and accuracy\n",
   "id": "854571d80fe6edf2"
  },
  {
   "metadata": {
    "ExecuteTime": {
     "end_time": "2024-10-18T12:22:37.607171Z",
     "start_time": "2024-10-18T12:22:37.591354Z"
    }
   },
   "cell_type": "code",
   "source": [
    "final_auc = roc_auc_score(y_test, y_test_prob, multi_class='ovr')\n",
    "final_acc = accuracy_score(y_test, y_test_pred)\n",
    "\n",
    "print(f\"Final Evaluation on Test Set for Extra Trees Model:\\nAUC: {final_auc:.4f}, Accuracy: {final_acc:.4f}\")\n"
   ],
   "id": "59586396a92b89a3",
   "outputs": [
    {
     "name": "stdout",
     "output_type": "stream",
     "text": [
      "Final Evaluation on Test Set for Extra Trees Model:\n",
      "AUC: 0.6137, Accuracy: 0.4402\n"
     ]
    }
   ],
   "execution_count": 52
  },
  {
   "metadata": {},
   "cell_type": "markdown",
   "source": "# Save results to a CSV file\n",
   "id": "88f23c470ef74a3c"
  },
  {
   "metadata": {
    "ExecuteTime": {
     "end_time": "2024-10-18T12:15:12.364560Z",
     "start_time": "2024-10-18T12:15:12.351840Z"
    }
   },
   "cell_type": "code",
   "source": [
    "results_df = pd.DataFrame({\n",
    "    'True Label': y_test,\n",
    "    'Predicted Label': y_test_pred,\n",
    "    'Probability': y_test_prob.max(axis=1)\n",
    "})\n",
    "results_df.to_csv('extra_trees_model_results.csv', index=False)\n"
   ],
   "id": "d436addda1cbebac",
   "outputs": [],
   "execution_count": 46
  },
  {
   "metadata": {},
   "cell_type": "markdown",
   "source": "# Save the best Extra Trees model to a file\n",
   "id": "5ed1d01217233bfa"
  },
  {
   "metadata": {
    "ExecuteTime": {
     "end_time": "2024-10-18T12:15:15.294066Z",
     "start_time": "2024-10-18T12:15:14.829484Z"
    }
   },
   "cell_type": "code",
   "source": "joblib.dump(opt_extra_trees.best_estimator_, 'extra_trees_model.pkl')\n",
   "id": "6b4799cdf57d6155",
   "outputs": [
    {
     "data": {
      "text/plain": [
       "['extra_trees_model.pkl']"
      ]
     },
     "execution_count": 47,
     "metadata": {},
     "output_type": "execute_result"
    }
   ],
   "execution_count": 47
  },
  {
   "metadata": {},
   "cell_type": "markdown",
   "source": "# Plot the extra trees using graphviz\n",
   "id": "c7a64b3c639ea14c"
  },
  {
   "metadata": {
    "ExecuteTime": {
     "end_time": "2024-10-18T10:48:28.530481Z",
     "start_time": "2024-10-18T10:48:28.062752Z"
    }
   },
   "cell_type": "code",
   "source": [
    "\n",
    "\n",
    "\n",
    "# Function to export and visualize a tree from the Extra Trees model\n",
    "def visualize_tree(estimator, feature_names, tree_index):\n",
    "\n",
    "    # Export the tree to DOT format\n",
    "    dot_data = export_graphviz(\n",
    "        estimator.estimators_[tree_index],\n",
    "        out_file=None,\n",
    "        feature_names=feature_names,\n",
    "        filled=True,\n",
    "        rounded=True,\n",
    "        special_characters=True\n",
    "    )\n",
    "    # Render the tree using Graphviz\n",
    "    graph = graphviz.Source(dot_data)\n",
    "    return graph\n",
    "\n",
    "# Visualize the first tree in the Extra Trees model\n",
    "graph = visualize_tree(opt_extra_trees.best_estimator_, significant_features, 0)\n",
    "display(graph)  # Display the tree visualization inline"
   ],
   "id": "fc18d543d40c852a",
   "outputs": [
    {
     "data": {
      "text/plain": [
       "<graphviz.files.Source at 0x2425785a640>"
      ],
      "image/svg+xml": "<?xml version=\"1.0\" encoding=\"UTF-8\" standalone=\"no\"?>\r\n<!DOCTYPE svg PUBLIC \"-//W3C//DTD SVG 1.1//EN\"\r\n \"http://www.w3.org/Graphics/SVG/1.1/DTD/svg11.dtd\">\r\n<!-- Generated by graphviz version 2.46.0 (20210118.1747)\r\n -->\r\n<!-- Title: Tree Pages: 1 -->\r\n<svg width=\"2820pt\" height=\"997pt\"\r\n viewBox=\"0.00 0.00 2819.50 997.00\" xmlns=\"http://www.w3.org/2000/svg\" xmlns:xlink=\"http://www.w3.org/1999/xlink\">\r\n<g id=\"graph0\" class=\"graph\" transform=\"scale(1 1) rotate(0) translate(4 993)\">\r\n<title>Tree</title>\r\n<polygon fill=\"white\" stroke=\"transparent\" points=\"-4,4 -4,-993 2815.5,-993 2815.5,4 -4,4\"/>\r\n<!-- 0 -->\r\n<g id=\"node1\" class=\"node\">\r\n<title>0</title>\r\n<path fill=\"#caf8ef\" stroke=\"black\" d=\"M1821.5,-989C1821.5,-989 1618.5,-989 1618.5,-989 1612.5,-989 1606.5,-983 1606.5,-977 1606.5,-977 1606.5,-933 1606.5,-933 1606.5,-927 1612.5,-921 1618.5,-921 1618.5,-921 1821.5,-921 1821.5,-921 1827.5,-921 1833.5,-927 1833.5,-933 1833.5,-933 1833.5,-977 1833.5,-977 1833.5,-983 1827.5,-989 1821.5,-989\"/>\r\n<text text-anchor=\"start\" x=\"1630\" y=\"-973.8\" font-family=\"Helvetica,sans-Serif\" font-size=\"14.00\">SleepHours_Binned ≤ 6.098</text>\r\n<text text-anchor=\"start\" x=\"1682.5\" y=\"-958.8\" font-family=\"Helvetica,sans-Serif\" font-size=\"14.00\">gini = 0.739</text>\r\n<text text-anchor=\"start\" x=\"1668.5\" y=\"-943.8\" font-family=\"Helvetica,sans-Serif\" font-size=\"14.00\">samples = 2405</text>\r\n<text text-anchor=\"start\" x=\"1614.5\" y=\"-928.8\" font-family=\"Helvetica,sans-Serif\" font-size=\"14.00\">value = [214, 465, 986, 408, 332]</text>\r\n</g>\r\n<!-- 1 -->\r\n<g id=\"node2\" class=\"node\">\r\n<title>1</title>\r\n<path fill=\"#dbfaf4\" stroke=\"black\" d=\"M1555.5,-885C1555.5,-885 1352.5,-885 1352.5,-885 1346.5,-885 1340.5,-879 1340.5,-873 1340.5,-873 1340.5,-829 1340.5,-829 1340.5,-823 1346.5,-817 1352.5,-817 1352.5,-817 1555.5,-817 1555.5,-817 1561.5,-817 1567.5,-823 1567.5,-829 1567.5,-829 1567.5,-873 1567.5,-873 1567.5,-879 1561.5,-885 1555.5,-885\"/>\r\n<text text-anchor=\"start\" x=\"1381\" y=\"-869.8\" font-family=\"Helvetica,sans-Serif\" font-size=\"14.00\">Stress_Binned ≤ 3.287</text>\r\n<text text-anchor=\"start\" x=\"1416.5\" y=\"-854.8\" font-family=\"Helvetica,sans-Serif\" font-size=\"14.00\">gini = 0.758</text>\r\n<text text-anchor=\"start\" x=\"1402.5\" y=\"-839.8\" font-family=\"Helvetica,sans-Serif\" font-size=\"14.00\">samples = 1161</text>\r\n<text text-anchor=\"start\" x=\"1348.5\" y=\"-824.8\" font-family=\"Helvetica,sans-Serif\" font-size=\"14.00\">value = [104, 254, 420, 169, 214]</text>\r\n</g>\r\n<!-- 0&#45;&gt;1 -->\r\n<g id=\"edge1\" class=\"edge\">\r\n<title>0&#45;&gt;1</title>\r\n<path fill=\"none\" stroke=\"black\" d=\"M1633.64,-920.88C1606.9,-910.63 1577.29,-899.28 1549.95,-888.79\"/>\r\n<polygon fill=\"black\" stroke=\"black\" points=\"1550.97,-885.44 1540.38,-885.12 1548.47,-891.97 1550.97,-885.44\"/>\r\n<text text-anchor=\"middle\" x=\"1550.56\" y=\"-904.26\" font-family=\"Helvetica,sans-Serif\" font-size=\"14.00\">True</text>\r\n</g>\r\n<!-- 38 -->\r\n<g id=\"node39\" class=\"node\">\r\n<title>38</title>\r\n<path fill=\"#bff7ec\" stroke=\"black\" d=\"M2003.5,-885C2003.5,-885 1800.5,-885 1800.5,-885 1794.5,-885 1788.5,-879 1788.5,-873 1788.5,-873 1788.5,-829 1788.5,-829 1788.5,-823 1794.5,-817 1800.5,-817 1800.5,-817 2003.5,-817 2003.5,-817 2009.5,-817 2015.5,-823 2015.5,-829 2015.5,-829 2015.5,-873 2015.5,-873 2015.5,-879 2009.5,-885 2003.5,-885\"/>\r\n<text text-anchor=\"start\" x=\"1823.5\" y=\"-869.8\" font-family=\"Helvetica,sans-Serif\" font-size=\"14.00\">Workload_Binned ≤ 1.28</text>\r\n<text text-anchor=\"start\" x=\"1868.5\" y=\"-854.8\" font-family=\"Helvetica,sans-Serif\" font-size=\"14.00\">gini = 0.71</text>\r\n<text text-anchor=\"start\" x=\"1850.5\" y=\"-839.8\" font-family=\"Helvetica,sans-Serif\" font-size=\"14.00\">samples = 1244</text>\r\n<text text-anchor=\"start\" x=\"1796.5\" y=\"-824.8\" font-family=\"Helvetica,sans-Serif\" font-size=\"14.00\">value = [110, 211, 566, 239, 118]</text>\r\n</g>\r\n<!-- 0&#45;&gt;38 -->\r\n<g id=\"edge38\" class=\"edge\">\r\n<title>0&#45;&gt;38</title>\r\n<path fill=\"none\" stroke=\"black\" d=\"M1779.09,-920.88C1796.66,-911.04 1816.05,-900.17 1834.14,-890.03\"/>\r\n<polygon fill=\"black\" stroke=\"black\" points=\"1835.88,-893.07 1842.9,-885.12 1832.46,-886.96 1835.88,-893.07\"/>\r\n<text text-anchor=\"middle\" x=\"1836.12\" y=\"-905.49\" font-family=\"Helvetica,sans-Serif\" font-size=\"14.00\">False</text>\r\n</g>\r\n<!-- 2 -->\r\n<g id=\"node3\" class=\"node\">\r\n<title>2</title>\r\n<path fill=\"#d5f9f3\" stroke=\"black\" d=\"M1062,-781C1062,-781 868,-781 868,-781 862,-781 856,-775 856,-769 856,-769 856,-725 856,-725 856,-719 862,-713 868,-713 868,-713 1062,-713 1062,-713 1068,-713 1074,-719 1074,-725 1074,-725 1074,-769 1074,-769 1074,-775 1068,-781 1062,-781\"/>\r\n<text text-anchor=\"start\" x=\"892\" y=\"-765.8\" font-family=\"Helvetica,sans-Serif\" font-size=\"14.00\">Stress_Binned ≤ 1.309</text>\r\n<text text-anchor=\"start\" x=\"927.5\" y=\"-750.8\" font-family=\"Helvetica,sans-Serif\" font-size=\"14.00\">gini = 0.752</text>\r\n<text text-anchor=\"start\" x=\"913.5\" y=\"-735.8\" font-family=\"Helvetica,sans-Serif\" font-size=\"14.00\">samples = 1069</text>\r\n<text text-anchor=\"start\" x=\"864\" y=\"-720.8\" font-family=\"Helvetica,sans-Serif\" font-size=\"14.00\">value = [99, 226, 406, 163, 175]</text>\r\n</g>\r\n<!-- 1&#45;&gt;2 -->\r\n<g id=\"edge2\" class=\"edge\">\r\n<title>1&#45;&gt;2</title>\r\n<path fill=\"none\" stroke=\"black\" d=\"M1340.28,-826.28C1263.42,-810.25 1162.15,-789.12 1084.17,-772.86\"/>\r\n<polygon fill=\"black\" stroke=\"black\" points=\"1084.81,-769.41 1074.3,-770.8 1083.38,-776.27 1084.81,-769.41\"/>\r\n</g>\r\n<!-- 31 -->\r\n<g id=\"node32\" class=\"node\">\r\n<title>31</title>\r\n<path fill=\"#fbddf4\" stroke=\"black\" d=\"M1533,-781C1533,-781 1375,-781 1375,-781 1369,-781 1363,-775 1363,-769 1363,-769 1363,-725 1363,-725 1363,-719 1369,-713 1375,-713 1375,-713 1533,-713 1533,-713 1539,-713 1545,-719 1545,-725 1545,-725 1545,-769 1545,-769 1545,-775 1539,-781 1533,-781\"/>\r\n<text text-anchor=\"start\" x=\"1371\" y=\"-765.8\" font-family=\"Helvetica,sans-Serif\" font-size=\"14.00\">Workload_Binned ≤ 4.526</text>\r\n<text text-anchor=\"start\" x=\"1416.5\" y=\"-750.8\" font-family=\"Helvetica,sans-Serif\" font-size=\"14.00\">gini = 0.697</text>\r\n<text text-anchor=\"start\" x=\"1410.5\" y=\"-735.8\" font-family=\"Helvetica,sans-Serif\" font-size=\"14.00\">samples = 92</text>\r\n<text text-anchor=\"start\" x=\"1377.5\" y=\"-720.8\" font-family=\"Helvetica,sans-Serif\" font-size=\"14.00\">value = [5, 28, 14, 6, 39]</text>\r\n</g>\r\n<!-- 1&#45;&gt;31 -->\r\n<g id=\"edge31\" class=\"edge\">\r\n<title>1&#45;&gt;31</title>\r\n<path fill=\"none\" stroke=\"black\" d=\"M1454,-816.88C1454,-808.78 1454,-799.98 1454,-791.47\"/>\r\n<polygon fill=\"black\" stroke=\"black\" points=\"1457.5,-791.3 1454,-781.3 1450.5,-791.3 1457.5,-791.3\"/>\r\n</g>\r\n<!-- 3 -->\r\n<g id=\"node4\" class=\"node\">\r\n<title>3</title>\r\n<path fill=\"#cbf8f0\" stroke=\"black\" d=\"M733,-677C733,-677 547,-677 547,-677 541,-677 535,-671 535,-665 535,-665 535,-621 535,-621 535,-615 541,-609 547,-609 547,-609 733,-609 733,-609 739,-609 745,-615 745,-621 745,-621 745,-665 745,-665 745,-671 739,-677 733,-677\"/>\r\n<text text-anchor=\"start\" x=\"550\" y=\"-661.8\" font-family=\"Helvetica,sans-Serif\" font-size=\"14.00\">SleepHours_Binned ≤ 4.497</text>\r\n<text text-anchor=\"start\" x=\"602.5\" y=\"-646.8\" font-family=\"Helvetica,sans-Serif\" font-size=\"14.00\">gini = 0.733</text>\r\n<text text-anchor=\"start\" x=\"592.5\" y=\"-631.8\" font-family=\"Helvetica,sans-Serif\" font-size=\"14.00\">samples = 694</text>\r\n<text text-anchor=\"start\" x=\"543\" y=\"-616.8\" font-family=\"Helvetica,sans-Serif\" font-size=\"14.00\">value = [56, 144, 289, 114, 91]</text>\r\n</g>\r\n<!-- 2&#45;&gt;3 -->\r\n<g id=\"edge3\" class=\"edge\">\r\n<title>2&#45;&gt;3</title>\r\n<path fill=\"none\" stroke=\"black\" d=\"M859.48,-712.88C826.16,-702.43 789.19,-690.82 755.23,-680.16\"/>\r\n<polygon fill=\"black\" stroke=\"black\" points=\"755.86,-676.69 745.27,-677.04 753.76,-683.37 755.86,-676.69\"/>\r\n</g>\r\n<!-- 24 -->\r\n<g id=\"node25\" class=\"node\">\r\n<title>24</title>\r\n<path fill=\"#e9fcf8\" stroke=\"black\" d=\"M1050,-677C1050,-677 880,-677 880,-677 874,-677 868,-671 868,-665 868,-665 868,-621 868,-621 868,-615 874,-609 880,-609 880,-609 1050,-609 1050,-609 1056,-609 1062,-615 1062,-621 1062,-621 1062,-665 1062,-665 1062,-671 1056,-677 1050,-677\"/>\r\n<text text-anchor=\"start\" x=\"882\" y=\"-661.8\" font-family=\"Helvetica,sans-Serif\" font-size=\"14.00\">Workload_Binned ≤ 1.241</text>\r\n<text text-anchor=\"start\" x=\"927.5\" y=\"-646.8\" font-family=\"Helvetica,sans-Serif\" font-size=\"14.00\">gini = 0.774</text>\r\n<text text-anchor=\"start\" x=\"917.5\" y=\"-631.8\" font-family=\"Helvetica,sans-Serif\" font-size=\"14.00\">samples = 375</text>\r\n<text text-anchor=\"start\" x=\"876\" y=\"-616.8\" font-family=\"Helvetica,sans-Serif\" font-size=\"14.00\">value = [43, 82, 117, 49, 84]</text>\r\n</g>\r\n<!-- 2&#45;&gt;24 -->\r\n<g id=\"edge24\" class=\"edge\">\r\n<title>2&#45;&gt;24</title>\r\n<path fill=\"none\" stroke=\"black\" d=\"M965,-712.88C965,-704.78 965,-695.98 965,-687.47\"/>\r\n<polygon fill=\"black\" stroke=\"black\" points=\"968.5,-687.3 965,-677.3 961.5,-687.3 968.5,-687.3\"/>\r\n</g>\r\n<!-- 4 -->\r\n<g id=\"node5\" class=\"node\">\r\n<title>4</title>\r\n<path fill=\"#e6fcf8\" stroke=\"black\" d=\"M505,-565.5C505,-565.5 385,-565.5 385,-565.5 379,-565.5 373,-559.5 373,-553.5 373,-553.5 373,-524.5 373,-524.5 373,-518.5 379,-512.5 385,-512.5 385,-512.5 505,-512.5 505,-512.5 511,-512.5 517,-518.5 517,-524.5 517,-524.5 517,-553.5 517,-553.5 517,-559.5 511,-565.5 505,-565.5\"/>\r\n<text text-anchor=\"start\" x=\"407.5\" y=\"-550.3\" font-family=\"Helvetica,sans-Serif\" font-size=\"14.00\">gini = 0.753</text>\r\n<text text-anchor=\"start\" x=\"401.5\" y=\"-535.3\" font-family=\"Helvetica,sans-Serif\" font-size=\"14.00\">samples = 21</text>\r\n<text text-anchor=\"start\" x=\"381\" y=\"-520.3\" font-family=\"Helvetica,sans-Serif\" font-size=\"14.00\">value = [1, 3, 7, 5, 5]</text>\r\n</g>\r\n<!-- 3&#45;&gt;4 -->\r\n<g id=\"edge4\" class=\"edge\">\r\n<title>3&#45;&gt;4</title>\r\n<path fill=\"none\" stroke=\"black\" d=\"M576.69,-608.88C552.93,-596.46 526.07,-582.41 502.83,-570.25\"/>\r\n<polygon fill=\"black\" stroke=\"black\" points=\"504.27,-567.05 493.79,-565.52 501.03,-573.26 504.27,-567.05\"/>\r\n</g>\r\n<!-- 5 -->\r\n<g id=\"node6\" class=\"node\">\r\n<title>5</title>\r\n<path fill=\"#cbf8f0\" stroke=\"black\" d=\"M733,-573C733,-573 547,-573 547,-573 541,-573 535,-567 535,-561 535,-561 535,-517 535,-517 535,-511 541,-505 547,-505 547,-505 733,-505 733,-505 739,-505 745,-511 745,-517 745,-517 745,-561 745,-561 745,-567 739,-573 733,-573\"/>\r\n<text text-anchor=\"start\" x=\"550\" y=\"-557.8\" font-family=\"Helvetica,sans-Serif\" font-size=\"14.00\">SleepHours_Binned ≤ 5.646</text>\r\n<text text-anchor=\"start\" x=\"602.5\" y=\"-542.8\" font-family=\"Helvetica,sans-Serif\" font-size=\"14.00\">gini = 0.731</text>\r\n<text text-anchor=\"start\" x=\"592.5\" y=\"-527.8\" font-family=\"Helvetica,sans-Serif\" font-size=\"14.00\">samples = 673</text>\r\n<text text-anchor=\"start\" x=\"543\" y=\"-512.8\" font-family=\"Helvetica,sans-Serif\" font-size=\"14.00\">value = [55, 141, 282, 109, 86]</text>\r\n</g>\r\n<!-- 3&#45;&gt;5 -->\r\n<g id=\"edge5\" class=\"edge\">\r\n<title>3&#45;&gt;5</title>\r\n<path fill=\"none\" stroke=\"black\" d=\"M640,-608.88C640,-600.78 640,-591.98 640,-583.47\"/>\r\n<polygon fill=\"black\" stroke=\"black\" points=\"643.5,-583.3 640,-573.3 636.5,-583.3 643.5,-583.3\"/>\r\n</g>\r\n<!-- 6 -->\r\n<g id=\"node7\" class=\"node\">\r\n<title>6</title>\r\n<path fill=\"#d7faf3\" stroke=\"black\" d=\"M512,-469C512,-469 354,-469 354,-469 348,-469 342,-463 342,-457 342,-457 342,-413 342,-413 342,-407 348,-401 354,-401 354,-401 512,-401 512,-401 518,-401 524,-407 524,-413 524,-413 524,-457 524,-457 524,-463 518,-469 512,-469\"/>\r\n<text text-anchor=\"start\" x=\"350\" y=\"-453.8\" font-family=\"Helvetica,sans-Serif\" font-size=\"14.00\">Workload_Binned ≤ 1.977</text>\r\n<text text-anchor=\"start\" x=\"395.5\" y=\"-438.8\" font-family=\"Helvetica,sans-Serif\" font-size=\"14.00\">gini = 0.751</text>\r\n<text text-anchor=\"start\" x=\"385.5\" y=\"-423.8\" font-family=\"Helvetica,sans-Serif\" font-size=\"14.00\">samples = 164</text>\r\n<text text-anchor=\"start\" x=\"352.5\" y=\"-408.8\" font-family=\"Helvetica,sans-Serif\" font-size=\"14.00\">value = [9, 33, 60, 28, 34]</text>\r\n</g>\r\n<!-- 5&#45;&gt;6 -->\r\n<g id=\"edge6\" class=\"edge\">\r\n<title>5&#45;&gt;6</title>\r\n<path fill=\"none\" stroke=\"black\" d=\"M572.79,-504.88C552.53,-494.9 530.15,-483.87 509.35,-473.62\"/>\r\n<polygon fill=\"black\" stroke=\"black\" points=\"510.74,-470.41 500.22,-469.12 507.65,-476.68 510.74,-470.41\"/>\r\n</g>\r\n<!-- 15 -->\r\n<g id=\"node16\" class=\"node\">\r\n<title>15</title>\r\n<path fill=\"#c7f8ef\" stroke=\"black\" d=\"M732,-469C732,-469 554,-469 554,-469 548,-469 542,-463 542,-457 542,-457 542,-413 542,-413 542,-407 548,-401 554,-401 554,-401 732,-401 732,-401 738,-401 744,-407 744,-413 744,-413 744,-457 744,-457 744,-463 738,-469 732,-469\"/>\r\n<text text-anchor=\"start\" x=\"560\" y=\"-453.8\" font-family=\"Helvetica,sans-Serif\" font-size=\"14.00\">Workload_Binned ≤ 4.408</text>\r\n<text text-anchor=\"start\" x=\"605.5\" y=\"-438.8\" font-family=\"Helvetica,sans-Serif\" font-size=\"14.00\">gini = 0.721</text>\r\n<text text-anchor=\"start\" x=\"595.5\" y=\"-423.8\" font-family=\"Helvetica,sans-Serif\" font-size=\"14.00\">samples = 509</text>\r\n<text text-anchor=\"start\" x=\"550\" y=\"-408.8\" font-family=\"Helvetica,sans-Serif\" font-size=\"14.00\">value = [46, 108, 222, 81, 52]</text>\r\n</g>\r\n<!-- 5&#45;&gt;15 -->\r\n<g id=\"edge15\" class=\"edge\">\r\n<title>5&#45;&gt;15</title>\r\n<path fill=\"none\" stroke=\"black\" d=\"M640.97,-504.88C641.21,-496.78 641.47,-487.98 641.72,-479.47\"/>\r\n<polygon fill=\"black\" stroke=\"black\" points=\"645.23,-479.4 642.02,-469.3 638.23,-479.19 645.23,-479.4\"/>\r\n</g>\r\n<!-- 7 -->\r\n<g id=\"node8\" class=\"node\">\r\n<title>7</title>\r\n<path fill=\"#d9faf4\" stroke=\"black\" d=\"M312.5,-357.5C312.5,-357.5 175.5,-357.5 175.5,-357.5 169.5,-357.5 163.5,-351.5 163.5,-345.5 163.5,-345.5 163.5,-316.5 163.5,-316.5 163.5,-310.5 169.5,-304.5 175.5,-304.5 175.5,-304.5 312.5,-304.5 312.5,-304.5 318.5,-304.5 324.5,-310.5 324.5,-316.5 324.5,-316.5 324.5,-345.5 324.5,-345.5 324.5,-351.5 318.5,-357.5 312.5,-357.5\"/>\r\n<text text-anchor=\"start\" x=\"210.5\" y=\"-342.3\" font-family=\"Helvetica,sans-Serif\" font-size=\"14.00\">gini = 0.67</text>\r\n<text text-anchor=\"start\" x=\"200.5\" y=\"-327.3\" font-family=\"Helvetica,sans-Serif\" font-size=\"14.00\">samples = 31</text>\r\n<text text-anchor=\"start\" x=\"171.5\" y=\"-312.3\" font-family=\"Helvetica,sans-Serif\" font-size=\"14.00\">value = [1, 4, 14, 10, 2]</text>\r\n</g>\r\n<!-- 6&#45;&gt;7 -->\r\n<g id=\"edge7\" class=\"edge\">\r\n<title>6&#45;&gt;7</title>\r\n<path fill=\"none\" stroke=\"black\" d=\"M371.64,-400.88C348.71,-388.51 322.81,-374.53 300.35,-362.41\"/>\r\n<polygon fill=\"black\" stroke=\"black\" points=\"301.75,-359.19 291.29,-357.52 298.42,-365.35 301.75,-359.19\"/>\r\n</g>\r\n<!-- 8 -->\r\n<g id=\"node9\" class=\"node\">\r\n<title>8</title>\r\n<path fill=\"#e4fbf7\" stroke=\"black\" d=\"M513,-365C513,-365 355,-365 355,-365 349,-365 343,-359 343,-353 343,-353 343,-309 343,-309 343,-303 349,-297 355,-297 355,-297 513,-297 513,-297 519,-297 525,-303 525,-309 525,-309 525,-353 525,-353 525,-359 519,-365 513,-365\"/>\r\n<text text-anchor=\"start\" x=\"351\" y=\"-349.8\" font-family=\"Helvetica,sans-Serif\" font-size=\"14.00\">Workload_Binned ≤ 3.957</text>\r\n<text text-anchor=\"start\" x=\"396.5\" y=\"-334.8\" font-family=\"Helvetica,sans-Serif\" font-size=\"14.00\">gini = 0.753</text>\r\n<text text-anchor=\"start\" x=\"386.5\" y=\"-319.8\" font-family=\"Helvetica,sans-Serif\" font-size=\"14.00\">samples = 133</text>\r\n<text text-anchor=\"start\" x=\"353.5\" y=\"-304.8\" font-family=\"Helvetica,sans-Serif\" font-size=\"14.00\">value = [8, 29, 46, 18, 32]</text>\r\n</g>\r\n<!-- 6&#45;&gt;8 -->\r\n<g id=\"edge8\" class=\"edge\">\r\n<title>6&#45;&gt;8</title>\r\n<path fill=\"none\" stroke=\"black\" d=\"M433.32,-400.88C433.4,-392.78 433.49,-383.98 433.57,-375.47\"/>\r\n<polygon fill=\"black\" stroke=\"black\" points=\"437.08,-375.33 433.67,-365.3 430.08,-375.26 437.08,-375.33\"/>\r\n</g>\r\n<!-- 9 -->\r\n<g id=\"node10\" class=\"node\">\r\n<title>9</title>\r\n<path fill=\"#bbf6eb\" stroke=\"black\" d=\"M316,-261C316,-261 158,-261 158,-261 152,-261 146,-255 146,-249 146,-249 146,-205 146,-205 146,-199 152,-193 158,-193 158,-193 316,-193 316,-193 322,-193 328,-199 328,-205 328,-205 328,-249 328,-249 328,-255 322,-261 316,-261\"/>\r\n<text text-anchor=\"start\" x=\"154\" y=\"-245.8\" font-family=\"Helvetica,sans-Serif\" font-size=\"14.00\">Workload_Binned ≤ 2.778</text>\r\n<text text-anchor=\"start\" x=\"199.5\" y=\"-230.8\" font-family=\"Helvetica,sans-Serif\" font-size=\"14.00\">gini = 0.693</text>\r\n<text text-anchor=\"start\" x=\"193.5\" y=\"-215.8\" font-family=\"Helvetica,sans-Serif\" font-size=\"14.00\">samples = 72</text>\r\n<text text-anchor=\"start\" x=\"160.5\" y=\"-200.8\" font-family=\"Helvetica,sans-Serif\" font-size=\"14.00\">value = [3, 13, 34, 8, 14]</text>\r\n</g>\r\n<!-- 8&#45;&gt;9 -->\r\n<g id=\"edge9\" class=\"edge\">\r\n<title>8&#45;&gt;9</title>\r\n<path fill=\"none\" stroke=\"black\" d=\"M370.04,-296.88C350.85,-286.95 329.65,-275.97 309.92,-265.76\"/>\r\n<polygon fill=\"black\" stroke=\"black\" points=\"311.47,-262.61 300.98,-261.12 308.25,-268.83 311.47,-262.61\"/>\r\n</g>\r\n<!-- 12 -->\r\n<g id=\"node13\" class=\"node\">\r\n<title>12</title>\r\n<path fill=\"#fef6fc\" stroke=\"black\" d=\"M516,-261C516,-261 358,-261 358,-261 352,-261 346,-255 346,-249 346,-249 346,-205 346,-205 346,-199 352,-193 358,-193 358,-193 516,-193 516,-193 522,-193 528,-199 528,-205 528,-205 528,-249 528,-249 528,-255 522,-261 516,-261\"/>\r\n<text text-anchor=\"start\" x=\"354\" y=\"-245.8\" font-family=\"Helvetica,sans-Serif\" font-size=\"14.00\">Workload_Binned ≤ 4.542</text>\r\n<text text-anchor=\"start\" x=\"399.5\" y=\"-230.8\" font-family=\"Helvetica,sans-Serif\" font-size=\"14.00\">gini = 0.772</text>\r\n<text text-anchor=\"start\" x=\"393.5\" y=\"-215.8\" font-family=\"Helvetica,sans-Serif\" font-size=\"14.00\">samples = 61</text>\r\n<text text-anchor=\"start\" x=\"356.5\" y=\"-200.8\" font-family=\"Helvetica,sans-Serif\" font-size=\"14.00\">value = [5, 16, 12, 10, 18]</text>\r\n</g>\r\n<!-- 8&#45;&gt;12 -->\r\n<g id=\"edge12\" class=\"edge\">\r\n<title>8&#45;&gt;12</title>\r\n<path fill=\"none\" stroke=\"black\" d=\"M434.97,-296.88C435.21,-288.78 435.47,-279.98 435.72,-271.47\"/>\r\n<polygon fill=\"black\" stroke=\"black\" points=\"439.23,-271.4 436.02,-261.3 432.23,-271.19 439.23,-271.4\"/>\r\n</g>\r\n<!-- 10 -->\r\n<g id=\"node11\" class=\"node\">\r\n<title>10</title>\r\n<path fill=\"#c4f7ee\" stroke=\"black\" d=\"M140,-149.5C140,-149.5 12,-149.5 12,-149.5 6,-149.5 0,-143.5 0,-137.5 0,-137.5 0,-108.5 0,-108.5 0,-102.5 6,-96.5 12,-96.5 12,-96.5 140,-96.5 140,-96.5 146,-96.5 152,-102.5 152,-108.5 152,-108.5 152,-137.5 152,-137.5 152,-143.5 146,-149.5 140,-149.5\"/>\r\n<text text-anchor=\"start\" x=\"42.5\" y=\"-134.3\" font-family=\"Helvetica,sans-Serif\" font-size=\"14.00\">gini = 0.72</text>\r\n<text text-anchor=\"start\" x=\"32.5\" y=\"-119.3\" font-family=\"Helvetica,sans-Serif\" font-size=\"14.00\">samples = 33</text>\r\n<text text-anchor=\"start\" x=\"8\" y=\"-104.3\" font-family=\"Helvetica,sans-Serif\" font-size=\"14.00\">value = [1, 6, 14, 6, 6]</text>\r\n</g>\r\n<!-- 9&#45;&gt;10 -->\r\n<g id=\"edge10\" class=\"edge\">\r\n<title>9&#45;&gt;10</title>\r\n<path fill=\"none\" stroke=\"black\" d=\"M184.73,-192.88C165.46,-180.68 143.72,-166.9 124.77,-154.9\"/>\r\n<polygon fill=\"black\" stroke=\"black\" points=\"126.6,-151.92 116.28,-149.52 122.86,-157.83 126.6,-151.92\"/>\r\n</g>\r\n<!-- 11 -->\r\n<g id=\"node12\" class=\"node\">\r\n<title>11</title>\r\n<path fill=\"#b2f5e9\" stroke=\"black\" d=\"M310,-149.5C310,-149.5 182,-149.5 182,-149.5 176,-149.5 170,-143.5 170,-137.5 170,-137.5 170,-108.5 170,-108.5 170,-102.5 176,-96.5 182,-96.5 182,-96.5 310,-96.5 310,-96.5 316,-96.5 322,-102.5 322,-108.5 322,-108.5 322,-137.5 322,-137.5 322,-143.5 316,-149.5 310,-149.5\"/>\r\n<text text-anchor=\"start\" x=\"208.5\" y=\"-134.3\" font-family=\"Helvetica,sans-Serif\" font-size=\"14.00\">gini = 0.657</text>\r\n<text text-anchor=\"start\" x=\"202.5\" y=\"-119.3\" font-family=\"Helvetica,sans-Serif\" font-size=\"14.00\">samples = 39</text>\r\n<text text-anchor=\"start\" x=\"178\" y=\"-104.3\" font-family=\"Helvetica,sans-Serif\" font-size=\"14.00\">value = [2, 7, 20, 2, 8]</text>\r\n</g>\r\n<!-- 9&#45;&gt;11 -->\r\n<g id=\"edge11\" class=\"edge\">\r\n<title>9&#45;&gt;11</title>\r\n<path fill=\"none\" stroke=\"black\" d=\"M239.92,-192.88C240.86,-182.22 241.91,-170.35 242.87,-159.52\"/>\r\n<polygon fill=\"black\" stroke=\"black\" points=\"246.36,-159.79 243.75,-149.52 239.38,-159.17 246.36,-159.79\"/>\r\n</g>\r\n<!-- 13 -->\r\n<g id=\"node14\" class=\"node\">\r\n<title>13</title>\r\n<path fill=\"#f9fef6\" stroke=\"black\" d=\"M489,-149.5C489,-149.5 369,-149.5 369,-149.5 363,-149.5 357,-143.5 357,-137.5 357,-137.5 357,-108.5 357,-108.5 357,-102.5 363,-96.5 369,-96.5 369,-96.5 489,-96.5 489,-96.5 495,-96.5 501,-102.5 501,-108.5 501,-108.5 501,-137.5 501,-137.5 501,-143.5 495,-149.5 489,-149.5\"/>\r\n<text text-anchor=\"start\" x=\"391.5\" y=\"-134.3\" font-family=\"Helvetica,sans-Serif\" font-size=\"14.00\">gini = 0.778</text>\r\n<text text-anchor=\"start\" x=\"385.5\" y=\"-119.3\" font-family=\"Helvetica,sans-Serif\" font-size=\"14.00\">samples = 31</text>\r\n<text text-anchor=\"start\" x=\"365\" y=\"-104.3\" font-family=\"Helvetica,sans-Serif\" font-size=\"14.00\">value = [4, 9, 8, 4, 6]</text>\r\n</g>\r\n<!-- 12&#45;&gt;13 -->\r\n<g id=\"edge13\" class=\"edge\">\r\n<title>12&#45;&gt;13</title>\r\n<path fill=\"none\" stroke=\"black\" d=\"M434.4,-192.88C433.57,-182.22 432.64,-170.35 431.79,-159.52\"/>\r\n<polygon fill=\"black\" stroke=\"black\" points=\"435.27,-159.22 431,-149.52 428.29,-159.76 435.27,-159.22\"/>\r\n</g>\r\n<!-- 14 -->\r\n<g id=\"node15\" class=\"node\">\r\n<title>14</title>\r\n<path fill=\"#f9d4f1\" stroke=\"black\" d=\"M659,-149.5C659,-149.5 531,-149.5 531,-149.5 525,-149.5 519,-143.5 519,-137.5 519,-137.5 519,-108.5 519,-108.5 519,-102.5 525,-96.5 531,-96.5 531,-96.5 659,-96.5 659,-96.5 665,-96.5 671,-102.5 671,-108.5 671,-108.5 671,-137.5 671,-137.5 671,-143.5 665,-149.5 659,-149.5\"/>\r\n<text text-anchor=\"start\" x=\"557.5\" y=\"-134.3\" font-family=\"Helvetica,sans-Serif\" font-size=\"14.00\">gini = 0.727</text>\r\n<text text-anchor=\"start\" x=\"551.5\" y=\"-119.3\" font-family=\"Helvetica,sans-Serif\" font-size=\"14.00\">samples = 30</text>\r\n<text text-anchor=\"start\" x=\"527\" y=\"-104.3\" font-family=\"Helvetica,sans-Serif\" font-size=\"14.00\">value = [1, 7, 4, 6, 12]</text>\r\n</g>\r\n<!-- 12&#45;&gt;14 -->\r\n<g id=\"edge14\" class=\"edge\">\r\n<title>12&#45;&gt;14</title>\r\n<path fill=\"none\" stroke=\"black\" d=\"M488.3,-192.88C507.12,-180.73 528.35,-167.03 546.89,-155.06\"/>\r\n<polygon fill=\"black\" stroke=\"black\" points=\"548.97,-157.88 555.47,-149.52 545.17,-152 548.97,-157.88\"/>\r\n</g>\r\n<!-- 16 -->\r\n<g id=\"node17\" class=\"node\">\r\n<title>16</title>\r\n<path fill=\"#b9f6ea\" stroke=\"black\" d=\"M727,-365C727,-365 557,-365 557,-365 551,-365 545,-359 545,-353 545,-353 545,-309 545,-309 545,-303 551,-297 557,-297 557,-297 727,-297 727,-297 733,-297 739,-303 739,-309 739,-309 739,-353 739,-353 739,-359 733,-365 727,-365\"/>\r\n<text text-anchor=\"start\" x=\"559\" y=\"-349.8\" font-family=\"Helvetica,sans-Serif\" font-size=\"14.00\">Workload_Binned ≤ 1.366</text>\r\n<text text-anchor=\"start\" x=\"604.5\" y=\"-334.8\" font-family=\"Helvetica,sans-Serif\" font-size=\"14.00\">gini = 0.695</text>\r\n<text text-anchor=\"start\" x=\"594.5\" y=\"-319.8\" font-family=\"Helvetica,sans-Serif\" font-size=\"14.00\">samples = 417</text>\r\n<text text-anchor=\"start\" x=\"553\" y=\"-304.8\" font-family=\"Helvetica,sans-Serif\" font-size=\"14.00\">value = [39, 78, 198, 74, 28]</text>\r\n</g>\r\n<!-- 15&#45;&gt;16 -->\r\n<g id=\"edge16\" class=\"edge\">\r\n<title>15&#45;&gt;16</title>\r\n<path fill=\"none\" stroke=\"black\" d=\"M642.68,-400.88C642.6,-392.78 642.51,-383.98 642.43,-375.47\"/>\r\n<polygon fill=\"black\" stroke=\"black\" points=\"645.92,-375.26 642.33,-365.3 638.92,-375.33 645.92,-375.26\"/>\r\n</g>\r\n<!-- 23 -->\r\n<g id=\"node24\" class=\"node\">\r\n<title>23</title>\r\n<path fill=\"#f3fdee\" stroke=\"black\" d=\"M914.5,-357.5C914.5,-357.5 769.5,-357.5 769.5,-357.5 763.5,-357.5 757.5,-351.5 757.5,-345.5 757.5,-345.5 757.5,-316.5 757.5,-316.5 757.5,-310.5 763.5,-304.5 769.5,-304.5 769.5,-304.5 914.5,-304.5 914.5,-304.5 920.5,-304.5 926.5,-310.5 926.5,-316.5 926.5,-316.5 926.5,-345.5 926.5,-345.5 926.5,-351.5 920.5,-357.5 914.5,-357.5\"/>\r\n<text text-anchor=\"start\" x=\"804.5\" y=\"-342.3\" font-family=\"Helvetica,sans-Serif\" font-size=\"14.00\">gini = 0.746</text>\r\n<text text-anchor=\"start\" x=\"798.5\" y=\"-327.3\" font-family=\"Helvetica,sans-Serif\" font-size=\"14.00\">samples = 92</text>\r\n<text text-anchor=\"start\" x=\"765.5\" y=\"-312.3\" font-family=\"Helvetica,sans-Serif\" font-size=\"14.00\">value = [7, 30, 24, 7, 24]</text>\r\n</g>\r\n<!-- 15&#45;&gt;23 -->\r\n<g id=\"edge23\" class=\"edge\">\r\n<title>15&#45;&gt;23</title>\r\n<path fill=\"none\" stroke=\"black\" d=\"M707.61,-400.88C731.96,-388.4 759.51,-374.28 783.29,-362.09\"/>\r\n<polygon fill=\"black\" stroke=\"black\" points=\"784.91,-365.2 792.21,-357.52 781.72,-358.97 784.91,-365.2\"/>\r\n</g>\r\n<!-- 17 -->\r\n<g id=\"node18\" class=\"node\">\r\n<title>17</title>\r\n<path fill=\"#b2f5e9\" stroke=\"black\" d=\"M715.5,-253.5C715.5,-253.5 562.5,-253.5 562.5,-253.5 556.5,-253.5 550.5,-247.5 550.5,-241.5 550.5,-241.5 550.5,-212.5 550.5,-212.5 550.5,-206.5 556.5,-200.5 562.5,-200.5 562.5,-200.5 715.5,-200.5 715.5,-200.5 721.5,-200.5 727.5,-206.5 727.5,-212.5 727.5,-212.5 727.5,-241.5 727.5,-241.5 727.5,-247.5 721.5,-253.5 715.5,-253.5\"/>\r\n<text text-anchor=\"start\" x=\"601.5\" y=\"-238.3\" font-family=\"Helvetica,sans-Serif\" font-size=\"14.00\">gini = 0.659</text>\r\n<text text-anchor=\"start\" x=\"591.5\" y=\"-223.3\" font-family=\"Helvetica,sans-Serif\" font-size=\"14.00\">samples = 117</text>\r\n<text text-anchor=\"start\" x=\"558.5\" y=\"-208.3\" font-family=\"Helvetica,sans-Serif\" font-size=\"14.00\">value = [14, 17, 60, 24, 2]</text>\r\n</g>\r\n<!-- 16&#45;&gt;17 -->\r\n<g id=\"edge17\" class=\"edge\">\r\n<title>16&#45;&gt;17</title>\r\n<path fill=\"none\" stroke=\"black\" d=\"M641.03,-296.88C640.71,-286.22 640.36,-274.35 640.04,-263.52\"/>\r\n<polygon fill=\"black\" stroke=\"black\" points=\"643.54,-263.41 639.75,-253.52 636.55,-263.62 643.54,-263.41\"/>\r\n</g>\r\n<!-- 18 -->\r\n<g id=\"node19\" class=\"node\">\r\n<title>18</title>\r\n<path fill=\"#bff7ec\" stroke=\"black\" d=\"M928,-261C928,-261 758,-261 758,-261 752,-261 746,-255 746,-249 746,-249 746,-205 746,-205 746,-199 752,-193 758,-193 758,-193 928,-193 928,-193 934,-193 940,-199 940,-205 940,-205 940,-249 940,-249 940,-255 934,-261 928,-261\"/>\r\n<text text-anchor=\"start\" x=\"760\" y=\"-245.8\" font-family=\"Helvetica,sans-Serif\" font-size=\"14.00\">Workload_Binned ≤ 2.076</text>\r\n<text text-anchor=\"start\" x=\"805.5\" y=\"-230.8\" font-family=\"Helvetica,sans-Serif\" font-size=\"14.00\">gini = 0.705</text>\r\n<text text-anchor=\"start\" x=\"795.5\" y=\"-215.8\" font-family=\"Helvetica,sans-Serif\" font-size=\"14.00\">samples = 300</text>\r\n<text text-anchor=\"start\" x=\"754\" y=\"-200.8\" font-family=\"Helvetica,sans-Serif\" font-size=\"14.00\">value = [25, 61, 138, 50, 26]</text>\r\n</g>\r\n<!-- 16&#45;&gt;18 -->\r\n<g id=\"edge18\" class=\"edge\">\r\n<title>16&#45;&gt;18</title>\r\n<path fill=\"none\" stroke=\"black\" d=\"M707.26,-296.88C726.84,-286.95 748.47,-275.97 768.6,-265.76\"/>\r\n<polygon fill=\"black\" stroke=\"black\" points=\"770.39,-268.77 777.72,-261.12 767.22,-262.53 770.39,-268.77\"/>\r\n</g>\r\n<!-- 19 -->\r\n<g id=\"node20\" class=\"node\">\r\n<title>19</title>\r\n<path fill=\"#bef6ec\" stroke=\"black\" d=\"M881.5,-149.5C881.5,-149.5 736.5,-149.5 736.5,-149.5 730.5,-149.5 724.5,-143.5 724.5,-137.5 724.5,-137.5 724.5,-108.5 724.5,-108.5 724.5,-102.5 730.5,-96.5 736.5,-96.5 736.5,-96.5 881.5,-96.5 881.5,-96.5 887.5,-96.5 893.5,-102.5 893.5,-108.5 893.5,-108.5 893.5,-137.5 893.5,-137.5 893.5,-143.5 887.5,-149.5 881.5,-149.5\"/>\r\n<text text-anchor=\"start\" x=\"771.5\" y=\"-134.3\" font-family=\"Helvetica,sans-Serif\" font-size=\"14.00\">gini = 0.663</text>\r\n<text text-anchor=\"start\" x=\"761.5\" y=\"-119.3\" font-family=\"Helvetica,sans-Serif\" font-size=\"14.00\">samples = 100</text>\r\n<text text-anchor=\"start\" x=\"732.5\" y=\"-104.3\" font-family=\"Helvetica,sans-Serif\" font-size=\"14.00\">value = [4, 19, 49, 24, 4]</text>\r\n</g>\r\n<!-- 18&#45;&gt;19 -->\r\n<g id=\"edge19\" class=\"edge\">\r\n<title>18&#45;&gt;19</title>\r\n<path fill=\"none\" stroke=\"black\" d=\"M831.96,-192.88C828.37,-182.11 824.37,-170.11 820.73,-159.18\"/>\r\n<polygon fill=\"black\" stroke=\"black\" points=\"823.99,-157.9 817.51,-149.52 817.35,-160.11 823.99,-157.9\"/>\r\n</g>\r\n<!-- 20 -->\r\n<g id=\"node21\" class=\"node\">\r\n<title>20</title>\r\n<path fill=\"#c4f7ee\" stroke=\"black\" d=\"M1084.5,-157C1084.5,-157 923.5,-157 923.5,-157 917.5,-157 911.5,-151 911.5,-145 911.5,-145 911.5,-101 911.5,-101 911.5,-95 917.5,-89 923.5,-89 923.5,-89 1084.5,-89 1084.5,-89 1090.5,-89 1096.5,-95 1096.5,-101 1096.5,-101 1096.5,-145 1096.5,-145 1096.5,-151 1090.5,-157 1084.5,-157\"/>\r\n<text text-anchor=\"start\" x=\"921\" y=\"-141.8\" font-family=\"Helvetica,sans-Serif\" font-size=\"14.00\">Workload_Binned ≤ 3.052</text>\r\n<text text-anchor=\"start\" x=\"966.5\" y=\"-126.8\" font-family=\"Helvetica,sans-Serif\" font-size=\"14.00\">gini = 0.718</text>\r\n<text text-anchor=\"start\" x=\"956.5\" y=\"-111.8\" font-family=\"Helvetica,sans-Serif\" font-size=\"14.00\">samples = 200</text>\r\n<text text-anchor=\"start\" x=\"919.5\" y=\"-96.8\" font-family=\"Helvetica,sans-Serif\" font-size=\"14.00\">value = [21, 42, 89, 26, 22]</text>\r\n</g>\r\n<!-- 18&#45;&gt;20 -->\r\n<g id=\"edge20\" class=\"edge\">\r\n<title>18&#45;&gt;20</title>\r\n<path fill=\"none\" stroke=\"black\" d=\"M895.27,-192.88C910.53,-183.21 927.35,-172.56 943.09,-162.59\"/>\r\n<polygon fill=\"black\" stroke=\"black\" points=\"945.14,-165.43 951.71,-157.12 941.39,-159.52 945.14,-165.43\"/>\r\n</g>\r\n<!-- 21 -->\r\n<g id=\"node22\" class=\"node\">\r\n<title>21</title>\r\n<path fill=\"#b3f5e9\" stroke=\"black\" d=\"M982.5,-53C982.5,-53 829.5,-53 829.5,-53 823.5,-53 817.5,-47 817.5,-41 817.5,-41 817.5,-12 817.5,-12 817.5,-6 823.5,0 829.5,0 829.5,0 982.5,0 982.5,0 988.5,0 994.5,-6 994.5,-12 994.5,-12 994.5,-41 994.5,-41 994.5,-47 988.5,-53 982.5,-53\"/>\r\n<text text-anchor=\"start\" x=\"868.5\" y=\"-37.8\" font-family=\"Helvetica,sans-Serif\" font-size=\"14.00\">gini = 0.687</text>\r\n<text text-anchor=\"start\" x=\"858.5\" y=\"-22.8\" font-family=\"Helvetica,sans-Serif\" font-size=\"14.00\">samples = 101</text>\r\n<text text-anchor=\"start\" x=\"825.5\" y=\"-7.8\" font-family=\"Helvetica,sans-Serif\" font-size=\"14.00\">value = [13, 18, 50, 9, 11]</text>\r\n</g>\r\n<!-- 20&#45;&gt;21 -->\r\n<g id=\"edge21\" class=\"edge\">\r\n<title>20&#45;&gt;21</title>\r\n<path fill=\"none\" stroke=\"black\" d=\"M969.72,-88.95C960.14,-79.71 949.73,-69.67 940.16,-60.44\"/>\r\n<polygon fill=\"black\" stroke=\"black\" points=\"942.32,-57.66 932.69,-53.24 937.46,-62.7 942.32,-57.66\"/>\r\n</g>\r\n<!-- 22 -->\r\n<g id=\"node23\" class=\"node\">\r\n<title>22</title>\r\n<path fill=\"#d7faf3\" stroke=\"black\" d=\"M1177.5,-53C1177.5,-53 1024.5,-53 1024.5,-53 1018.5,-53 1012.5,-47 1012.5,-41 1012.5,-41 1012.5,-12 1012.5,-12 1012.5,-6 1018.5,0 1024.5,0 1024.5,0 1177.5,0 1177.5,0 1183.5,0 1189.5,-6 1189.5,-12 1189.5,-12 1189.5,-41 1189.5,-41 1189.5,-47 1183.5,-53 1177.5,-53\"/>\r\n<text text-anchor=\"start\" x=\"1063.5\" y=\"-37.8\" font-family=\"Helvetica,sans-Serif\" font-size=\"14.00\">gini = 0.738</text>\r\n<text text-anchor=\"start\" x=\"1057.5\" y=\"-22.8\" font-family=\"Helvetica,sans-Serif\" font-size=\"14.00\">samples = 99</text>\r\n<text text-anchor=\"start\" x=\"1020.5\" y=\"-7.8\" font-family=\"Helvetica,sans-Serif\" font-size=\"14.00\">value = [8, 24, 39, 17, 11]</text>\r\n</g>\r\n<!-- 20&#45;&gt;22 -->\r\n<g id=\"edge22\" class=\"edge\">\r\n<title>20&#45;&gt;22</title>\r\n<path fill=\"none\" stroke=\"black\" d=\"M1037.93,-88.95C1047.41,-79.71 1057.71,-69.67 1067.19,-60.44\"/>\r\n<polygon fill=\"black\" stroke=\"black\" points=\"1069.86,-62.72 1074.58,-53.24 1064.98,-57.71 1069.86,-62.72\"/>\r\n</g>\r\n<!-- 25 -->\r\n<g id=\"node26\" class=\"node\">\r\n<title>25</title>\r\n<path fill=\"#c2f7ed\" stroke=\"black\" d=\"M947,-573C947,-573 775,-573 775,-573 769,-573 763,-567 763,-561 763,-561 763,-517 763,-517 763,-511 769,-505 775,-505 775,-505 947,-505 947,-505 953,-505 959,-511 959,-517 959,-517 959,-561 959,-561 959,-567 953,-573 947,-573\"/>\r\n<text text-anchor=\"start\" x=\"771\" y=\"-557.8\" font-family=\"Helvetica,sans-Serif\" font-size=\"14.00\">SleepHours_Binned ≤ 5.777</text>\r\n<text text-anchor=\"start\" x=\"823.5\" y=\"-542.8\" font-family=\"Helvetica,sans-Serif\" font-size=\"14.00\">gini = 0.722</text>\r\n<text text-anchor=\"start\" x=\"817.5\" y=\"-527.8\" font-family=\"Helvetica,sans-Serif\" font-size=\"14.00\">samples = 84</text>\r\n<text text-anchor=\"start\" x=\"780.5\" y=\"-512.8\" font-family=\"Helvetica,sans-Serif\" font-size=\"14.00\">value = [11, 13, 37, 16, 7]</text>\r\n</g>\r\n<!-- 24&#45;&gt;25 -->\r\n<g id=\"edge25\" class=\"edge\">\r\n<title>24&#45;&gt;25</title>\r\n<path fill=\"none\" stroke=\"black\" d=\"M931.23,-608.88C921.97,-599.8 911.82,-589.85 902.19,-580.4\"/>\r\n<polygon fill=\"black\" stroke=\"black\" points=\"904.54,-577.8 894.95,-573.3 899.64,-582.8 904.54,-577.8\"/>\r\n</g>\r\n<!-- 30 -->\r\n<g id=\"node31\" class=\"node\">\r\n<title>30</title>\r\n<path fill=\"#fcfffe\" stroke=\"black\" d=\"M1150.5,-565.5C1150.5,-565.5 989.5,-565.5 989.5,-565.5 983.5,-565.5 977.5,-559.5 977.5,-553.5 977.5,-553.5 977.5,-524.5 977.5,-524.5 977.5,-518.5 983.5,-512.5 989.5,-512.5 989.5,-512.5 1150.5,-512.5 1150.5,-512.5 1156.5,-512.5 1162.5,-518.5 1162.5,-524.5 1162.5,-524.5 1162.5,-553.5 1162.5,-553.5 1162.5,-559.5 1156.5,-565.5 1150.5,-565.5\"/>\r\n<text text-anchor=\"start\" x=\"1032.5\" y=\"-550.3\" font-family=\"Helvetica,sans-Serif\" font-size=\"14.00\">gini = 0.773</text>\r\n<text text-anchor=\"start\" x=\"1022.5\" y=\"-535.3\" font-family=\"Helvetica,sans-Serif\" font-size=\"14.00\">samples = 291</text>\r\n<text text-anchor=\"start\" x=\"985.5\" y=\"-520.3\" font-family=\"Helvetica,sans-Serif\" font-size=\"14.00\">value = [32, 69, 80, 33, 77]</text>\r\n</g>\r\n<!-- 24&#45;&gt;30 -->\r\n<g id=\"edge30\" class=\"edge\">\r\n<title>24&#45;&gt;30</title>\r\n<path fill=\"none\" stroke=\"black\" d=\"M999.09,-608.88C1011.09,-597.23 1024.56,-584.14 1036.51,-572.53\"/>\r\n<polygon fill=\"black\" stroke=\"black\" points=\"1039,-575 1043.73,-565.52 1034.12,-569.98 1039,-575\"/>\r\n</g>\r\n<!-- 26 -->\r\n<g id=\"node27\" class=\"node\">\r\n<title>26</title>\r\n<path fill=\"#e8fcf8\" stroke=\"black\" d=\"M920,-461.5C920,-461.5 792,-461.5 792,-461.5 786,-461.5 780,-455.5 780,-449.5 780,-449.5 780,-420.5 780,-420.5 780,-414.5 786,-408.5 792,-408.5 792,-408.5 920,-408.5 920,-408.5 926,-408.5 932,-414.5 932,-420.5 932,-420.5 932,-449.5 932,-449.5 932,-455.5 926,-461.5 920,-461.5\"/>\r\n<text text-anchor=\"start\" x=\"818.5\" y=\"-446.3\" font-family=\"Helvetica,sans-Serif\" font-size=\"14.00\">gini = 0.704</text>\r\n<text text-anchor=\"start\" x=\"812.5\" y=\"-431.3\" font-family=\"Helvetica,sans-Serif\" font-size=\"14.00\">samples = 25</text>\r\n<text text-anchor=\"start\" x=\"788\" y=\"-416.3\" font-family=\"Helvetica,sans-Serif\" font-size=\"14.00\">value = [4, 1, 10, 8, 2]</text>\r\n</g>\r\n<!-- 25&#45;&gt;26 -->\r\n<g id=\"edge26\" class=\"edge\">\r\n<title>25&#45;&gt;26</title>\r\n<path fill=\"none\" stroke=\"black\" d=\"M859.38,-504.88C858.85,-494.22 858.27,-482.35 857.74,-471.52\"/>\r\n<polygon fill=\"black\" stroke=\"black\" points=\"861.24,-471.34 857.25,-461.52 854.24,-471.68 861.24,-471.34\"/>\r\n</g>\r\n<!-- 27 -->\r\n<g id=\"node28\" class=\"node\">\r\n<title>27</title>\r\n<path fill=\"#c0f7ec\" stroke=\"black\" d=\"M1100,-469C1100,-469 962,-469 962,-469 956,-469 950,-463 950,-457 950,-457 950,-413 950,-413 950,-407 956,-401 962,-401 962,-401 1100,-401 1100,-401 1106,-401 1112,-407 1112,-413 1112,-413 1112,-457 1112,-457 1112,-463 1106,-469 1100,-469\"/>\r\n<text text-anchor=\"start\" x=\"958\" y=\"-453.8\" font-family=\"Helvetica,sans-Serif\" font-size=\"14.00\">Stress_Binned ≤ 2.844</text>\r\n<text text-anchor=\"start\" x=\"997.5\" y=\"-438.8\" font-family=\"Helvetica,sans-Serif\" font-size=\"14.00\">gini = 0.71</text>\r\n<text text-anchor=\"start\" x=\"987.5\" y=\"-423.8\" font-family=\"Helvetica,sans-Serif\" font-size=\"14.00\">samples = 59</text>\r\n<text text-anchor=\"start\" x=\"958.5\" y=\"-408.8\" font-family=\"Helvetica,sans-Serif\" font-size=\"14.00\">value = [7, 12, 27, 8, 5]</text>\r\n</g>\r\n<!-- 25&#45;&gt;27 -->\r\n<g id=\"edge27\" class=\"edge\">\r\n<title>25&#45;&gt;27</title>\r\n<path fill=\"none\" stroke=\"black\" d=\"M916.19,-504.88C932.46,-495.12 950.39,-484.37 967.15,-474.31\"/>\r\n<polygon fill=\"black\" stroke=\"black\" points=\"969.02,-477.27 975.79,-469.12 965.42,-471.27 969.02,-477.27\"/>\r\n</g>\r\n<!-- 28 -->\r\n<g id=\"node29\" class=\"node\">\r\n<title>28</title>\r\n<path fill=\"#ddfaf5\" stroke=\"black\" d=\"M1093,-357.5C1093,-357.5 965,-357.5 965,-357.5 959,-357.5 953,-351.5 953,-345.5 953,-345.5 953,-316.5 953,-316.5 953,-310.5 959,-304.5 965,-304.5 965,-304.5 1093,-304.5 1093,-304.5 1099,-304.5 1105,-310.5 1105,-316.5 1105,-316.5 1105,-345.5 1105,-345.5 1105,-351.5 1099,-357.5 1093,-357.5\"/>\r\n<text text-anchor=\"start\" x=\"991.5\" y=\"-342.3\" font-family=\"Helvetica,sans-Serif\" font-size=\"14.00\">gini = 0.707</text>\r\n<text text-anchor=\"start\" x=\"985.5\" y=\"-327.3\" font-family=\"Helvetica,sans-Serif\" font-size=\"14.00\">samples = 32</text>\r\n<text text-anchor=\"start\" x=\"961\" y=\"-312.3\" font-family=\"Helvetica,sans-Serif\" font-size=\"14.00\">value = [5, 9, 13, 5, 0]</text>\r\n</g>\r\n<!-- 27&#45;&gt;28 -->\r\n<g id=\"edge28\" class=\"edge\">\r\n<title>27&#45;&gt;28</title>\r\n<path fill=\"none\" stroke=\"black\" d=\"M1030.35,-400.88C1030.14,-390.22 1029.91,-378.35 1029.7,-367.52\"/>\r\n<polygon fill=\"black\" stroke=\"black\" points=\"1033.2,-367.45 1029.5,-357.52 1026.2,-367.59 1033.2,-367.45\"/>\r\n</g>\r\n<!-- 29 -->\r\n<g id=\"node30\" class=\"node\">\r\n<title>29</title>\r\n<path fill=\"#aef4e7\" stroke=\"black\" d=\"M1263,-357.5C1263,-357.5 1135,-357.5 1135,-357.5 1129,-357.5 1123,-351.5 1123,-345.5 1123,-345.5 1123,-316.5 1123,-316.5 1123,-310.5 1129,-304.5 1135,-304.5 1135,-304.5 1263,-304.5 1263,-304.5 1269,-304.5 1275,-310.5 1275,-316.5 1275,-316.5 1275,-345.5 1275,-345.5 1275,-351.5 1269,-357.5 1263,-357.5\"/>\r\n<text text-anchor=\"start\" x=\"1161.5\" y=\"-342.3\" font-family=\"Helvetica,sans-Serif\" font-size=\"14.00\">gini = 0.667</text>\r\n<text text-anchor=\"start\" x=\"1155.5\" y=\"-327.3\" font-family=\"Helvetica,sans-Serif\" font-size=\"14.00\">samples = 27</text>\r\n<text text-anchor=\"start\" x=\"1131\" y=\"-312.3\" font-family=\"Helvetica,sans-Serif\" font-size=\"14.00\">value = [2, 3, 14, 3, 5]</text>\r\n</g>\r\n<!-- 27&#45;&gt;29 -->\r\n<g id=\"edge29\" class=\"edge\">\r\n<title>27&#45;&gt;29</title>\r\n<path fill=\"none\" stroke=\"black\" d=\"M1085.54,-400.88C1105.74,-388.62 1128.54,-374.78 1148.37,-362.74\"/>\r\n<polygon fill=\"black\" stroke=\"black\" points=\"1150.24,-365.7 1156.97,-357.52 1146.6,-359.72 1150.24,-365.7\"/>\r\n</g>\r\n<!-- 32 -->\r\n<g id=\"node33\" class=\"node\">\r\n<title>32</title>\r\n<path fill=\"#fce7f7\" stroke=\"black\" d=\"M1441,-677C1441,-677 1283,-677 1283,-677 1277,-677 1271,-671 1271,-665 1271,-665 1271,-621 1271,-621 1271,-615 1277,-609 1283,-609 1283,-609 1441,-609 1441,-609 1447,-609 1453,-615 1453,-621 1453,-621 1453,-665 1453,-665 1453,-671 1447,-677 1441,-677\"/>\r\n<text text-anchor=\"start\" x=\"1279\" y=\"-661.8\" font-family=\"Helvetica,sans-Serif\" font-size=\"14.00\">Workload_Binned ≤ 3.219</text>\r\n<text text-anchor=\"start\" x=\"1324.5\" y=\"-646.8\" font-family=\"Helvetica,sans-Serif\" font-size=\"14.00\">gini = 0.724</text>\r\n<text text-anchor=\"start\" x=\"1318.5\" y=\"-631.8\" font-family=\"Helvetica,sans-Serif\" font-size=\"14.00\">samples = 71</text>\r\n<text text-anchor=\"start\" x=\"1285.5\" y=\"-616.8\" font-family=\"Helvetica,sans-Serif\" font-size=\"14.00\">value = [5, 21, 13, 5, 27]</text>\r\n</g>\r\n<!-- 31&#45;&gt;32 -->\r\n<g id=\"edge32\" class=\"edge\">\r\n<title>31&#45;&gt;32</title>\r\n<path fill=\"none\" stroke=\"black\" d=\"M1424.13,-712.88C1416.1,-703.98 1407.31,-694.24 1398.94,-684.96\"/>\r\n<polygon fill=\"black\" stroke=\"black\" points=\"1401.33,-682.38 1392.03,-677.3 1396.13,-687.07 1401.33,-682.38\"/>\r\n</g>\r\n<!-- 37 -->\r\n<g id=\"node38\" class=\"node\">\r\n<title>37</title>\r\n<path fill=\"#f6b8e8\" stroke=\"black\" d=\"M1611,-669.5C1611,-669.5 1483,-669.5 1483,-669.5 1477,-669.5 1471,-663.5 1471,-657.5 1471,-657.5 1471,-628.5 1471,-628.5 1471,-622.5 1477,-616.5 1483,-616.5 1483,-616.5 1611,-616.5 1611,-616.5 1617,-616.5 1623,-622.5 1623,-628.5 1623,-628.5 1623,-657.5 1623,-657.5 1623,-663.5 1617,-669.5 1611,-669.5\"/>\r\n<text text-anchor=\"start\" x=\"1509.5\" y=\"-654.3\" font-family=\"Helvetica,sans-Serif\" font-size=\"14.00\">gini = 0.558</text>\r\n<text text-anchor=\"start\" x=\"1503.5\" y=\"-639.3\" font-family=\"Helvetica,sans-Serif\" font-size=\"14.00\">samples = 21</text>\r\n<text text-anchor=\"start\" x=\"1479\" y=\"-624.3\" font-family=\"Helvetica,sans-Serif\" font-size=\"14.00\">value = [0, 7, 1, 1, 12]</text>\r\n</g>\r\n<!-- 31&#45;&gt;37 -->\r\n<g id=\"edge37\" class=\"edge\">\r\n<title>31&#45;&gt;37</title>\r\n<path fill=\"none\" stroke=\"black\" d=\"M1484.19,-712.88C1494.62,-701.45 1506.3,-688.63 1516.74,-677.19\"/>\r\n<polygon fill=\"black\" stroke=\"black\" points=\"1519.58,-679.27 1523.73,-669.52 1514.41,-674.55 1519.58,-679.27\"/>\r\n</g>\r\n<!-- 33 -->\r\n<g id=\"node34\" class=\"node\">\r\n<title>33</title>\r\n<path fill=\"#fcebf9\" stroke=\"black\" d=\"M1351,-573C1351,-573 1193,-573 1193,-573 1187,-573 1181,-567 1181,-561 1181,-561 1181,-517 1181,-517 1181,-511 1187,-505 1193,-505 1193,-505 1351,-505 1351,-505 1357,-505 1363,-511 1363,-517 1363,-517 1363,-561 1363,-561 1363,-567 1357,-573 1351,-573\"/>\r\n<text text-anchor=\"start\" x=\"1189\" y=\"-557.8\" font-family=\"Helvetica,sans-Serif\" font-size=\"14.00\">Workload_Binned ≤ 2.271</text>\r\n<text text-anchor=\"start\" x=\"1234.5\" y=\"-542.8\" font-family=\"Helvetica,sans-Serif\" font-size=\"14.00\">gini = 0.745</text>\r\n<text text-anchor=\"start\" x=\"1228.5\" y=\"-527.8\" font-family=\"Helvetica,sans-Serif\" font-size=\"14.00\">samples = 55</text>\r\n<text text-anchor=\"start\" x=\"1195.5\" y=\"-512.8\" font-family=\"Helvetica,sans-Serif\" font-size=\"14.00\">value = [5, 15, 12, 4, 19]</text>\r\n</g>\r\n<!-- 32&#45;&gt;33 -->\r\n<g id=\"edge33\" class=\"edge\">\r\n<title>32&#45;&gt;33</title>\r\n<path fill=\"none\" stroke=\"black\" d=\"M1332.78,-608.88C1324.92,-599.98 1316.33,-590.24 1308.14,-580.96\"/>\r\n<polygon fill=\"black\" stroke=\"black\" points=\"1310.62,-578.48 1301.38,-573.3 1305.37,-583.11 1310.62,-578.48\"/>\r\n</g>\r\n<!-- 36 -->\r\n<g id=\"node37\" class=\"node\">\r\n<title>36</title>\r\n<path fill=\"#fad7f2\" stroke=\"black\" d=\"M1513,-565.5C1513,-565.5 1393,-565.5 1393,-565.5 1387,-565.5 1381,-559.5 1381,-553.5 1381,-553.5 1381,-524.5 1381,-524.5 1381,-518.5 1387,-512.5 1393,-512.5 1393,-512.5 1513,-512.5 1513,-512.5 1519,-512.5 1525,-518.5 1525,-524.5 1525,-524.5 1525,-553.5 1525,-553.5 1525,-559.5 1519,-565.5 1513,-565.5\"/>\r\n<text text-anchor=\"start\" x=\"1415.5\" y=\"-550.3\" font-family=\"Helvetica,sans-Serif\" font-size=\"14.00\">gini = 0.602</text>\r\n<text text-anchor=\"start\" x=\"1409.5\" y=\"-535.3\" font-family=\"Helvetica,sans-Serif\" font-size=\"14.00\">samples = 16</text>\r\n<text text-anchor=\"start\" x=\"1389\" y=\"-520.3\" font-family=\"Helvetica,sans-Serif\" font-size=\"14.00\">value = [0, 6, 1, 1, 8]</text>\r\n</g>\r\n<!-- 32&#45;&gt;36 -->\r\n<g id=\"edge36\" class=\"edge\">\r\n<title>32&#45;&gt;36</title>\r\n<path fill=\"none\" stroke=\"black\" d=\"M1391.55,-608.88C1401.75,-597.45 1413.18,-584.63 1423.39,-573.19\"/>\r\n<polygon fill=\"black\" stroke=\"black\" points=\"1426.19,-575.31 1430.23,-565.52 1420.96,-570.65 1426.19,-575.31\"/>\r\n</g>\r\n<!-- 34 -->\r\n<g id=\"node35\" class=\"node\">\r\n<title>34</title>\r\n<path fill=\"#fafef7\" stroke=\"black\" d=\"M1307.5,-461.5C1307.5,-461.5 1170.5,-461.5 1170.5,-461.5 1164.5,-461.5 1158.5,-455.5 1158.5,-449.5 1158.5,-449.5 1158.5,-420.5 1158.5,-420.5 1158.5,-414.5 1164.5,-408.5 1170.5,-408.5 1170.5,-408.5 1307.5,-408.5 1307.5,-408.5 1313.5,-408.5 1319.5,-414.5 1319.5,-420.5 1319.5,-420.5 1319.5,-449.5 1319.5,-449.5 1319.5,-455.5 1313.5,-461.5 1307.5,-461.5\"/>\r\n<text text-anchor=\"start\" x=\"1201.5\" y=\"-446.3\" font-family=\"Helvetica,sans-Serif\" font-size=\"14.00\">gini = 0.744</text>\r\n<text text-anchor=\"start\" x=\"1195.5\" y=\"-431.3\" font-family=\"Helvetica,sans-Serif\" font-size=\"14.00\">samples = 34</text>\r\n<text text-anchor=\"start\" x=\"1166.5\" y=\"-416.3\" font-family=\"Helvetica,sans-Serif\" font-size=\"14.00\">value = [5, 11, 10, 1, 7]</text>\r\n</g>\r\n<!-- 33&#45;&gt;34 -->\r\n<g id=\"edge34\" class=\"edge\">\r\n<title>33&#45;&gt;34</title>\r\n<path fill=\"none\" stroke=\"black\" d=\"M1261.29,-504.88C1257.8,-494.11 1253.92,-482.11 1250.38,-471.18\"/>\r\n<polygon fill=\"black\" stroke=\"black\" points=\"1253.66,-469.96 1247.26,-461.52 1247,-472.11 1253.66,-469.96\"/>\r\n</g>\r\n<!-- 35 -->\r\n<g id=\"node36\" class=\"node\">\r\n<title>35</title>\r\n<path fill=\"#f3a2e1\" stroke=\"black\" d=\"M1478,-461.5C1478,-461.5 1350,-461.5 1350,-461.5 1344,-461.5 1338,-455.5 1338,-449.5 1338,-449.5 1338,-420.5 1338,-420.5 1338,-414.5 1344,-408.5 1350,-408.5 1350,-408.5 1478,-408.5 1478,-408.5 1484,-408.5 1490,-414.5 1490,-420.5 1490,-420.5 1490,-449.5 1490,-449.5 1490,-455.5 1484,-461.5 1478,-461.5\"/>\r\n<text text-anchor=\"start\" x=\"1376.5\" y=\"-446.3\" font-family=\"Helvetica,sans-Serif\" font-size=\"14.00\">gini = 0.608</text>\r\n<text text-anchor=\"start\" x=\"1370.5\" y=\"-431.3\" font-family=\"Helvetica,sans-Serif\" font-size=\"14.00\">samples = 21</text>\r\n<text text-anchor=\"start\" x=\"1346\" y=\"-416.3\" font-family=\"Helvetica,sans-Serif\" font-size=\"14.00\">value = [0, 4, 2, 3, 12]</text>\r\n</g>\r\n<!-- 33&#45;&gt;35 -->\r\n<g id=\"edge35\" class=\"edge\">\r\n<title>33&#45;&gt;35</title>\r\n<path fill=\"none\" stroke=\"black\" d=\"M1318.1,-504.88C1334.79,-492.9 1353.58,-479.4 1370.08,-467.55\"/>\r\n<polygon fill=\"black\" stroke=\"black\" points=\"1372.39,-470.2 1378.47,-461.52 1368.31,-464.51 1372.39,-470.2\"/>\r\n</g>\r\n<!-- 39 -->\r\n<g id=\"node40\" class=\"node\">\r\n<title>39</title>\r\n<path fill=\"#c0f7ec\" stroke=\"black\" d=\"M1982.5,-781C1982.5,-781 1821.5,-781 1821.5,-781 1815.5,-781 1809.5,-775 1809.5,-769 1809.5,-769 1809.5,-725 1809.5,-725 1809.5,-719 1815.5,-713 1821.5,-713 1821.5,-713 1982.5,-713 1982.5,-713 1988.5,-713 1994.5,-719 1994.5,-725 1994.5,-725 1994.5,-769 1994.5,-769 1994.5,-775 1988.5,-781 1982.5,-781\"/>\r\n<text text-anchor=\"start\" x=\"1829\" y=\"-765.8\" font-family=\"Helvetica,sans-Serif\" font-size=\"14.00\">Stress_Binned ≤ 2.131</text>\r\n<text text-anchor=\"start\" x=\"1868.5\" y=\"-750.8\" font-family=\"Helvetica,sans-Serif\" font-size=\"14.00\">gini = 0.66</text>\r\n<text text-anchor=\"start\" x=\"1854.5\" y=\"-735.8\" font-family=\"Helvetica,sans-Serif\" font-size=\"14.00\">samples = 255</text>\r\n<text text-anchor=\"start\" x=\"1817.5\" y=\"-720.8\" font-family=\"Helvetica,sans-Serif\" font-size=\"14.00\">value = [20, 32, 127, 67, 9]</text>\r\n</g>\r\n<!-- 38&#45;&gt;39 -->\r\n<g id=\"edge39\" class=\"edge\">\r\n<title>38&#45;&gt;39</title>\r\n<path fill=\"none\" stroke=\"black\" d=\"M1902,-816.88C1902,-808.78 1902,-799.98 1902,-791.47\"/>\r\n<polygon fill=\"black\" stroke=\"black\" points=\"1905.5,-791.3 1902,-781.3 1898.5,-791.3 1905.5,-791.3\"/>\r\n</g>\r\n<!-- 48 -->\r\n<g id=\"node49\" class=\"node\">\r\n<title>48</title>\r\n<path fill=\"#bff7ec\" stroke=\"black\" d=\"M2301,-781C2301,-781 2107,-781 2107,-781 2101,-781 2095,-775 2095,-769 2095,-769 2095,-725 2095,-725 2095,-719 2101,-713 2107,-713 2107,-713 2301,-713 2301,-713 2307,-713 2313,-719 2313,-725 2313,-725 2313,-769 2313,-769 2313,-775 2307,-781 2301,-781\"/>\r\n<text text-anchor=\"start\" x=\"2125.5\" y=\"-765.8\" font-family=\"Helvetica,sans-Serif\" font-size=\"14.00\">Workload_Binned ≤ 2.01</text>\r\n<text text-anchor=\"start\" x=\"2170.5\" y=\"-750.8\" font-family=\"Helvetica,sans-Serif\" font-size=\"14.00\">gini = 0.72</text>\r\n<text text-anchor=\"start\" x=\"2156.5\" y=\"-735.8\" font-family=\"Helvetica,sans-Serif\" font-size=\"14.00\">samples = 989</text>\r\n<text text-anchor=\"start\" x=\"2103\" y=\"-720.8\" font-family=\"Helvetica,sans-Serif\" font-size=\"14.00\">value = [90, 179, 439, 172, 109]</text>\r\n</g>\r\n<!-- 38&#45;&gt;48 -->\r\n<g id=\"edge48\" class=\"edge\">\r\n<title>38&#45;&gt;48</title>\r\n<path fill=\"none\" stroke=\"black\" d=\"M2000.05,-816.88C2030.88,-806.47 2065.07,-794.92 2096.52,-784.3\"/>\r\n<polygon fill=\"black\" stroke=\"black\" points=\"2097.83,-787.55 2106.18,-781.04 2095.59,-780.92 2097.83,-787.55\"/>\r\n</g>\r\n<!-- 40 -->\r\n<g id=\"node41\" class=\"node\">\r\n<title>40</title>\r\n<path fill=\"#bdf6ec\" stroke=\"black\" d=\"M1896.5,-677C1896.5,-677 1743.5,-677 1743.5,-677 1737.5,-677 1731.5,-671 1731.5,-665 1731.5,-665 1731.5,-621 1731.5,-621 1731.5,-615 1737.5,-609 1743.5,-609 1743.5,-609 1896.5,-609 1896.5,-609 1902.5,-609 1908.5,-615 1908.5,-621 1908.5,-621 1908.5,-665 1908.5,-665 1908.5,-671 1902.5,-677 1896.5,-677\"/>\r\n<text text-anchor=\"start\" x=\"1747\" y=\"-661.8\" font-family=\"Helvetica,sans-Serif\" font-size=\"14.00\">Stress_Binned ≤ 1.685</text>\r\n<text text-anchor=\"start\" x=\"1782.5\" y=\"-646.8\" font-family=\"Helvetica,sans-Serif\" font-size=\"14.00\">gini = 0.638</text>\r\n<text text-anchor=\"start\" x=\"1772.5\" y=\"-631.8\" font-family=\"Helvetica,sans-Serif\" font-size=\"14.00\">samples = 190</text>\r\n<text text-anchor=\"start\" x=\"1739.5\" y=\"-616.8\" font-family=\"Helvetica,sans-Serif\" font-size=\"14.00\">value = [14, 24, 98, 52, 2]</text>\r\n</g>\r\n<!-- 39&#45;&gt;40 -->\r\n<g id=\"edge40\" class=\"edge\">\r\n<title>39&#45;&gt;40</title>\r\n<path fill=\"none\" stroke=\"black\" d=\"M1875.38,-712.88C1868.29,-704.07 1860.54,-694.43 1853.15,-685.24\"/>\r\n<polygon fill=\"black\" stroke=\"black\" points=\"1855.76,-682.9 1846.77,-677.3 1850.31,-687.29 1855.76,-682.9\"/>\r\n</g>\r\n<!-- 45 -->\r\n<g id=\"node46\" class=\"node\">\r\n<title>45</title>\r\n<path fill=\"#c8f8ef\" stroke=\"black\" d=\"M2077,-677C2077,-677 1939,-677 1939,-677 1933,-677 1927,-671 1927,-665 1927,-665 1927,-621 1927,-621 1927,-615 1933,-609 1939,-609 1939,-609 2077,-609 2077,-609 2083,-609 2089,-615 2089,-621 2089,-621 2089,-665 2089,-665 2089,-671 2083,-677 2077,-677\"/>\r\n<text text-anchor=\"start\" x=\"1935\" y=\"-661.8\" font-family=\"Helvetica,sans-Serif\" font-size=\"14.00\">Stress_Binned ≤ 3.948</text>\r\n<text text-anchor=\"start\" x=\"1970.5\" y=\"-646.8\" font-family=\"Helvetica,sans-Serif\" font-size=\"14.00\">gini = 0.712</text>\r\n<text text-anchor=\"start\" x=\"1964.5\" y=\"-631.8\" font-family=\"Helvetica,sans-Serif\" font-size=\"14.00\">samples = 65</text>\r\n<text text-anchor=\"start\" x=\"1935.5\" y=\"-616.8\" font-family=\"Helvetica,sans-Serif\" font-size=\"14.00\">value = [6, 8, 29, 15, 7]</text>\r\n</g>\r\n<!-- 39&#45;&gt;45 -->\r\n<g id=\"edge45\" class=\"edge\">\r\n<title>39&#45;&gt;45</title>\r\n<path fill=\"none\" stroke=\"black\" d=\"M1936.42,-712.88C1945.86,-703.8 1956.2,-693.85 1966.02,-684.4\"/>\r\n<polygon fill=\"black\" stroke=\"black\" points=\"1968.62,-686.76 1973.39,-677.3 1963.76,-681.71 1968.62,-686.76\"/>\r\n</g>\r\n<!-- 41 -->\r\n<g id=\"node42\" class=\"node\">\r\n<title>41</title>\r\n<path fill=\"#c1f7ed\" stroke=\"black\" d=\"M1727,-573C1727,-573 1555,-573 1555,-573 1549,-573 1543,-567 1543,-561 1543,-561 1543,-517 1543,-517 1543,-511 1549,-505 1555,-505 1555,-505 1727,-505 1727,-505 1733,-505 1739,-511 1739,-517 1739,-517 1739,-561 1739,-561 1739,-567 1733,-573 1727,-573\"/>\r\n<text text-anchor=\"start\" x=\"1551\" y=\"-557.8\" font-family=\"Helvetica,sans-Serif\" font-size=\"14.00\">SleepHours_Binned ≤ 7.265</text>\r\n<text text-anchor=\"start\" x=\"1603.5\" y=\"-542.8\" font-family=\"Helvetica,sans-Serif\" font-size=\"14.00\">gini = 0.629</text>\r\n<text text-anchor=\"start\" x=\"1593.5\" y=\"-527.8\" font-family=\"Helvetica,sans-Serif\" font-size=\"14.00\">samples = 149</text>\r\n<text text-anchor=\"start\" x=\"1560.5\" y=\"-512.8\" font-family=\"Helvetica,sans-Serif\" font-size=\"14.00\">value = [12, 15, 77, 44, 1]</text>\r\n</g>\r\n<!-- 40&#45;&gt;41 -->\r\n<g id=\"edge41\" class=\"edge\">\r\n<title>40&#45;&gt;41</title>\r\n<path fill=\"none\" stroke=\"black\" d=\"M1761.88,-608.88C1744.76,-599.12 1725.88,-588.37 1708.23,-578.31\"/>\r\n<polygon fill=\"black\" stroke=\"black\" points=\"1709.55,-575.03 1699.13,-573.12 1706.09,-581.12 1709.55,-575.03\"/>\r\n</g>\r\n<!-- 44 -->\r\n<g id=\"node45\" class=\"node\">\r\n<title>44</title>\r\n<path fill=\"#b5f5e9\" stroke=\"black\" d=\"M1897,-565.5C1897,-565.5 1769,-565.5 1769,-565.5 1763,-565.5 1757,-559.5 1757,-553.5 1757,-553.5 1757,-524.5 1757,-524.5 1757,-518.5 1763,-512.5 1769,-512.5 1769,-512.5 1897,-512.5 1897,-512.5 1903,-512.5 1909,-518.5 1909,-524.5 1909,-524.5 1909,-553.5 1909,-553.5 1909,-559.5 1903,-565.5 1897,-565.5\"/>\r\n<text text-anchor=\"start\" x=\"1795.5\" y=\"-550.3\" font-family=\"Helvetica,sans-Serif\" font-size=\"14.00\">gini = 0.648</text>\r\n<text text-anchor=\"start\" x=\"1789.5\" y=\"-535.3\" font-family=\"Helvetica,sans-Serif\" font-size=\"14.00\">samples = 41</text>\r\n<text text-anchor=\"start\" x=\"1765\" y=\"-520.3\" font-family=\"Helvetica,sans-Serif\" font-size=\"14.00\">value = [2, 9, 21, 8, 1]</text>\r\n</g>\r\n<!-- 40&#45;&gt;44 -->\r\n<g id=\"edge44\" class=\"edge\">\r\n<title>40&#45;&gt;44</title>\r\n<path fill=\"none\" stroke=\"black\" d=\"M1824.22,-608.88C1825.58,-598.22 1827.09,-586.35 1828.47,-575.52\"/>\r\n<polygon fill=\"black\" stroke=\"black\" points=\"1831.96,-575.88 1829.75,-565.52 1825.01,-575 1831.96,-575.88\"/>\r\n</g>\r\n<!-- 42 -->\r\n<g id=\"node43\" class=\"node\">\r\n<title>42</title>\r\n<path fill=\"#b3f5e9\" stroke=\"black\" d=\"M1692.5,-461.5C1692.5,-461.5 1539.5,-461.5 1539.5,-461.5 1533.5,-461.5 1527.5,-455.5 1527.5,-449.5 1527.5,-449.5 1527.5,-420.5 1527.5,-420.5 1527.5,-414.5 1533.5,-408.5 1539.5,-408.5 1539.5,-408.5 1692.5,-408.5 1692.5,-408.5 1698.5,-408.5 1704.5,-414.5 1704.5,-420.5 1704.5,-420.5 1704.5,-449.5 1704.5,-449.5 1704.5,-455.5 1698.5,-461.5 1692.5,-461.5\"/>\r\n<text text-anchor=\"start\" x=\"1578.5\" y=\"-446.3\" font-family=\"Helvetica,sans-Serif\" font-size=\"14.00\">gini = 0.628</text>\r\n<text text-anchor=\"start\" x=\"1568.5\" y=\"-431.3\" font-family=\"Helvetica,sans-Serif\" font-size=\"14.00\">samples = 108</text>\r\n<text text-anchor=\"start\" x=\"1535.5\" y=\"-416.3\" font-family=\"Helvetica,sans-Serif\" font-size=\"14.00\">value = [12, 10, 58, 27, 1]</text>\r\n</g>\r\n<!-- 41&#45;&gt;42 -->\r\n<g id=\"edge42\" class=\"edge\">\r\n<title>41&#45;&gt;42</title>\r\n<path fill=\"none\" stroke=\"black\" d=\"M1632.88,-504.88C1630.27,-494.22 1627.36,-482.35 1624.71,-471.52\"/>\r\n<polygon fill=\"black\" stroke=\"black\" points=\"1628.03,-470.4 1622.25,-461.52 1621.24,-472.07 1628.03,-470.4\"/>\r\n</g>\r\n<!-- 43 -->\r\n<g id=\"node44\" class=\"node\">\r\n<title>43</title>\r\n<path fill=\"#eefdfa\" stroke=\"black\" d=\"M1871.5,-461.5C1871.5,-461.5 1734.5,-461.5 1734.5,-461.5 1728.5,-461.5 1722.5,-455.5 1722.5,-449.5 1722.5,-449.5 1722.5,-420.5 1722.5,-420.5 1722.5,-414.5 1728.5,-408.5 1734.5,-408.5 1734.5,-408.5 1871.5,-408.5 1871.5,-408.5 1877.5,-408.5 1883.5,-414.5 1883.5,-420.5 1883.5,-420.5 1883.5,-449.5 1883.5,-449.5 1883.5,-455.5 1877.5,-461.5 1871.5,-461.5\"/>\r\n<text text-anchor=\"start\" x=\"1765.5\" y=\"-446.3\" font-family=\"Helvetica,sans-Serif\" font-size=\"14.00\">gini = 0.598</text>\r\n<text text-anchor=\"start\" x=\"1759.5\" y=\"-431.3\" font-family=\"Helvetica,sans-Serif\" font-size=\"14.00\">samples = 41</text>\r\n<text text-anchor=\"start\" x=\"1730.5\" y=\"-416.3\" font-family=\"Helvetica,sans-Serif\" font-size=\"14.00\">value = [0, 5, 19, 17, 0]</text>\r\n</g>\r\n<!-- 41&#45;&gt;43 -->\r\n<g id=\"edge43\" class=\"edge\">\r\n<title>41&#45;&gt;43</title>\r\n<path fill=\"none\" stroke=\"black\" d=\"M1693.6,-504.88C1712.99,-492.68 1734.86,-478.9 1753.93,-466.9\"/>\r\n<polygon fill=\"black\" stroke=\"black\" points=\"1755.87,-469.81 1762.47,-461.52 1752.14,-463.89 1755.87,-469.81\"/>\r\n</g>\r\n<!-- 46 -->\r\n<g id=\"node47\" class=\"node\">\r\n<title>46</title>\r\n<path fill=\"#d7faf3\" stroke=\"black\" d=\"M2076.5,-565.5C2076.5,-565.5 1939.5,-565.5 1939.5,-565.5 1933.5,-565.5 1927.5,-559.5 1927.5,-553.5 1927.5,-553.5 1927.5,-524.5 1927.5,-524.5 1927.5,-518.5 1933.5,-512.5 1939.5,-512.5 1939.5,-512.5 2076.5,-512.5 2076.5,-512.5 2082.5,-512.5 2088.5,-518.5 2088.5,-524.5 2088.5,-524.5 2088.5,-553.5 2088.5,-553.5 2088.5,-559.5 2082.5,-565.5 2076.5,-565.5\"/>\r\n<text text-anchor=\"start\" x=\"1979\" y=\"-550.3\" font-family=\"Helvetica,sans-Serif\" font-size=\"14.00\">gini = 0.7</text>\r\n<text text-anchor=\"start\" x=\"1964.5\" y=\"-535.3\" font-family=\"Helvetica,sans-Serif\" font-size=\"14.00\">samples = 35</text>\r\n<text text-anchor=\"start\" x=\"1935.5\" y=\"-520.3\" font-family=\"Helvetica,sans-Serif\" font-size=\"14.00\">value = [4, 5, 15, 10, 1]</text>\r\n</g>\r\n<!-- 45&#45;&gt;46 -->\r\n<g id=\"edge46\" class=\"edge\">\r\n<title>45&#45;&gt;46</title>\r\n<path fill=\"none\" stroke=\"black\" d=\"M2008,-608.88C2008,-598.33 2008,-586.6 2008,-575.85\"/>\r\n<polygon fill=\"black\" stroke=\"black\" points=\"2011.5,-575.52 2008,-565.52 2004.5,-575.52 2011.5,-575.52\"/>\r\n</g>\r\n<!-- 47 -->\r\n<g id=\"node48\" class=\"node\">\r\n<title>47</title>\r\n<path fill=\"#bdf6ec\" stroke=\"black\" d=\"M2247,-565.5C2247,-565.5 2119,-565.5 2119,-565.5 2113,-565.5 2107,-559.5 2107,-553.5 2107,-553.5 2107,-524.5 2107,-524.5 2107,-518.5 2113,-512.5 2119,-512.5 2119,-512.5 2247,-512.5 2247,-512.5 2253,-512.5 2259,-518.5 2259,-524.5 2259,-524.5 2259,-553.5 2259,-553.5 2259,-559.5 2253,-565.5 2247,-565.5\"/>\r\n<text text-anchor=\"start\" x=\"2154\" y=\"-550.3\" font-family=\"Helvetica,sans-Serif\" font-size=\"14.00\">gini = 0.7</text>\r\n<text text-anchor=\"start\" x=\"2139.5\" y=\"-535.3\" font-family=\"Helvetica,sans-Serif\" font-size=\"14.00\">samples = 30</text>\r\n<text text-anchor=\"start\" x=\"2115\" y=\"-520.3\" font-family=\"Helvetica,sans-Serif\" font-size=\"14.00\">value = [2, 3, 14, 5, 6]</text>\r\n</g>\r\n<!-- 45&#45;&gt;47 -->\r\n<g id=\"edge47\" class=\"edge\">\r\n<title>45&#45;&gt;47</title>\r\n<path fill=\"none\" stroke=\"black\" d=\"M2064.82,-608.88C2085.95,-596.57 2109.82,-582.65 2130.54,-570.57\"/>\r\n<polygon fill=\"black\" stroke=\"black\" points=\"2132.34,-573.58 2139.22,-565.52 2128.81,-567.53 2132.34,-573.58\"/>\r\n</g>\r\n<!-- 49 -->\r\n<g id=\"node50\" class=\"node\">\r\n<title>49</title>\r\n<path fill=\"#a1f3e4\" stroke=\"black\" d=\"M2289,-669.5C2289,-669.5 2119,-669.5 2119,-669.5 2113,-669.5 2107,-663.5 2107,-657.5 2107,-657.5 2107,-628.5 2107,-628.5 2107,-622.5 2113,-616.5 2119,-616.5 2119,-616.5 2289,-616.5 2289,-616.5 2295,-616.5 2301,-622.5 2301,-628.5 2301,-628.5 2301,-657.5 2301,-657.5 2301,-663.5 2295,-669.5 2289,-669.5\"/>\r\n<text text-anchor=\"start\" x=\"2166.5\" y=\"-654.3\" font-family=\"Helvetica,sans-Serif\" font-size=\"14.00\">gini = 0.608</text>\r\n<text text-anchor=\"start\" x=\"2156.5\" y=\"-639.3\" font-family=\"Helvetica,sans-Serif\" font-size=\"14.00\">samples = 251</text>\r\n<text text-anchor=\"start\" x=\"2115\" y=\"-624.3\" font-family=\"Helvetica,sans-Serif\" font-size=\"14.00\">value = [19, 27, 145, 50, 10]</text>\r\n</g>\r\n<!-- 48&#45;&gt;49 -->\r\n<g id=\"edge49\" class=\"edge\">\r\n<title>48&#45;&gt;49</title>\r\n<path fill=\"none\" stroke=\"black\" d=\"M2204,-712.88C2204,-702.33 2204,-690.6 2204,-679.85\"/>\r\n<polygon fill=\"black\" stroke=\"black\" points=\"2207.5,-679.52 2204,-669.52 2200.5,-679.52 2207.5,-679.52\"/>\r\n</g>\r\n<!-- 50 -->\r\n<g id=\"node51\" class=\"node\">\r\n<title>50</title>\r\n<path fill=\"#cff9f1\" stroke=\"black\" d=\"M2517,-677C2517,-677 2331,-677 2331,-677 2325,-677 2319,-671 2319,-665 2319,-665 2319,-621 2319,-621 2319,-615 2325,-609 2331,-609 2331,-609 2517,-609 2517,-609 2523,-609 2529,-615 2529,-621 2529,-621 2529,-665 2529,-665 2529,-671 2523,-677 2517,-677\"/>\r\n<text text-anchor=\"start\" x=\"2341\" y=\"-661.8\" font-family=\"Helvetica,sans-Serif\" font-size=\"14.00\">Workload_Binned ≤ 3.482</text>\r\n<text text-anchor=\"start\" x=\"2386.5\" y=\"-646.8\" font-family=\"Helvetica,sans-Serif\" font-size=\"14.00\">gini = 0.744</text>\r\n<text text-anchor=\"start\" x=\"2376.5\" y=\"-631.8\" font-family=\"Helvetica,sans-Serif\" font-size=\"14.00\">samples = 738</text>\r\n<text text-anchor=\"start\" x=\"2327\" y=\"-616.8\" font-family=\"Helvetica,sans-Serif\" font-size=\"14.00\">value = [71, 152, 294, 122, 99]</text>\r\n</g>\r\n<!-- 48&#45;&gt;50 -->\r\n<g id=\"edge50\" class=\"edge\">\r\n<title>48&#45;&gt;50</title>\r\n<path fill=\"none\" stroke=\"black\" d=\"M2275.43,-712.88C2297.15,-702.81 2321.17,-691.67 2343.45,-681.34\"/>\r\n<polygon fill=\"black\" stroke=\"black\" points=\"2344.95,-684.51 2352.55,-677.12 2342.01,-678.16 2344.95,-684.51\"/>\r\n</g>\r\n<!-- 51 -->\r\n<g id=\"node52\" class=\"node\">\r\n<title>51</title>\r\n<path fill=\"#c5f7ee\" stroke=\"black\" d=\"M2484,-565.5C2484,-565.5 2314,-565.5 2314,-565.5 2308,-565.5 2302,-559.5 2302,-553.5 2302,-553.5 2302,-524.5 2302,-524.5 2302,-518.5 2308,-512.5 2314,-512.5 2314,-512.5 2484,-512.5 2484,-512.5 2490,-512.5 2496,-518.5 2496,-524.5 2496,-524.5 2496,-553.5 2496,-553.5 2496,-559.5 2490,-565.5 2484,-565.5\"/>\r\n<text text-anchor=\"start\" x=\"2361.5\" y=\"-550.3\" font-family=\"Helvetica,sans-Serif\" font-size=\"14.00\">gini = 0.715</text>\r\n<text text-anchor=\"start\" x=\"2351.5\" y=\"-535.3\" font-family=\"Helvetica,sans-Serif\" font-size=\"14.00\">samples = 247</text>\r\n<text text-anchor=\"start\" x=\"2310\" y=\"-520.3\" font-family=\"Helvetica,sans-Serif\" font-size=\"14.00\">value = [22, 48, 108, 51, 18]</text>\r\n</g>\r\n<!-- 50&#45;&gt;51 -->\r\n<g id=\"edge51\" class=\"edge\">\r\n<title>50&#45;&gt;51</title>\r\n<path fill=\"none\" stroke=\"black\" d=\"M2415.88,-608.88C2413.27,-598.22 2410.36,-586.35 2407.71,-575.52\"/>\r\n<polygon fill=\"black\" stroke=\"black\" points=\"2411.03,-574.4 2405.25,-565.52 2404.24,-576.07 2411.03,-574.4\"/>\r\n</g>\r\n<!-- 52 -->\r\n<g id=\"node53\" class=\"node\">\r\n<title>52</title>\r\n<path fill=\"#d5f9f3\" stroke=\"black\" d=\"M2704,-573C2704,-573 2526,-573 2526,-573 2520,-573 2514,-567 2514,-561 2514,-561 2514,-517 2514,-517 2514,-511 2520,-505 2526,-505 2526,-505 2704,-505 2704,-505 2710,-505 2716,-511 2716,-517 2716,-517 2716,-561 2716,-561 2716,-567 2710,-573 2704,-573\"/>\r\n<text text-anchor=\"start\" x=\"2542\" y=\"-557.8\" font-family=\"Helvetica,sans-Serif\" font-size=\"14.00\">Stress_Binned ≤ 2.629</text>\r\n<text text-anchor=\"start\" x=\"2577.5\" y=\"-542.8\" font-family=\"Helvetica,sans-Serif\" font-size=\"14.00\">gini = 0.754</text>\r\n<text text-anchor=\"start\" x=\"2567.5\" y=\"-527.8\" font-family=\"Helvetica,sans-Serif\" font-size=\"14.00\">samples = 491</text>\r\n<text text-anchor=\"start\" x=\"2522\" y=\"-512.8\" font-family=\"Helvetica,sans-Serif\" font-size=\"14.00\">value = [49, 104, 186, 71, 81]</text>\r\n</g>\r\n<!-- 50&#45;&gt;52 -->\r\n<g id=\"edge52\" class=\"edge\">\r\n<title>50&#45;&gt;52</title>\r\n<path fill=\"none\" stroke=\"black\" d=\"M2486.01,-608.88C2504.54,-598.99 2524.99,-588.07 2544.04,-577.9\"/>\r\n<polygon fill=\"black\" stroke=\"black\" points=\"2545.8,-580.92 2552.97,-573.12 2542.5,-574.75 2545.8,-580.92\"/>\r\n</g>\r\n<!-- 53 -->\r\n<g id=\"node54\" class=\"node\">\r\n<title>53</title>\r\n<path fill=\"#c1f7ed\" stroke=\"black\" d=\"M2596,-469C2596,-469 2424,-469 2424,-469 2418,-469 2412,-463 2412,-457 2412,-457 2412,-413 2412,-413 2412,-407 2418,-401 2424,-401 2424,-401 2596,-401 2596,-401 2602,-401 2608,-407 2608,-413 2608,-413 2608,-457 2608,-457 2608,-463 2602,-469 2596,-469\"/>\r\n<text text-anchor=\"start\" x=\"2420\" y=\"-453.8\" font-family=\"Helvetica,sans-Serif\" font-size=\"14.00\">SleepHours_Binned ≤ 8.602</text>\r\n<text text-anchor=\"start\" x=\"2472.5\" y=\"-438.8\" font-family=\"Helvetica,sans-Serif\" font-size=\"14.00\">gini = 0.726</text>\r\n<text text-anchor=\"start\" x=\"2462.5\" y=\"-423.8\" font-family=\"Helvetica,sans-Serif\" font-size=\"14.00\">samples = 374</text>\r\n<text text-anchor=\"start\" x=\"2421\" y=\"-408.8\" font-family=\"Helvetica,sans-Serif\" font-size=\"14.00\">value = [38, 68, 164, 54, 50]</text>\r\n</g>\r\n<!-- 52&#45;&gt;53 -->\r\n<g id=\"edge53\" class=\"edge\">\r\n<title>52&#45;&gt;53</title>\r\n<path fill=\"none\" stroke=\"black\" d=\"M2580.91,-504.88C2571.56,-495.8 2561.31,-485.85 2551.59,-476.4\"/>\r\n<polygon fill=\"black\" stroke=\"black\" points=\"2553.89,-473.76 2544.28,-469.3 2549.01,-478.78 2553.89,-473.76\"/>\r\n</g>\r\n<!-- 68 -->\r\n<g id=\"node69\" class=\"node\">\r\n<title>68</title>\r\n<path fill=\"#f7fdf3\" stroke=\"black\" d=\"M2799.5,-461.5C2799.5,-461.5 2638.5,-461.5 2638.5,-461.5 2632.5,-461.5 2626.5,-455.5 2626.5,-449.5 2626.5,-449.5 2626.5,-420.5 2626.5,-420.5 2626.5,-414.5 2632.5,-408.5 2638.5,-408.5 2638.5,-408.5 2799.5,-408.5 2799.5,-408.5 2805.5,-408.5 2811.5,-414.5 2811.5,-420.5 2811.5,-420.5 2811.5,-449.5 2811.5,-449.5 2811.5,-455.5 2805.5,-461.5 2799.5,-461.5\"/>\r\n<text text-anchor=\"start\" x=\"2685.5\" y=\"-446.3\" font-family=\"Helvetica,sans-Serif\" font-size=\"14.00\">gini = 0.77</text>\r\n<text text-anchor=\"start\" x=\"2671.5\" y=\"-431.3\" font-family=\"Helvetica,sans-Serif\" font-size=\"14.00\">samples = 117</text>\r\n<text text-anchor=\"start\" x=\"2634.5\" y=\"-416.3\" font-family=\"Helvetica,sans-Serif\" font-size=\"14.00\">value = [11, 36, 22, 17, 31]</text>\r\n</g>\r\n<!-- 52&#45;&gt;68 -->\r\n<g id=\"edge68\" class=\"edge\">\r\n<title>52&#45;&gt;68</title>\r\n<path fill=\"none\" stroke=\"black\" d=\"M2648.77,-504.88C2660.65,-493.23 2673.99,-480.14 2685.83,-468.53\"/>\r\n<polygon fill=\"black\" stroke=\"black\" points=\"2688.29,-471.02 2692.98,-461.52 2683.39,-466.02 2688.29,-471.02\"/>\r\n</g>\r\n<!-- 54 -->\r\n<g id=\"node55\" class=\"node\">\r\n<title>54</title>\r\n<path fill=\"#c2f7ed\" stroke=\"black\" d=\"M2502,-365C2502,-365 2330,-365 2330,-365 2324,-365 2318,-359 2318,-353 2318,-353 2318,-309 2318,-309 2318,-303 2324,-297 2330,-297 2330,-297 2502,-297 2502,-297 2508,-297 2514,-303 2514,-309 2514,-309 2514,-353 2514,-353 2514,-359 2508,-365 2502,-365\"/>\r\n<text text-anchor=\"start\" x=\"2326\" y=\"-349.8\" font-family=\"Helvetica,sans-Serif\" font-size=\"14.00\">SleepHours_Binned ≤ 7.595</text>\r\n<text text-anchor=\"start\" x=\"2378.5\" y=\"-334.8\" font-family=\"Helvetica,sans-Serif\" font-size=\"14.00\">gini = 0.726</text>\r\n<text text-anchor=\"start\" x=\"2368.5\" y=\"-319.8\" font-family=\"Helvetica,sans-Serif\" font-size=\"14.00\">samples = 357</text>\r\n<text text-anchor=\"start\" x=\"2327\" y=\"-304.8\" font-family=\"Helvetica,sans-Serif\" font-size=\"14.00\">value = [36, 67, 156, 49, 49]</text>\r\n</g>\r\n<!-- 53&#45;&gt;54 -->\r\n<g id=\"edge54\" class=\"edge\">\r\n<title>53&#45;&gt;54</title>\r\n<path fill=\"none\" stroke=\"black\" d=\"M2479.48,-400.88C2471.19,-391.89 2462.12,-382.04 2453.49,-372.68\"/>\r\n<polygon fill=\"black\" stroke=\"black\" points=\"2456.04,-370.28 2446.69,-365.3 2450.89,-375.02 2456.04,-370.28\"/>\r\n</g>\r\n<!-- 67 -->\r\n<g id=\"node68\" class=\"node\">\r\n<title>67</title>\r\n<path fill=\"#cef8f0\" stroke=\"black\" d=\"M2664,-357.5C2664,-357.5 2544,-357.5 2544,-357.5 2538,-357.5 2532,-351.5 2532,-345.5 2532,-345.5 2532,-316.5 2532,-316.5 2532,-310.5 2538,-304.5 2544,-304.5 2544,-304.5 2664,-304.5 2664,-304.5 2670,-304.5 2676,-310.5 2676,-316.5 2676,-316.5 2676,-345.5 2676,-345.5 2676,-351.5 2670,-357.5 2664,-357.5\"/>\r\n<text text-anchor=\"start\" x=\"2566.5\" y=\"-342.3\" font-family=\"Helvetica,sans-Serif\" font-size=\"14.00\">gini = 0.671</text>\r\n<text text-anchor=\"start\" x=\"2560.5\" y=\"-327.3\" font-family=\"Helvetica,sans-Serif\" font-size=\"14.00\">samples = 17</text>\r\n<text text-anchor=\"start\" x=\"2540\" y=\"-312.3\" font-family=\"Helvetica,sans-Serif\" font-size=\"14.00\">value = [2, 1, 8, 5, 1]</text>\r\n</g>\r\n<!-- 53&#45;&gt;67 -->\r\n<g id=\"edge67\" class=\"edge\">\r\n<title>53&#45;&gt;67</title>\r\n<path fill=\"none\" stroke=\"black\" d=\"M2540.52,-400.88C2551.06,-389.45 2562.87,-376.63 2573.41,-365.19\"/>\r\n<polygon fill=\"black\" stroke=\"black\" points=\"2576.28,-367.25 2580.48,-357.52 2571.13,-362.5 2576.28,-367.25\"/>\r\n</g>\r\n<!-- 55 -->\r\n<g id=\"node56\" class=\"node\">\r\n<title>55</title>\r\n<path fill=\"#c0f7ed\" stroke=\"black\" d=\"M2371,-261C2371,-261 2201,-261 2201,-261 2195,-261 2189,-255 2189,-249 2189,-249 2189,-205 2189,-205 2189,-199 2195,-193 2201,-193 2201,-193 2371,-193 2371,-193 2377,-193 2383,-199 2383,-205 2383,-205 2383,-249 2383,-249 2383,-255 2377,-261 2371,-261\"/>\r\n<text text-anchor=\"start\" x=\"2213\" y=\"-245.8\" font-family=\"Helvetica,sans-Serif\" font-size=\"14.00\">Stress_Binned ≤ 1.535</text>\r\n<text text-anchor=\"start\" x=\"2248.5\" y=\"-230.8\" font-family=\"Helvetica,sans-Serif\" font-size=\"14.00\">gini = 0.718</text>\r\n<text text-anchor=\"start\" x=\"2238.5\" y=\"-215.8\" font-family=\"Helvetica,sans-Serif\" font-size=\"14.00\">samples = 246</text>\r\n<text text-anchor=\"start\" x=\"2197\" y=\"-200.8\" font-family=\"Helvetica,sans-Serif\" font-size=\"14.00\">value = [26, 47, 110, 25, 38]</text>\r\n</g>\r\n<!-- 54&#45;&gt;55 -->\r\n<g id=\"edge55\" class=\"edge\">\r\n<title>54&#45;&gt;55</title>\r\n<path fill=\"none\" stroke=\"black\" d=\"M2373.79,-296.88C2361.87,-287.53 2348.78,-277.26 2336.43,-267.57\"/>\r\n<polygon fill=\"black\" stroke=\"black\" points=\"2338.47,-264.72 2328.44,-261.3 2334.15,-270.23 2338.47,-264.72\"/>\r\n</g>\r\n<!-- 62 -->\r\n<g id=\"node63\" class=\"node\">\r\n<title>62</title>\r\n<path fill=\"#cdf8f0\" stroke=\"black\" d=\"M2625.5,-261C2625.5,-261 2464.5,-261 2464.5,-261 2458.5,-261 2452.5,-255 2452.5,-249 2452.5,-249 2452.5,-205 2452.5,-205 2452.5,-199 2458.5,-193 2464.5,-193 2464.5,-193 2625.5,-193 2625.5,-193 2631.5,-193 2637.5,-199 2637.5,-205 2637.5,-205 2637.5,-249 2637.5,-249 2637.5,-255 2631.5,-261 2625.5,-261\"/>\r\n<text text-anchor=\"start\" x=\"2472\" y=\"-245.8\" font-family=\"Helvetica,sans-Serif\" font-size=\"14.00\">Stress_Binned ≤ 1.926</text>\r\n<text text-anchor=\"start\" x=\"2507.5\" y=\"-230.8\" font-family=\"Helvetica,sans-Serif\" font-size=\"14.00\">gini = 0.731</text>\r\n<text text-anchor=\"start\" x=\"2497.5\" y=\"-215.8\" font-family=\"Helvetica,sans-Serif\" font-size=\"14.00\">samples = 111</text>\r\n<text text-anchor=\"start\" x=\"2460.5\" y=\"-200.8\" font-family=\"Helvetica,sans-Serif\" font-size=\"14.00\">value = [10, 20, 46, 24, 11]</text>\r\n</g>\r\n<!-- 54&#45;&gt;62 -->\r\n<g id=\"edge62\" class=\"edge\">\r\n<title>54&#45;&gt;62</title>\r\n<path fill=\"none\" stroke=\"black\" d=\"M2457.88,-296.88C2469.71,-287.53 2482.7,-277.26 2494.96,-267.57\"/>\r\n<polygon fill=\"black\" stroke=\"black\" points=\"2497.21,-270.25 2502.89,-261.3 2492.87,-264.76 2497.21,-270.25\"/>\r\n</g>\r\n<!-- 56 -->\r\n<g id=\"node57\" class=\"node\">\r\n<title>56</title>\r\n<path fill=\"#b8f6ea\" stroke=\"black\" d=\"M2113.5,-157C2113.5,-157 1952.5,-157 1952.5,-157 1946.5,-157 1940.5,-151 1940.5,-145 1940.5,-145 1940.5,-101 1940.5,-101 1940.5,-95 1946.5,-89 1952.5,-89 1952.5,-89 2113.5,-89 2113.5,-89 2119.5,-89 2125.5,-95 2125.5,-101 2125.5,-101 2125.5,-145 2125.5,-145 2125.5,-151 2119.5,-157 2113.5,-157\"/>\r\n<text text-anchor=\"start\" x=\"1950\" y=\"-141.8\" font-family=\"Helvetica,sans-Serif\" font-size=\"14.00\">Workload_Binned ≤ 4.464</text>\r\n<text text-anchor=\"start\" x=\"1995.5\" y=\"-126.8\" font-family=\"Helvetica,sans-Serif\" font-size=\"14.00\">gini = 0.709</text>\r\n<text text-anchor=\"start\" x=\"1985.5\" y=\"-111.8\" font-family=\"Helvetica,sans-Serif\" font-size=\"14.00\">samples = 206</text>\r\n<text text-anchor=\"start\" x=\"1948.5\" y=\"-96.8\" font-family=\"Helvetica,sans-Serif\" font-size=\"14.00\">value = [21, 35, 96, 25, 29]</text>\r\n</g>\r\n<!-- 55&#45;&gt;56 -->\r\n<g id=\"edge56\" class=\"edge\">\r\n<title>55&#45;&gt;56</title>\r\n<path fill=\"none\" stroke=\"black\" d=\"M2203.86,-192.88C2178.54,-182.68 2150.51,-171.38 2124.6,-160.93\"/>\r\n<polygon fill=\"black\" stroke=\"black\" points=\"2125.75,-157.62 2115.16,-157.12 2123.13,-164.11 2125.75,-157.62\"/>\r\n</g>\r\n<!-- 59 -->\r\n<g id=\"node60\" class=\"node\">\r\n<title>59</title>\r\n<path fill=\"#f1fdfb\" stroke=\"black\" d=\"M2365,-157C2365,-157 2207,-157 2207,-157 2201,-157 2195,-151 2195,-145 2195,-145 2195,-101 2195,-101 2195,-95 2201,-89 2207,-89 2207,-89 2365,-89 2365,-89 2371,-89 2377,-95 2377,-101 2377,-101 2377,-145 2377,-145 2377,-151 2371,-157 2365,-157\"/>\r\n<text text-anchor=\"start\" x=\"2203\" y=\"-141.8\" font-family=\"Helvetica,sans-Serif\" font-size=\"14.00\">Workload_Binned ≤ 4.519</text>\r\n<text text-anchor=\"start\" x=\"2248.5\" y=\"-126.8\" font-family=\"Helvetica,sans-Serif\" font-size=\"14.00\">gini = 0.721</text>\r\n<text text-anchor=\"start\" x=\"2242.5\" y=\"-111.8\" font-family=\"Helvetica,sans-Serif\" font-size=\"14.00\">samples = 40</text>\r\n<text text-anchor=\"start\" x=\"2213.5\" y=\"-96.8\" font-family=\"Helvetica,sans-Serif\" font-size=\"14.00\">value = [5, 12, 14, 0, 9]</text>\r\n</g>\r\n<!-- 55&#45;&gt;59 -->\r\n<g id=\"edge59\" class=\"edge\">\r\n<title>55&#45;&gt;59</title>\r\n<path fill=\"none\" stroke=\"black\" d=\"M2286,-192.88C2286,-184.78 2286,-175.98 2286,-167.47\"/>\r\n<polygon fill=\"black\" stroke=\"black\" points=\"2289.5,-167.3 2286,-157.3 2282.5,-167.3 2289.5,-167.3\"/>\r\n</g>\r\n<!-- 57 -->\r\n<g id=\"node58\" class=\"node\">\r\n<title>57</title>\r\n<path fill=\"#b1f5e8\" stroke=\"black\" d=\"M1914.5,-53C1914.5,-53 1761.5,-53 1761.5,-53 1755.5,-53 1749.5,-47 1749.5,-41 1749.5,-41 1749.5,-12 1749.5,-12 1749.5,-6 1755.5,0 1761.5,0 1761.5,0 1914.5,0 1914.5,0 1920.5,0 1926.5,-6 1926.5,-12 1926.5,-12 1926.5,-41 1926.5,-41 1926.5,-47 1920.5,-53 1914.5,-53\"/>\r\n<text text-anchor=\"start\" x=\"1800.5\" y=\"-37.8\" font-family=\"Helvetica,sans-Serif\" font-size=\"14.00\">gini = 0.677</text>\r\n<text text-anchor=\"start\" x=\"1790.5\" y=\"-22.8\" font-family=\"Helvetica,sans-Serif\" font-size=\"14.00\">samples = 110</text>\r\n<text text-anchor=\"start\" x=\"1757.5\" y=\"-7.8\" font-family=\"Helvetica,sans-Serif\" font-size=\"14.00\">value = [11, 19, 55, 19, 6]</text>\r\n</g>\r\n<!-- 56&#45;&gt;57 -->\r\n<g id=\"edge57\" class=\"edge\">\r\n<title>56&#45;&gt;57</title>\r\n<path fill=\"none\" stroke=\"black\" d=\"M1964.8,-88.95C1943.66,-78.7 1920.49,-67.47 1899.8,-57.45\"/>\r\n<polygon fill=\"black\" stroke=\"black\" points=\"1901.32,-54.3 1890.8,-53.09 1898.27,-60.6 1901.32,-54.3\"/>\r\n</g>\r\n<!-- 58 -->\r\n<g id=\"node59\" class=\"node\">\r\n<title>58</title>\r\n<path fill=\"#cef9f1\" stroke=\"black\" d=\"M2109.5,-53C2109.5,-53 1956.5,-53 1956.5,-53 1950.5,-53 1944.5,-47 1944.5,-41 1944.5,-41 1944.5,-12 1944.5,-12 1944.5,-6 1950.5,0 1956.5,0 1956.5,0 2109.5,0 2109.5,0 2115.5,0 2121.5,-6 2121.5,-12 2121.5,-12 2121.5,-41 2121.5,-41 2121.5,-47 2115.5,-53 2109.5,-53\"/>\r\n<text text-anchor=\"start\" x=\"1995.5\" y=\"-37.8\" font-family=\"Helvetica,sans-Serif\" font-size=\"14.00\">gini = 0.718</text>\r\n<text text-anchor=\"start\" x=\"1989.5\" y=\"-22.8\" font-family=\"Helvetica,sans-Serif\" font-size=\"14.00\">samples = 96</text>\r\n<text text-anchor=\"start\" x=\"1952.5\" y=\"-7.8\" font-family=\"Helvetica,sans-Serif\" font-size=\"14.00\">value = [10, 16, 41, 6, 23]</text>\r\n</g>\r\n<!-- 56&#45;&gt;58 -->\r\n<g id=\"edge58\" class=\"edge\">\r\n<title>56&#45;&gt;58</title>\r\n<path fill=\"none\" stroke=\"black\" d=\"M2033,-88.95C2033,-80.72 2033,-71.85 2033,-63.48\"/>\r\n<polygon fill=\"black\" stroke=\"black\" points=\"2036.5,-63.24 2033,-53.24 2029.5,-63.24 2036.5,-63.24\"/>\r\n</g>\r\n<!-- 60 -->\r\n<g id=\"node61\" class=\"node\">\r\n<title>60</title>\r\n<path fill=\"#dafaf4\" stroke=\"black\" d=\"M2272,-53C2272,-53 2152,-53 2152,-53 2146,-53 2140,-47 2140,-41 2140,-41 2140,-12 2140,-12 2140,-6 2146,0 2152,0 2152,0 2272,0 2272,0 2278,0 2284,-6 2284,-12 2284,-12 2284,-41 2284,-41 2284,-47 2278,-53 2272,-53\"/>\r\n<text text-anchor=\"start\" x=\"2174.5\" y=\"-37.8\" font-family=\"Helvetica,sans-Serif\" font-size=\"14.00\">gini = 0.726</text>\r\n<text text-anchor=\"start\" x=\"2168.5\" y=\"-22.8\" font-family=\"Helvetica,sans-Serif\" font-size=\"14.00\">samples = 21</text>\r\n<text text-anchor=\"start\" x=\"2148\" y=\"-7.8\" font-family=\"Helvetica,sans-Serif\" font-size=\"14.00\">value = [4, 5, 8, 0, 4]</text>\r\n</g>\r\n<!-- 59&#45;&gt;60 -->\r\n<g id=\"edge60\" class=\"edge\">\r\n<title>59&#45;&gt;60</title>\r\n<path fill=\"none\" stroke=\"black\" d=\"M2260.12,-88.95C2253.1,-79.98 2245.49,-70.27 2238.44,-61.26\"/>\r\n<polygon fill=\"black\" stroke=\"black\" points=\"2241.07,-58.95 2232.15,-53.24 2235.56,-63.27 2241.07,-58.95\"/>\r\n</g>\r\n<!-- 61 -->\r\n<g id=\"node62\" class=\"node\">\r\n<title>61</title>\r\n<path fill=\"#f5fdf0\" stroke=\"black\" d=\"M2434,-53C2434,-53 2314,-53 2314,-53 2308,-53 2302,-47 2302,-41 2302,-41 2302,-12 2302,-12 2302,-6 2308,0 2314,0 2314,0 2434,0 2434,0 2440,0 2446,-6 2446,-12 2446,-12 2446,-41 2446,-41 2446,-47 2440,-53 2434,-53\"/>\r\n<text text-anchor=\"start\" x=\"2336.5\" y=\"-37.8\" font-family=\"Helvetica,sans-Serif\" font-size=\"14.00\">gini = 0.693</text>\r\n<text text-anchor=\"start\" x=\"2330.5\" y=\"-22.8\" font-family=\"Helvetica,sans-Serif\" font-size=\"14.00\">samples = 19</text>\r\n<text text-anchor=\"start\" x=\"2310\" y=\"-7.8\" font-family=\"Helvetica,sans-Serif\" font-size=\"14.00\">value = [1, 7, 6, 0, 5]</text>\r\n</g>\r\n<!-- 59&#45;&gt;61 -->\r\n<g id=\"edge61\" class=\"edge\">\r\n<title>59&#45;&gt;61</title>\r\n<path fill=\"none\" stroke=\"black\" d=\"M2316.78,-88.95C2325.3,-79.8 2334.54,-69.87 2343.07,-60.71\"/>\r\n<polygon fill=\"black\" stroke=\"black\" points=\"2345.78,-62.94 2350.03,-53.24 2340.66,-58.17 2345.78,-62.94\"/>\r\n</g>\r\n<!-- 63 -->\r\n<g id=\"node64\" class=\"node\">\r\n<title>63</title>\r\n<path fill=\"#c8f8ef\" stroke=\"black\" d=\"M2624,-157C2624,-157 2466,-157 2466,-157 2460,-157 2454,-151 2454,-145 2454,-145 2454,-101 2454,-101 2454,-95 2460,-89 2466,-89 2466,-89 2624,-89 2624,-89 2630,-89 2636,-95 2636,-101 2636,-101 2636,-145 2636,-145 2636,-151 2630,-157 2624,-157\"/>\r\n<text text-anchor=\"start\" x=\"2462\" y=\"-141.8\" font-family=\"Helvetica,sans-Serif\" font-size=\"14.00\">Workload_Binned ≤ 4.309</text>\r\n<text text-anchor=\"start\" x=\"2507.5\" y=\"-126.8\" font-family=\"Helvetica,sans-Serif\" font-size=\"14.00\">gini = 0.711</text>\r\n<text text-anchor=\"start\" x=\"2501.5\" y=\"-111.8\" font-family=\"Helvetica,sans-Serif\" font-size=\"14.00\">samples = 83</text>\r\n<text text-anchor=\"start\" x=\"2468.5\" y=\"-96.8\" font-family=\"Helvetica,sans-Serif\" font-size=\"14.00\">value = [8, 17, 36, 18, 4]</text>\r\n</g>\r\n<!-- 62&#45;&gt;63 -->\r\n<g id=\"edge63\" class=\"edge\">\r\n<title>62&#45;&gt;63</title>\r\n<path fill=\"none\" stroke=\"black\" d=\"M2545,-192.88C2545,-184.78 2545,-175.98 2545,-167.47\"/>\r\n<polygon fill=\"black\" stroke=\"black\" points=\"2548.5,-167.3 2545,-157.3 2541.5,-167.3 2548.5,-167.3\"/>\r\n</g>\r\n<!-- 66 -->\r\n<g id=\"node67\" class=\"node\">\r\n<title>66</title>\r\n<path fill=\"#e3fbf7\" stroke=\"black\" d=\"M2794,-149.5C2794,-149.5 2666,-149.5 2666,-149.5 2660,-149.5 2654,-143.5 2654,-137.5 2654,-137.5 2654,-108.5 2654,-108.5 2654,-102.5 2660,-96.5 2666,-96.5 2666,-96.5 2794,-96.5 2794,-96.5 2800,-96.5 2806,-102.5 2806,-108.5 2806,-108.5 2806,-137.5 2806,-137.5 2806,-143.5 2800,-149.5 2794,-149.5\"/>\r\n<text text-anchor=\"start\" x=\"2692.5\" y=\"-134.3\" font-family=\"Helvetica,sans-Serif\" font-size=\"14.00\">gini = 0.747</text>\r\n<text text-anchor=\"start\" x=\"2686.5\" y=\"-119.3\" font-family=\"Helvetica,sans-Serif\" font-size=\"14.00\">samples = 28</text>\r\n<text text-anchor=\"start\" x=\"2662\" y=\"-104.3\" font-family=\"Helvetica,sans-Serif\" font-size=\"14.00\">value = [2, 3, 10, 6, 7]</text>\r\n</g>\r\n<!-- 62&#45;&gt;66 -->\r\n<g id=\"edge66\" class=\"edge\">\r\n<title>62&#45;&gt;66</title>\r\n<path fill=\"none\" stroke=\"black\" d=\"M2605.06,-192.88C2627.5,-180.51 2652.86,-166.53 2674.84,-154.41\"/>\r\n<polygon fill=\"black\" stroke=\"black\" points=\"2676.65,-157.41 2683.71,-149.52 2673.27,-151.28 2676.65,-157.41\"/>\r\n</g>\r\n<!-- 64 -->\r\n<g id=\"node65\" class=\"node\">\r\n<title>64</title>\r\n<path fill=\"#dffbf6\" stroke=\"black\" d=\"M2613.5,-53C2613.5,-53 2476.5,-53 2476.5,-53 2470.5,-53 2464.5,-47 2464.5,-41 2464.5,-41 2464.5,-12 2464.5,-12 2464.5,-6 2470.5,0 2476.5,0 2476.5,0 2613.5,0 2613.5,0 2619.5,0 2625.5,-6 2625.5,-12 2625.5,-12 2625.5,-41 2625.5,-41 2625.5,-47 2619.5,-53 2613.5,-53\"/>\r\n<text text-anchor=\"start\" x=\"2507.5\" y=\"-37.8\" font-family=\"Helvetica,sans-Serif\" font-size=\"14.00\">gini = 0.736</text>\r\n<text text-anchor=\"start\" x=\"2501.5\" y=\"-22.8\" font-family=\"Helvetica,sans-Serif\" font-size=\"14.00\">samples = 42</text>\r\n<text text-anchor=\"start\" x=\"2472.5\" y=\"-7.8\" font-family=\"Helvetica,sans-Serif\" font-size=\"14.00\">value = [4, 8, 16, 11, 3]</text>\r\n</g>\r\n<!-- 63&#45;&gt;64 -->\r\n<g id=\"edge64\" class=\"edge\">\r\n<title>63&#45;&gt;64</title>\r\n<path fill=\"none\" stroke=\"black\" d=\"M2545,-88.95C2545,-80.72 2545,-71.85 2545,-63.48\"/>\r\n<polygon fill=\"black\" stroke=\"black\" points=\"2548.5,-63.24 2545,-53.24 2541.5,-63.24 2548.5,-63.24\"/>\r\n</g>\r\n<!-- 65 -->\r\n<g id=\"node66\" class=\"node\">\r\n<title>65</title>\r\n<path fill=\"#bbf6eb\" stroke=\"black\" d=\"M2784,-53C2784,-53 2656,-53 2656,-53 2650,-53 2644,-47 2644,-41 2644,-41 2644,-12 2644,-12 2644,-6 2650,0 2656,0 2656,0 2784,0 2784,0 2790,0 2796,-6 2796,-12 2796,-12 2796,-41 2796,-41 2796,-47 2790,-53 2784,-53\"/>\r\n<text text-anchor=\"start\" x=\"2682.5\" y=\"-37.8\" font-family=\"Helvetica,sans-Serif\" font-size=\"14.00\">gini = 0.675</text>\r\n<text text-anchor=\"start\" x=\"2676.5\" y=\"-22.8\" font-family=\"Helvetica,sans-Serif\" font-size=\"14.00\">samples = 41</text>\r\n<text text-anchor=\"start\" x=\"2652\" y=\"-7.8\" font-family=\"Helvetica,sans-Serif\" font-size=\"14.00\">value = [4, 9, 20, 7, 1]</text>\r\n</g>\r\n<!-- 63&#45;&gt;65 -->\r\n<g id=\"edge65\" class=\"edge\">\r\n<title>63&#45;&gt;65</title>\r\n<path fill=\"none\" stroke=\"black\" d=\"M2606.21,-88.95C2624.93,-78.84 2645.42,-67.78 2663.79,-57.86\"/>\r\n<polygon fill=\"black\" stroke=\"black\" points=\"2665.48,-60.92 2672.62,-53.09 2662.16,-54.76 2665.48,-60.92\"/>\r\n</g>\r\n</g>\r\n</svg>\r\n"
     },
     "metadata": {},
     "output_type": "display_data"
    }
   ],
   "execution_count": 20
  },
  {
   "metadata": {},
   "cell_type": "markdown",
   "source": "# Plot ROC curve for the Extra Trees model\n",
   "id": "26689e4d73be9d7e"
  },
  {
   "metadata": {
    "ExecuteTime": {
     "end_time": "2024-10-18T10:48:30.217516Z",
     "start_time": "2024-10-18T10:48:29.627834Z"
    }
   },
   "cell_type": "code",
   "source": [
    "def plot_best_roc(model, X, y, model_name):\n",
    "    y_prob = model.predict_proba(X)\n",
    "    for i in range(len(model.classes_)):\n",
    "        fpr, tpr, _ = roc_curve(y, y_prob[:, i], pos_label=i)\n",
    "        plt.plot(fpr, tpr, label=f'Class {i} (area = {roc_auc_score(y, y_prob[:, i]):.2f})')\n",
    "    plt.plot([0, 1], [0, 1], 'k--')\n",
    "    plt.xlabel('False Positive Rate')\n",
    "    plt.ylabel('True Positive Rate')\n",
    "    plt.title(f'ROC Curve for {model_name}')\n",
    "    plt.legend(loc='lower right')\n",
    "    plt.show()\n",
    "\n",
    "plot_best_roc(opt_extra_trees.best_estimator_, X_test, y_test, \"Extra Trees Model\")"
   ],
   "id": "935c075e5ca7e847",
   "outputs": [
    {
     "ename": "ValueError",
     "evalue": "multi_class must be in ('ovo', 'ovr')",
     "output_type": "error",
     "traceback": [
      "\u001B[1;31m---------------------------------------------------------------------------\u001B[0m",
      "\u001B[1;31mValueError\u001B[0m                                Traceback (most recent call last)",
      "Cell \u001B[1;32mIn[21], line 13\u001B[0m\n\u001B[0;32m     10\u001B[0m     plt\u001B[38;5;241m.\u001B[39mlegend(loc\u001B[38;5;241m=\u001B[39m\u001B[38;5;124m'\u001B[39m\u001B[38;5;124mlower right\u001B[39m\u001B[38;5;124m'\u001B[39m)\n\u001B[0;32m     11\u001B[0m     plt\u001B[38;5;241m.\u001B[39mshow()\n\u001B[1;32m---> 13\u001B[0m \u001B[43mplot_best_roc\u001B[49m\u001B[43m(\u001B[49m\u001B[43mopt_extra_trees\u001B[49m\u001B[38;5;241;43m.\u001B[39;49m\u001B[43mbest_estimator_\u001B[49m\u001B[43m,\u001B[49m\u001B[43m \u001B[49m\u001B[43mX_test\u001B[49m\u001B[43m,\u001B[49m\u001B[43m \u001B[49m\u001B[43my_test\u001B[49m\u001B[43m,\u001B[49m\u001B[43m \u001B[49m\u001B[38;5;124;43m\"\u001B[39;49m\u001B[38;5;124;43mExtra Trees Model\u001B[39;49m\u001B[38;5;124;43m\"\u001B[39;49m\u001B[43m)\u001B[49m\n",
      "Cell \u001B[1;32mIn[21], line 5\u001B[0m, in \u001B[0;36mplot_best_roc\u001B[1;34m(model, X, y, model_name)\u001B[0m\n\u001B[0;32m      3\u001B[0m \u001B[38;5;28;01mfor\u001B[39;00m i \u001B[38;5;129;01min\u001B[39;00m \u001B[38;5;28mrange\u001B[39m(\u001B[38;5;28mlen\u001B[39m(model\u001B[38;5;241m.\u001B[39mclasses_)):\n\u001B[0;32m      4\u001B[0m     fpr, tpr, _ \u001B[38;5;241m=\u001B[39m roc_curve(y, y_prob[:, i], pos_label\u001B[38;5;241m=\u001B[39mi)\n\u001B[1;32m----> 5\u001B[0m     plt\u001B[38;5;241m.\u001B[39mplot(fpr, tpr, label\u001B[38;5;241m=\u001B[39m\u001B[38;5;124mf\u001B[39m\u001B[38;5;124m'\u001B[39m\u001B[38;5;124mClass \u001B[39m\u001B[38;5;132;01m{\u001B[39;00mi\u001B[38;5;132;01m}\u001B[39;00m\u001B[38;5;124m (area = \u001B[39m\u001B[38;5;132;01m{\u001B[39;00m\u001B[43mroc_auc_score\u001B[49m\u001B[43m(\u001B[49m\u001B[43my\u001B[49m\u001B[43m,\u001B[49m\u001B[38;5;250;43m \u001B[39;49m\u001B[43my_prob\u001B[49m\u001B[43m[\u001B[49m\u001B[43m:\u001B[49m\u001B[43m,\u001B[49m\u001B[38;5;250;43m \u001B[39;49m\u001B[43mi\u001B[49m\u001B[43m]\u001B[49m\u001B[43m)\u001B[49m\u001B[38;5;132;01m:\u001B[39;00m\u001B[38;5;124m.2f\u001B[39m\u001B[38;5;132;01m}\u001B[39;00m\u001B[38;5;124m)\u001B[39m\u001B[38;5;124m'\u001B[39m)\n\u001B[0;32m      6\u001B[0m plt\u001B[38;5;241m.\u001B[39mplot([\u001B[38;5;241m0\u001B[39m, \u001B[38;5;241m1\u001B[39m], [\u001B[38;5;241m0\u001B[39m, \u001B[38;5;241m1\u001B[39m], \u001B[38;5;124m'\u001B[39m\u001B[38;5;124mk--\u001B[39m\u001B[38;5;124m'\u001B[39m)\n\u001B[0;32m      7\u001B[0m plt\u001B[38;5;241m.\u001B[39mxlabel(\u001B[38;5;124m'\u001B[39m\u001B[38;5;124mFalse Positive Rate\u001B[39m\u001B[38;5;124m'\u001B[39m)\n",
      "File \u001B[1;32m~\\AppData\\Local\\Programs\\Python\\Python39\\lib\\site-packages\\sklearn\\metrics\\_ranking.py:565\u001B[0m, in \u001B[0;36mroc_auc_score\u001B[1;34m(y_true, y_score, average, sample_weight, max_fpr, multi_class, labels)\u001B[0m\n\u001B[0;32m    558\u001B[0m         \u001B[38;5;28;01mraise\u001B[39;00m \u001B[38;5;167;01mValueError\u001B[39;00m(\n\u001B[0;32m    559\u001B[0m             \u001B[38;5;124m\"\u001B[39m\u001B[38;5;124mPartial AUC computation not available in \u001B[39m\u001B[38;5;124m\"\u001B[39m\n\u001B[0;32m    560\u001B[0m             \u001B[38;5;124m\"\u001B[39m\u001B[38;5;124mmulticlass setting, \u001B[39m\u001B[38;5;124m'\u001B[39m\u001B[38;5;124mmax_fpr\u001B[39m\u001B[38;5;124m'\u001B[39m\u001B[38;5;124m must be\u001B[39m\u001B[38;5;124m\"\u001B[39m\n\u001B[0;32m    561\u001B[0m             \u001B[38;5;124m\"\u001B[39m\u001B[38;5;124m set to `None`, received `max_fpr=\u001B[39m\u001B[38;5;132;01m{0}\u001B[39;00m\u001B[38;5;124m` \u001B[39m\u001B[38;5;124m\"\u001B[39m\n\u001B[0;32m    562\u001B[0m             \u001B[38;5;124m\"\u001B[39m\u001B[38;5;124minstead\u001B[39m\u001B[38;5;124m\"\u001B[39m\u001B[38;5;241m.\u001B[39mformat(max_fpr)\n\u001B[0;32m    563\u001B[0m         )\n\u001B[0;32m    564\u001B[0m     \u001B[38;5;28;01mif\u001B[39;00m multi_class \u001B[38;5;241m==\u001B[39m \u001B[38;5;124m\"\u001B[39m\u001B[38;5;124mraise\u001B[39m\u001B[38;5;124m\"\u001B[39m:\n\u001B[1;32m--> 565\u001B[0m         \u001B[38;5;28;01mraise\u001B[39;00m \u001B[38;5;167;01mValueError\u001B[39;00m(\u001B[38;5;124m\"\u001B[39m\u001B[38;5;124mmulti_class must be in (\u001B[39m\u001B[38;5;124m'\u001B[39m\u001B[38;5;124movo\u001B[39m\u001B[38;5;124m'\u001B[39m\u001B[38;5;124m, \u001B[39m\u001B[38;5;124m'\u001B[39m\u001B[38;5;124movr\u001B[39m\u001B[38;5;124m'\u001B[39m\u001B[38;5;124m)\u001B[39m\u001B[38;5;124m\"\u001B[39m)\n\u001B[0;32m    566\u001B[0m     \u001B[38;5;28;01mreturn\u001B[39;00m _multiclass_roc_auc_score(\n\u001B[0;32m    567\u001B[0m         y_true, y_score, labels, multi_class, average, sample_weight\n\u001B[0;32m    568\u001B[0m     )\n\u001B[0;32m    569\u001B[0m \u001B[38;5;28;01melif\u001B[39;00m y_type \u001B[38;5;241m==\u001B[39m \u001B[38;5;124m\"\u001B[39m\u001B[38;5;124mbinary\u001B[39m\u001B[38;5;124m\"\u001B[39m:\n",
      "\u001B[1;31mValueError\u001B[0m: multi_class must be in ('ovo', 'ovr')"
     ]
    }
   ],
   "execution_count": 21
  },
  {
   "metadata": {},
   "cell_type": "markdown",
   "source": "",
   "id": "cf7274cd739ca8dd"
  }
 ],
 "metadata": {
  "kernelspec": {
   "display_name": "Python 3",
   "language": "python",
   "name": "python3"
  },
  "language_info": {
   "codemirror_mode": {
    "name": "ipython",
    "version": 2
   },
   "file_extension": ".py",
   "mimetype": "text/x-python",
   "name": "python",
   "nbconvert_exporter": "python",
   "pygments_lexer": "ipython2",
   "version": "2.7.6"
  }
 },
 "nbformat": 4,
 "nbformat_minor": 5
}
