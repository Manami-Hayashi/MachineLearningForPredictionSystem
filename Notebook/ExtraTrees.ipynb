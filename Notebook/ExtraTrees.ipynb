{
 "cells": [
  {
   "metadata": {},
   "cell_type": "markdown",
   "source": "# Extra Trees Classifier",
   "id": "3bff4dae3e3ec291"
  },
  {
   "metadata": {},
   "cell_type": "markdown",
   "source": "# Import necessary libraries",
   "id": "f480aca3d0016c9b"
  },
  {
   "cell_type": "code",
   "id": "initial_id",
   "metadata": {
    "collapsed": true,
    "ExecuteTime": {
     "end_time": "2024-10-18T13:00:06.596238Z",
     "start_time": "2024-10-18T13:00:06.589233Z"
    }
   },
   "source": [
    "import pandas as pd\n",
    "import os\n",
    "from sklearn.model_selection import train_test_split, StratifiedKFold\n",
    "from sklearn.ensemble import ExtraTreesClassifier\n",
    "from sklearn.metrics import accuracy_score, roc_auc_score, roc_curve\n",
    "from sklearn.preprocessing import LabelEncoder\n",
    "from skopt import BayesSearchCV\n",
    "import matplotlib.pyplot as plt\n",
    "import numpy as np\n",
    "from sklearn.tree import export_graphviz\n",
    "import graphviz\n",
    "from IPython.display import display\n",
    "import joblib"
   ],
   "outputs": [],
   "execution_count": 79
  },
  {
   "metadata": {},
   "cell_type": "markdown",
   "source": "# # Load the dataset and set display options to show all rows and print first few rows\n",
   "id": "692784522d87d18d"
  },
  {
   "metadata": {
    "ExecuteTime": {
     "end_time": "2024-10-18T13:00:06.639437Z",
     "start_time": "2024-10-18T13:00:06.617092Z"
    }
   },
   "cell_type": "code",
   "source": [
    "os.chdir(r'/home/zamlamb/KdG/Data n AI 5/Team-Stress/Resources')\n",
    "df = pd.read_csv('processed_features_job_satisfaction.csv')\n",
    "\n",
    "# Set display options to show all rows\n",
    "pd.set_option('display.max_rows', None)\n",
    "\n",
    "# Print the first few rows of the DataFrame\n",
    "print(df.head())"
   ],
   "id": "599c67f28a7cf768",
   "outputs": [
    {
     "name": "stdout",
     "output_type": "stream",
     "text": [
      "  JobSatisfaction  Workload_Binned  SleepHours_Binned Age_Binned  \\\n",
      "0  Very Satisfied                2                  7      30-39   \n",
      "1  Very Satisfied                2                  7      30-39   \n",
      "2  Very Satisfied                5                  6      20-29   \n",
      "3  Very Satisfied                3                  7      20-29   \n",
      "4  Very Satisfied                2                  4      20-29   \n",
      "\n",
      "   Stress_Binned Experience_Binned        JobLevel  Gender MaritalStatus  \\\n",
      "0              1              6-10             Mid    Male       Married   \n",
      "1              2             11-15             Mid  Female       Married   \n",
      "2              4               1-5  Intern/Fresher  Female        Single   \n",
      "3              1              6-10          Junior  Female       Married   \n",
      "4              1               1-5          Junior   Other        Single   \n",
      "\n",
      "        Dept    EmpType haveOT_Binned  \n",
      "0         IT  Full-Time           Yes  \n",
      "1    Finance  Full-Time            No  \n",
      "2  Marketing  Full-Time           Yes  \n",
      "3         IT   Contract           Yes  \n",
      "4      Sales  Part-Time            No  \n"
     ]
    }
   ],
   "execution_count": 80
  },
  {
   "metadata": {},
   "cell_type": "markdown",
   "source": "# List the significant features, and separate features and the target variable\n",
   "id": "ac7d61226e6cddb8"
  },
  {
   "metadata": {
    "ExecuteTime": {
     "end_time": "2024-10-18T13:00:07.080393Z",
     "start_time": "2024-10-18T13:00:07.061466Z"
    }
   },
   "cell_type": "code",
   "source": [
    "significant_features = ['Workload_Binned', 'SleepHours_Binned', 'Stress_Binned']\n",
    "\n",
    "# Separate features and target variable\n",
    "X = df[significant_features]\n",
    "le = LabelEncoder()\n",
    "y = le.fit_transform(df['JobSatisfaction']).ravel()  # Ensure y is a 1D array\n"
   ],
   "id": "3a508e921fc87d36",
   "outputs": [],
   "execution_count": 81
  },
  {
   "metadata": {},
   "cell_type": "markdown",
   "source": "# Define the hyperparameter search space for Extra Trees\n",
   "id": "24c67bd8a1d325ba"
  },
  {
   "metadata": {
    "ExecuteTime": {
     "end_time": "2024-10-18T13:00:07.937407Z",
     "start_time": "2024-10-18T13:00:07.932250Z"
    }
   },
   "cell_type": "code",
   "source": [
    "search_space_extra_trees = {\n",
    "    'n_estimators': (10, 20, 30, 40, 100, 120, 1000), # number of trees in the foreset\n",
    "    'max_features': (1, X.shape[1]), # max number of features considered for splitting a node\n",
    "    'min_samples_split': (2, 20), # min number of data points placed in a node before the node is split\n",
    "    'min_samples_leaf': (1, 20), # min number of data points allowed in a leaf node\n",
    "    'bootstrap': [True, False], # method for sampling data points (with or without replacement)\n",
    "    'criterion': ['gini', 'entropy'] # quality of split\n",
    "}"
   ],
   "id": "9702a6a2f76cc052",
   "outputs": [],
   "execution_count": 82
  },
  {
   "metadata": {},
   "cell_type": "markdown",
   "source": [
    "The dictionary `search_space_extra_trees` defines the hyperparameter search space for an `ExtraTreesClassifier` in a machine learning model. Each key in the dictionary represents a hyperparameter, and the corresponding value is the range or set of values that will be explored during hyperparameter tuning. Here's a brief explanation of each hyperparameter:\n",
    "\n",
    "- **`n_estimators`**: The number of trees in the forest. The range (10, 1000) means that the search will consider values from 10 to 1000.\n",
    "- **`max_features`**: The number of features to consider when looking for the best split. The range (1, X.shape[1]) means that the search will consider values from 1 to the total number of features in the dataset.\n",
    "- **`min_samples_split`**: The minimum number of samples required to split an internal node. The range (2, 20) means that the search will consider values from 2 to 20.\n",
    "- **`min_samples_leaf`**: The minimum number of samples required to be at a leaf node. The range (1, 20) means that the search will consider values from 1 to 20.\n",
    "- **`bootstrap`**: Whether bootstrap samples are used when building trees. The search will consider both `True` and `False`.\n",
    "- **`criterion`**: The function to measure the quality of a split. The search will consider both 'gini' and 'entropy'.\n",
    "\n",
    "This search space will be used in hyperparameter tuning methods like GridSearchCV or RandomizedSearchCV to find the best combination of hyperparameters for the `ExtraTreesClassifier`."
   ],
   "id": "ee8b715946301492"
  },
  {
   "metadata": {},
   "cell_type": "markdown",
   "source": "# Initialize and perform Bayesian optimization for Extra Trees\n",
   "id": "3e3fd4bb2e4a340b"
  },
  {
   "metadata": {
    "ExecuteTime": {
     "end_time": "2024-10-18T13:00:28.550626Z",
     "start_time": "2024-10-18T13:00:07.977893Z"
    }
   },
   "cell_type": "code",
   "source": [
    "extra_trees = ExtraTreesClassifier()\n",
    "opt_extra_trees = BayesSearchCV(extra_trees, search_space_extra_trees, n_iter=16, cv=StratifiedKFold(n_splits=5), n_jobs=-1) # n_iter is the number of parameter settings that are sampled, stratified k-fold is used for cross-validation and n_jobs is the number of jobs to run in parallel\n",
    "opt_extra_trees.fit(X, y)"
   ],
   "id": "ea43ae9ed08ef0cd",
   "outputs": [
    {
     "data": {
      "text/plain": [
       "BayesSearchCV(cv=StratifiedKFold(n_splits=5, random_state=None, shuffle=False),\n",
       "              estimator=ExtraTreesClassifier(), n_iter=16, n_jobs=-1,\n",
       "              search_spaces={'bootstrap': [True, False],\n",
       "                             'criterion': ['gini', 'entropy'],\n",
       "                             'max_features': (1, 3),\n",
       "                             'min_samples_leaf': (1, 20),\n",
       "                             'min_samples_split': (2, 20),\n",
       "                             'n_estimators': (10, 20, 30, 40, 100, 120, 1000)})"
      ],
      "text/html": [
       "<style>#sk-container-id-10 {\n",
       "  /* Definition of color scheme common for light and dark mode */\n",
       "  --sklearn-color-text: black;\n",
       "  --sklearn-color-line: gray;\n",
       "  /* Definition of color scheme for unfitted estimators */\n",
       "  --sklearn-color-unfitted-level-0: #fff5e6;\n",
       "  --sklearn-color-unfitted-level-1: #f6e4d2;\n",
       "  --sklearn-color-unfitted-level-2: #ffe0b3;\n",
       "  --sklearn-color-unfitted-level-3: chocolate;\n",
       "  /* Definition of color scheme for fitted estimators */\n",
       "  --sklearn-color-fitted-level-0: #f0f8ff;\n",
       "  --sklearn-color-fitted-level-1: #d4ebff;\n",
       "  --sklearn-color-fitted-level-2: #b3dbfd;\n",
       "  --sklearn-color-fitted-level-3: cornflowerblue;\n",
       "\n",
       "  /* Specific color for light theme */\n",
       "  --sklearn-color-text-on-default-background: var(--sg-text-color, var(--theme-code-foreground, var(--jp-content-font-color1, black)));\n",
       "  --sklearn-color-background: var(--sg-background-color, var(--theme-background, var(--jp-layout-color0, white)));\n",
       "  --sklearn-color-border-box: var(--sg-text-color, var(--theme-code-foreground, var(--jp-content-font-color1, black)));\n",
       "  --sklearn-color-icon: #696969;\n",
       "\n",
       "  @media (prefers-color-scheme: dark) {\n",
       "    /* Redefinition of color scheme for dark theme */\n",
       "    --sklearn-color-text-on-default-background: var(--sg-text-color, var(--theme-code-foreground, var(--jp-content-font-color1, white)));\n",
       "    --sklearn-color-background: var(--sg-background-color, var(--theme-background, var(--jp-layout-color0, #111)));\n",
       "    --sklearn-color-border-box: var(--sg-text-color, var(--theme-code-foreground, var(--jp-content-font-color1, white)));\n",
       "    --sklearn-color-icon: #878787;\n",
       "  }\n",
       "}\n",
       "\n",
       "#sk-container-id-10 {\n",
       "  color: var(--sklearn-color-text);\n",
       "}\n",
       "\n",
       "#sk-container-id-10 pre {\n",
       "  padding: 0;\n",
       "}\n",
       "\n",
       "#sk-container-id-10 input.sk-hidden--visually {\n",
       "  border: 0;\n",
       "  clip: rect(1px 1px 1px 1px);\n",
       "  clip: rect(1px, 1px, 1px, 1px);\n",
       "  height: 1px;\n",
       "  margin: -1px;\n",
       "  overflow: hidden;\n",
       "  padding: 0;\n",
       "  position: absolute;\n",
       "  width: 1px;\n",
       "}\n",
       "\n",
       "#sk-container-id-10 div.sk-dashed-wrapped {\n",
       "  border: 1px dashed var(--sklearn-color-line);\n",
       "  margin: 0 0.4em 0.5em 0.4em;\n",
       "  box-sizing: border-box;\n",
       "  padding-bottom: 0.4em;\n",
       "  background-color: var(--sklearn-color-background);\n",
       "}\n",
       "\n",
       "#sk-container-id-10 div.sk-container {\n",
       "  /* jupyter's `normalize.less` sets `[hidden] { display: none; }`\n",
       "     but bootstrap.min.css set `[hidden] { display: none !important; }`\n",
       "     so we also need the `!important` here to be able to override the\n",
       "     default hidden behavior on the sphinx rendered scikit-learn.org.\n",
       "     See: https://github.com/scikit-learn/scikit-learn/issues/21755 */\n",
       "  display: inline-block !important;\n",
       "  position: relative;\n",
       "}\n",
       "\n",
       "#sk-container-id-10 div.sk-text-repr-fallback {\n",
       "  display: none;\n",
       "}\n",
       "\n",
       "div.sk-parallel-item,\n",
       "div.sk-serial,\n",
       "div.sk-item {\n",
       "  /* draw centered vertical line to link estimators */\n",
       "  background-image: linear-gradient(var(--sklearn-color-text-on-default-background), var(--sklearn-color-text-on-default-background));\n",
       "  background-size: 2px 100%;\n",
       "  background-repeat: no-repeat;\n",
       "  background-position: center center;\n",
       "}\n",
       "\n",
       "/* Parallel-specific style estimator block */\n",
       "\n",
       "#sk-container-id-10 div.sk-parallel-item::after {\n",
       "  content: \"\";\n",
       "  width: 100%;\n",
       "  border-bottom: 2px solid var(--sklearn-color-text-on-default-background);\n",
       "  flex-grow: 1;\n",
       "}\n",
       "\n",
       "#sk-container-id-10 div.sk-parallel {\n",
       "  display: flex;\n",
       "  align-items: stretch;\n",
       "  justify-content: center;\n",
       "  background-color: var(--sklearn-color-background);\n",
       "  position: relative;\n",
       "}\n",
       "\n",
       "#sk-container-id-10 div.sk-parallel-item {\n",
       "  display: flex;\n",
       "  flex-direction: column;\n",
       "}\n",
       "\n",
       "#sk-container-id-10 div.sk-parallel-item:first-child::after {\n",
       "  align-self: flex-end;\n",
       "  width: 50%;\n",
       "}\n",
       "\n",
       "#sk-container-id-10 div.sk-parallel-item:last-child::after {\n",
       "  align-self: flex-start;\n",
       "  width: 50%;\n",
       "}\n",
       "\n",
       "#sk-container-id-10 div.sk-parallel-item:only-child::after {\n",
       "  width: 0;\n",
       "}\n",
       "\n",
       "/* Serial-specific style estimator block */\n",
       "\n",
       "#sk-container-id-10 div.sk-serial {\n",
       "  display: flex;\n",
       "  flex-direction: column;\n",
       "  align-items: center;\n",
       "  background-color: var(--sklearn-color-background);\n",
       "  padding-right: 1em;\n",
       "  padding-left: 1em;\n",
       "}\n",
       "\n",
       "\n",
       "/* Toggleable style: style used for estimator/Pipeline/ColumnTransformer box that is\n",
       "clickable and can be expanded/collapsed.\n",
       "- Pipeline and ColumnTransformer use this feature and define the default style\n",
       "- Estimators will overwrite some part of the style using the `sk-estimator` class\n",
       "*/\n",
       "\n",
       "/* Pipeline and ColumnTransformer style (default) */\n",
       "\n",
       "#sk-container-id-10 div.sk-toggleable {\n",
       "  /* Default theme specific background. It is overwritten whether we have a\n",
       "  specific estimator or a Pipeline/ColumnTransformer */\n",
       "  background-color: var(--sklearn-color-background);\n",
       "}\n",
       "\n",
       "/* Toggleable label */\n",
       "#sk-container-id-10 label.sk-toggleable__label {\n",
       "  cursor: pointer;\n",
       "  display: block;\n",
       "  width: 100%;\n",
       "  margin-bottom: 0;\n",
       "  padding: 0.5em;\n",
       "  box-sizing: border-box;\n",
       "  text-align: center;\n",
       "}\n",
       "\n",
       "#sk-container-id-10 label.sk-toggleable__label-arrow:before {\n",
       "  /* Arrow on the left of the label */\n",
       "  content: \"▸\";\n",
       "  float: left;\n",
       "  margin-right: 0.25em;\n",
       "  color: var(--sklearn-color-icon);\n",
       "}\n",
       "\n",
       "#sk-container-id-10 label.sk-toggleable__label-arrow:hover:before {\n",
       "  color: var(--sklearn-color-text);\n",
       "}\n",
       "\n",
       "/* Toggleable content - dropdown */\n",
       "\n",
       "#sk-container-id-10 div.sk-toggleable__content {\n",
       "  max-height: 0;\n",
       "  max-width: 0;\n",
       "  overflow: hidden;\n",
       "  text-align: left;\n",
       "  /* unfitted */\n",
       "  background-color: var(--sklearn-color-unfitted-level-0);\n",
       "}\n",
       "\n",
       "#sk-container-id-10 div.sk-toggleable__content.fitted {\n",
       "  /* fitted */\n",
       "  background-color: var(--sklearn-color-fitted-level-0);\n",
       "}\n",
       "\n",
       "#sk-container-id-10 div.sk-toggleable__content pre {\n",
       "  margin: 0.2em;\n",
       "  border-radius: 0.25em;\n",
       "  color: var(--sklearn-color-text);\n",
       "  /* unfitted */\n",
       "  background-color: var(--sklearn-color-unfitted-level-0);\n",
       "}\n",
       "\n",
       "#sk-container-id-10 div.sk-toggleable__content.fitted pre {\n",
       "  /* unfitted */\n",
       "  background-color: var(--sklearn-color-fitted-level-0);\n",
       "}\n",
       "\n",
       "#sk-container-id-10 input.sk-toggleable__control:checked~div.sk-toggleable__content {\n",
       "  /* Expand drop-down */\n",
       "  max-height: 200px;\n",
       "  max-width: 100%;\n",
       "  overflow: auto;\n",
       "}\n",
       "\n",
       "#sk-container-id-10 input.sk-toggleable__control:checked~label.sk-toggleable__label-arrow:before {\n",
       "  content: \"▾\";\n",
       "}\n",
       "\n",
       "/* Pipeline/ColumnTransformer-specific style */\n",
       "\n",
       "#sk-container-id-10 div.sk-label input.sk-toggleable__control:checked~label.sk-toggleable__label {\n",
       "  color: var(--sklearn-color-text);\n",
       "  background-color: var(--sklearn-color-unfitted-level-2);\n",
       "}\n",
       "\n",
       "#sk-container-id-10 div.sk-label.fitted input.sk-toggleable__control:checked~label.sk-toggleable__label {\n",
       "  background-color: var(--sklearn-color-fitted-level-2);\n",
       "}\n",
       "\n",
       "/* Estimator-specific style */\n",
       "\n",
       "/* Colorize estimator box */\n",
       "#sk-container-id-10 div.sk-estimator input.sk-toggleable__control:checked~label.sk-toggleable__label {\n",
       "  /* unfitted */\n",
       "  background-color: var(--sklearn-color-unfitted-level-2);\n",
       "}\n",
       "\n",
       "#sk-container-id-10 div.sk-estimator.fitted input.sk-toggleable__control:checked~label.sk-toggleable__label {\n",
       "  /* fitted */\n",
       "  background-color: var(--sklearn-color-fitted-level-2);\n",
       "}\n",
       "\n",
       "#sk-container-id-10 div.sk-label label.sk-toggleable__label,\n",
       "#sk-container-id-10 div.sk-label label {\n",
       "  /* The background is the default theme color */\n",
       "  color: var(--sklearn-color-text-on-default-background);\n",
       "}\n",
       "\n",
       "/* On hover, darken the color of the background */\n",
       "#sk-container-id-10 div.sk-label:hover label.sk-toggleable__label {\n",
       "  color: var(--sklearn-color-text);\n",
       "  background-color: var(--sklearn-color-unfitted-level-2);\n",
       "}\n",
       "\n",
       "/* Label box, darken color on hover, fitted */\n",
       "#sk-container-id-10 div.sk-label.fitted:hover label.sk-toggleable__label.fitted {\n",
       "  color: var(--sklearn-color-text);\n",
       "  background-color: var(--sklearn-color-fitted-level-2);\n",
       "}\n",
       "\n",
       "/* Estimator label */\n",
       "\n",
       "#sk-container-id-10 div.sk-label label {\n",
       "  font-family: monospace;\n",
       "  font-weight: bold;\n",
       "  display: inline-block;\n",
       "  line-height: 1.2em;\n",
       "}\n",
       "\n",
       "#sk-container-id-10 div.sk-label-container {\n",
       "  text-align: center;\n",
       "}\n",
       "\n",
       "/* Estimator-specific */\n",
       "#sk-container-id-10 div.sk-estimator {\n",
       "  font-family: monospace;\n",
       "  border: 1px dotted var(--sklearn-color-border-box);\n",
       "  border-radius: 0.25em;\n",
       "  box-sizing: border-box;\n",
       "  margin-bottom: 0.5em;\n",
       "  /* unfitted */\n",
       "  background-color: var(--sklearn-color-unfitted-level-0);\n",
       "}\n",
       "\n",
       "#sk-container-id-10 div.sk-estimator.fitted {\n",
       "  /* fitted */\n",
       "  background-color: var(--sklearn-color-fitted-level-0);\n",
       "}\n",
       "\n",
       "/* on hover */\n",
       "#sk-container-id-10 div.sk-estimator:hover {\n",
       "  /* unfitted */\n",
       "  background-color: var(--sklearn-color-unfitted-level-2);\n",
       "}\n",
       "\n",
       "#sk-container-id-10 div.sk-estimator.fitted:hover {\n",
       "  /* fitted */\n",
       "  background-color: var(--sklearn-color-fitted-level-2);\n",
       "}\n",
       "\n",
       "/* Specification for estimator info (e.g. \"i\" and \"?\") */\n",
       "\n",
       "/* Common style for \"i\" and \"?\" */\n",
       "\n",
       ".sk-estimator-doc-link,\n",
       "a:link.sk-estimator-doc-link,\n",
       "a:visited.sk-estimator-doc-link {\n",
       "  float: right;\n",
       "  font-size: smaller;\n",
       "  line-height: 1em;\n",
       "  font-family: monospace;\n",
       "  background-color: var(--sklearn-color-background);\n",
       "  border-radius: 1em;\n",
       "  height: 1em;\n",
       "  width: 1em;\n",
       "  text-decoration: none !important;\n",
       "  margin-left: 1ex;\n",
       "  /* unfitted */\n",
       "  border: var(--sklearn-color-unfitted-level-1) 1pt solid;\n",
       "  color: var(--sklearn-color-unfitted-level-1);\n",
       "}\n",
       "\n",
       ".sk-estimator-doc-link.fitted,\n",
       "a:link.sk-estimator-doc-link.fitted,\n",
       "a:visited.sk-estimator-doc-link.fitted {\n",
       "  /* fitted */\n",
       "  border: var(--sklearn-color-fitted-level-1) 1pt solid;\n",
       "  color: var(--sklearn-color-fitted-level-1);\n",
       "}\n",
       "\n",
       "/* On hover */\n",
       "div.sk-estimator:hover .sk-estimator-doc-link:hover,\n",
       ".sk-estimator-doc-link:hover,\n",
       "div.sk-label-container:hover .sk-estimator-doc-link:hover,\n",
       ".sk-estimator-doc-link:hover {\n",
       "  /* unfitted */\n",
       "  background-color: var(--sklearn-color-unfitted-level-3);\n",
       "  color: var(--sklearn-color-background);\n",
       "  text-decoration: none;\n",
       "}\n",
       "\n",
       "div.sk-estimator.fitted:hover .sk-estimator-doc-link.fitted:hover,\n",
       ".sk-estimator-doc-link.fitted:hover,\n",
       "div.sk-label-container:hover .sk-estimator-doc-link.fitted:hover,\n",
       ".sk-estimator-doc-link.fitted:hover {\n",
       "  /* fitted */\n",
       "  background-color: var(--sklearn-color-fitted-level-3);\n",
       "  color: var(--sklearn-color-background);\n",
       "  text-decoration: none;\n",
       "}\n",
       "\n",
       "/* Span, style for the box shown on hovering the info icon */\n",
       ".sk-estimator-doc-link span {\n",
       "  display: none;\n",
       "  z-index: 9999;\n",
       "  position: relative;\n",
       "  font-weight: normal;\n",
       "  right: .2ex;\n",
       "  padding: .5ex;\n",
       "  margin: .5ex;\n",
       "  width: min-content;\n",
       "  min-width: 20ex;\n",
       "  max-width: 50ex;\n",
       "  color: var(--sklearn-color-text);\n",
       "  box-shadow: 2pt 2pt 4pt #999;\n",
       "  /* unfitted */\n",
       "  background: var(--sklearn-color-unfitted-level-0);\n",
       "  border: .5pt solid var(--sklearn-color-unfitted-level-3);\n",
       "}\n",
       "\n",
       ".sk-estimator-doc-link.fitted span {\n",
       "  /* fitted */\n",
       "  background: var(--sklearn-color-fitted-level-0);\n",
       "  border: var(--sklearn-color-fitted-level-3);\n",
       "}\n",
       "\n",
       ".sk-estimator-doc-link:hover span {\n",
       "  display: block;\n",
       "}\n",
       "\n",
       "/* \"?\"-specific style due to the `<a>` HTML tag */\n",
       "\n",
       "#sk-container-id-10 a.estimator_doc_link {\n",
       "  float: right;\n",
       "  font-size: 1rem;\n",
       "  line-height: 1em;\n",
       "  font-family: monospace;\n",
       "  background-color: var(--sklearn-color-background);\n",
       "  border-radius: 1rem;\n",
       "  height: 1rem;\n",
       "  width: 1rem;\n",
       "  text-decoration: none;\n",
       "  /* unfitted */\n",
       "  color: var(--sklearn-color-unfitted-level-1);\n",
       "  border: var(--sklearn-color-unfitted-level-1) 1pt solid;\n",
       "}\n",
       "\n",
       "#sk-container-id-10 a.estimator_doc_link.fitted {\n",
       "  /* fitted */\n",
       "  border: var(--sklearn-color-fitted-level-1) 1pt solid;\n",
       "  color: var(--sklearn-color-fitted-level-1);\n",
       "}\n",
       "\n",
       "/* On hover */\n",
       "#sk-container-id-10 a.estimator_doc_link:hover {\n",
       "  /* unfitted */\n",
       "  background-color: var(--sklearn-color-unfitted-level-3);\n",
       "  color: var(--sklearn-color-background);\n",
       "  text-decoration: none;\n",
       "}\n",
       "\n",
       "#sk-container-id-10 a.estimator_doc_link.fitted:hover {\n",
       "  /* fitted */\n",
       "  background-color: var(--sklearn-color-fitted-level-3);\n",
       "}\n",
       "</style><div id=\"sk-container-id-10\" class=\"sk-top-container\"><div class=\"sk-text-repr-fallback\"><pre>BayesSearchCV(cv=StratifiedKFold(n_splits=5, random_state=None, shuffle=False),\n",
       "              estimator=ExtraTreesClassifier(), n_iter=16, n_jobs=-1,\n",
       "              search_spaces={&#x27;bootstrap&#x27;: [True, False],\n",
       "                             &#x27;criterion&#x27;: [&#x27;gini&#x27;, &#x27;entropy&#x27;],\n",
       "                             &#x27;max_features&#x27;: (1, 3),\n",
       "                             &#x27;min_samples_leaf&#x27;: (1, 20),\n",
       "                             &#x27;min_samples_split&#x27;: (2, 20),\n",
       "                             &#x27;n_estimators&#x27;: (10, 20, 30, 40, 100, 120, 1000)})</pre><b>In a Jupyter environment, please rerun this cell to show the HTML representation or trust the notebook. <br />On GitHub, the HTML representation is unable to render, please try loading this page with nbviewer.org.</b></div><div class=\"sk-container\" hidden><div class=\"sk-item sk-dashed-wrapped\"><div class=\"sk-label-container\"><div class=\"sk-label fitted sk-toggleable\"><input class=\"sk-toggleable__control sk-hidden--visually\" id=\"sk-estimator-id-28\" type=\"checkbox\" ><label for=\"sk-estimator-id-28\" class=\"sk-toggleable__label fitted sk-toggleable__label-arrow fitted\">&nbsp;BayesSearchCV<span class=\"sk-estimator-doc-link fitted\">i<span>Fitted</span></span></label><div class=\"sk-toggleable__content fitted\"><pre>BayesSearchCV(cv=StratifiedKFold(n_splits=5, random_state=None, shuffle=False),\n",
       "              estimator=ExtraTreesClassifier(), n_iter=16, n_jobs=-1,\n",
       "              search_spaces={&#x27;bootstrap&#x27;: [True, False],\n",
       "                             &#x27;criterion&#x27;: [&#x27;gini&#x27;, &#x27;entropy&#x27;],\n",
       "                             &#x27;max_features&#x27;: (1, 3),\n",
       "                             &#x27;min_samples_leaf&#x27;: (1, 20),\n",
       "                             &#x27;min_samples_split&#x27;: (2, 20),\n",
       "                             &#x27;n_estimators&#x27;: (10, 20, 30, 40, 100, 120, 1000)})</pre></div> </div></div><div class=\"sk-parallel\"><div class=\"sk-parallel-item\"><div class=\"sk-item\"><div class=\"sk-label-container\"><div class=\"sk-label fitted sk-toggleable\"><input class=\"sk-toggleable__control sk-hidden--visually\" id=\"sk-estimator-id-29\" type=\"checkbox\" ><label for=\"sk-estimator-id-29\" class=\"sk-toggleable__label fitted sk-toggleable__label-arrow fitted\">best_estimator_: ExtraTreesClassifier</label><div class=\"sk-toggleable__content fitted\"><pre>ExtraTreesClassifier(max_features=1, min_samples_leaf=20, min_samples_split=10)</pre></div> </div></div><div class=\"sk-serial\"><div class=\"sk-item\"><div class=\"sk-estimator fitted sk-toggleable\"><input class=\"sk-toggleable__control sk-hidden--visually\" id=\"sk-estimator-id-30\" type=\"checkbox\" ><label for=\"sk-estimator-id-30\" class=\"sk-toggleable__label fitted sk-toggleable__label-arrow fitted\">&nbsp;ExtraTreesClassifier<a class=\"sk-estimator-doc-link fitted\" rel=\"noreferrer\" target=\"_blank\" href=\"https://scikit-learn.org/1.5/modules/generated/sklearn.ensemble.ExtraTreesClassifier.html\">?<span>Documentation for ExtraTreesClassifier</span></a></label><div class=\"sk-toggleable__content fitted\"><pre>ExtraTreesClassifier(max_features=1, min_samples_leaf=20, min_samples_split=10)</pre></div> </div></div></div></div></div></div></div></div></div>"
      ]
     },
     "execution_count": 83,
     "metadata": {},
     "output_type": "execute_result"
    }
   ],
   "execution_count": 83
  },
  {
   "metadata": {},
   "cell_type": "markdown",
   "source": "# Print the best hyperparameters found by Bayesian optimization",
   "id": "3ea66c336911b7a4"
  },
  {
   "metadata": {
    "ExecuteTime": {
     "end_time": "2024-10-18T13:00:28.947269Z",
     "start_time": "2024-10-18T13:00:28.942761Z"
    }
   },
   "cell_type": "code",
   "source": "print(f\"Best hyperparameters for Extra Trees: {opt_extra_trees.best_params_}\")",
   "id": "1c715c8b1337ae53",
   "outputs": [
    {
     "name": "stdout",
     "output_type": "stream",
     "text": [
      "Best hyperparameters for Extra Trees: OrderedDict({'bootstrap': False, 'criterion': 'gini', 'max_features': 1, 'min_samples_leaf': 20, 'min_samples_split': 10, 'n_estimators': 100})\n"
     ]
    }
   ],
   "execution_count": 84
  },
  {
   "metadata": {},
   "cell_type": "markdown",
   "source": "# Evaluate the Extra Trees model\n",
   "id": "a442cfc3c6aec176"
  },
  {
   "metadata": {
    "ExecuteTime": {
     "end_time": "2024-10-18T13:00:29.591677Z",
     "start_time": "2024-10-18T13:00:29.340274Z"
    }
   },
   "cell_type": "code",
   "source": [
    "X_train, X_test, y_train, y_test = train_test_split(X, y, test_size=0.2, random_state=42)\n",
    "opt_extra_trees.best_estimator_.fit(X_train, y_train)\n",
    "y_test_pred = opt_extra_trees.best_estimator_.predict(X_test)\n",
    "y_test_prob = opt_extra_trees.best_estimator_.predict_proba(X_test)"
   ],
   "id": "b86c3c6503a6fcbc",
   "outputs": [],
   "execution_count": 85
  },
  {
   "metadata": {},
   "cell_type": "markdown",
   "source": "# Calculate AUC and accuracy\n",
   "id": "854571d80fe6edf2"
  },
  {
   "metadata": {
    "ExecuteTime": {
     "end_time": "2024-10-18T13:00:29.998130Z",
     "start_time": "2024-10-18T13:00:29.983835Z"
    }
   },
   "cell_type": "code",
   "source": [
    "final_auc = roc_auc_score(y_test, y_test_prob, multi_class='ovr')\n",
    "final_acc = accuracy_score(y_test, y_test_pred)\n",
    "\n",
    "print(f\"Final Evaluation on Test Set for Extra Trees Model:\\nAUC: {final_auc:.4f}, Accuracy: {final_acc:.4f}\")\n"
   ],
   "id": "59586396a92b89a3",
   "outputs": [
    {
     "name": "stdout",
     "output_type": "stream",
     "text": [
      "Final Evaluation on Test Set for Extra Trees Model:\n",
      "AUC: 0.6155, Accuracy: 0.4452\n"
     ]
    }
   ],
   "execution_count": 86
  },
  {
   "metadata": {},
   "cell_type": "markdown",
   "source": "# Save results to a CSV file\n",
   "id": "88f23c470ef74a3c"
  },
  {
   "metadata": {
    "ExecuteTime": {
     "end_time": "2024-10-18T13:00:30.399087Z",
     "start_time": "2024-10-18T13:00:30.388872Z"
    }
   },
   "cell_type": "code",
   "source": [
    "results_df = pd.DataFrame({\n",
    "    'True Label': y_test,\n",
    "    'Predicted Label': y_test_pred,\n",
    "    'Probability': y_test_prob.max(axis=1)\n",
    "})\n",
    "results_df.to_csv('extra_trees_model_results.csv', index=False)\n"
   ],
   "id": "d436addda1cbebac",
   "outputs": [],
   "execution_count": 87
  },
  {
   "metadata": {},
   "cell_type": "markdown",
   "source": "# Save the best Extra Trees model to a file\n",
   "id": "5ed1d01217233bfa"
  },
  {
   "metadata": {
    "ExecuteTime": {
     "end_time": "2024-10-18T13:00:30.856585Z",
     "start_time": "2024-10-18T13:00:30.789430Z"
    }
   },
   "cell_type": "code",
   "source": "joblib.dump(opt_extra_trees.best_estimator_, 'extra_trees_model.pkl')\n",
   "id": "6b4799cdf57d6155",
   "outputs": [
    {
     "data": {
      "text/plain": [
       "['extra_trees_model.pkl']"
      ]
     },
     "execution_count": 88,
     "metadata": {},
     "output_type": "execute_result"
    }
   ],
   "execution_count": 88
  },
  {
   "metadata": {},
   "cell_type": "markdown",
   "source": "# Plot the extra trees using graphviz\n",
   "id": "c7a64b3c639ea14c"
  },
  {
   "metadata": {
    "ExecuteTime": {
     "end_time": "2024-10-18T13:00:31.324323Z",
     "start_time": "2024-10-18T13:00:31.248355Z"
    }
   },
   "cell_type": "code",
   "source": [
    "\n",
    "\n",
    "\n",
    "# Function to export and visualize a tree from the Extra Trees model\n",
    "def visualize_tree(estimator, feature_names, tree_index):\n",
    "\n",
    "    # Export the tree to DOT format\n",
    "    dot_data = export_graphviz(\n",
    "        estimator.estimators_[tree_index],\n",
    "        out_file=None,\n",
    "        feature_names=feature_names,\n",
    "        filled=True,\n",
    "        rounded=True,\n",
    "        special_characters=True\n",
    "    )\n",
    "    # Render the tree using Graphviz\n",
    "    graph = graphviz.Source(dot_data)\n",
    "    return graph\n",
    "\n",
    "# Visualize the first tree in the Extra Trees model\n",
    "graph = visualize_tree(opt_extra_trees.best_estimator_, significant_features, 0)\n",
    "display(graph)  # Display the tree visualization inline"
   ],
   "id": "fc18d543d40c852a",
   "outputs": [
    {
     "data": {
      "image/svg+xml": "<?xml version=\"1.0\" encoding=\"UTF-8\" standalone=\"no\"?>\n<!DOCTYPE svg PUBLIC \"-//W3C//DTD SVG 1.1//EN\"\n \"http://www.w3.org/Graphics/SVG/1.1/DTD/svg11.dtd\">\n<!-- Generated by graphviz version 12.1.2 (0)\n -->\n<!-- Title: Tree Pages: 1 -->\n<svg width=\"3171pt\" height=\"859pt\"\n viewBox=\"0.00 0.00 3170.75 858.75\" xmlns=\"http://www.w3.org/2000/svg\" xmlns:xlink=\"http://www.w3.org/1999/xlink\">\n<g id=\"graph0\" class=\"graph\" transform=\"scale(1 1) rotate(0) translate(4 854.75)\">\n<title>Tree</title>\n<polygon fill=\"white\" stroke=\"none\" points=\"-4,4 -4,-854.75 3166.75,-854.75 3166.75,4 -4,4\"/>\n<!-- 0 -->\n<g id=\"node1\" class=\"node\">\n<title>0</title>\n<path fill=\"#caf8ef\" stroke=\"black\" d=\"M2279.75,-850.75C2279.75,-850.75 2047.75,-850.75 2047.75,-850.75 2041.75,-850.75 2035.75,-844.75 2035.75,-838.75 2035.75,-838.75 2035.75,-785.75 2035.75,-785.75 2035.75,-779.75 2041.75,-773.75 2047.75,-773.75 2047.75,-773.75 2279.75,-773.75 2279.75,-773.75 2285.75,-773.75 2291.75,-779.75 2291.75,-785.75 2291.75,-785.75 2291.75,-838.75 2291.75,-838.75 2291.75,-844.75 2285.75,-850.75 2279.75,-850.75\"/>\n<text text-anchor=\"start\" x=\"2072.62\" y=\"-833.45\" font-family=\"Helvetica,sans-Serif\" font-size=\"14.00\">Workload_Binned ≤ 4.801</text>\n<text text-anchor=\"start\" x=\"2120.25\" y=\"-816.2\" font-family=\"Helvetica,sans-Serif\" font-size=\"14.00\">gini = 0.739</text>\n<text text-anchor=\"start\" x=\"2106.38\" y=\"-798.95\" font-family=\"Helvetica,sans-Serif\" font-size=\"14.00\">samples = 2405</text>\n<text text-anchor=\"start\" x=\"2043.75\" y=\"-781.7\" font-family=\"Helvetica,sans-Serif\" font-size=\"14.00\">value = [214, 465, 986, 408, 332]</text>\n</g>\n<!-- 1 -->\n<g id=\"node2\" class=\"node\">\n<title>1</title>\n<path fill=\"#c1f7ed\" stroke=\"black\" d=\"M1935.75,-737.75C1935.75,-737.75 1703.75,-737.75 1703.75,-737.75 1697.75,-737.75 1691.75,-731.75 1691.75,-725.75 1691.75,-725.75 1691.75,-672.75 1691.75,-672.75 1691.75,-666.75 1697.75,-660.75 1703.75,-660.75 1703.75,-660.75 1935.75,-660.75 1935.75,-660.75 1941.75,-660.75 1947.75,-666.75 1947.75,-672.75 1947.75,-672.75 1947.75,-725.75 1947.75,-725.75 1947.75,-731.75 1941.75,-737.75 1935.75,-737.75\"/>\n<text text-anchor=\"start\" x=\"1739.88\" y=\"-720.45\" font-family=\"Helvetica,sans-Serif\" font-size=\"14.00\">Stress_Binned ≤ 2.732</text>\n<text text-anchor=\"start\" x=\"1776.25\" y=\"-703.2\" font-family=\"Helvetica,sans-Serif\" font-size=\"14.00\">gini = 0.719</text>\n<text text-anchor=\"start\" x=\"1762.38\" y=\"-685.95\" font-family=\"Helvetica,sans-Serif\" font-size=\"14.00\">samples = 1949</text>\n<text text-anchor=\"start\" x=\"1699.75\" y=\"-668.7\" font-family=\"Helvetica,sans-Serif\" font-size=\"14.00\">value = [174, 342, 863, 363, 207]</text>\n</g>\n<!-- 0&#45;&gt;1 -->\n<g id=\"edge1\" class=\"edge\">\n<title>0&#45;&gt;1</title>\n<path fill=\"none\" stroke=\"black\" d=\"M2046.33,-773.36C2014.68,-763.15 1980.27,-752.05 1948.06,-741.65\"/>\n<polygon fill=\"black\" stroke=\"black\" points=\"1949.26,-738.36 1938.67,-738.62 1947.11,-745.02 1949.26,-738.36\"/>\n<text text-anchor=\"middle\" x=\"1948.62\" y=\"-755.73\" font-family=\"Helvetica,sans-Serif\" font-size=\"14.00\">True</text>\n</g>\n<!-- 32 -->\n<g id=\"node33\" class=\"node\">\n<title>32</title>\n<path fill=\"#fffeff\" stroke=\"black\" d=\"M2625.5,-737.75C2625.5,-737.75 2344,-737.75 2344,-737.75 2338,-737.75 2332,-731.75 2332,-725.75 2332,-725.75 2332,-672.75 2332,-672.75 2332,-666.75 2338,-660.75 2344,-660.75 2344,-660.75 2625.5,-660.75 2625.5,-660.75 2631.5,-660.75 2637.5,-666.75 2637.5,-672.75 2637.5,-672.75 2637.5,-725.75 2637.5,-725.75 2637.5,-731.75 2631.5,-737.75 2625.5,-737.75\"/>\n<text text-anchor=\"start\" x=\"2404.88\" y=\"-720.45\" font-family=\"Helvetica,sans-Serif\" font-size=\"14.00\">Stress_Binned ≤ 2.469</text>\n<text text-anchor=\"start\" x=\"2441.25\" y=\"-703.2\" font-family=\"Helvetica,sans-Serif\" font-size=\"14.00\">gini = 0.762</text>\n<text text-anchor=\"start\" x=\"2431.88\" y=\"-685.95\" font-family=\"Helvetica,sans-Serif\" font-size=\"14.00\">samples = 456</text>\n<text text-anchor=\"start\" x=\"2340\" y=\"-668.7\" font-family=\"Helvetica,sans-Serif\" font-size=\"14.00\">value = [40.0, 123.0, 123.0, 45.0, 125.0]</text>\n</g>\n<!-- 0&#45;&gt;32 -->\n<g id=\"edge32\" class=\"edge\">\n<title>0&#45;&gt;32</title>\n<path fill=\"none\" stroke=\"black\" d=\"M2273.32,-773.36C2302.73,-763.19 2334.68,-752.14 2364.63,-741.79\"/>\n<polygon fill=\"black\" stroke=\"black\" points=\"2365.39,-745.23 2373.7,-738.65 2363.1,-738.61 2365.39,-745.23\"/>\n<text text-anchor=\"middle\" x=\"2364.2\" y=\"-755.97\" font-family=\"Helvetica,sans-Serif\" font-size=\"14.00\">False</text>\n</g>\n<!-- 2 -->\n<g id=\"node3\" class=\"node\">\n<title>2</title>\n<path fill=\"#bcf6eb\" stroke=\"black\" d=\"M1211.75,-624.75C1211.75,-624.75 979.75,-624.75 979.75,-624.75 973.75,-624.75 967.75,-618.75 967.75,-612.75 967.75,-612.75 967.75,-559.75 967.75,-559.75 967.75,-553.75 973.75,-547.75 979.75,-547.75 979.75,-547.75 1211.75,-547.75 1211.75,-547.75 1217.75,-547.75 1223.75,-553.75 1223.75,-559.75 1223.75,-559.75 1223.75,-612.75 1223.75,-612.75 1223.75,-618.75 1217.75,-624.75 1211.75,-624.75\"/>\n<text text-anchor=\"start\" x=\"1004.62\" y=\"-607.45\" font-family=\"Helvetica,sans-Serif\" font-size=\"14.00\">Workload_Binned ≤ 1.913</text>\n<text text-anchor=\"start\" x=\"1052.25\" y=\"-590.2\" font-family=\"Helvetica,sans-Serif\" font-size=\"14.00\">gini = 0.695</text>\n<text text-anchor=\"start\" x=\"1038.38\" y=\"-572.95\" font-family=\"Helvetica,sans-Serif\" font-size=\"14.00\">samples = 1504</text>\n<text text-anchor=\"start\" x=\"975.75\" y=\"-555.7\" font-family=\"Helvetica,sans-Serif\" font-size=\"14.00\">value = [133, 246, 712, 307, 106]</text>\n</g>\n<!-- 1&#45;&gt;2 -->\n<g id=\"edge2\" class=\"edge\">\n<title>1&#45;&gt;2</title>\n<path fill=\"none\" stroke=\"black\" d=\"M1691.56,-678.6C1563.6,-658.98 1367.51,-628.91 1235.59,-608.69\"/>\n<polygon fill=\"black\" stroke=\"black\" points=\"1236.13,-605.23 1225.72,-607.18 1235.07,-612.15 1236.13,-605.23\"/>\n</g>\n<!-- 21 -->\n<g id=\"node22\" class=\"node\">\n<title>21</title>\n<path fill=\"#e2fbf7\" stroke=\"black\" d=\"M1922.25,-624.75C1922.25,-624.75 1717.25,-624.75 1717.25,-624.75 1711.25,-624.75 1705.25,-618.75 1705.25,-612.75 1705.25,-612.75 1705.25,-559.75 1705.25,-559.75 1705.25,-553.75 1711.25,-547.75 1717.25,-547.75 1717.25,-547.75 1922.25,-547.75 1922.25,-547.75 1928.25,-547.75 1934.25,-553.75 1934.25,-559.75 1934.25,-559.75 1934.25,-612.75 1934.25,-612.75 1934.25,-618.75 1928.25,-624.75 1922.25,-624.75\"/>\n<text text-anchor=\"start\" x=\"1739.88\" y=\"-607.45\" font-family=\"Helvetica,sans-Serif\" font-size=\"14.00\">Stress_Binned ≤ 3.566</text>\n<text text-anchor=\"start\" x=\"1776.25\" y=\"-590.2\" font-family=\"Helvetica,sans-Serif\" font-size=\"14.00\">gini = 0.762</text>\n<text text-anchor=\"start\" x=\"1766.88\" y=\"-572.95\" font-family=\"Helvetica,sans-Serif\" font-size=\"14.00\">samples = 445</text>\n<text text-anchor=\"start\" x=\"1713.25\" y=\"-555.7\" font-family=\"Helvetica,sans-Serif\" font-size=\"14.00\">value = [41, 96, 151, 56, 101]</text>\n</g>\n<!-- 1&#45;&gt;21 -->\n<g id=\"edge21\" class=\"edge\">\n<title>1&#45;&gt;21</title>\n<path fill=\"none\" stroke=\"black\" d=\"M1819.75,-660.36C1819.75,-652.59 1819.75,-644.31 1819.75,-636.21\"/>\n<polygon fill=\"black\" stroke=\"black\" points=\"1823.25,-636.48 1819.75,-626.48 1816.25,-636.48 1823.25,-636.48\"/>\n</g>\n<!-- 3 -->\n<g id=\"node4\" class=\"node\">\n<title>3</title>\n<path fill=\"#c1f7ed\" stroke=\"black\" d=\"M797.25,-511.75C797.25,-511.75 610.25,-511.75 610.25,-511.75 604.25,-511.75 598.25,-505.75 598.25,-499.75 598.25,-499.75 598.25,-446.75 598.25,-446.75 598.25,-440.75 604.25,-434.75 610.25,-434.75 610.25,-434.75 797.25,-434.75 797.25,-434.75 803.25,-434.75 809.25,-440.75 809.25,-446.75 809.25,-446.75 809.25,-499.75 809.25,-499.75 809.25,-505.75 803.25,-511.75 797.25,-511.75\"/>\n<text text-anchor=\"start\" x=\"623.88\" y=\"-494.45\" font-family=\"Helvetica,sans-Serif\" font-size=\"14.00\">Stress_Binned ≤ 1.413</text>\n<text text-anchor=\"start\" x=\"660.25\" y=\"-477.2\" font-family=\"Helvetica,sans-Serif\" font-size=\"14.00\">gini = 0.668</text>\n<text text-anchor=\"start\" x=\"650.88\" y=\"-459.95\" font-family=\"Helvetica,sans-Serif\" font-size=\"14.00\">samples = 388</text>\n<text text-anchor=\"start\" x=\"606.25\" y=\"-442.7\" font-family=\"Helvetica,sans-Serif\" font-size=\"14.00\">value = [38, 54, 189, 99, 8]</text>\n</g>\n<!-- 2&#45;&gt;3 -->\n<g id=\"edge3\" class=\"edge\">\n<title>2&#45;&gt;3</title>\n<path fill=\"none\" stroke=\"black\" d=\"M967.39,-548.9C920.06,-535.5 866.72,-520.4 820.46,-507.3\"/>\n<polygon fill=\"black\" stroke=\"black\" points=\"821.52,-503.96 810.94,-504.6 819.61,-510.69 821.52,-503.96\"/>\n</g>\n<!-- 12 -->\n<g id=\"node13\" class=\"node\">\n<title>12</title>\n<path fill=\"#baf6eb\" stroke=\"black\" d=\"M1236.5,-511.75C1236.5,-511.75 955,-511.75 955,-511.75 949,-511.75 943,-505.75 943,-499.75 943,-499.75 943,-446.75 943,-446.75 943,-440.75 949,-434.75 955,-434.75 955,-434.75 1236.5,-434.75 1236.5,-434.75 1242.5,-434.75 1248.5,-440.75 1248.5,-446.75 1248.5,-446.75 1248.5,-499.75 1248.5,-499.75 1248.5,-505.75 1242.5,-511.75 1236.5,-511.75\"/>\n<text text-anchor=\"start\" x=\"1015.88\" y=\"-494.45\" font-family=\"Helvetica,sans-Serif\" font-size=\"14.00\">Stress_Binned ≤ 1.607</text>\n<text text-anchor=\"start\" x=\"1052.25\" y=\"-477.2\" font-family=\"Helvetica,sans-Serif\" font-size=\"14.00\">gini = 0.701</text>\n<text text-anchor=\"start\" x=\"1038.38\" y=\"-459.95\" font-family=\"Helvetica,sans-Serif\" font-size=\"14.00\">samples = 1116</text>\n<text text-anchor=\"start\" x=\"951\" y=\"-442.7\" font-family=\"Helvetica,sans-Serif\" font-size=\"14.00\">value = [95.0, 192.0, 523.0, 208.0, 98.0]</text>\n</g>\n<!-- 2&#45;&gt;12 -->\n<g id=\"edge12\" class=\"edge\">\n<title>2&#45;&gt;12</title>\n<path fill=\"none\" stroke=\"black\" d=\"M1095.75,-547.36C1095.75,-539.59 1095.75,-531.31 1095.75,-523.21\"/>\n<polygon fill=\"black\" stroke=\"black\" points=\"1099.25,-523.48 1095.75,-513.48 1092.25,-523.48 1099.25,-523.48\"/>\n</g>\n<!-- 4 -->\n<g id=\"node5\" class=\"node\">\n<title>4</title>\n<path fill=\"#bdf6ec\" stroke=\"black\" d=\"M566,-398.75C566,-398.75 377.5,-398.75 377.5,-398.75 371.5,-398.75 365.5,-392.75 365.5,-386.75 365.5,-386.75 365.5,-333.75 365.5,-333.75 365.5,-327.75 371.5,-321.75 377.5,-321.75 377.5,-321.75 566,-321.75 566,-321.75 572,-321.75 578,-327.75 578,-333.75 578,-333.75 578,-386.75 578,-386.75 578,-392.75 572,-398.75 566,-398.75\"/>\n<text text-anchor=\"start\" x=\"373.5\" y=\"-381.45\" font-family=\"Helvetica,sans-Serif\" font-size=\"14.00\">SleepHours_Binned ≤ 5.709</text>\n<text text-anchor=\"start\" x=\"432.75\" y=\"-364.2\" font-family=\"Helvetica,sans-Serif\" font-size=\"14.00\">gini = 0.65</text>\n<text text-anchor=\"start\" x=\"418.88\" y=\"-346.95\" font-family=\"Helvetica,sans-Serif\" font-size=\"14.00\">samples = 301</text>\n<text text-anchor=\"start\" x=\"374.25\" y=\"-329.7\" font-family=\"Helvetica,sans-Serif\" font-size=\"14.00\">value = [28, 36, 153, 79, 5]</text>\n</g>\n<!-- 3&#45;&gt;4 -->\n<g id=\"edge4\" class=\"edge\">\n<title>3&#45;&gt;4</title>\n<path fill=\"none\" stroke=\"black\" d=\"M624.56,-434.36C604.14,-424.59 582.02,-414.01 561.13,-404.01\"/>\n<polygon fill=\"black\" stroke=\"black\" points=\"562.88,-400.97 552.34,-399.81 559.85,-407.28 562.88,-400.97\"/>\n</g>\n<!-- 11 -->\n<g id=\"node12\" class=\"node\">\n<title>11</title>\n<path fill=\"#d0f9f1\" stroke=\"black\" d=\"M792.75,-390.12C792.75,-390.12 614.75,-390.12 614.75,-390.12 608.75,-390.12 602.75,-384.12 602.75,-378.12 602.75,-378.12 602.75,-342.38 602.75,-342.38 602.75,-336.38 608.75,-330.38 614.75,-330.38 614.75,-330.38 792.75,-330.38 792.75,-330.38 798.75,-330.38 804.75,-336.38 804.75,-342.38 804.75,-342.38 804.75,-378.12 804.75,-378.12 804.75,-384.12 798.75,-390.12 792.75,-390.12\"/>\n<text text-anchor=\"start\" x=\"660.25\" y=\"-372.82\" font-family=\"Helvetica,sans-Serif\" font-size=\"14.00\">gini = 0.719</text>\n<text text-anchor=\"start\" x=\"655.38\" y=\"-355.57\" font-family=\"Helvetica,sans-Serif\" font-size=\"14.00\">samples = 87</text>\n<text text-anchor=\"start\" x=\"610.75\" y=\"-338.32\" font-family=\"Helvetica,sans-Serif\" font-size=\"14.00\">value = [10, 18, 36, 20, 3]</text>\n</g>\n<!-- 3&#45;&gt;11 -->\n<g id=\"edge11\" class=\"edge\">\n<title>3&#45;&gt;11</title>\n<path fill=\"none\" stroke=\"black\" d=\"M703.75,-434.36C703.75,-423.96 703.75,-412.63 703.75,-402.07\"/>\n<polygon fill=\"black\" stroke=\"black\" points=\"707.25,-402.07 703.75,-392.07 700.25,-402.07 707.25,-402.07\"/>\n</g>\n<!-- 5 -->\n<g id=\"node6\" class=\"node\">\n<title>5</title>\n<path fill=\"#d6faf3\" stroke=\"black\" d=\"M335.75,-277.12C335.75,-277.12 175.75,-277.12 175.75,-277.12 169.75,-277.12 163.75,-271.12 163.75,-265.12 163.75,-265.12 163.75,-229.38 163.75,-229.38 163.75,-223.38 169.75,-217.38 175.75,-217.38 175.75,-217.38 335.75,-217.38 335.75,-217.38 341.75,-217.38 347.75,-223.38 347.75,-229.38 347.75,-229.38 347.75,-265.12 347.75,-265.12 347.75,-271.12 341.75,-277.12 335.75,-277.12\"/>\n<text text-anchor=\"start\" x=\"212.25\" y=\"-259.82\" font-family=\"Helvetica,sans-Serif\" font-size=\"14.00\">gini = 0.673</text>\n<text text-anchor=\"start\" x=\"207.38\" y=\"-242.57\" font-family=\"Helvetica,sans-Serif\" font-size=\"14.00\">samples = 35</text>\n<text text-anchor=\"start\" x=\"171.75\" y=\"-225.32\" font-family=\"Helvetica,sans-Serif\" font-size=\"14.00\">value = [2, 4, 16, 11, 2]</text>\n</g>\n<!-- 4&#45;&gt;5 -->\n<g id=\"edge5\" class=\"edge\">\n<title>4&#45;&gt;5</title>\n<path fill=\"none\" stroke=\"black\" d=\"M398.02,-321.36C373.64,-308.83 346.66,-294.97 322.8,-282.71\"/>\n<polygon fill=\"black\" stroke=\"black\" points=\"324.63,-279.71 314.13,-278.25 321.43,-285.94 324.63,-279.71\"/>\n</g>\n<!-- 6 -->\n<g id=\"node7\" class=\"node\">\n<title>6</title>\n<path fill=\"#baf6eb\" stroke=\"black\" d=\"M566,-285.75C566,-285.75 377.5,-285.75 377.5,-285.75 371.5,-285.75 365.5,-279.75 365.5,-273.75 365.5,-273.75 365.5,-220.75 365.5,-220.75 365.5,-214.75 371.5,-208.75 377.5,-208.75 377.5,-208.75 566,-208.75 566,-208.75 572,-208.75 578,-214.75 578,-220.75 578,-220.75 578,-273.75 578,-273.75 578,-279.75 572,-285.75 566,-285.75\"/>\n<text text-anchor=\"start\" x=\"373.5\" y=\"-268.45\" font-family=\"Helvetica,sans-Serif\" font-size=\"14.00\">SleepHours_Binned ≤ 7.133</text>\n<text text-anchor=\"start\" x=\"428.25\" y=\"-251.2\" font-family=\"Helvetica,sans-Serif\" font-size=\"14.00\">gini = 0.645</text>\n<text text-anchor=\"start\" x=\"418.88\" y=\"-233.95\" font-family=\"Helvetica,sans-Serif\" font-size=\"14.00\">samples = 266</text>\n<text text-anchor=\"start\" x=\"374.25\" y=\"-216.7\" font-family=\"Helvetica,sans-Serif\" font-size=\"14.00\">value = [26, 32, 137, 68, 3]</text>\n</g>\n<!-- 4&#45;&gt;6 -->\n<g id=\"edge6\" class=\"edge\">\n<title>4&#45;&gt;6</title>\n<path fill=\"none\" stroke=\"black\" d=\"M471.75,-321.36C471.75,-313.59 471.75,-305.31 471.75,-297.21\"/>\n<polygon fill=\"black\" stroke=\"black\" points=\"475.25,-297.48 471.75,-287.48 468.25,-297.48 475.25,-297.48\"/>\n</g>\n<!-- 7 -->\n<g id=\"node8\" class=\"node\">\n<title>7</title>\n<path fill=\"#b3f5e9\" stroke=\"black\" d=\"M406,-172.75C406,-172.75 151.5,-172.75 151.5,-172.75 145.5,-172.75 139.5,-166.75 139.5,-160.75 139.5,-160.75 139.5,-107.75 139.5,-107.75 139.5,-101.75 145.5,-95.75 151.5,-95.75 151.5,-95.75 406,-95.75 406,-95.75 412,-95.75 418,-101.75 418,-107.75 418,-107.75 418,-160.75 418,-160.75 418,-166.75 412,-172.75 406,-172.75\"/>\n<text text-anchor=\"start\" x=\"180.5\" y=\"-155.45\" font-family=\"Helvetica,sans-Serif\" font-size=\"14.00\">SleepHours_Binned ≤ 6.971</text>\n<text text-anchor=\"start\" x=\"235.25\" y=\"-138.2\" font-family=\"Helvetica,sans-Serif\" font-size=\"14.00\">gini = 0.646</text>\n<text text-anchor=\"start\" x=\"225.88\" y=\"-120.95\" font-family=\"Helvetica,sans-Serif\" font-size=\"14.00\">samples = 225</text>\n<text text-anchor=\"start\" x=\"147.5\" y=\"-103.7\" font-family=\"Helvetica,sans-Serif\" font-size=\"14.00\">value = [26.0, 27.0, 118.0, 51.0, 3.0]</text>\n</g>\n<!-- 6&#45;&gt;7 -->\n<g id=\"edge7\" class=\"edge\">\n<title>6&#45;&gt;7</title>\n<path fill=\"none\" stroke=\"black\" d=\"M405.87,-208.36C389.35,-198.86 371.49,-188.59 354.53,-178.83\"/>\n<polygon fill=\"black\" stroke=\"black\" points=\"356.39,-175.86 345.97,-173.91 352.9,-181.93 356.39,-175.86\"/>\n</g>\n<!-- 10 -->\n<g id=\"node11\" class=\"node\">\n<title>10</title>\n<path fill=\"#eefdfa\" stroke=\"black\" d=\"M607.75,-164.12C607.75,-164.12 447.75,-164.12 447.75,-164.12 441.75,-164.12 435.75,-158.12 435.75,-152.12 435.75,-152.12 435.75,-116.38 435.75,-116.38 435.75,-110.38 441.75,-104.38 447.75,-104.38 447.75,-104.38 607.75,-104.38 607.75,-104.38 613.75,-104.38 619.75,-110.38 619.75,-116.38 619.75,-116.38 619.75,-152.12 619.75,-152.12 619.75,-158.12 613.75,-164.12 607.75,-164.12\"/>\n<text text-anchor=\"start\" x=\"484.25\" y=\"-146.82\" font-family=\"Helvetica,sans-Serif\" font-size=\"14.00\">gini = 0.598</text>\n<text text-anchor=\"start\" x=\"479.38\" y=\"-129.57\" font-family=\"Helvetica,sans-Serif\" font-size=\"14.00\">samples = 41</text>\n<text text-anchor=\"start\" x=\"443.75\" y=\"-112.33\" font-family=\"Helvetica,sans-Serif\" font-size=\"14.00\">value = [0, 5, 19, 17, 0]</text>\n</g>\n<!-- 6&#45;&gt;10 -->\n<g id=\"edge10\" class=\"edge\">\n<title>6&#45;&gt;10</title>\n<path fill=\"none\" stroke=\"black\" d=\"M490.87,-208.36C496.34,-197.51 502.32,-185.66 507.84,-174.71\"/>\n<polygon fill=\"black\" stroke=\"black\" points=\"510.9,-176.42 512.28,-165.91 504.65,-173.26 510.9,-176.42\"/>\n</g>\n<!-- 8 -->\n<g id=\"node9\" class=\"node\">\n<title>8</title>\n<path fill=\"#b2f5e9\" stroke=\"black\" d=\"M257.5,-59.75C257.5,-59.75 12,-59.75 12,-59.75 6,-59.75 0,-53.75 0,-47.75 0,-47.75 0,-12 0,-12 0,-6 6,0 12,0 12,0 257.5,0 257.5,0 263.5,0 269.5,-6 269.5,-12 269.5,-12 269.5,-47.75 269.5,-47.75 269.5,-53.75 263.5,-59.75 257.5,-59.75\"/>\n<text text-anchor=\"start\" x=\"91.25\" y=\"-42.45\" font-family=\"Helvetica,sans-Serif\" font-size=\"14.00\">gini = 0.659</text>\n<text text-anchor=\"start\" x=\"81.88\" y=\"-25.2\" font-family=\"Helvetica,sans-Serif\" font-size=\"14.00\">samples = 117</text>\n<text text-anchor=\"start\" x=\"8\" y=\"-7.95\" font-family=\"Helvetica,sans-Serif\" font-size=\"14.00\">value = [14.0, 17.0, 60.0, 24.0, 2.0]</text>\n</g>\n<!-- 7&#45;&gt;8 -->\n<g id=\"edge8\" class=\"edge\">\n<title>7&#45;&gt;8</title>\n<path fill=\"none\" stroke=\"black\" d=\"M225.54,-95.42C212.39,-86.07 198.34,-76.08 185.31,-66.82\"/>\n<polygon fill=\"black\" stroke=\"black\" points=\"187.45,-64.05 177.28,-61.11 183.4,-69.75 187.45,-64.05\"/>\n</g>\n<!-- 9 -->\n<g id=\"node10\" class=\"node\">\n<title>9</title>\n<path fill=\"#b3f5e9\" stroke=\"black\" d=\"M545.5,-59.75C545.5,-59.75 300,-59.75 300,-59.75 294,-59.75 288,-53.75 288,-47.75 288,-47.75 288,-12 288,-12 288,-6 294,0 300,0 300,0 545.5,0 545.5,0 551.5,0 557.5,-6 557.5,-12 557.5,-12 557.5,-47.75 557.5,-47.75 557.5,-53.75 551.5,-59.75 545.5,-59.75\"/>\n<text text-anchor=\"start\" x=\"379.25\" y=\"-42.45\" font-family=\"Helvetica,sans-Serif\" font-size=\"14.00\">gini = 0.628</text>\n<text text-anchor=\"start\" x=\"369.88\" y=\"-25.2\" font-family=\"Helvetica,sans-Serif\" font-size=\"14.00\">samples = 108</text>\n<text text-anchor=\"start\" x=\"296\" y=\"-7.95\" font-family=\"Helvetica,sans-Serif\" font-size=\"14.00\">value = [12.0, 10.0, 58.0, 27.0, 1.0]</text>\n</g>\n<!-- 7&#45;&gt;9 -->\n<g id=\"edge9\" class=\"edge\">\n<title>7&#45;&gt;9</title>\n<path fill=\"none\" stroke=\"black\" d=\"M331.96,-95.42C345.11,-86.07 359.16,-76.08 372.19,-66.82\"/>\n<polygon fill=\"black\" stroke=\"black\" points=\"374.1,-69.75 380.22,-61.11 370.05,-64.05 374.1,-69.75\"/>\n</g>\n<!-- 13 -->\n<g id=\"node14\" class=\"node\">\n<title>13</title>\n<path fill=\"#b8f6ea\" stroke=\"black\" d=\"M1055.75,-398.75C1055.75,-398.75 841.75,-398.75 841.75,-398.75 835.75,-398.75 829.75,-392.75 829.75,-386.75 829.75,-386.75 829.75,-333.75 829.75,-333.75 829.75,-327.75 835.75,-321.75 841.75,-321.75 841.75,-321.75 1055.75,-321.75 1055.75,-321.75 1061.75,-321.75 1067.75,-327.75 1067.75,-333.75 1067.75,-333.75 1067.75,-386.75 1067.75,-386.75 1067.75,-392.75 1061.75,-398.75 1055.75,-398.75\"/>\n<text text-anchor=\"start\" x=\"857.62\" y=\"-381.45\" font-family=\"Helvetica,sans-Serif\" font-size=\"14.00\">Workload_Binned ≤ 2.816</text>\n<text text-anchor=\"start\" x=\"905.25\" y=\"-364.2\" font-family=\"Helvetica,sans-Serif\" font-size=\"14.00\">gini = 0.691</text>\n<text text-anchor=\"start\" x=\"895.88\" y=\"-346.95\" font-family=\"Helvetica,sans-Serif\" font-size=\"14.00\">samples = 861</text>\n<text text-anchor=\"start\" x=\"837.75\" y=\"-329.7\" font-family=\"Helvetica,sans-Serif\" font-size=\"14.00\">value = [71, 145, 414, 164, 67]</text>\n</g>\n<!-- 12&#45;&gt;13 -->\n<g id=\"edge13\" class=\"edge\">\n<title>12&#45;&gt;13</title>\n<path fill=\"none\" stroke=\"black\" d=\"M1045.57,-434.36C1033.39,-425.16 1020.26,-415.24 1007.71,-405.77\"/>\n<polygon fill=\"black\" stroke=\"black\" points=\"1010,-403.11 999.91,-399.88 1005.78,-408.7 1010,-403.11\"/>\n</g>\n<!-- 18 -->\n<g id=\"node19\" class=\"node\">\n<title>18</title>\n<path fill=\"#c4f7ee\" stroke=\"black\" d=\"M1309.75,-398.75C1309.75,-398.75 1113.75,-398.75 1113.75,-398.75 1107.75,-398.75 1101.75,-392.75 1101.75,-386.75 1101.75,-386.75 1101.75,-333.75 1101.75,-333.75 1101.75,-327.75 1107.75,-321.75 1113.75,-321.75 1113.75,-321.75 1309.75,-321.75 1309.75,-321.75 1315.75,-321.75 1321.75,-327.75 1321.75,-333.75 1321.75,-333.75 1321.75,-386.75 1321.75,-386.75 1321.75,-392.75 1315.75,-398.75 1309.75,-398.75\"/>\n<text text-anchor=\"start\" x=\"1120.62\" y=\"-381.45\" font-family=\"Helvetica,sans-Serif\" font-size=\"14.00\">Workload_Binned ≤ 2.266</text>\n<text text-anchor=\"start\" x=\"1172.75\" y=\"-364.2\" font-family=\"Helvetica,sans-Serif\" font-size=\"14.00\">gini = 0.73</text>\n<text text-anchor=\"start\" x=\"1158.88\" y=\"-346.95\" font-family=\"Helvetica,sans-Serif\" font-size=\"14.00\">samples = 255</text>\n<text text-anchor=\"start\" x=\"1109.75\" y=\"-329.7\" font-family=\"Helvetica,sans-Serif\" font-size=\"14.00\">value = [24, 47, 109, 44, 31]</text>\n</g>\n<!-- 12&#45;&gt;18 -->\n<g id=\"edge18\" class=\"edge\">\n<title>12&#45;&gt;18</title>\n<path fill=\"none\" stroke=\"black\" d=\"M1135.35,-434.36C1144.59,-425.52 1154.52,-416.01 1164.07,-406.88\"/>\n<polygon fill=\"black\" stroke=\"black\" points=\"1166.43,-409.46 1171.24,-400.02 1161.59,-404.4 1166.43,-409.46\"/>\n</g>\n<!-- 14 -->\n<g id=\"node15\" class=\"node\">\n<title>14</title>\n<path fill=\"#b3f5e9\" stroke=\"black\" d=\"M803.75,-277.12C803.75,-277.12 607.75,-277.12 607.75,-277.12 601.75,-277.12 595.75,-271.12 595.75,-265.12 595.75,-265.12 595.75,-229.38 595.75,-229.38 595.75,-223.38 601.75,-217.38 607.75,-217.38 607.75,-217.38 803.75,-217.38 803.75,-217.38 809.75,-217.38 815.75,-223.38 815.75,-229.38 815.75,-229.38 815.75,-265.12 815.75,-265.12 815.75,-271.12 809.75,-277.12 803.75,-277.12\"/>\n<text text-anchor=\"start\" x=\"662.25\" y=\"-259.82\" font-family=\"Helvetica,sans-Serif\" font-size=\"14.00\">gini = 0.641</text>\n<text text-anchor=\"start\" x=\"652.88\" y=\"-242.57\" font-family=\"Helvetica,sans-Serif\" font-size=\"14.00\">samples = 283</text>\n<text text-anchor=\"start\" x=\"603.75\" y=\"-225.32\" font-family=\"Helvetica,sans-Serif\" font-size=\"14.00\">value = [15, 34, 150, 68, 16]</text>\n</g>\n<!-- 13&#45;&gt;14 -->\n<g id=\"edge14\" class=\"edge\">\n<title>13&#45;&gt;14</title>\n<path fill=\"none\" stroke=\"black\" d=\"M865.8,-321.36C838.01,-308.66 807.21,-294.59 780.11,-282.22\"/>\n<polygon fill=\"black\" stroke=\"black\" points=\"781.85,-279.16 771.29,-278.19 778.94,-285.53 781.85,-279.16\"/>\n</g>\n<!-- 15 -->\n<g id=\"node16\" class=\"node\">\n<title>15</title>\n<path fill=\"#bef6ec\" stroke=\"black\" d=\"M1051.25,-285.75C1051.25,-285.75 846.25,-285.75 846.25,-285.75 840.25,-285.75 834.25,-279.75 834.25,-273.75 834.25,-273.75 834.25,-220.75 834.25,-220.75 834.25,-214.75 840.25,-208.75 846.25,-208.75 846.25,-208.75 1051.25,-208.75 1051.25,-208.75 1057.25,-208.75 1063.25,-214.75 1063.25,-220.75 1063.25,-220.75 1063.25,-273.75 1063.25,-273.75 1063.25,-279.75 1057.25,-285.75 1051.25,-285.75\"/>\n<text text-anchor=\"start\" x=\"857.62\" y=\"-268.45\" font-family=\"Helvetica,sans-Serif\" font-size=\"14.00\">Workload_Binned ≤ 3.951</text>\n<text text-anchor=\"start\" x=\"909.75\" y=\"-251.2\" font-family=\"Helvetica,sans-Serif\" font-size=\"14.00\">gini = 0.71</text>\n<text text-anchor=\"start\" x=\"895.88\" y=\"-233.95\" font-family=\"Helvetica,sans-Serif\" font-size=\"14.00\">samples = 578</text>\n<text text-anchor=\"start\" x=\"842.25\" y=\"-216.7\" font-family=\"Helvetica,sans-Serif\" font-size=\"14.00\">value = [56, 111, 264, 96, 51]</text>\n</g>\n<!-- 13&#45;&gt;15 -->\n<g id=\"edge15\" class=\"edge\">\n<title>13&#45;&gt;15</title>\n<path fill=\"none\" stroke=\"black\" d=\"M948.75,-321.36C948.75,-313.59 948.75,-305.31 948.75,-297.21\"/>\n<polygon fill=\"black\" stroke=\"black\" points=\"952.25,-297.48 948.75,-287.48 945.25,-297.48 952.25,-297.48\"/>\n</g>\n<!-- 16 -->\n<g id=\"node17\" class=\"node\">\n<title>16</title>\n<path fill=\"#b1f5e8\" stroke=\"black\" d=\"M969.5,-164.12C969.5,-164.12 706,-164.12 706,-164.12 700,-164.12 694,-158.12 694,-152.12 694,-152.12 694,-116.38 694,-116.38 694,-110.38 700,-104.38 706,-104.38 706,-104.38 969.5,-104.38 969.5,-104.38 975.5,-104.38 981.5,-110.38 981.5,-116.38 981.5,-116.38 981.5,-152.12 981.5,-152.12 981.5,-158.12 975.5,-164.12 969.5,-164.12\"/>\n<text text-anchor=\"start\" x=\"794.25\" y=\"-146.82\" font-family=\"Helvetica,sans-Serif\" font-size=\"14.00\">gini = 0.684</text>\n<text text-anchor=\"start\" x=\"784.88\" y=\"-129.57\" font-family=\"Helvetica,sans-Serif\" font-size=\"14.00\">samples = 277</text>\n<text text-anchor=\"start\" x=\"702\" y=\"-112.33\" font-family=\"Helvetica,sans-Serif\" font-size=\"14.00\">value = [28.0, 48.0, 138.0, 40.0, 23.0]</text>\n</g>\n<!-- 15&#45;&gt;16 -->\n<g id=\"edge16\" class=\"edge\">\n<title>15&#45;&gt;16</title>\n<path fill=\"none\" stroke=\"black\" d=\"M910.86,-208.36C899.34,-196.84 886.69,-184.19 875.19,-172.69\"/>\n<polygon fill=\"black\" stroke=\"black\" points=\"877.68,-170.23 868.13,-165.63 872.73,-175.18 877.68,-170.23\"/>\n</g>\n<!-- 17 -->\n<g id=\"node18\" class=\"node\">\n<title>17</title>\n<path fill=\"#cbf8f0\" stroke=\"black\" d=\"M1207.75,-164.12C1207.75,-164.12 1011.75,-164.12 1011.75,-164.12 1005.75,-164.12 999.75,-158.12 999.75,-152.12 999.75,-152.12 999.75,-116.38 999.75,-116.38 999.75,-110.38 1005.75,-104.38 1011.75,-104.38 1011.75,-104.38 1207.75,-104.38 1207.75,-104.38 1213.75,-104.38 1219.75,-110.38 1219.75,-116.38 1219.75,-116.38 1219.75,-152.12 1219.75,-152.12 1219.75,-158.12 1213.75,-164.12 1207.75,-164.12\"/>\n<text text-anchor=\"start\" x=\"1066.25\" y=\"-146.82\" font-family=\"Helvetica,sans-Serif\" font-size=\"14.00\">gini = 0.729</text>\n<text text-anchor=\"start\" x=\"1056.88\" y=\"-129.57\" font-family=\"Helvetica,sans-Serif\" font-size=\"14.00\">samples = 301</text>\n<text text-anchor=\"start\" x=\"1007.75\" y=\"-112.33\" font-family=\"Helvetica,sans-Serif\" font-size=\"14.00\">value = [28, 63, 126, 56, 28]</text>\n</g>\n<!-- 15&#45;&gt;17 -->\n<g id=\"edge17\" class=\"edge\">\n<title>15&#45;&gt;17</title>\n<path fill=\"none\" stroke=\"black\" d=\"M1003.71,-208.36C1021.23,-196.28 1040.56,-182.95 1057.86,-171.03\"/>\n<polygon fill=\"black\" stroke=\"black\" points=\"1059.74,-173.98 1065.99,-165.42 1055.77,-168.22 1059.74,-173.98\"/>\n</g>\n<!-- 19 -->\n<g id=\"node20\" class=\"node\">\n<title>19</title>\n<path fill=\"#b3f5e9\" stroke=\"black\" d=\"M1330,-277.12C1330,-277.12 1093.5,-277.12 1093.5,-277.12 1087.5,-277.12 1081.5,-271.12 1081.5,-265.12 1081.5,-265.12 1081.5,-229.38 1081.5,-229.38 1081.5,-223.38 1087.5,-217.38 1093.5,-217.38 1093.5,-217.38 1330,-217.38 1330,-217.38 1336,-217.38 1342,-223.38 1342,-229.38 1342,-229.38 1342,-265.12 1342,-265.12 1342,-271.12 1336,-277.12 1330,-277.12\"/>\n<text text-anchor=\"start\" x=\"1168.25\" y=\"-259.82\" font-family=\"Helvetica,sans-Serif\" font-size=\"14.00\">gini = 0.668</text>\n<text text-anchor=\"start\" x=\"1163.38\" y=\"-242.57\" font-family=\"Helvetica,sans-Serif\" font-size=\"14.00\">samples = 87</text>\n<text text-anchor=\"start\" x=\"1089.5\" y=\"-225.32\" font-family=\"Helvetica,sans-Serif\" font-size=\"14.00\">value = [7.0, 15.0, 44.0, 17.0, 4.0]</text>\n</g>\n<!-- 18&#45;&gt;19 -->\n<g id=\"edge19\" class=\"edge\">\n<title>18&#45;&gt;19</title>\n<path fill=\"none\" stroke=\"black\" d=\"M1211.75,-321.36C1211.75,-310.96 1211.75,-299.63 1211.75,-289.07\"/>\n<polygon fill=\"black\" stroke=\"black\" points=\"1215.25,-289.07 1211.75,-279.07 1208.25,-289.07 1215.25,-289.07\"/>\n</g>\n<!-- 20 -->\n<g id=\"node21\" class=\"node\">\n<title>20</title>\n<path fill=\"#cff9f1\" stroke=\"black\" d=\"M1627,-277.12C1627,-277.12 1372.5,-277.12 1372.5,-277.12 1366.5,-277.12 1360.5,-271.12 1360.5,-265.12 1360.5,-265.12 1360.5,-229.38 1360.5,-229.38 1360.5,-223.38 1366.5,-217.38 1372.5,-217.38 1372.5,-217.38 1627,-217.38 1627,-217.38 1633,-217.38 1639,-223.38 1639,-229.38 1639,-229.38 1639,-265.12 1639,-265.12 1639,-271.12 1633,-277.12 1627,-277.12\"/>\n<text text-anchor=\"start\" x=\"1456.25\" y=\"-259.82\" font-family=\"Helvetica,sans-Serif\" font-size=\"14.00\">gini = 0.752</text>\n<text text-anchor=\"start\" x=\"1446.88\" y=\"-242.57\" font-family=\"Helvetica,sans-Serif\" font-size=\"14.00\">samples = 168</text>\n<text text-anchor=\"start\" x=\"1368.5\" y=\"-225.32\" font-family=\"Helvetica,sans-Serif\" font-size=\"14.00\">value = [17.0, 32.0, 65.0, 27.0, 27.0]</text>\n</g>\n<!-- 18&#45;&gt;20 -->\n<g id=\"edge20\" class=\"edge\">\n<title>18&#45;&gt;20</title>\n<path fill=\"none\" stroke=\"black\" d=\"M1310.06,-321.36C1343.58,-308.44 1380.79,-294.1 1413.32,-281.56\"/>\n<polygon fill=\"black\" stroke=\"black\" points=\"1414.21,-284.97 1422.29,-278.11 1411.7,-278.44 1414.21,-284.97\"/>\n</g>\n<!-- 22 -->\n<g id=\"node23\" class=\"node\">\n<title>22</title>\n<path fill=\"#d6faf3\" stroke=\"black\" d=\"M1786.75,-511.75C1786.75,-511.75 1590.75,-511.75 1590.75,-511.75 1584.75,-511.75 1578.75,-505.75 1578.75,-499.75 1578.75,-499.75 1578.75,-446.75 1578.75,-446.75 1578.75,-440.75 1584.75,-434.75 1590.75,-434.75 1590.75,-434.75 1786.75,-434.75 1786.75,-434.75 1792.75,-434.75 1798.75,-440.75 1798.75,-446.75 1798.75,-446.75 1798.75,-499.75 1798.75,-499.75 1798.75,-505.75 1792.75,-511.75 1786.75,-511.75\"/>\n<text text-anchor=\"start\" x=\"1597.62\" y=\"-494.45\" font-family=\"Helvetica,sans-Serif\" font-size=\"14.00\">Workload_Binned ≤ 3.544</text>\n<text text-anchor=\"start\" x=\"1645.25\" y=\"-477.2\" font-family=\"Helvetica,sans-Serif\" font-size=\"14.00\">gini = 0.761</text>\n<text text-anchor=\"start\" x=\"1635.88\" y=\"-459.95\" font-family=\"Helvetica,sans-Serif\" font-size=\"14.00\">samples = 280</text>\n<text text-anchor=\"start\" x=\"1586.75\" y=\"-442.7\" font-family=\"Helvetica,sans-Serif\" font-size=\"14.00\">value = [32, 54, 102, 37, 55]</text>\n</g>\n<!-- 21&#45;&gt;22 -->\n<g id=\"edge22\" class=\"edge\">\n<title>21&#45;&gt;22</title>\n<path fill=\"none\" stroke=\"black\" d=\"M1775.03,-547.36C1764.39,-538.34 1752.93,-528.63 1741.95,-519.32\"/>\n<polygon fill=\"black\" stroke=\"black\" points=\"1744.31,-516.74 1734.42,-512.95 1739.79,-522.08 1744.31,-516.74\"/>\n</g>\n<!-- 25 -->\n<g id=\"node26\" class=\"node\">\n<title>25</title>\n<path fill=\"#fafefe\" stroke=\"black\" d=\"M2074.5,-511.75C2074.5,-511.75 1829,-511.75 1829,-511.75 1823,-511.75 1817,-505.75 1817,-499.75 1817,-499.75 1817,-446.75 1817,-446.75 1817,-440.75 1823,-434.75 1829,-434.75 1829,-434.75 2074.5,-434.75 2074.5,-434.75 2080.5,-434.75 2086.5,-440.75 2086.5,-446.75 2086.5,-446.75 2086.5,-499.75 2086.5,-499.75 2086.5,-505.75 2080.5,-511.75 2074.5,-511.75\"/>\n<text text-anchor=\"start\" x=\"1853.5\" y=\"-494.45\" font-family=\"Helvetica,sans-Serif\" font-size=\"14.00\">SleepHours_Binned ≤ 6.025</text>\n<text text-anchor=\"start\" x=\"1908.25\" y=\"-477.2\" font-family=\"Helvetica,sans-Serif\" font-size=\"14.00\">gini = 0.753</text>\n<text text-anchor=\"start\" x=\"1898.88\" y=\"-459.95\" font-family=\"Helvetica,sans-Serif\" font-size=\"14.00\">samples = 165</text>\n<text text-anchor=\"start\" x=\"1825\" y=\"-442.7\" font-family=\"Helvetica,sans-Serif\" font-size=\"14.00\">value = [9.0, 42.0, 49.0, 19.0, 46.0]</text>\n</g>\n<!-- 21&#45;&gt;25 -->\n<g id=\"edge25\" class=\"edge\">\n<title>21&#45;&gt;25</title>\n<path fill=\"none\" stroke=\"black\" d=\"M1864.81,-547.36C1875.53,-538.34 1887.08,-528.63 1898.15,-519.32\"/>\n<polygon fill=\"black\" stroke=\"black\" points=\"1900.34,-522.06 1905.74,-512.94 1895.83,-516.7 1900.34,-522.06\"/>\n</g>\n<!-- 23 -->\n<g id=\"node24\" class=\"node\">\n<title>23</title>\n<path fill=\"#bff7ec\" stroke=\"black\" d=\"M1575.25,-390.12C1575.25,-390.12 1388.25,-390.12 1388.25,-390.12 1382.25,-390.12 1376.25,-384.12 1376.25,-378.12 1376.25,-378.12 1376.25,-342.38 1376.25,-342.38 1376.25,-336.38 1382.25,-330.38 1388.25,-330.38 1388.25,-330.38 1575.25,-330.38 1575.25,-330.38 1581.25,-330.38 1587.25,-336.38 1587.25,-342.38 1587.25,-342.38 1587.25,-378.12 1587.25,-378.12 1587.25,-384.12 1581.25,-390.12 1575.25,-390.12\"/>\n<text text-anchor=\"start\" x=\"1438.25\" y=\"-372.82\" font-family=\"Helvetica,sans-Serif\" font-size=\"14.00\">gini = 0.726</text>\n<text text-anchor=\"start\" x=\"1428.88\" y=\"-355.57\" font-family=\"Helvetica,sans-Serif\" font-size=\"14.00\">samples = 203</text>\n<text text-anchor=\"start\" x=\"1384.25\" y=\"-338.32\" font-family=\"Helvetica,sans-Serif\" font-size=\"14.00\">value = [24, 35, 89, 33, 22]</text>\n</g>\n<!-- 22&#45;&gt;23 -->\n<g id=\"edge23\" class=\"edge\">\n<title>22&#45;&gt;23</title>\n<path fill=\"none\" stroke=\"black\" d=\"M1618.09,-434.36C1594.83,-421.89 1569.1,-408.09 1546.32,-395.87\"/>\n<polygon fill=\"black\" stroke=\"black\" points=\"1548.21,-392.92 1537.75,-391.28 1544.9,-399.09 1548.21,-392.92\"/>\n</g>\n<!-- 24 -->\n<g id=\"node25\" class=\"node\">\n<title>24</title>\n<path fill=\"#f9cff0\" stroke=\"black\" d=\"M1786.25,-390.12C1786.25,-390.12 1617.25,-390.12 1617.25,-390.12 1611.25,-390.12 1605.25,-384.12 1605.25,-378.12 1605.25,-378.12 1605.25,-342.38 1605.25,-342.38 1605.25,-336.38 1611.25,-330.38 1617.25,-330.38 1617.25,-330.38 1786.25,-330.38 1786.25,-330.38 1792.25,-330.38 1798.25,-336.38 1798.25,-342.38 1798.25,-342.38 1798.25,-378.12 1798.25,-378.12 1798.25,-384.12 1792.25,-390.12 1786.25,-390.12\"/>\n<text text-anchor=\"start\" x=\"1658.25\" y=\"-372.82\" font-family=\"Helvetica,sans-Serif\" font-size=\"14.00\">gini = 0.713</text>\n<text text-anchor=\"start\" x=\"1653.38\" y=\"-355.57\" font-family=\"Helvetica,sans-Serif\" font-size=\"14.00\">samples = 77</text>\n<text text-anchor=\"start\" x=\"1613.25\" y=\"-338.32\" font-family=\"Helvetica,sans-Serif\" font-size=\"14.00\">value = [8, 19, 13, 4, 33]</text>\n</g>\n<!-- 22&#45;&gt;24 -->\n<g id=\"edge24\" class=\"edge\">\n<title>22&#45;&gt;24</title>\n<path fill=\"none\" stroke=\"black\" d=\"M1693.19,-434.36C1694.42,-423.84 1695.76,-412.39 1697.01,-401.73\"/>\n<polygon fill=\"black\" stroke=\"black\" points=\"1700.45,-402.4 1698.14,-392.06 1693.5,-401.59 1700.45,-402.4\"/>\n</g>\n<!-- 26 -->\n<g id=\"node27\" class=\"node\">\n<title>26</title>\n<path fill=\"#fce7f7\" stroke=\"black\" d=\"M2026.88,-398.75C2026.88,-398.75 1852.62,-398.75 1852.62,-398.75 1846.62,-398.75 1840.62,-392.75 1840.62,-386.75 1840.62,-386.75 1840.62,-333.75 1840.62,-333.75 1840.62,-327.75 1846.62,-321.75 1852.62,-321.75 1852.62,-321.75 2026.88,-321.75 2026.88,-321.75 2032.88,-321.75 2038.88,-327.75 2038.88,-333.75 2038.88,-333.75 2038.88,-386.75 2038.88,-386.75 2038.88,-392.75 2032.88,-398.75 2026.88,-398.75\"/>\n<text text-anchor=\"start\" x=\"1848.62\" y=\"-381.45\" font-family=\"Helvetica,sans-Serif\" font-size=\"14.00\">Workload_Binned ≤ 2.399</text>\n<text text-anchor=\"start\" x=\"1896.25\" y=\"-364.2\" font-family=\"Helvetica,sans-Serif\" font-size=\"14.00\">gini = 0.724</text>\n<text text-anchor=\"start\" x=\"1891.38\" y=\"-346.95\" font-family=\"Helvetica,sans-Serif\" font-size=\"14.00\">samples = 71</text>\n<text text-anchor=\"start\" x=\"1851.25\" y=\"-329.7\" font-family=\"Helvetica,sans-Serif\" font-size=\"14.00\">value = [5, 21, 13, 5, 27]</text>\n</g>\n<!-- 25&#45;&gt;26 -->\n<g id=\"edge26\" class=\"edge\">\n<title>25&#45;&gt;26</title>\n<path fill=\"none\" stroke=\"black\" d=\"M1947.65,-434.36C1946.81,-426.59 1945.92,-418.31 1945.04,-410.21\"/>\n<polygon fill=\"black\" stroke=\"black\" points=\"1948.55,-410.04 1943.99,-400.47 1941.59,-410.79 1948.55,-410.04\"/>\n</g>\n<!-- 29 -->\n<g id=\"node30\" class=\"node\">\n<title>29</title>\n<path fill=\"#d6faf3\" stroke=\"black\" d=\"M2246.75,-398.75C2246.75,-398.75 2068.75,-398.75 2068.75,-398.75 2062.75,-398.75 2056.75,-392.75 2056.75,-386.75 2056.75,-386.75 2056.75,-333.75 2056.75,-333.75 2056.75,-327.75 2062.75,-321.75 2068.75,-321.75 2068.75,-321.75 2246.75,-321.75 2246.75,-321.75 2252.75,-321.75 2258.75,-327.75 2258.75,-333.75 2258.75,-333.75 2258.75,-386.75 2258.75,-386.75 2258.75,-392.75 2252.75,-398.75 2246.75,-398.75\"/>\n<text text-anchor=\"start\" x=\"2077.88\" y=\"-381.45\" font-family=\"Helvetica,sans-Serif\" font-size=\"14.00\">Stress_Binned ≤ 4.016</text>\n<text text-anchor=\"start\" x=\"2114.25\" y=\"-364.2\" font-family=\"Helvetica,sans-Serif\" font-size=\"14.00\">gini = 0.739</text>\n<text text-anchor=\"start\" x=\"2109.38\" y=\"-346.95\" font-family=\"Helvetica,sans-Serif\" font-size=\"14.00\">samples = 94</text>\n<text text-anchor=\"start\" x=\"2064.75\" y=\"-329.7\" font-family=\"Helvetica,sans-Serif\" font-size=\"14.00\">value = [4, 21, 36, 14, 19]</text>\n</g>\n<!-- 25&#45;&gt;29 -->\n<g id=\"edge29\" class=\"edge\">\n<title>25&#45;&gt;29</title>\n<path fill=\"none\" stroke=\"black\" d=\"M2022.07,-434.36C2039.87,-424.77 2059.12,-414.39 2077.38,-404.56\"/>\n<polygon fill=\"black\" stroke=\"black\" points=\"2078.92,-407.7 2086.07,-399.87 2075.6,-401.54 2078.92,-407.7\"/>\n</g>\n<!-- 27 -->\n<g id=\"node28\" class=\"node\">\n<title>27</title>\n<path fill=\"#fafef7\" stroke=\"black\" d=\"M1828.75,-277.12C1828.75,-277.12 1668.75,-277.12 1668.75,-277.12 1662.75,-277.12 1656.75,-271.12 1656.75,-265.12 1656.75,-265.12 1656.75,-229.38 1656.75,-229.38 1656.75,-223.38 1662.75,-217.38 1668.75,-217.38 1668.75,-217.38 1828.75,-217.38 1828.75,-217.38 1834.75,-217.38 1840.75,-223.38 1840.75,-229.38 1840.75,-229.38 1840.75,-265.12 1840.75,-265.12 1840.75,-271.12 1834.75,-277.12 1828.75,-277.12\"/>\n<text text-anchor=\"start\" x=\"1705.25\" y=\"-259.82\" font-family=\"Helvetica,sans-Serif\" font-size=\"14.00\">gini = 0.744</text>\n<text text-anchor=\"start\" x=\"1700.38\" y=\"-242.57\" font-family=\"Helvetica,sans-Serif\" font-size=\"14.00\">samples = 34</text>\n<text text-anchor=\"start\" x=\"1664.75\" y=\"-225.32\" font-family=\"Helvetica,sans-Serif\" font-size=\"14.00\">value = [5, 11, 10, 1, 7]</text>\n</g>\n<!-- 26&#45;&gt;27 -->\n<g id=\"edge27\" class=\"edge\">\n<title>26&#45;&gt;27</title>\n<path fill=\"none\" stroke=\"black\" d=\"M1874.55,-321.36C1853.28,-309 1829.77,-295.34 1808.89,-283.2\"/>\n<polygon fill=\"black\" stroke=\"black\" points=\"1810.9,-280.32 1800.5,-278.32 1807.38,-286.37 1810.9,-280.32\"/>\n</g>\n<!-- 28 -->\n<g id=\"node29\" class=\"node\">\n<title>28</title>\n<path fill=\"#f5b6e8\" stroke=\"black\" d=\"M2030.75,-277.12C2030.75,-277.12 1870.75,-277.12 1870.75,-277.12 1864.75,-277.12 1858.75,-271.12 1858.75,-265.12 1858.75,-265.12 1858.75,-229.38 1858.75,-229.38 1858.75,-223.38 1864.75,-217.38 1870.75,-217.38 1870.75,-217.38 2030.75,-217.38 2030.75,-217.38 2036.75,-217.38 2042.75,-223.38 2042.75,-229.38 2042.75,-229.38 2042.75,-265.12 2042.75,-265.12 2042.75,-271.12 2036.75,-277.12 2030.75,-277.12\"/>\n<text text-anchor=\"start\" x=\"1907.25\" y=\"-259.82\" font-family=\"Helvetica,sans-Serif\" font-size=\"14.00\">gini = 0.617</text>\n<text text-anchor=\"start\" x=\"1902.38\" y=\"-242.57\" font-family=\"Helvetica,sans-Serif\" font-size=\"14.00\">samples = 37</text>\n<text text-anchor=\"start\" x=\"1866.75\" y=\"-225.32\" font-family=\"Helvetica,sans-Serif\" font-size=\"14.00\">value = [0, 10, 3, 4, 20]</text>\n</g>\n<!-- 26&#45;&gt;28 -->\n<g id=\"edge28\" class=\"edge\">\n<title>26&#45;&gt;28</title>\n<path fill=\"none\" stroke=\"black\" d=\"M1943.5,-321.36C1944.55,-310.84 1945.68,-299.39 1946.74,-288.73\"/>\n<polygon fill=\"black\" stroke=\"black\" points=\"1950.19,-289.36 1947.7,-279.07 1943.23,-288.67 1950.19,-289.36\"/>\n</g>\n<!-- 30 -->\n<g id=\"node31\" class=\"node\">\n<title>30</title>\n<path fill=\"#caf8f0\" stroke=\"black\" d=\"M2242.25,-277.12C2242.25,-277.12 2073.25,-277.12 2073.25,-277.12 2067.25,-277.12 2061.25,-271.12 2061.25,-265.12 2061.25,-265.12 2061.25,-229.38 2061.25,-229.38 2061.25,-223.38 2067.25,-217.38 2073.25,-217.38 2073.25,-217.38 2242.25,-217.38 2242.25,-217.38 2248.25,-217.38 2254.25,-223.38 2254.25,-229.38 2254.25,-229.38 2254.25,-265.12 2254.25,-265.12 2254.25,-271.12 2248.25,-277.12 2242.25,-277.12\"/>\n<text text-anchor=\"start\" x=\"2114.25\" y=\"-259.82\" font-family=\"Helvetica,sans-Serif\" font-size=\"14.00\">gini = 0.708</text>\n<text text-anchor=\"start\" x=\"2109.38\" y=\"-242.57\" font-family=\"Helvetica,sans-Serif\" font-size=\"14.00\">samples = 64</text>\n<text text-anchor=\"start\" x=\"2069.25\" y=\"-225.32\" font-family=\"Helvetica,sans-Serif\" font-size=\"14.00\">value = [2, 15, 28, 9, 10]</text>\n</g>\n<!-- 29&#45;&gt;30 -->\n<g id=\"edge30\" class=\"edge\">\n<title>29&#45;&gt;30</title>\n<path fill=\"none\" stroke=\"black\" d=\"M2157.75,-321.36C2157.75,-310.96 2157.75,-299.63 2157.75,-289.07\"/>\n<polygon fill=\"black\" stroke=\"black\" points=\"2161.25,-289.07 2157.75,-279.07 2154.25,-289.07 2161.25,-289.07\"/>\n</g>\n<!-- 31 -->\n<g id=\"node32\" class=\"node\">\n<title>31</title>\n<path fill=\"#fef6fc\" stroke=\"black\" d=\"M2426.75,-277.12C2426.75,-277.12 2284.75,-277.12 2284.75,-277.12 2278.75,-277.12 2272.75,-271.12 2272.75,-265.12 2272.75,-265.12 2272.75,-229.38 2272.75,-229.38 2272.75,-223.38 2278.75,-217.38 2284.75,-217.38 2284.75,-217.38 2426.75,-217.38 2426.75,-217.38 2432.75,-217.38 2438.75,-223.38 2438.75,-229.38 2438.75,-229.38 2438.75,-265.12 2438.75,-265.12 2438.75,-271.12 2432.75,-277.12 2426.75,-277.12\"/>\n<text text-anchor=\"start\" x=\"2312.25\" y=\"-259.82\" font-family=\"Helvetica,sans-Serif\" font-size=\"14.00\">gini = 0.767</text>\n<text text-anchor=\"start\" x=\"2307.38\" y=\"-242.57\" font-family=\"Helvetica,sans-Serif\" font-size=\"14.00\">samples = 30</text>\n<text text-anchor=\"start\" x=\"2280.75\" y=\"-225.32\" font-family=\"Helvetica,sans-Serif\" font-size=\"14.00\">value = [2, 6, 8, 5, 9]</text>\n</g>\n<!-- 29&#45;&gt;31 -->\n<g id=\"edge31\" class=\"edge\">\n<title>29&#45;&gt;31</title>\n<path fill=\"none\" stroke=\"black\" d=\"M2225.34,-321.36C2247.49,-308.94 2271.98,-295.21 2293.7,-283.04\"/>\n<polygon fill=\"black\" stroke=\"black\" points=\"2295.13,-286.24 2302.14,-278.3 2291.71,-280.14 2295.13,-286.24\"/>\n</g>\n<!-- 33 -->\n<g id=\"node34\" class=\"node\">\n<title>33</title>\n<path fill=\"#ebfcf9\" stroke=\"black\" d=\"M2616.5,-624.75C2616.5,-624.75 2353,-624.75 2353,-624.75 2347,-624.75 2341,-618.75 2341,-612.75 2341,-612.75 2341,-559.75 2341,-559.75 2341,-553.75 2347,-547.75 2353,-547.75 2353,-547.75 2616.5,-547.75 2616.5,-547.75 2622.5,-547.75 2628.5,-553.75 2628.5,-559.75 2628.5,-559.75 2628.5,-612.75 2628.5,-612.75 2628.5,-618.75 2622.5,-624.75 2616.5,-624.75\"/>\n<text text-anchor=\"start\" x=\"2404.88\" y=\"-607.45\" font-family=\"Helvetica,sans-Serif\" font-size=\"14.00\">Stress_Binned ≤ 1.882</text>\n<text text-anchor=\"start\" x=\"2441.25\" y=\"-590.2\" font-family=\"Helvetica,sans-Serif\" font-size=\"14.00\">gini = 0.758</text>\n<text text-anchor=\"start\" x=\"2431.88\" y=\"-572.95\" font-family=\"Helvetica,sans-Serif\" font-size=\"14.00\">samples = 343</text>\n<text text-anchor=\"start\" x=\"2349\" y=\"-555.7\" font-family=\"Helvetica,sans-Serif\" font-size=\"14.00\">value = [33.0, 86.0, 112.0, 32.0, 80.0]</text>\n</g>\n<!-- 32&#45;&gt;33 -->\n<g id=\"edge33\" class=\"edge\">\n<title>32&#45;&gt;33</title>\n<path fill=\"none\" stroke=\"black\" d=\"M2484.75,-660.36C2484.75,-652.59 2484.75,-644.31 2484.75,-636.21\"/>\n<polygon fill=\"black\" stroke=\"black\" points=\"2488.25,-636.48 2484.75,-626.48 2481.25,-636.48 2488.25,-636.48\"/>\n</g>\n<!-- 42 -->\n<g id=\"node43\" class=\"node\">\n<title>42</title>\n<path fill=\"#fceaf8\" stroke=\"black\" d=\"M2957.75,-624.75C2957.75,-624.75 2779.75,-624.75 2779.75,-624.75 2773.75,-624.75 2767.75,-618.75 2767.75,-612.75 2767.75,-612.75 2767.75,-559.75 2767.75,-559.75 2767.75,-553.75 2773.75,-547.75 2779.75,-547.75 2779.75,-547.75 2957.75,-547.75 2957.75,-547.75 2963.75,-547.75 2969.75,-553.75 2969.75,-559.75 2969.75,-559.75 2969.75,-612.75 2969.75,-612.75 2969.75,-618.75 2963.75,-624.75 2957.75,-624.75\"/>\n<text text-anchor=\"start\" x=\"2788.88\" y=\"-607.45\" font-family=\"Helvetica,sans-Serif\" font-size=\"14.00\">Stress_Binned ≤ 3.961</text>\n<text text-anchor=\"start\" x=\"2825.25\" y=\"-590.2\" font-family=\"Helvetica,sans-Serif\" font-size=\"14.00\">gini = 0.708</text>\n<text text-anchor=\"start\" x=\"2815.88\" y=\"-572.95\" font-family=\"Helvetica,sans-Serif\" font-size=\"14.00\">samples = 113</text>\n<text text-anchor=\"start\" x=\"2775.75\" y=\"-555.7\" font-family=\"Helvetica,sans-Serif\" font-size=\"14.00\">value = [7, 37, 11, 13, 45]</text>\n</g>\n<!-- 32&#45;&gt;42 -->\n<g id=\"edge42\" class=\"edge\">\n<title>32&#45;&gt;42</title>\n<path fill=\"none\" stroke=\"black\" d=\"M2616.1,-660.28C2661.75,-647.09 2712.49,-632.42 2756.46,-619.71\"/>\n<polygon fill=\"black\" stroke=\"black\" points=\"2757.4,-623.08 2766.03,-616.94 2755.46,-616.36 2757.4,-623.08\"/>\n</g>\n<!-- 34 -->\n<g id=\"node35\" class=\"node\">\n<title>34</title>\n<path fill=\"#e4fbf7\" stroke=\"black\" d=\"M2459,-511.75C2459,-511.75 2270.5,-511.75 2270.5,-511.75 2264.5,-511.75 2258.5,-505.75 2258.5,-499.75 2258.5,-499.75 2258.5,-446.75 2258.5,-446.75 2258.5,-440.75 2264.5,-434.75 2270.5,-434.75 2270.5,-434.75 2459,-434.75 2459,-434.75 2465,-434.75 2471,-440.75 2471,-446.75 2471,-446.75 2471,-499.75 2471,-499.75 2471,-505.75 2465,-511.75 2459,-511.75\"/>\n<text text-anchor=\"start\" x=\"2266.5\" y=\"-494.45\" font-family=\"Helvetica,sans-Serif\" font-size=\"14.00\">SleepHours_Binned ≤ 5.617</text>\n<text text-anchor=\"start\" x=\"2321.25\" y=\"-477.2\" font-family=\"Helvetica,sans-Serif\" font-size=\"14.00\">gini = 0.754</text>\n<text text-anchor=\"start\" x=\"2311.88\" y=\"-459.95\" font-family=\"Helvetica,sans-Serif\" font-size=\"14.00\">samples = 266</text>\n<text text-anchor=\"start\" x=\"2267.25\" y=\"-442.7\" font-family=\"Helvetica,sans-Serif\" font-size=\"14.00\">value = [22, 63, 91, 27, 63]</text>\n</g>\n<!-- 33&#45;&gt;34 -->\n<g id=\"edge34\" class=\"edge\">\n<title>33&#45;&gt;34</title>\n<path fill=\"none\" stroke=\"black\" d=\"M2443.79,-547.36C2434.13,-538.43 2423.75,-528.82 2413.78,-519.6\"/>\n<polygon fill=\"black\" stroke=\"black\" points=\"2416.36,-517.22 2406.64,-513 2411.6,-522.36 2416.36,-517.22\"/>\n</g>\n<!-- 41 -->\n<g id=\"node42\" class=\"node\">\n<title>41</title>\n<path fill=\"#fafef8\" stroke=\"black\" d=\"M2746.5,-503.12C2746.5,-503.12 2501,-503.12 2501,-503.12 2495,-503.12 2489,-497.12 2489,-491.12 2489,-491.12 2489,-455.38 2489,-455.38 2489,-449.38 2495,-443.38 2501,-443.38 2501,-443.38 2746.5,-443.38 2746.5,-443.38 2752.5,-443.38 2758.5,-449.38 2758.5,-455.38 2758.5,-455.38 2758.5,-491.12 2758.5,-491.12 2758.5,-497.12 2752.5,-503.12 2746.5,-503.12\"/>\n<text text-anchor=\"start\" x=\"2580.25\" y=\"-485.82\" font-family=\"Helvetica,sans-Serif\" font-size=\"14.00\">gini = 0.763</text>\n<text text-anchor=\"start\" x=\"2575.38\" y=\"-468.57\" font-family=\"Helvetica,sans-Serif\" font-size=\"14.00\">samples = 77</text>\n<text text-anchor=\"start\" x=\"2497\" y=\"-451.32\" font-family=\"Helvetica,sans-Serif\" font-size=\"14.00\">value = [11.0, 23.0, 21.0, 5.0, 17.0]</text>\n</g>\n<!-- 33&#45;&gt;41 -->\n<g id=\"edge41\" class=\"edge\">\n<title>33&#45;&gt;41</title>\n<path fill=\"none\" stroke=\"black\" d=\"M2532.2,-547.36C2547.05,-535.5 2563.39,-522.45 2578.12,-510.69\"/>\n<polygon fill=\"black\" stroke=\"black\" points=\"2580.23,-513.48 2585.86,-504.51 2575.86,-508.01 2580.23,-513.48\"/>\n</g>\n<!-- 35 -->\n<g id=\"node36\" class=\"node\">\n<title>35</title>\n<path fill=\"#f9cff0\" stroke=\"black\" d=\"M2440.25,-390.12C2440.25,-390.12 2289.25,-390.12 2289.25,-390.12 2283.25,-390.12 2277.25,-384.12 2277.25,-378.12 2277.25,-378.12 2277.25,-342.38 2277.25,-342.38 2277.25,-336.38 2283.25,-330.38 2289.25,-330.38 2289.25,-330.38 2440.25,-330.38 2440.25,-330.38 2446.25,-330.38 2452.25,-336.38 2452.25,-342.38 2452.25,-342.38 2452.25,-378.12 2452.25,-378.12 2452.25,-384.12 2446.25,-390.12 2440.25,-390.12\"/>\n<text text-anchor=\"start\" x=\"2321.25\" y=\"-372.82\" font-family=\"Helvetica,sans-Serif\" font-size=\"14.00\">gini = 0.713</text>\n<text text-anchor=\"start\" x=\"2316.38\" y=\"-355.57\" font-family=\"Helvetica,sans-Serif\" font-size=\"14.00\">samples = 33</text>\n<text text-anchor=\"start\" x=\"2285.25\" y=\"-338.32\" font-family=\"Helvetica,sans-Serif\" font-size=\"14.00\">value = [1, 8, 4, 6, 14]</text>\n</g>\n<!-- 34&#45;&gt;35 -->\n<g id=\"edge35\" class=\"edge\">\n<title>34&#45;&gt;35</title>\n<path fill=\"none\" stroke=\"black\" d=\"M2364.75,-434.36C2364.75,-423.96 2364.75,-412.63 2364.75,-402.07\"/>\n<polygon fill=\"black\" stroke=\"black\" points=\"2368.25,-402.07 2364.75,-392.07 2361.25,-402.07 2368.25,-402.07\"/>\n</g>\n<!-- 36 -->\n<g id=\"node37\" class=\"node\">\n<title>36</title>\n<path fill=\"#dbfaf5\" stroke=\"black\" d=\"M2669.25,-398.75C2669.25,-398.75 2482.25,-398.75 2482.25,-398.75 2476.25,-398.75 2470.25,-392.75 2470.25,-386.75 2470.25,-386.75 2470.25,-333.75 2470.25,-333.75 2470.25,-327.75 2476.25,-321.75 2482.25,-321.75 2482.25,-321.75 2669.25,-321.75 2669.25,-321.75 2675.25,-321.75 2681.25,-327.75 2681.25,-333.75 2681.25,-333.75 2681.25,-386.75 2681.25,-386.75 2681.25,-392.75 2675.25,-398.75 2669.25,-398.75\"/>\n<text text-anchor=\"start\" x=\"2482\" y=\"-381.45\" font-family=\"Helvetica,sans-Serif\" font-size=\"14.00\">SleepHours_Binned ≤ 7.02</text>\n<text text-anchor=\"start\" x=\"2532.25\" y=\"-364.2\" font-family=\"Helvetica,sans-Serif\" font-size=\"14.00\">gini = 0.744</text>\n<text text-anchor=\"start\" x=\"2522.88\" y=\"-346.95\" font-family=\"Helvetica,sans-Serif\" font-size=\"14.00\">samples = 233</text>\n<text text-anchor=\"start\" x=\"2478.25\" y=\"-329.7\" font-family=\"Helvetica,sans-Serif\" font-size=\"14.00\">value = [21, 55, 87, 21, 49]</text>\n</g>\n<!-- 34&#45;&gt;36 -->\n<g id=\"edge36\" class=\"edge\">\n<title>34&#45;&gt;36</title>\n<path fill=\"none\" stroke=\"black\" d=\"M2436.77,-434.36C2455.09,-424.72 2474.91,-414.3 2493.69,-404.42\"/>\n<polygon fill=\"black\" stroke=\"black\" points=\"2495.13,-407.62 2502.35,-399.86 2491.87,-401.42 2495.13,-407.62\"/>\n</g>\n<!-- 37 -->\n<g id=\"node38\" class=\"node\">\n<title>37</title>\n<path fill=\"#e6fcf8\" stroke=\"black\" d=\"M2664,-285.75C2664,-285.75 2475.5,-285.75 2475.5,-285.75 2469.5,-285.75 2463.5,-279.75 2463.5,-273.75 2463.5,-273.75 2463.5,-220.75 2463.5,-220.75 2463.5,-214.75 2469.5,-208.75 2475.5,-208.75 2475.5,-208.75 2664,-208.75 2664,-208.75 2670,-208.75 2676,-214.75 2676,-220.75 2676,-220.75 2676,-273.75 2676,-273.75 2676,-279.75 2670,-285.75 2664,-285.75\"/>\n<text text-anchor=\"start\" x=\"2471.5\" y=\"-268.45\" font-family=\"Helvetica,sans-Serif\" font-size=\"14.00\">SleepHours_Binned ≤ 6.605</text>\n<text text-anchor=\"start\" x=\"2526.25\" y=\"-251.2\" font-family=\"Helvetica,sans-Serif\" font-size=\"14.00\">gini = 0.745</text>\n<text text-anchor=\"start\" x=\"2516.88\" y=\"-233.95\" font-family=\"Helvetica,sans-Serif\" font-size=\"14.00\">samples = 188</text>\n<text text-anchor=\"start\" x=\"2472.25\" y=\"-216.7\" font-family=\"Helvetica,sans-Serif\" font-size=\"14.00\">value = [17, 46, 65, 13, 47]</text>\n</g>\n<!-- 36&#45;&gt;37 -->\n<g id=\"edge37\" class=\"edge\">\n<title>36&#45;&gt;37</title>\n<path fill=\"none\" stroke=\"black\" d=\"M2573.7,-321.36C2573.28,-313.59 2572.83,-305.31 2572.4,-297.21\"/>\n<polygon fill=\"black\" stroke=\"black\" points=\"2575.91,-297.28 2571.87,-287.48 2568.92,-297.65 2575.91,-297.28\"/>\n</g>\n<!-- 40 -->\n<g id=\"node41\" class=\"node\">\n<title>40</title>\n<path fill=\"#b8f6ea\" stroke=\"black\" d=\"M2857.25,-277.12C2857.25,-277.12 2706.25,-277.12 2706.25,-277.12 2700.25,-277.12 2694.25,-271.12 2694.25,-265.12 2694.25,-265.12 2694.25,-229.38 2694.25,-229.38 2694.25,-223.38 2700.25,-217.38 2706.25,-217.38 2706.25,-217.38 2857.25,-217.38 2857.25,-217.38 2863.25,-217.38 2869.25,-223.38 2869.25,-229.38 2869.25,-229.38 2869.25,-265.12 2869.25,-265.12 2869.25,-271.12 2863.25,-277.12 2857.25,-277.12\"/>\n<text text-anchor=\"start\" x=\"2742.75\" y=\"-259.82\" font-family=\"Helvetica,sans-Serif\" font-size=\"14.00\">gini = 0.68</text>\n<text text-anchor=\"start\" x=\"2733.38\" y=\"-242.57\" font-family=\"Helvetica,sans-Serif\" font-size=\"14.00\">samples = 45</text>\n<text text-anchor=\"start\" x=\"2702.25\" y=\"-225.32\" font-family=\"Helvetica,sans-Serif\" font-size=\"14.00\">value = [4, 9, 22, 8, 2]</text>\n</g>\n<!-- 36&#45;&gt;40 -->\n<g id=\"edge40\" class=\"edge\">\n<title>36&#45;&gt;40</title>\n<path fill=\"none\" stroke=\"black\" d=\"M2646.07,-321.36C2669.22,-308.89 2694.82,-295.09 2717.5,-282.87\"/>\n<polygon fill=\"black\" stroke=\"black\" points=\"2718.88,-286.1 2726.02,-278.28 2715.56,-279.94 2718.88,-286.1\"/>\n</g>\n<!-- 38 -->\n<g id=\"node39\" class=\"node\">\n<title>38</title>\n<path fill=\"#f3fdee\" stroke=\"black\" d=\"M2546.25,-164.12C2546.25,-164.12 2377.25,-164.12 2377.25,-164.12 2371.25,-164.12 2365.25,-158.12 2365.25,-152.12 2365.25,-152.12 2365.25,-116.38 2365.25,-116.38 2365.25,-110.38 2371.25,-104.38 2377.25,-104.38 2377.25,-104.38 2546.25,-104.38 2546.25,-104.38 2552.25,-104.38 2558.25,-110.38 2558.25,-116.38 2558.25,-116.38 2558.25,-152.12 2558.25,-152.12 2558.25,-158.12 2552.25,-164.12 2546.25,-164.12\"/>\n<text text-anchor=\"start\" x=\"2418.25\" y=\"-146.82\" font-family=\"Helvetica,sans-Serif\" font-size=\"14.00\">gini = 0.746</text>\n<text text-anchor=\"start\" x=\"2413.38\" y=\"-129.57\" font-family=\"Helvetica,sans-Serif\" font-size=\"14.00\">samples = 92</text>\n<text text-anchor=\"start\" x=\"2373.25\" y=\"-112.33\" font-family=\"Helvetica,sans-Serif\" font-size=\"14.00\">value = [7, 30, 24, 7, 24]</text>\n</g>\n<!-- 37&#45;&gt;38 -->\n<g id=\"edge38\" class=\"edge\">\n<title>37&#45;&gt;38</title>\n<path fill=\"none\" stroke=\"black\" d=\"M2532.88,-208.36C2521.67,-196.84 2509.36,-184.19 2498.18,-172.69\"/>\n<polygon fill=\"black\" stroke=\"black\" points=\"2500.81,-170.37 2491.32,-165.65 2495.79,-175.25 2500.81,-170.37\"/>\n</g>\n<!-- 39 -->\n<g id=\"node40\" class=\"node\">\n<title>39</title>\n<path fill=\"#cef9f1\" stroke=\"black\" d=\"M2766.75,-164.12C2766.75,-164.12 2588.75,-164.12 2588.75,-164.12 2582.75,-164.12 2576.75,-158.12 2576.75,-152.12 2576.75,-152.12 2576.75,-116.38 2576.75,-116.38 2576.75,-110.38 2582.75,-104.38 2588.75,-104.38 2588.75,-104.38 2766.75,-104.38 2766.75,-104.38 2772.75,-104.38 2778.75,-110.38 2778.75,-116.38 2778.75,-116.38 2778.75,-152.12 2778.75,-152.12 2778.75,-158.12 2772.75,-164.12 2766.75,-164.12\"/>\n<text text-anchor=\"start\" x=\"2634.25\" y=\"-146.82\" font-family=\"Helvetica,sans-Serif\" font-size=\"14.00\">gini = 0.718</text>\n<text text-anchor=\"start\" x=\"2629.38\" y=\"-129.57\" font-family=\"Helvetica,sans-Serif\" font-size=\"14.00\">samples = 96</text>\n<text text-anchor=\"start\" x=\"2584.75\" y=\"-112.33\" font-family=\"Helvetica,sans-Serif\" font-size=\"14.00\">value = [10, 16, 41, 6, 23]</text>\n</g>\n<!-- 37&#45;&gt;39 -->\n<g id=\"edge39\" class=\"edge\">\n<title>37&#45;&gt;39</title>\n<path fill=\"none\" stroke=\"black\" d=\"M2606.62,-208.36C2617.83,-196.84 2630.14,-184.19 2641.32,-172.69\"/>\n<polygon fill=\"black\" stroke=\"black\" points=\"2643.71,-175.25 2648.18,-165.65 2638.69,-170.37 2643.71,-175.25\"/>\n</g>\n<!-- 43 -->\n<g id=\"node44\" class=\"node\">\n<title>43</title>\n<path fill=\"#f6fdf2\" stroke=\"black\" d=\"M2948.75,-503.12C2948.75,-503.12 2788.75,-503.12 2788.75,-503.12 2782.75,-503.12 2776.75,-497.12 2776.75,-491.12 2776.75,-491.12 2776.75,-455.38 2776.75,-455.38 2776.75,-449.38 2782.75,-443.38 2788.75,-443.38 2788.75,-443.38 2948.75,-443.38 2948.75,-443.38 2954.75,-443.38 2960.75,-449.38 2960.75,-455.38 2960.75,-455.38 2960.75,-491.12 2960.75,-491.12 2960.75,-497.12 2954.75,-503.12 2948.75,-503.12\"/>\n<text text-anchor=\"start\" x=\"2825.25\" y=\"-485.82\" font-family=\"Helvetica,sans-Serif\" font-size=\"14.00\">gini = 0.727</text>\n<text text-anchor=\"start\" x=\"2820.38\" y=\"-468.57\" font-family=\"Helvetica,sans-Serif\" font-size=\"14.00\">samples = 68</text>\n<text text-anchor=\"start\" x=\"2784.75\" y=\"-451.32\" font-family=\"Helvetica,sans-Serif\" font-size=\"14.00\">value = [5, 25, 8, 8, 22]</text>\n</g>\n<!-- 42&#45;&gt;43 -->\n<g id=\"edge43\" class=\"edge\">\n<title>42&#45;&gt;43</title>\n<path fill=\"none\" stroke=\"black\" d=\"M2868.75,-547.36C2868.75,-536.96 2868.75,-525.63 2868.75,-515.07\"/>\n<polygon fill=\"black\" stroke=\"black\" points=\"2872.25,-515.07 2868.75,-505.07 2865.25,-515.07 2872.25,-515.07\"/>\n</g>\n<!-- 44 -->\n<g id=\"node45\" class=\"node\">\n<title>44</title>\n<path fill=\"#f6bdea\" stroke=\"black\" d=\"M3150.75,-503.12C3150.75,-503.12 2990.75,-503.12 2990.75,-503.12 2984.75,-503.12 2978.75,-497.12 2978.75,-491.12 2978.75,-491.12 2978.75,-455.38 2978.75,-455.38 2978.75,-449.38 2984.75,-443.38 2990.75,-443.38 2990.75,-443.38 3150.75,-443.38 3150.75,-443.38 3156.75,-443.38 3162.75,-449.38 3162.75,-455.38 3162.75,-455.38 3162.75,-491.12 3162.75,-491.12 3162.75,-497.12 3156.75,-503.12 3150.75,-503.12\"/>\n<text text-anchor=\"start\" x=\"3027.25\" y=\"-485.82\" font-family=\"Helvetica,sans-Serif\" font-size=\"14.00\">gini = 0.649</text>\n<text text-anchor=\"start\" x=\"3022.38\" y=\"-468.57\" font-family=\"Helvetica,sans-Serif\" font-size=\"14.00\">samples = 45</text>\n<text text-anchor=\"start\" x=\"2986.75\" y=\"-451.32\" font-family=\"Helvetica,sans-Serif\" font-size=\"14.00\">value = [2, 12, 3, 5, 23]</text>\n</g>\n<!-- 42&#45;&gt;44 -->\n<g id=\"edge44\" class=\"edge\">\n<title>42&#45;&gt;44</title>\n<path fill=\"none\" stroke=\"black\" d=\"M2937.7,-547.36C2960.3,-534.94 2985.29,-521.21 3007.44,-509.04\"/>\n<polygon fill=\"black\" stroke=\"black\" points=\"3009,-512.17 3016.08,-504.29 3005.63,-506.04 3009,-512.17\"/>\n</g>\n</g>\n</svg>\n",
      "text/plain": [
       "<graphviz.sources.Source at 0x7374b2a1c4a0>"
      ]
     },
     "metadata": {},
     "output_type": "display_data"
    }
   ],
   "execution_count": 89
  },
  {
   "metadata": {},
   "cell_type": "markdown",
   "source": "# Plot ROC curve for the Extra Trees model\n",
   "id": "26689e4d73be9d7e"
  },
  {
   "metadata": {
    "ExecuteTime": {
     "end_time": "2024-10-18T13:00:31.820482Z",
     "start_time": "2024-10-18T13:00:31.714838Z"
    }
   },
   "cell_type": "code",
   "source": [
    "def plot_best_roc(model, X, y, model_name):\n",
    "    y_prob = model.predict_proba(X)\n",
    "    for i in range(len(model.classes_)):\n",
    "        fpr, tpr, _ = roc_curve(y, y_prob[:, i], pos_label=i)\n",
    "        plt.plot(fpr, tpr, label=f'Class {i} (area = {roc_auc_score(y, y_prob[:, i]):.2f})')\n",
    "    plt.plot([0, 1], [0, 1], 'k--')\n",
    "    plt.xlabel('False Positive Rate')\n",
    "    plt.ylabel('True Positive Rate')\n",
    "    plt.title(f'ROC Curve for {model_name}')\n",
    "    plt.legend(loc='lower right')\n",
    "    plt.show()\n",
    "\n",
    "plot_best_roc(opt_extra_trees.best_estimator_, X_test, y_test, \"Extra Trees Model\")"
   ],
   "id": "935c075e5ca7e847",
   "outputs": [
    {
     "ename": "ValueError",
     "evalue": "multi_class must be in ('ovo', 'ovr')",
     "output_type": "error",
     "traceback": [
      "\u001B[0;31m---------------------------------------------------------------------------\u001B[0m",
      "\u001B[0;31mValueError\u001B[0m                                Traceback (most recent call last)",
      "Cell \u001B[0;32mIn[90], line 13\u001B[0m\n\u001B[1;32m     10\u001B[0m     plt\u001B[38;5;241m.\u001B[39mlegend(loc\u001B[38;5;241m=\u001B[39m\u001B[38;5;124m'\u001B[39m\u001B[38;5;124mlower right\u001B[39m\u001B[38;5;124m'\u001B[39m)\n\u001B[1;32m     11\u001B[0m     plt\u001B[38;5;241m.\u001B[39mshow()\n\u001B[0;32m---> 13\u001B[0m \u001B[43mplot_best_roc\u001B[49m\u001B[43m(\u001B[49m\u001B[43mopt_extra_trees\u001B[49m\u001B[38;5;241;43m.\u001B[39;49m\u001B[43mbest_estimator_\u001B[49m\u001B[43m,\u001B[49m\u001B[43m \u001B[49m\u001B[43mX_test\u001B[49m\u001B[43m,\u001B[49m\u001B[43m \u001B[49m\u001B[43my_test\u001B[49m\u001B[43m,\u001B[49m\u001B[43m \u001B[49m\u001B[38;5;124;43m\"\u001B[39;49m\u001B[38;5;124;43mExtra Trees Model\u001B[39;49m\u001B[38;5;124;43m\"\u001B[39;49m\u001B[43m)\u001B[49m\n",
      "Cell \u001B[0;32mIn[90], line 5\u001B[0m, in \u001B[0;36mplot_best_roc\u001B[0;34m(model, X, y, model_name)\u001B[0m\n\u001B[1;32m      3\u001B[0m \u001B[38;5;28;01mfor\u001B[39;00m i \u001B[38;5;129;01min\u001B[39;00m \u001B[38;5;28mrange\u001B[39m(\u001B[38;5;28mlen\u001B[39m(model\u001B[38;5;241m.\u001B[39mclasses_)):\n\u001B[1;32m      4\u001B[0m     fpr, tpr, _ \u001B[38;5;241m=\u001B[39m roc_curve(y, y_prob[:, i], pos_label\u001B[38;5;241m=\u001B[39mi)\n\u001B[0;32m----> 5\u001B[0m     plt\u001B[38;5;241m.\u001B[39mplot(fpr, tpr, label\u001B[38;5;241m=\u001B[39m\u001B[38;5;124mf\u001B[39m\u001B[38;5;124m'\u001B[39m\u001B[38;5;124mClass \u001B[39m\u001B[38;5;132;01m{\u001B[39;00mi\u001B[38;5;132;01m}\u001B[39;00m\u001B[38;5;124m (area = \u001B[39m\u001B[38;5;132;01m{\u001B[39;00m\u001B[43mroc_auc_score\u001B[49m\u001B[43m(\u001B[49m\u001B[43my\u001B[49m\u001B[43m,\u001B[49m\u001B[38;5;250;43m \u001B[39;49m\u001B[43my_prob\u001B[49m\u001B[43m[\u001B[49m\u001B[43m:\u001B[49m\u001B[43m,\u001B[49m\u001B[38;5;250;43m \u001B[39;49m\u001B[43mi\u001B[49m\u001B[43m]\u001B[49m\u001B[43m)\u001B[49m\u001B[38;5;132;01m:\u001B[39;00m\u001B[38;5;124m.2f\u001B[39m\u001B[38;5;132;01m}\u001B[39;00m\u001B[38;5;124m)\u001B[39m\u001B[38;5;124m'\u001B[39m)\n\u001B[1;32m      6\u001B[0m plt\u001B[38;5;241m.\u001B[39mplot([\u001B[38;5;241m0\u001B[39m, \u001B[38;5;241m1\u001B[39m], [\u001B[38;5;241m0\u001B[39m, \u001B[38;5;241m1\u001B[39m], \u001B[38;5;124m'\u001B[39m\u001B[38;5;124mk--\u001B[39m\u001B[38;5;124m'\u001B[39m)\n\u001B[1;32m      7\u001B[0m plt\u001B[38;5;241m.\u001B[39mxlabel(\u001B[38;5;124m'\u001B[39m\u001B[38;5;124mFalse Positive Rate\u001B[39m\u001B[38;5;124m'\u001B[39m)\n",
      "File \u001B[0;32m~/KdG/Data n AI 5/Team-Stress/venv/lib/python3.12/site-packages/sklearn/utils/_param_validation.py:213\u001B[0m, in \u001B[0;36mvalidate_params.<locals>.decorator.<locals>.wrapper\u001B[0;34m(*args, **kwargs)\u001B[0m\n\u001B[1;32m    207\u001B[0m \u001B[38;5;28;01mtry\u001B[39;00m:\n\u001B[1;32m    208\u001B[0m     \u001B[38;5;28;01mwith\u001B[39;00m config_context(\n\u001B[1;32m    209\u001B[0m         skip_parameter_validation\u001B[38;5;241m=\u001B[39m(\n\u001B[1;32m    210\u001B[0m             prefer_skip_nested_validation \u001B[38;5;129;01mor\u001B[39;00m global_skip_validation\n\u001B[1;32m    211\u001B[0m         )\n\u001B[1;32m    212\u001B[0m     ):\n\u001B[0;32m--> 213\u001B[0m         \u001B[38;5;28;01mreturn\u001B[39;00m \u001B[43mfunc\u001B[49m\u001B[43m(\u001B[49m\u001B[38;5;241;43m*\u001B[39;49m\u001B[43margs\u001B[49m\u001B[43m,\u001B[49m\u001B[43m \u001B[49m\u001B[38;5;241;43m*\u001B[39;49m\u001B[38;5;241;43m*\u001B[39;49m\u001B[43mkwargs\u001B[49m\u001B[43m)\u001B[49m\n\u001B[1;32m    214\u001B[0m \u001B[38;5;28;01mexcept\u001B[39;00m InvalidParameterError \u001B[38;5;28;01mas\u001B[39;00m e:\n\u001B[1;32m    215\u001B[0m     \u001B[38;5;66;03m# When the function is just a wrapper around an estimator, we allow\u001B[39;00m\n\u001B[1;32m    216\u001B[0m     \u001B[38;5;66;03m# the function to delegate validation to the estimator, but we replace\u001B[39;00m\n\u001B[1;32m    217\u001B[0m     \u001B[38;5;66;03m# the name of the estimator by the name of the function in the error\u001B[39;00m\n\u001B[1;32m    218\u001B[0m     \u001B[38;5;66;03m# message to avoid confusion.\u001B[39;00m\n\u001B[1;32m    219\u001B[0m     msg \u001B[38;5;241m=\u001B[39m re\u001B[38;5;241m.\u001B[39msub(\n\u001B[1;32m    220\u001B[0m         \u001B[38;5;124mr\u001B[39m\u001B[38;5;124m\"\u001B[39m\u001B[38;5;124mparameter of \u001B[39m\u001B[38;5;124m\\\u001B[39m\u001B[38;5;124mw+ must be\u001B[39m\u001B[38;5;124m\"\u001B[39m,\n\u001B[1;32m    221\u001B[0m         \u001B[38;5;124mf\u001B[39m\u001B[38;5;124m\"\u001B[39m\u001B[38;5;124mparameter of \u001B[39m\u001B[38;5;132;01m{\u001B[39;00mfunc\u001B[38;5;241m.\u001B[39m\u001B[38;5;18m__qualname__\u001B[39m\u001B[38;5;132;01m}\u001B[39;00m\u001B[38;5;124m must be\u001B[39m\u001B[38;5;124m\"\u001B[39m,\n\u001B[1;32m    222\u001B[0m         \u001B[38;5;28mstr\u001B[39m(e),\n\u001B[1;32m    223\u001B[0m     )\n",
      "File \u001B[0;32m~/KdG/Data n AI 5/Team-Stress/venv/lib/python3.12/site-packages/sklearn/metrics/_ranking.py:633\u001B[0m, in \u001B[0;36mroc_auc_score\u001B[0;34m(y_true, y_score, average, sample_weight, max_fpr, multi_class, labels)\u001B[0m\n\u001B[1;32m    626\u001B[0m         \u001B[38;5;28;01mraise\u001B[39;00m \u001B[38;5;167;01mValueError\u001B[39;00m(\n\u001B[1;32m    627\u001B[0m             \u001B[38;5;124m\"\u001B[39m\u001B[38;5;124mPartial AUC computation not available in \u001B[39m\u001B[38;5;124m\"\u001B[39m\n\u001B[1;32m    628\u001B[0m             \u001B[38;5;124m\"\u001B[39m\u001B[38;5;124mmulticlass setting, \u001B[39m\u001B[38;5;124m'\u001B[39m\u001B[38;5;124mmax_fpr\u001B[39m\u001B[38;5;124m'\u001B[39m\u001B[38;5;124m must be\u001B[39m\u001B[38;5;124m\"\u001B[39m\n\u001B[1;32m    629\u001B[0m             \u001B[38;5;124m\"\u001B[39m\u001B[38;5;124m set to `None`, received `max_fpr=\u001B[39m\u001B[38;5;132;01m{0}\u001B[39;00m\u001B[38;5;124m` \u001B[39m\u001B[38;5;124m\"\u001B[39m\n\u001B[1;32m    630\u001B[0m             \u001B[38;5;124m\"\u001B[39m\u001B[38;5;124minstead\u001B[39m\u001B[38;5;124m\"\u001B[39m\u001B[38;5;241m.\u001B[39mformat(max_fpr)\n\u001B[1;32m    631\u001B[0m         )\n\u001B[1;32m    632\u001B[0m     \u001B[38;5;28;01mif\u001B[39;00m multi_class \u001B[38;5;241m==\u001B[39m \u001B[38;5;124m\"\u001B[39m\u001B[38;5;124mraise\u001B[39m\u001B[38;5;124m\"\u001B[39m:\n\u001B[0;32m--> 633\u001B[0m         \u001B[38;5;28;01mraise\u001B[39;00m \u001B[38;5;167;01mValueError\u001B[39;00m(\u001B[38;5;124m\"\u001B[39m\u001B[38;5;124mmulti_class must be in (\u001B[39m\u001B[38;5;124m'\u001B[39m\u001B[38;5;124movo\u001B[39m\u001B[38;5;124m'\u001B[39m\u001B[38;5;124m, \u001B[39m\u001B[38;5;124m'\u001B[39m\u001B[38;5;124movr\u001B[39m\u001B[38;5;124m'\u001B[39m\u001B[38;5;124m)\u001B[39m\u001B[38;5;124m\"\u001B[39m)\n\u001B[1;32m    634\u001B[0m     \u001B[38;5;28;01mreturn\u001B[39;00m _multiclass_roc_auc_score(\n\u001B[1;32m    635\u001B[0m         y_true, y_score, labels, multi_class, average, sample_weight\n\u001B[1;32m    636\u001B[0m     )\n\u001B[1;32m    637\u001B[0m \u001B[38;5;28;01melif\u001B[39;00m y_type \u001B[38;5;241m==\u001B[39m \u001B[38;5;124m\"\u001B[39m\u001B[38;5;124mbinary\u001B[39m\u001B[38;5;124m\"\u001B[39m:\n",
      "\u001B[0;31mValueError\u001B[0m: multi_class must be in ('ovo', 'ovr')"
     ]
    }
   ],
   "execution_count": 90
  },
  {
   "metadata": {},
   "cell_type": "markdown",
   "source": "",
   "id": "cf7274cd739ca8dd"
  }
 ],
 "metadata": {
  "kernelspec": {
   "display_name": "Python 3",
   "language": "python",
   "name": "python3"
  },
  "language_info": {
   "codemirror_mode": {
    "name": "ipython",
    "version": 2
   },
   "file_extension": ".py",
   "mimetype": "text/x-python",
   "name": "python",
   "nbconvert_exporter": "python",
   "pygments_lexer": "ipython2",
   "version": "2.7.6"
  }
 },
 "nbformat": 4,
 "nbformat_minor": 5
}
