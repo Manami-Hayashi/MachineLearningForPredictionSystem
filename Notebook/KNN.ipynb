{
 "cells": [
  {
   "metadata": {},
   "cell_type": "markdown",
   "source": "# Import necessary libraries\n",
   "id": "b4618c1fb7df0ec5"
  },
  {
   "metadata": {
    "ExecuteTime": {
     "end_time": "2024-10-18T10:47:46.635721Z",
     "start_time": "2024-10-18T10:47:44.693901Z"
    }
   },
   "cell_type": "code",
   "source": [
    "import pandas as pd\n",
    "import os\n",
    "from sklearn.model_selection import train_test_split, StratifiedKFold\n",
    "from sklearn.neighbors import KNeighborsClassifier\n",
    "from sklearn.metrics import accuracy_score, roc_auc_score, roc_curve\n",
    "from sklearn.preprocessing import LabelEncoder\n",
    "from skopt import BayesSearchCV\n",
    "import matplotlib.pyplot as plt\n",
    "import numpy as np\n",
    "import joblib"
   ],
   "id": "2b59f35eef412e9",
   "outputs": [],
   "execution_count": 1
  },
  {
   "metadata": {},
   "cell_type": "markdown",
   "source": "# Load the dataset and set display options to show all rows and print first few rows\n",
   "id": "63cc9d5093a39f34"
  },
  {
   "metadata": {
    "ExecuteTime": {
     "end_time": "2024-10-18T10:47:46.885Z",
     "start_time": "2024-10-18T10:47:46.705376Z"
    }
   },
   "cell_type": "code",
   "source": [
    "# Load the dataset\n",
    "os.chdir(r'C:\\Users\\mnmhy\\IntelliJprojects\\DAI5\\Resources')\n",
    "df = pd.read_csv('processed_features_job_satisfaction.csv')\n",
    "\n",
    "# Set display options to show all rows\n",
    "pd.set_option('display.max_rows', None)\n",
    "\n",
    "# Print the first few rows of the DataFrame\n",
    "print(df.head())"
   ],
   "id": "3905df022589ea1b",
   "outputs": [
    {
     "name": "stdout",
     "output_type": "stream",
     "text": [
      "  JobSatisfaction  Workload_Binned  SleepHours_Binned Age_Binned  \\\n",
      "0  Very Satisfied                2                  7      30-39   \n",
      "1  Very Satisfied                2                  7      30-39   \n",
      "2  Very Satisfied                5                  6      20-29   \n",
      "3  Very Satisfied                3                  7      20-29   \n",
      "4  Very Satisfied                2                  4      20-29   \n",
      "\n",
      "   Stress_Binned Experience_Binned        JobLevel  Gender MaritalStatus  \\\n",
      "0              1              6-10             Mid    Male       Married   \n",
      "1              2             11-15             Mid  Female       Married   \n",
      "2              4               1-5  Intern/Fresher  Female        Single   \n",
      "3              1              6-10          Junior  Female       Married   \n",
      "4              1               1-5          Junior   Other        Single   \n",
      "\n",
      "        Dept    EmpType haveOT_Binned  \n",
      "0         IT  Full-Time           Yes  \n",
      "1    Finance  Full-Time            No  \n",
      "2  Marketing  Full-Time           Yes  \n",
      "3         IT   Contract           Yes  \n",
      "4      Sales  Part-Time            No  \n"
     ]
    }
   ],
   "execution_count": 2
  },
  {
   "metadata": {},
   "cell_type": "markdown",
   "source": "# List the significant features, and separate features and the target variable",
   "id": "bc039e8a1adb5218"
  },
  {
   "metadata": {
    "ExecuteTime": {
     "end_time": "2024-10-18T10:47:49.095969Z",
     "start_time": "2024-10-18T10:47:49.065812Z"
    }
   },
   "cell_type": "code",
   "source": [
    "\n",
    "# List of significant features\n",
    "significant_features = ['Workload_Binned', 'SleepHours_Binned', 'Stress_Binned']\n",
    "\n",
    "# Separate features and target variable\n",
    "X = df[significant_features]\n",
    "le = LabelEncoder()\n",
    "y = le.fit_transform(df['JobSatisfaction']).ravel()  # Ensure y is a 1D array\n"
   ],
   "id": "c85d775da09a5deb",
   "outputs": [],
   "execution_count": 3
  },
  {
   "metadata": {},
   "cell_type": "markdown",
   "source": "# Define the hyperparameter search space for KNN\n",
   "id": "cf450d93fe700d49"
  },
  {
   "metadata": {
    "ExecuteTime": {
     "end_time": "2024-10-18T10:47:50.557513Z",
     "start_time": "2024-10-18T10:47:50.547970Z"
    }
   },
   "cell_type": "code",
   "source": [
    "search_space_knn = {\n",
    "    'n_neighbors': (1, 30), # Discrete uniform distribution\n",
    "    'weights': ['uniform', 'distance'], # Categorical distribution\n",
    "    'metric': ['euclidean', 'manhattan'] # Categorical distribution\n",
    "}"
   ],
   "id": "a049c5e3703d981b",
   "outputs": [],
   "execution_count": 4
  },
  {
   "metadata": {},
   "cell_type": "markdown",
   "source": "# Initialize and perform Bayesian optimization for KNN\n",
   "id": "32cc0f43e13be8d7"
  },
  {
   "metadata": {
    "ExecuteTime": {
     "end_time": "2024-10-18T10:48:33.779612Z",
     "start_time": "2024-10-18T10:47:52.397916Z"
    }
   },
   "cell_type": "code",
   "source": [
    "knn = KNeighborsClassifier() # Initialize KNN model\n",
    "opt_knn = BayesSearchCV(knn, search_space_knn, n_iter=16, cv=StratifiedKFold(n_splits=5), n_jobs=-1) # Initialize Bayesian optimization\n",
    "opt_knn.fit(X, y) # Perform Bayesian optimization"
   ],
   "id": "5774a707f6150f84",
   "outputs": [
    {
     "data": {
      "text/plain": [
       "BayesSearchCV(cv=StratifiedKFold(n_splits=5, random_state=None, shuffle=False),\n",
       "              estimator=KNeighborsClassifier(), n_iter=16, n_jobs=-1,\n",
       "              search_spaces={'metric': ['euclidean', 'manhattan'],\n",
       "                             'n_neighbors': (1, 30),\n",
       "                             'weights': ['uniform', 'distance']})"
      ],
      "text/html": [
       "<style>#sk-container-id-1 {color: black;background-color: white;}#sk-container-id-1 pre{padding: 0;}#sk-container-id-1 div.sk-toggleable {background-color: white;}#sk-container-id-1 label.sk-toggleable__label {cursor: pointer;display: block;width: 100%;margin-bottom: 0;padding: 0.3em;box-sizing: border-box;text-align: center;}#sk-container-id-1 label.sk-toggleable__label-arrow:before {content: \"▸\";float: left;margin-right: 0.25em;color: #696969;}#sk-container-id-1 label.sk-toggleable__label-arrow:hover:before {color: black;}#sk-container-id-1 div.sk-estimator:hover label.sk-toggleable__label-arrow:before {color: black;}#sk-container-id-1 div.sk-toggleable__content {max-height: 0;max-width: 0;overflow: hidden;text-align: left;background-color: #f0f8ff;}#sk-container-id-1 div.sk-toggleable__content pre {margin: 0.2em;color: black;border-radius: 0.25em;background-color: #f0f8ff;}#sk-container-id-1 input.sk-toggleable__control:checked~div.sk-toggleable__content {max-height: 200px;max-width: 100%;overflow: auto;}#sk-container-id-1 input.sk-toggleable__control:checked~label.sk-toggleable__label-arrow:before {content: \"▾\";}#sk-container-id-1 div.sk-estimator input.sk-toggleable__control:checked~label.sk-toggleable__label {background-color: #d4ebff;}#sk-container-id-1 div.sk-label input.sk-toggleable__control:checked~label.sk-toggleable__label {background-color: #d4ebff;}#sk-container-id-1 input.sk-hidden--visually {border: 0;clip: rect(1px 1px 1px 1px);clip: rect(1px, 1px, 1px, 1px);height: 1px;margin: -1px;overflow: hidden;padding: 0;position: absolute;width: 1px;}#sk-container-id-1 div.sk-estimator {font-family: monospace;background-color: #f0f8ff;border: 1px dotted black;border-radius: 0.25em;box-sizing: border-box;margin-bottom: 0.5em;}#sk-container-id-1 div.sk-estimator:hover {background-color: #d4ebff;}#sk-container-id-1 div.sk-parallel-item::after {content: \"\";width: 100%;border-bottom: 1px solid gray;flex-grow: 1;}#sk-container-id-1 div.sk-label:hover label.sk-toggleable__label {background-color: #d4ebff;}#sk-container-id-1 div.sk-serial::before {content: \"\";position: absolute;border-left: 1px solid gray;box-sizing: border-box;top: 0;bottom: 0;left: 50%;z-index: 0;}#sk-container-id-1 div.sk-serial {display: flex;flex-direction: column;align-items: center;background-color: white;padding-right: 0.2em;padding-left: 0.2em;position: relative;}#sk-container-id-1 div.sk-item {position: relative;z-index: 1;}#sk-container-id-1 div.sk-parallel {display: flex;align-items: stretch;justify-content: center;background-color: white;position: relative;}#sk-container-id-1 div.sk-item::before, #sk-container-id-1 div.sk-parallel-item::before {content: \"\";position: absolute;border-left: 1px solid gray;box-sizing: border-box;top: 0;bottom: 0;left: 50%;z-index: -1;}#sk-container-id-1 div.sk-parallel-item {display: flex;flex-direction: column;z-index: 1;position: relative;background-color: white;}#sk-container-id-1 div.sk-parallel-item:first-child::after {align-self: flex-end;width: 50%;}#sk-container-id-1 div.sk-parallel-item:last-child::after {align-self: flex-start;width: 50%;}#sk-container-id-1 div.sk-parallel-item:only-child::after {width: 0;}#sk-container-id-1 div.sk-dashed-wrapped {border: 1px dashed gray;margin: 0 0.4em 0.5em 0.4em;box-sizing: border-box;padding-bottom: 0.4em;background-color: white;}#sk-container-id-1 div.sk-label label {font-family: monospace;font-weight: bold;display: inline-block;line-height: 1.2em;}#sk-container-id-1 div.sk-label-container {text-align: center;}#sk-container-id-1 div.sk-container {/* jupyter's `normalize.less` sets `[hidden] { display: none; }` but bootstrap.min.css set `[hidden] { display: none !important; }` so we also need the `!important` here to be able to override the default hidden behavior on the sphinx rendered scikit-learn.org. See: https://github.com/scikit-learn/scikit-learn/issues/21755 */display: inline-block !important;position: relative;}#sk-container-id-1 div.sk-text-repr-fallback {display: none;}</style><div id=\"sk-container-id-1\" class=\"sk-top-container\"><div class=\"sk-text-repr-fallback\"><pre>BayesSearchCV(cv=StratifiedKFold(n_splits=5, random_state=None, shuffle=False),\n",
       "              estimator=KNeighborsClassifier(), n_iter=16, n_jobs=-1,\n",
       "              search_spaces={&#x27;metric&#x27;: [&#x27;euclidean&#x27;, &#x27;manhattan&#x27;],\n",
       "                             &#x27;n_neighbors&#x27;: (1, 30),\n",
       "                             &#x27;weights&#x27;: [&#x27;uniform&#x27;, &#x27;distance&#x27;]})</pre><b>In a Jupyter environment, please rerun this cell to show the HTML representation or trust the notebook. <br />On GitHub, the HTML representation is unable to render, please try loading this page with nbviewer.org.</b></div><div class=\"sk-container\" hidden><div class=\"sk-item sk-dashed-wrapped\"><div class=\"sk-label-container\"><div class=\"sk-label sk-toggleable\"><input class=\"sk-toggleable__control sk-hidden--visually\" id=\"sk-estimator-id-1\" type=\"checkbox\" ><label for=\"sk-estimator-id-1\" class=\"sk-toggleable__label sk-toggleable__label-arrow\">BayesSearchCV</label><div class=\"sk-toggleable__content\"><pre>BayesSearchCV(cv=StratifiedKFold(n_splits=5, random_state=None, shuffle=False),\n",
       "              estimator=KNeighborsClassifier(), n_iter=16, n_jobs=-1,\n",
       "              search_spaces={&#x27;metric&#x27;: [&#x27;euclidean&#x27;, &#x27;manhattan&#x27;],\n",
       "                             &#x27;n_neighbors&#x27;: (1, 30),\n",
       "                             &#x27;weights&#x27;: [&#x27;uniform&#x27;, &#x27;distance&#x27;]})</pre></div></div></div><div class=\"sk-parallel\"><div class=\"sk-parallel-item\"><div class=\"sk-item\"><div class=\"sk-label-container\"><div class=\"sk-label sk-toggleable\"><input class=\"sk-toggleable__control sk-hidden--visually\" id=\"sk-estimator-id-2\" type=\"checkbox\" ><label for=\"sk-estimator-id-2\" class=\"sk-toggleable__label sk-toggleable__label-arrow\">estimator: KNeighborsClassifier</label><div class=\"sk-toggleable__content\"><pre>KNeighborsClassifier()</pre></div></div></div><div class=\"sk-serial\"><div class=\"sk-item\"><div class=\"sk-estimator sk-toggleable\"><input class=\"sk-toggleable__control sk-hidden--visually\" id=\"sk-estimator-id-3\" type=\"checkbox\" ><label for=\"sk-estimator-id-3\" class=\"sk-toggleable__label sk-toggleable__label-arrow\">KNeighborsClassifier</label><div class=\"sk-toggleable__content\"><pre>KNeighborsClassifier()</pre></div></div></div></div></div></div></div></div></div></div>"
      ]
     },
     "execution_count": 5,
     "metadata": {},
     "output_type": "execute_result"
    }
   ],
   "execution_count": 5
  },
  {
   "metadata": {},
   "cell_type": "markdown",
   "source": "# Evaluate the KNN model\n",
   "id": "b05c62a0d84b762"
  },
  {
   "metadata": {
    "ExecuteTime": {
     "end_time": "2024-10-18T10:48:34.919329Z",
     "start_time": "2024-10-18T10:48:34.736077Z"
    }
   },
   "cell_type": "code",
   "source": [
    "X_train, X_test, y_train, y_test = train_test_split(X, y, test_size=0.2, random_state=42) # Split the dataset into training and testing sets\n",
    "opt_knn.best_estimator_.fit(X_train, y_train) # Fit the best KNN model on the training set\n",
    "y_test_pred = opt_knn.best_estimator_.predict(X_test) # Predict the target variable on the testing set\n",
    "y_test_prob = opt_knn.best_estimator_.predict_proba(X_test) # Predict the probabilities of the target variable on the testing set"
   ],
   "id": "2b16c6c450f411a1",
   "outputs": [],
   "execution_count": 6
  },
  {
   "metadata": {},
   "cell_type": "markdown",
   "source": "# Calculate AUC and accuracy\n",
   "id": "9b5453755fc9bb96"
  },
  {
   "metadata": {
    "ExecuteTime": {
     "end_time": "2024-10-18T10:48:35.851163Z",
     "start_time": "2024-10-18T10:48:35.822074Z"
    }
   },
   "cell_type": "code",
   "source": [
    "final_auc = roc_auc_score(y_test, y_test_prob, multi_class='ovr') # Calculate AUC, ovr = one-vs-rest which is used for multi-class classification\n",
    "final_acc = accuracy_score(y_test, y_test_pred) # Calculate accuracy\n",
    "\n",
    "print(f\"Final Evaluation on Test Set for KNN Model:\\nAUC: {final_auc:.4f}, Accuracy: {final_acc:.4f}\") # Print the final evaluation metrics\n"
   ],
   "id": "755c30a32ae6d209",
   "outputs": [
    {
     "name": "stdout",
     "output_type": "stream",
     "text": [
      "Final Evaluation on Test Set for KNN Model:\n",
      "AUC: 0.5987, Accuracy: 0.4302\n"
     ]
    }
   ],
   "execution_count": 7
  },
  {
   "metadata": {},
   "cell_type": "markdown",
   "source": "# Save results to a CSV file\n",
   "id": "16ddab332a4de007"
  },
  {
   "metadata": {
    "ExecuteTime": {
     "end_time": "2024-10-18T10:48:36.807672Z",
     "start_time": "2024-10-18T10:48:36.779309Z"
    }
   },
   "cell_type": "code",
   "source": [
    "results_df = pd.DataFrame({ # Create a DataFrame to save the results\n",
    "    'True Label': y_test,\n",
    "    'Predicted Label': y_test_pred,\n",
    "    'Probability': y_test_prob.max(axis=1)\n",
    "})\n",
    "results_df.to_csv('knn_model_results.csv', index=False)"
   ],
   "id": "1d29595988430888",
   "outputs": [],
   "execution_count": 8
  },
  {
   "metadata": {},
   "cell_type": "markdown",
   "source": "# Save the best KNN model to a file\n",
   "id": "18b347923fd8860e"
  },
  {
   "metadata": {
    "ExecuteTime": {
     "end_time": "2024-10-18T10:48:37.889217Z",
     "start_time": "2024-10-18T10:48:37.865036Z"
    }
   },
   "cell_type": "code",
   "source": [
    "joblib.dump(opt_knn.best_estimator_, 'knn_model.pkl')\n",
    "\n"
   ],
   "id": "62df1906cb5949cf",
   "outputs": [
    {
     "data": {
      "text/plain": [
       "['knn_model.pkl']"
      ]
     },
     "execution_count": 9,
     "metadata": {},
     "output_type": "execute_result"
    }
   ],
   "execution_count": 9
  },
  {
   "metadata": {},
   "cell_type": "markdown",
   "source": "# Plot ROC curve for the KNN model",
   "id": "7472f17999dbec7"
  },
  {
   "metadata": {
    "ExecuteTime": {
     "end_time": "2024-10-18T10:48:41.793486Z",
     "start_time": "2024-10-18T10:48:38.895011Z"
    }
   },
   "cell_type": "code",
   "source": [
    "def plot_best_roc(model, X, y, model_name):\n",
    "    y_prob = model.predict_proba(X)\n",
    "    for i in range(len(model.classes_)):\n",
    "        fpr, tpr, _ = roc_curve(y, y_prob[:, i], pos_label=i)\n",
    "        plt.plot(fpr, tpr, label=f'Class {i} (area = {roc_auc_score(y, y_prob[:, i]):.2f})')\n",
    "    plt.plot([0, 1], [0, 1], 'k--')\n",
    "    plt.xlabel('False Positive Rate')\n",
    "    plt.ylabel('True Positive Rate')\n",
    "    plt.title(f'ROC Curve for {model_name}')\n",
    "    plt.legend(loc='lower right')\n",
    "    plt.show()\n",
    "\n",
    "plot_best_roc(opt_knn.best_estimator_, X_test, y_test, \"KNN Model\")"
   ],
   "id": "f589e87e5c95c89c",
   "outputs": [
    {
     "ename": "ValueError",
     "evalue": "multi_class must be in ('ovo', 'ovr')",
     "output_type": "error",
     "traceback": [
      "\u001B[1;31m---------------------------------------------------------------------------\u001B[0m",
      "\u001B[1;31mValueError\u001B[0m                                Traceback (most recent call last)",
      "Cell \u001B[1;32mIn[10], line 13\u001B[0m\n\u001B[0;32m     10\u001B[0m     plt\u001B[38;5;241m.\u001B[39mlegend(loc\u001B[38;5;241m=\u001B[39m\u001B[38;5;124m'\u001B[39m\u001B[38;5;124mlower right\u001B[39m\u001B[38;5;124m'\u001B[39m)\n\u001B[0;32m     11\u001B[0m     plt\u001B[38;5;241m.\u001B[39mshow()\n\u001B[1;32m---> 13\u001B[0m \u001B[43mplot_best_roc\u001B[49m\u001B[43m(\u001B[49m\u001B[43mopt_knn\u001B[49m\u001B[38;5;241;43m.\u001B[39;49m\u001B[43mbest_estimator_\u001B[49m\u001B[43m,\u001B[49m\u001B[43m \u001B[49m\u001B[43mX_test\u001B[49m\u001B[43m,\u001B[49m\u001B[43m \u001B[49m\u001B[43my_test\u001B[49m\u001B[43m,\u001B[49m\u001B[43m \u001B[49m\u001B[38;5;124;43m\"\u001B[39;49m\u001B[38;5;124;43mKNN Model\u001B[39;49m\u001B[38;5;124;43m\"\u001B[39;49m\u001B[43m)\u001B[49m\n",
      "Cell \u001B[1;32mIn[10], line 5\u001B[0m, in \u001B[0;36mplot_best_roc\u001B[1;34m(model, X, y, model_name)\u001B[0m\n\u001B[0;32m      3\u001B[0m \u001B[38;5;28;01mfor\u001B[39;00m i \u001B[38;5;129;01min\u001B[39;00m \u001B[38;5;28mrange\u001B[39m(\u001B[38;5;28mlen\u001B[39m(model\u001B[38;5;241m.\u001B[39mclasses_)):\n\u001B[0;32m      4\u001B[0m     fpr, tpr, _ \u001B[38;5;241m=\u001B[39m roc_curve(y, y_prob[:, i], pos_label\u001B[38;5;241m=\u001B[39mi)\n\u001B[1;32m----> 5\u001B[0m     plt\u001B[38;5;241m.\u001B[39mplot(fpr, tpr, label\u001B[38;5;241m=\u001B[39m\u001B[38;5;124mf\u001B[39m\u001B[38;5;124m'\u001B[39m\u001B[38;5;124mClass \u001B[39m\u001B[38;5;132;01m{\u001B[39;00mi\u001B[38;5;132;01m}\u001B[39;00m\u001B[38;5;124m (area = \u001B[39m\u001B[38;5;132;01m{\u001B[39;00m\u001B[43mroc_auc_score\u001B[49m\u001B[43m(\u001B[49m\u001B[43my\u001B[49m\u001B[43m,\u001B[49m\u001B[38;5;250;43m \u001B[39;49m\u001B[43my_prob\u001B[49m\u001B[43m[\u001B[49m\u001B[43m:\u001B[49m\u001B[43m,\u001B[49m\u001B[38;5;250;43m \u001B[39;49m\u001B[43mi\u001B[49m\u001B[43m]\u001B[49m\u001B[43m)\u001B[49m\u001B[38;5;132;01m:\u001B[39;00m\u001B[38;5;124m.2f\u001B[39m\u001B[38;5;132;01m}\u001B[39;00m\u001B[38;5;124m)\u001B[39m\u001B[38;5;124m'\u001B[39m)\n\u001B[0;32m      6\u001B[0m plt\u001B[38;5;241m.\u001B[39mplot([\u001B[38;5;241m0\u001B[39m, \u001B[38;5;241m1\u001B[39m], [\u001B[38;5;241m0\u001B[39m, \u001B[38;5;241m1\u001B[39m], \u001B[38;5;124m'\u001B[39m\u001B[38;5;124mk--\u001B[39m\u001B[38;5;124m'\u001B[39m)\n\u001B[0;32m      7\u001B[0m plt\u001B[38;5;241m.\u001B[39mxlabel(\u001B[38;5;124m'\u001B[39m\u001B[38;5;124mFalse Positive Rate\u001B[39m\u001B[38;5;124m'\u001B[39m)\n",
      "File \u001B[1;32m~\\AppData\\Local\\Programs\\Python\\Python39\\lib\\site-packages\\sklearn\\metrics\\_ranking.py:565\u001B[0m, in \u001B[0;36mroc_auc_score\u001B[1;34m(y_true, y_score, average, sample_weight, max_fpr, multi_class, labels)\u001B[0m\n\u001B[0;32m    558\u001B[0m         \u001B[38;5;28;01mraise\u001B[39;00m \u001B[38;5;167;01mValueError\u001B[39;00m(\n\u001B[0;32m    559\u001B[0m             \u001B[38;5;124m\"\u001B[39m\u001B[38;5;124mPartial AUC computation not available in \u001B[39m\u001B[38;5;124m\"\u001B[39m\n\u001B[0;32m    560\u001B[0m             \u001B[38;5;124m\"\u001B[39m\u001B[38;5;124mmulticlass setting, \u001B[39m\u001B[38;5;124m'\u001B[39m\u001B[38;5;124mmax_fpr\u001B[39m\u001B[38;5;124m'\u001B[39m\u001B[38;5;124m must be\u001B[39m\u001B[38;5;124m\"\u001B[39m\n\u001B[0;32m    561\u001B[0m             \u001B[38;5;124m\"\u001B[39m\u001B[38;5;124m set to `None`, received `max_fpr=\u001B[39m\u001B[38;5;132;01m{0}\u001B[39;00m\u001B[38;5;124m` \u001B[39m\u001B[38;5;124m\"\u001B[39m\n\u001B[0;32m    562\u001B[0m             \u001B[38;5;124m\"\u001B[39m\u001B[38;5;124minstead\u001B[39m\u001B[38;5;124m\"\u001B[39m\u001B[38;5;241m.\u001B[39mformat(max_fpr)\n\u001B[0;32m    563\u001B[0m         )\n\u001B[0;32m    564\u001B[0m     \u001B[38;5;28;01mif\u001B[39;00m multi_class \u001B[38;5;241m==\u001B[39m \u001B[38;5;124m\"\u001B[39m\u001B[38;5;124mraise\u001B[39m\u001B[38;5;124m\"\u001B[39m:\n\u001B[1;32m--> 565\u001B[0m         \u001B[38;5;28;01mraise\u001B[39;00m \u001B[38;5;167;01mValueError\u001B[39;00m(\u001B[38;5;124m\"\u001B[39m\u001B[38;5;124mmulti_class must be in (\u001B[39m\u001B[38;5;124m'\u001B[39m\u001B[38;5;124movo\u001B[39m\u001B[38;5;124m'\u001B[39m\u001B[38;5;124m, \u001B[39m\u001B[38;5;124m'\u001B[39m\u001B[38;5;124movr\u001B[39m\u001B[38;5;124m'\u001B[39m\u001B[38;5;124m)\u001B[39m\u001B[38;5;124m\"\u001B[39m)\n\u001B[0;32m    566\u001B[0m     \u001B[38;5;28;01mreturn\u001B[39;00m _multiclass_roc_auc_score(\n\u001B[0;32m    567\u001B[0m         y_true, y_score, labels, multi_class, average, sample_weight\n\u001B[0;32m    568\u001B[0m     )\n\u001B[0;32m    569\u001B[0m \u001B[38;5;28;01melif\u001B[39;00m y_type \u001B[38;5;241m==\u001B[39m \u001B[38;5;124m\"\u001B[39m\u001B[38;5;124mbinary\u001B[39m\u001B[38;5;124m\"\u001B[39m:\n",
      "\u001B[1;31mValueError\u001B[0m: multi_class must be in ('ovo', 'ovr')"
     ]
    }
   ],
   "execution_count": 10
  }
 ],
 "metadata": {
  "kernelspec": {
   "display_name": "Python 3",
   "language": "python",
   "name": "python3"
  },
  "language_info": {
   "codemirror_mode": {
    "name": "ipython",
    "version": 2
   },
   "file_extension": ".py",
   "mimetype": "text/x-python",
   "name": "python",
   "nbconvert_exporter": "python",
   "pygments_lexer": "ipython2",
   "version": "2.7.6"
  }
 },
 "nbformat": 4,
 "nbformat_minor": 5
}
